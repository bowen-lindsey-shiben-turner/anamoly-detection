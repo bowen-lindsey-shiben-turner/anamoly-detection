{
 "cells": [
  {
   "cell_type": "markdown",
   "id": "f90359a5-c627-4487-9d21-350f5532faa7",
   "metadata": {},
   "source": [
    "# Team Project - Anomaly Detection"
   ]
  },
  {
   "cell_type": "code",
   "execution_count": 1,
   "id": "4a51e777-cf08-4c2c-99bc-44ac3cb99da4",
   "metadata": {},
   "outputs": [],
   "source": [
    "# Libraries\n",
    "import pandas as pd\n",
    "import numpy as np\n",
    "\n",
    "# Wrangling\n",
    "import acquire as a\n",
    "import prepare as p\n",
    "\n",
    "# Exploration/Visualizing\n",
    "import matplotlib.pyplot as plt\n",
    "import seaborn as sns\n",
    "import explore as e\n",
    "from IPython.core import display as ICD\n",
    "\n",
    "from env import get_db_url\n"
   ]
  },
  {
   "cell_type": "markdown",
   "id": "e2ce0a06-ae08-4661-bc77-7d194be27431",
   "metadata": {},
   "source": [
    "## Acquire\n",
    "- Will acquire a dataset to use in answering our questions by doing the following.\n",
    "    - Acquire a dataset from a SQL server database \n",
    "    - Save it locally as a .csv file\n",
    "    - Convert the .csv file as a dataframe using Pandas"
   ]
  },
  {
   "cell_type": "code",
   "execution_count": 2,
   "id": "09eaeb80-fee8-42f7-80c0-4bd9247ed661",
   "metadata": {},
   "outputs": [],
   "source": [
    "# returns a dataframe after acquiring curriculum log data from SQL database\n",
    "df = a.get_log_data()"
   ]
  },
  {
   "cell_type": "code",
   "execution_count": 3,
   "id": "a451ae51-bfe9-4e75-b50f-7b68ddde6ea1",
   "metadata": {},
   "outputs": [
    {
     "name": "stdout",
     "output_type": "stream",
     "text": [
      "<class 'pandas.core.frame.DataFrame'>\n",
      "RangeIndex: 900223 entries, 0 to 900222\n",
      "Data columns (total 15 columns):\n",
      " #   Column      Non-Null Count   Dtype  \n",
      "---  ------      --------------   -----  \n",
      " 0   date        900223 non-null  object \n",
      " 1   time        900223 non-null  object \n",
      " 2   path        900222 non-null  object \n",
      " 3   user_id     900223 non-null  int64  \n",
      " 4   cohort_id   847330 non-null  float64\n",
      " 5   ip          900223 non-null  object \n",
      " 6   id          847330 non-null  float64\n",
      " 7   name        847330 non-null  object \n",
      " 8   slack       847330 non-null  object \n",
      " 9   start_date  847330 non-null  object \n",
      " 10  end_date    847330 non-null  object \n",
      " 11  created_at  847330 non-null  object \n",
      " 12  updated_at  847330 non-null  object \n",
      " 13  deleted_at  0 non-null       object \n",
      " 14  program_id  847330 non-null  float64\n",
      "dtypes: float64(3), int64(1), object(11)\n",
      "memory usage: 103.0+ MB\n"
     ]
    }
   ],
   "source": [
    "# returns information on number of non-nulls for each column and their datatype\n",
    "df.info()"
   ]
  },
  {
   "cell_type": "code",
   "execution_count": 4,
   "id": "883c3d1e-c65b-41f5-90cf-ee9cc50ef270",
   "metadata": {},
   "outputs": [
    {
     "data": {
      "text/plain": [
       "date               0\n",
       "time               0\n",
       "path               1\n",
       "user_id            0\n",
       "cohort_id      52893\n",
       "ip                 0\n",
       "id             52893\n",
       "name           52893\n",
       "slack          52893\n",
       "start_date     52893\n",
       "end_date       52893\n",
       "created_at     52893\n",
       "updated_at     52893\n",
       "deleted_at    900223\n",
       "program_id     52893\n",
       "dtype: int64"
      ]
     },
     "execution_count": 4,
     "metadata": {},
     "output_type": "execute_result"
    }
   ],
   "source": [
    "# returns total number of sums for each column\n",
    "df.isna().sum()"
   ]
  },
  {
   "cell_type": "markdown",
   "id": "3cefb3a1-555b-4f60-a681-3db611065041",
   "metadata": {},
   "source": [
    "- Total rows = 900223\n",
    "- Deleted_at = 100% nulls\n",
    "- Most columns have 52,893 nulls"
   ]
  },
  {
   "cell_type": "markdown",
   "id": "49264ad6-7c05-4617-9459-ed79541f4888",
   "metadata": {},
   "source": [
    "## Prepare\n",
    " - Will prepare the dataframe to best answer the question in Explore section by doing the following\n",
    "     - Dropping all rows with nulls\n",
    "     - Dropping unnecessary columns\n",
    "     - Converting columns to useful datatypes\n",
    "     - Renaming columns for clarity"
   ]
  },
  {
   "cell_type": "code",
   "execution_count": 5,
   "id": "59412815-8afe-4f75-a47c-efd89c9686ed",
   "metadata": {},
   "outputs": [
    {
     "data": {
      "text/html": [
       "<div>\n",
       "<style scoped>\n",
       "    .dataframe tbody tr th:only-of-type {\n",
       "        vertical-align: middle;\n",
       "    }\n",
       "\n",
       "    .dataframe tbody tr th {\n",
       "        vertical-align: top;\n",
       "    }\n",
       "\n",
       "    .dataframe thead th {\n",
       "        text-align: right;\n",
       "    }\n",
       "</style>\n",
       "<table border=\"1\" class=\"dataframe\">\n",
       "  <thead>\n",
       "    <tr style=\"text-align: right;\">\n",
       "      <th></th>\n",
       "      <th>date</th>\n",
       "      <th>time</th>\n",
       "      <th>path</th>\n",
       "      <th>user_id</th>\n",
       "      <th>cohort_id</th>\n",
       "      <th>ip</th>\n",
       "      <th>id</th>\n",
       "      <th>name</th>\n",
       "      <th>slack</th>\n",
       "      <th>start_date</th>\n",
       "      <th>end_date</th>\n",
       "      <th>created_at</th>\n",
       "      <th>updated_at</th>\n",
       "      <th>deleted_at</th>\n",
       "      <th>program_id</th>\n",
       "    </tr>\n",
       "  </thead>\n",
       "  <tbody>\n",
       "    <tr>\n",
       "      <th>0</th>\n",
       "      <td>2018-01-26</td>\n",
       "      <td>09:55:03</td>\n",
       "      <td>/</td>\n",
       "      <td>1</td>\n",
       "      <td>8.0</td>\n",
       "      <td>97.105.19.61</td>\n",
       "      <td>8.0</td>\n",
       "      <td>Hampton</td>\n",
       "      <td>#hampton</td>\n",
       "      <td>2015-09-22</td>\n",
       "      <td>2016-02-06</td>\n",
       "      <td>2016-06-14 19:52:26</td>\n",
       "      <td>2016-06-14 19:52:26</td>\n",
       "      <td>None</td>\n",
       "      <td>1.0</td>\n",
       "    </tr>\n",
       "    <tr>\n",
       "      <th>1</th>\n",
       "      <td>2018-01-26</td>\n",
       "      <td>09:56:02</td>\n",
       "      <td>java-ii</td>\n",
       "      <td>1</td>\n",
       "      <td>8.0</td>\n",
       "      <td>97.105.19.61</td>\n",
       "      <td>8.0</td>\n",
       "      <td>Hampton</td>\n",
       "      <td>#hampton</td>\n",
       "      <td>2015-09-22</td>\n",
       "      <td>2016-02-06</td>\n",
       "      <td>2016-06-14 19:52:26</td>\n",
       "      <td>2016-06-14 19:52:26</td>\n",
       "      <td>None</td>\n",
       "      <td>1.0</td>\n",
       "    </tr>\n",
       "    <tr>\n",
       "      <th>2</th>\n",
       "      <td>2018-01-26</td>\n",
       "      <td>09:56:05</td>\n",
       "      <td>java-ii/object-oriented-programming</td>\n",
       "      <td>1</td>\n",
       "      <td>8.0</td>\n",
       "      <td>97.105.19.61</td>\n",
       "      <td>8.0</td>\n",
       "      <td>Hampton</td>\n",
       "      <td>#hampton</td>\n",
       "      <td>2015-09-22</td>\n",
       "      <td>2016-02-06</td>\n",
       "      <td>2016-06-14 19:52:26</td>\n",
       "      <td>2016-06-14 19:52:26</td>\n",
       "      <td>None</td>\n",
       "      <td>1.0</td>\n",
       "    </tr>\n",
       "  </tbody>\n",
       "</table>\n",
       "</div>"
      ],
      "text/plain": [
       "         date      time                                 path  user_id  \\\n",
       "0  2018-01-26  09:55:03                                    /        1   \n",
       "1  2018-01-26  09:56:02                              java-ii        1   \n",
       "2  2018-01-26  09:56:05  java-ii/object-oriented-programming        1   \n",
       "\n",
       "   cohort_id            ip   id     name     slack  start_date    end_date  \\\n",
       "0        8.0  97.105.19.61  8.0  Hampton  #hampton  2015-09-22  2016-02-06   \n",
       "1        8.0  97.105.19.61  8.0  Hampton  #hampton  2015-09-22  2016-02-06   \n",
       "2        8.0  97.105.19.61  8.0  Hampton  #hampton  2015-09-22  2016-02-06   \n",
       "\n",
       "            created_at           updated_at deleted_at  program_id  \n",
       "0  2016-06-14 19:52:26  2016-06-14 19:52:26       None         1.0  \n",
       "1  2016-06-14 19:52:26  2016-06-14 19:52:26       None         1.0  \n",
       "2  2016-06-14 19:52:26  2016-06-14 19:52:26       None         1.0  "
      ]
     },
     "execution_count": 5,
     "metadata": {},
     "output_type": "execute_result"
    }
   ],
   "source": [
    "# shows preview the top of the dataframe\n",
    "df.head(3)"
   ]
  },
  {
   "cell_type": "code",
   "execution_count": 6,
   "id": "93cbc150-7044-4fca-bf61-20dbf8d3b0c8",
   "metadata": {},
   "outputs": [
    {
     "ename": "KeyError",
     "evalue": "\"['Unnamed: 0'] not found in axis\"",
     "output_type": "error",
     "traceback": [
      "\u001b[0;31m---------------------------------------------------------------------------\u001b[0m",
      "\u001b[0;31mKeyError\u001b[0m                                  Traceback (most recent call last)",
      "\u001b[0;32m/var/folders/tg/c6tcjwk13mj583lxrf25k3jm0000gn/T/ipykernel_18993/2832326302.py\u001b[0m in \u001b[0;36m<module>\u001b[0;34m\u001b[0m\n\u001b[1;32m      5\u001b[0m \u001b[0;31m# object to datetime format; renames 'name' and 'program_id' columns to\u001b[0m\u001b[0;34m\u001b[0m\u001b[0;34m\u001b[0m\u001b[0m\n\u001b[1;32m      6\u001b[0m \u001b[0;31m# 'cohort' and 'programs' respectively\u001b[0m\u001b[0;34m\u001b[0m\u001b[0;34m\u001b[0m\u001b[0m\n\u001b[0;32m----> 7\u001b[0;31m \u001b[0mq2_df\u001b[0m \u001b[0;34m=\u001b[0m \u001b[0mp\u001b[0m\u001b[0;34m.\u001b[0m\u001b[0mq2_df_prep\u001b[0m\u001b[0;34m(\u001b[0m\u001b[0mdf\u001b[0m\u001b[0;34m)\u001b[0m\u001b[0;34m\u001b[0m\u001b[0;34m\u001b[0m\u001b[0m\n\u001b[0m",
      "\u001b[0;32m~/codeup-data-science/anomaly-detection/prepare.py\u001b[0m in \u001b[0;36mq2_df_prep\u001b[0;34m(df)\u001b[0m\n\u001b[1;32m     87\u001b[0m \u001b[0;34m\u001b[0m\u001b[0m\n\u001b[1;32m     88\u001b[0m     \u001b[0;31m# drop unnecessary columns\u001b[0m\u001b[0;34m\u001b[0m\u001b[0;34m\u001b[0m\u001b[0m\n\u001b[0;32m---> 89\u001b[0;31m     \u001b[0mdf\u001b[0m \u001b[0;34m=\u001b[0m \u001b[0mdf\u001b[0m\u001b[0;34m.\u001b[0m\u001b[0mdrop\u001b[0m\u001b[0;34m(\u001b[0m\u001b[0mcolumns\u001b[0m\u001b[0;34m=\u001b[0m\u001b[0;34m(\u001b[0m\u001b[0;34m[\u001b[0m\u001b[0;34m'slack'\u001b[0m\u001b[0;34m,\u001b[0m \u001b[0;34m'id'\u001b[0m\u001b[0;34m,\u001b[0m \u001b[0;34m'deleted_at'\u001b[0m\u001b[0;34m,\u001b[0m \u001b[0;34m'Unnamed: 0'\u001b[0m\u001b[0;34m,\u001b[0m \u001b[0;34m'date'\u001b[0m\u001b[0;34m,\u001b[0m \u001b[0;34m'time'\u001b[0m\u001b[0;34m]\u001b[0m\u001b[0;34m)\u001b[0m\u001b[0;34m)\u001b[0m\u001b[0;34m\u001b[0m\u001b[0;34m\u001b[0m\u001b[0m\n\u001b[0m\u001b[1;32m     90\u001b[0m \u001b[0;34m\u001b[0m\u001b[0m\n\u001b[1;32m     91\u001b[0m     \u001b[0;31m# Removes all rows from columns with null values\u001b[0m\u001b[0;34m\u001b[0m\u001b[0;34m\u001b[0m\u001b[0m\n",
      "\u001b[0;32m/opt/homebrew/anaconda3/lib/python3.9/site-packages/pandas/util/_decorators.py\u001b[0m in \u001b[0;36mwrapper\u001b[0;34m(*args, **kwargs)\u001b[0m\n\u001b[1;32m    309\u001b[0m                     \u001b[0mstacklevel\u001b[0m\u001b[0;34m=\u001b[0m\u001b[0mstacklevel\u001b[0m\u001b[0;34m,\u001b[0m\u001b[0;34m\u001b[0m\u001b[0;34m\u001b[0m\u001b[0m\n\u001b[1;32m    310\u001b[0m                 )\n\u001b[0;32m--> 311\u001b[0;31m             \u001b[0;32mreturn\u001b[0m \u001b[0mfunc\u001b[0m\u001b[0;34m(\u001b[0m\u001b[0;34m*\u001b[0m\u001b[0margs\u001b[0m\u001b[0;34m,\u001b[0m \u001b[0;34m**\u001b[0m\u001b[0mkwargs\u001b[0m\u001b[0;34m)\u001b[0m\u001b[0;34m\u001b[0m\u001b[0;34m\u001b[0m\u001b[0m\n\u001b[0m\u001b[1;32m    312\u001b[0m \u001b[0;34m\u001b[0m\u001b[0m\n\u001b[1;32m    313\u001b[0m         \u001b[0;32mreturn\u001b[0m \u001b[0mwrapper\u001b[0m\u001b[0;34m\u001b[0m\u001b[0;34m\u001b[0m\u001b[0m\n",
      "\u001b[0;32m/opt/homebrew/anaconda3/lib/python3.9/site-packages/pandas/core/frame.py\u001b[0m in \u001b[0;36mdrop\u001b[0;34m(self, labels, axis, index, columns, level, inplace, errors)\u001b[0m\n\u001b[1;32m   4904\u001b[0m                 \u001b[0mweight\u001b[0m  \u001b[0;36m1.0\u001b[0m     \u001b[0;36m0.8\u001b[0m\u001b[0;34m\u001b[0m\u001b[0;34m\u001b[0m\u001b[0m\n\u001b[1;32m   4905\u001b[0m         \"\"\"\n\u001b[0;32m-> 4906\u001b[0;31m         return super().drop(\n\u001b[0m\u001b[1;32m   4907\u001b[0m             \u001b[0mlabels\u001b[0m\u001b[0;34m=\u001b[0m\u001b[0mlabels\u001b[0m\u001b[0;34m,\u001b[0m\u001b[0;34m\u001b[0m\u001b[0;34m\u001b[0m\u001b[0m\n\u001b[1;32m   4908\u001b[0m             \u001b[0maxis\u001b[0m\u001b[0;34m=\u001b[0m\u001b[0maxis\u001b[0m\u001b[0;34m,\u001b[0m\u001b[0;34m\u001b[0m\u001b[0;34m\u001b[0m\u001b[0m\n",
      "\u001b[0;32m/opt/homebrew/anaconda3/lib/python3.9/site-packages/pandas/core/generic.py\u001b[0m in \u001b[0;36mdrop\u001b[0;34m(self, labels, axis, index, columns, level, inplace, errors)\u001b[0m\n\u001b[1;32m   4148\u001b[0m         \u001b[0;32mfor\u001b[0m \u001b[0maxis\u001b[0m\u001b[0;34m,\u001b[0m \u001b[0mlabels\u001b[0m \u001b[0;32min\u001b[0m \u001b[0maxes\u001b[0m\u001b[0;34m.\u001b[0m\u001b[0mitems\u001b[0m\u001b[0;34m(\u001b[0m\u001b[0;34m)\u001b[0m\u001b[0;34m:\u001b[0m\u001b[0;34m\u001b[0m\u001b[0;34m\u001b[0m\u001b[0m\n\u001b[1;32m   4149\u001b[0m             \u001b[0;32mif\u001b[0m \u001b[0mlabels\u001b[0m \u001b[0;32mis\u001b[0m \u001b[0;32mnot\u001b[0m \u001b[0;32mNone\u001b[0m\u001b[0;34m:\u001b[0m\u001b[0;34m\u001b[0m\u001b[0;34m\u001b[0m\u001b[0m\n\u001b[0;32m-> 4150\u001b[0;31m                 \u001b[0mobj\u001b[0m \u001b[0;34m=\u001b[0m \u001b[0mobj\u001b[0m\u001b[0;34m.\u001b[0m\u001b[0m_drop_axis\u001b[0m\u001b[0;34m(\u001b[0m\u001b[0mlabels\u001b[0m\u001b[0;34m,\u001b[0m \u001b[0maxis\u001b[0m\u001b[0;34m,\u001b[0m \u001b[0mlevel\u001b[0m\u001b[0;34m=\u001b[0m\u001b[0mlevel\u001b[0m\u001b[0;34m,\u001b[0m \u001b[0merrors\u001b[0m\u001b[0;34m=\u001b[0m\u001b[0merrors\u001b[0m\u001b[0;34m)\u001b[0m\u001b[0;34m\u001b[0m\u001b[0;34m\u001b[0m\u001b[0m\n\u001b[0m\u001b[1;32m   4151\u001b[0m \u001b[0;34m\u001b[0m\u001b[0m\n\u001b[1;32m   4152\u001b[0m         \u001b[0;32mif\u001b[0m \u001b[0minplace\u001b[0m\u001b[0;34m:\u001b[0m\u001b[0;34m\u001b[0m\u001b[0;34m\u001b[0m\u001b[0m\n",
      "\u001b[0;32m/opt/homebrew/anaconda3/lib/python3.9/site-packages/pandas/core/generic.py\u001b[0m in \u001b[0;36m_drop_axis\u001b[0;34m(self, labels, axis, level, errors)\u001b[0m\n\u001b[1;32m   4183\u001b[0m                 \u001b[0mnew_axis\u001b[0m \u001b[0;34m=\u001b[0m \u001b[0maxis\u001b[0m\u001b[0;34m.\u001b[0m\u001b[0mdrop\u001b[0m\u001b[0;34m(\u001b[0m\u001b[0mlabels\u001b[0m\u001b[0;34m,\u001b[0m \u001b[0mlevel\u001b[0m\u001b[0;34m=\u001b[0m\u001b[0mlevel\u001b[0m\u001b[0;34m,\u001b[0m \u001b[0merrors\u001b[0m\u001b[0;34m=\u001b[0m\u001b[0merrors\u001b[0m\u001b[0;34m)\u001b[0m\u001b[0;34m\u001b[0m\u001b[0;34m\u001b[0m\u001b[0m\n\u001b[1;32m   4184\u001b[0m             \u001b[0;32melse\u001b[0m\u001b[0;34m:\u001b[0m\u001b[0;34m\u001b[0m\u001b[0;34m\u001b[0m\u001b[0m\n\u001b[0;32m-> 4185\u001b[0;31m                 \u001b[0mnew_axis\u001b[0m \u001b[0;34m=\u001b[0m \u001b[0maxis\u001b[0m\u001b[0;34m.\u001b[0m\u001b[0mdrop\u001b[0m\u001b[0;34m(\u001b[0m\u001b[0mlabels\u001b[0m\u001b[0;34m,\u001b[0m \u001b[0merrors\u001b[0m\u001b[0;34m=\u001b[0m\u001b[0merrors\u001b[0m\u001b[0;34m)\u001b[0m\u001b[0;34m\u001b[0m\u001b[0;34m\u001b[0m\u001b[0m\n\u001b[0m\u001b[1;32m   4186\u001b[0m             \u001b[0mresult\u001b[0m \u001b[0;34m=\u001b[0m \u001b[0mself\u001b[0m\u001b[0;34m.\u001b[0m\u001b[0mreindex\u001b[0m\u001b[0;34m(\u001b[0m\u001b[0;34m**\u001b[0m\u001b[0;34m{\u001b[0m\u001b[0maxis_name\u001b[0m\u001b[0;34m:\u001b[0m \u001b[0mnew_axis\u001b[0m\u001b[0;34m}\u001b[0m\u001b[0;34m)\u001b[0m\u001b[0;34m\u001b[0m\u001b[0;34m\u001b[0m\u001b[0m\n\u001b[1;32m   4187\u001b[0m \u001b[0;34m\u001b[0m\u001b[0m\n",
      "\u001b[0;32m/opt/homebrew/anaconda3/lib/python3.9/site-packages/pandas/core/indexes/base.py\u001b[0m in \u001b[0;36mdrop\u001b[0;34m(self, labels, errors)\u001b[0m\n\u001b[1;32m   6015\u001b[0m         \u001b[0;32mif\u001b[0m \u001b[0mmask\u001b[0m\u001b[0;34m.\u001b[0m\u001b[0many\u001b[0m\u001b[0;34m(\u001b[0m\u001b[0;34m)\u001b[0m\u001b[0;34m:\u001b[0m\u001b[0;34m\u001b[0m\u001b[0;34m\u001b[0m\u001b[0m\n\u001b[1;32m   6016\u001b[0m             \u001b[0;32mif\u001b[0m \u001b[0merrors\u001b[0m \u001b[0;34m!=\u001b[0m \u001b[0;34m\"ignore\"\u001b[0m\u001b[0;34m:\u001b[0m\u001b[0;34m\u001b[0m\u001b[0;34m\u001b[0m\u001b[0m\n\u001b[0;32m-> 6017\u001b[0;31m                 \u001b[0;32mraise\u001b[0m \u001b[0mKeyError\u001b[0m\u001b[0;34m(\u001b[0m\u001b[0;34mf\"{labels[mask]} not found in axis\"\u001b[0m\u001b[0;34m)\u001b[0m\u001b[0;34m\u001b[0m\u001b[0;34m\u001b[0m\u001b[0m\n\u001b[0m\u001b[1;32m   6018\u001b[0m             \u001b[0mindexer\u001b[0m \u001b[0;34m=\u001b[0m \u001b[0mindexer\u001b[0m\u001b[0;34m[\u001b[0m\u001b[0;34m~\u001b[0m\u001b[0mmask\u001b[0m\u001b[0;34m]\u001b[0m\u001b[0;34m\u001b[0m\u001b[0;34m\u001b[0m\u001b[0m\n\u001b[1;32m   6019\u001b[0m         \u001b[0;32mreturn\u001b[0m \u001b[0mself\u001b[0m\u001b[0;34m.\u001b[0m\u001b[0mdelete\u001b[0m\u001b[0;34m(\u001b[0m\u001b[0mindexer\u001b[0m\u001b[0;34m)\u001b[0m\u001b[0;34m\u001b[0m\u001b[0;34m\u001b[0m\u001b[0m\n",
      "\u001b[0;31mKeyError\u001b[0m: \"['Unnamed: 0'] not found in axis\""
     ]
    }
   ],
   "source": [
    "# drops all rows with nulls; drops the columns 'slack', 'id', and 'deleted_at'\n",
    "# ; concatenates 'date' and 'time' columns to single 'date_time' column; \n",
    "# renames values in program_id column from integers to string names; converts \n",
    "# 'start_date', 'end_date', 'created_at', 'updated_at', and 'date_time' from \n",
    "# object to datetime format; renames 'name' and 'program_id' columns to \n",
    "# 'cohort' and 'programs' respectively\n",
    "q2_df = p.q2_df_prep(df)"
   ]
  },
  {
   "cell_type": "code",
   "execution_count": null,
   "id": "d1341a3d-0283-4b7c-9a06-c9ed9ea947f2",
   "metadata": {},
   "outputs": [],
   "source": [
    "# returns information on number of non-nulls for each column and their datatype\n",
    "q2_df.info()"
   ]
  },
  {
   "cell_type": "code",
   "execution_count": null,
   "id": "e5bc4dae-d3da-4c3c-8cc8-1c7150006ed0",
   "metadata": {},
   "outputs": [],
   "source": [
    "# shows preview the top of the dataframe\n",
    "q2_df.head()"
   ]
  },
  {
   "cell_type": "markdown",
   "id": "887f3710-ba4c-4531-a2cc-a4978597e8b0",
   "metadata": {},
   "source": [
    "## Exploration\n",
    "- Question 2: Is there a cohort that referred to a lesson significantly more than other cohorts seemed to gloss over?"
   ]
  },
  {
   "cell_type": "code",
   "execution_count": null,
   "id": "278b7728-7a81-4860-9d76-fc35465f6960",
   "metadata": {},
   "outputs": [],
   "source": [
    "# Returns a dataframe with entries that fall within the start and end dates for their respective cohort\n",
    "q2_df = q2_df[(q2_df['date_time'] >= q2_df['start_date']) & (q2_df['date_time'] <= q2_df['end_date'])]\n",
    "q2_df.head(3)"
   ]
  },
  {
   "cell_type": "code",
   "execution_count": null,
   "id": "3e78c247-1a66-4c72-a512-d19ecb326c2b",
   "metadata": {},
   "outputs": [],
   "source": [
    "# overall row counts by cohort\n",
    "q2_df['cohort'].value_counts()"
   ]
  },
  {
   "cell_type": "code",
   "execution_count": null,
   "id": "383151b6-fedd-49ac-ae1d-b77959cb3916",
   "metadata": {},
   "outputs": [],
   "source": [
    "q2_df['programs'].unique().tolist()  "
   ]
  },
  {
   "cell_type": "markdown",
   "id": "5bfcec99-b154-474c-8839-346a9e1d682d",
   "metadata": {},
   "source": [
    "Dataframe abbreviations:\n",
    "- q2_fsp = full_stack_php\n",
    "- q2_fsj = full_stack_java\n",
    "- q2_ds = data_science\n",
    "- q2_fep = front_end_programming"
   ]
  },
  {
   "cell_type": "code",
   "execution_count": null,
   "id": "9c189e45-62b8-41d4-a93e-d937b25cce17",
   "metadata": {},
   "outputs": [],
   "source": [
    "# full stack php dataframe\n",
    "q2_fsp = q2_df[q2_df.programs == 'full_stack_php']\n",
    "q2_fsp.head(3)"
   ]
  },
  {
   "cell_type": "code",
   "execution_count": null,
   "id": "372d875a-9f82-4405-9e78-01baa83e9d07",
   "metadata": {},
   "outputs": [],
   "source": [
    "# full stack java dataframe\n",
    "q2_fsj  = q2_df[q2_df.programs == 'full_stack_java']\n",
    "q2_fsj.head(3)"
   ]
  },
  {
   "cell_type": "code",
   "execution_count": null,
   "id": "2abac892-9bbf-4693-803a-52f321dc8c8d",
   "metadata": {},
   "outputs": [],
   "source": [
    "# data science dataframe\n",
    "q2_ds = q2_df[q2_df.programs == 'data_science']\n",
    "q2_ds.head(3)"
   ]
  },
  {
   "cell_type": "code",
   "execution_count": null,
   "id": "6cccb3b0-cabc-4780-97bd-93027d8a600b",
   "metadata": {},
   "outputs": [],
   "source": [
    "# front end programming dataframe\n",
    "q2_fep = q2_df[q2_df.programs == 'front_end_programming']\n",
    "q2_fep.head(3)"
   ]
  },
  {
   "cell_type": "code",
   "execution_count": null,
   "id": "aeff5d30-1535-4403-8348-deaaac7d12e7",
   "metadata": {},
   "outputs": [],
   "source": [
    "# row counts for full stack php\n",
    "q2_fsp['cohort'].value_counts()"
   ]
  },
  {
   "cell_type": "code",
   "execution_count": null,
   "id": "b085f542-2fe4-49f0-a859-dd41c2398c5d",
   "metadata": {},
   "outputs": [],
   "source": [
    "# row counts for full stack java\n",
    "q2_fsj['cohort'].value_counts()"
   ]
  },
  {
   "cell_type": "code",
   "execution_count": null,
   "id": "b971e6c3-5219-4b6e-a3f0-708e3432790e",
   "metadata": {},
   "outputs": [],
   "source": [
    "# row counts for data science\n",
    "q2_ds['cohort'].value_counts()"
   ]
  },
  {
   "cell_type": "code",
   "execution_count": null,
   "id": "0d7a31eb-c49c-4cc5-a03a-d92c3767b081",
   "metadata": {},
   "outputs": [],
   "source": [
    "# Row counts for front end programming\n",
    "q2_fep['cohort'].value_counts()"
   ]
  },
  {
   "cell_type": "markdown",
   "id": "01ed0591-68fc-451b-ac92-872cbce3116c",
   "metadata": {},
   "source": [
    "Quick takeaways\n",
    "- After removing rows whose \"date_time\" entry didn't fall within the associated \"start_date\" & \"end_date\" for the class, it resulted in the the Full Stack PHP and Front End Programming to return empty dataframes after the original dataframe was divided up by program.\n",
    "- This indicates that all entries for those programs were either before or after their associated class dates\n",
    "- The Full Stack Java and Data Science programs are the two remaining dataframes that will be use"
   ]
  },
  {
   "cell_type": "code",
   "execution_count": null,
   "id": "6134f011-6d9c-4807-9a03-13095a4c4e6d",
   "metadata": {},
   "outputs": [],
   "source": [
    "q2_fsj.head(3)"
   ]
  },
  {
   "cell_type": "code",
   "execution_count": null,
   "id": "9f33ef7f-8128-49f6-8a40-519252fcbd3d",
   "metadata": {},
   "outputs": [],
   "source": [
    "# Plots histogram of number of entries for all Full Stack Java cohorts\n",
    "plt.figure(figsize=(12,8))\n",
    "q2_fsj['cohort'].hist()\n",
    "plt.xticks(rotation = 90)\n",
    "plt.title(\"Histogram of total entries by Full Stack Java Cohort\")\n",
    "plt.show()"
   ]
  },
  {
   "cell_type": "code",
   "execution_count": null,
   "id": "c3292bac-1821-46fd-ad8b-16f03051d1c9",
   "metadata": {
    "tags": []
   },
   "outputs": [],
   "source": [
    "# Shows the number of entries for each unique value in the 'path' column for the Full Stack Java Program\n",
    "q2_fsj_path_counts = q2_fsj['path'].value_counts().to_frame()\n",
    "q2_fsj_path_counts"
   ]
  },
  {
   "cell_type": "code",
   "execution_count": null,
   "id": "ffaa0b26-5911-426d-8e42-473093392ffe",
   "metadata": {},
   "outputs": [],
   "source": [
    "# Shows a preview of the top of the Data Science program dataframe\n",
    "q2_ds.head(3)"
   ]
  },
  {
   "cell_type": "code",
   "execution_count": null,
   "id": "a1f42984-3246-4278-8702-cb2c50a0d38d",
   "metadata": {},
   "outputs": [],
   "source": [
    "# Plots histogram of number of entries for all Full Stack Java cohorts\n",
    "plt.figure(figsize=(12,8))\n",
    "q2_ds['cohort'].hist()\n",
    "plt.xticks(rotation = 90)\n",
    "plt.title(\"Histogram of total entries by Data Science Cohort\")\n",
    "plt.show()"
   ]
  },
  {
   "cell_type": "code",
   "execution_count": null,
   "id": "008bd81d-9c3e-479d-bed1-4231a8de130a",
   "metadata": {},
   "outputs": [],
   "source": [
    "# Assigns a variable to the list of fsj lessons\n",
    "q2_fsj_lessons = ['javascript-i', 'java-iii', 'html-css', 'java-ii', 'jquery', \n",
    "                  'mysql', 'spring', 'slides', 'web-design'] "
   ]
  },
  {
   "cell_type": "code",
   "execution_count": null,
   "id": "48de94ad-cb89-43cb-8233-6ea6dfd96442",
   "metadata": {
    "tags": []
   },
   "outputs": [],
   "source": [
    "# Shows the number of entries for each unique value in the 'path' column for the Data Science Program\n",
    "q2_ds_path_counts = q2_ds['path'].value_counts().to_frame()\n",
    "q2_ds_path_counts"
   ]
  },
  {
   "cell_type": "code",
   "execution_count": null,
   "id": "c333ae47-9c72-483f-a66b-deb0de1e00ed",
   "metadata": {},
   "outputs": [],
   "source": [
    "# Assigns a variable to the list of ds lessons\n",
    "q2_ds_lessons = ['fundamentals', 'classification', 'sql', 'regression', 'anomaly-detection', \n",
    "             'python', 'stats', 'clustering', 'storytelling', 'timeseries', 'nlp', \n",
    "             'distributed-ml', 'advanced-topics']"
   ]
  },
  {
   "cell_type": "code",
   "execution_count": null,
   "id": "384d4ca4-8262-4d04-9de4-60dd8f22ee9f",
   "metadata": {},
   "outputs": [],
   "source": [
    "# filtering the rows where that contain 'fundamentals'\n",
    "q2_ds_fundamentals = q2_ds[q2_ds['path'].str.contains('fundamentals')]\n",
    "q2_ds_fundamentals.head(3)"
   ]
  },
  {
   "cell_type": "code",
   "execution_count": null,
   "id": "83d75015-269a-4150-8c5c-7d06856cb043",
   "metadata": {},
   "outputs": [],
   "source": [
    "# filtering the rows where that contain 'classification'\n",
    "q2_ds_classification = q2_ds[q2_ds['path'].str.contains('classification')]\n",
    "q2_ds_classification.head(3)"
   ]
  },
  {
   "cell_type": "code",
   "execution_count": null,
   "id": "70db1bd4-e3e2-482b-b65e-918b034efea5",
   "metadata": {},
   "outputs": [],
   "source": [
    "# filtering the rows where that contain 'sql'\n",
    "q2_ds_sql = q2_ds[q2_ds['path'].str.contains('sql')]\n",
    "q2_ds_sql.head(3)"
   ]
  },
  {
   "cell_type": "code",
   "execution_count": null,
   "id": "31a70d4d-ac01-46a0-a3d2-cdf7079d0be9",
   "metadata": {},
   "outputs": [],
   "source": [
    "# filtering the rows where that contain 'regression'\n",
    "q2_ds_regression = q2_ds[q2_ds['path'].str.contains('regression')]\n",
    "q2_ds_regression.head(3)"
   ]
  },
  {
   "cell_type": "code",
   "execution_count": null,
   "id": "10506249-b190-4a1a-aa87-f1e6c4c6618a",
   "metadata": {},
   "outputs": [],
   "source": [
    "# filtering the rows where that contain 'anomaly-detection'\n",
    "q2_ds_anomaly_detection = q2_ds[q2_ds['path'].str.contains('anomaly-detection')]\n",
    "q2_ds_anomaly_detection.head(3)"
   ]
  },
  {
   "cell_type": "code",
   "execution_count": null,
   "id": "825c6502-f0fa-4959-a362-692ce0734948",
   "metadata": {},
   "outputs": [],
   "source": [
    "# filtering the rows where that contain 'python'\n",
    "q2_ds_python = q2_ds[q2_ds['path'].str.contains('python')]\n",
    "q2_ds_python.head(3)"
   ]
  },
  {
   "cell_type": "code",
   "execution_count": null,
   "id": "777b0dc9-0939-4ab2-becc-b449f1412b94",
   "metadata": {},
   "outputs": [],
   "source": [
    "# filtering the rows where that contain 'stats'\n",
    "q2_ds_stats = q2_ds[q2_ds['path'].str.contains('stats')]\n",
    "q2_ds_stats.head(3)"
   ]
  },
  {
   "cell_type": "code",
   "execution_count": null,
   "id": "f65be291-8ab1-4639-bb21-80e9ced1e83c",
   "metadata": {},
   "outputs": [],
   "source": [
    "# filtering the rows where that contain 'clustering'\n",
    "q2_ds_clustering = q2_ds[q2_ds['path'].str.contains('clustering')]\n",
    "q2_ds_clustering.head(3)"
   ]
  },
  {
   "cell_type": "code",
   "execution_count": null,
   "id": "e63db333-3b41-4383-b192-dce6f8cba105",
   "metadata": {},
   "outputs": [],
   "source": [
    "# filtering the rows where that contain 'storytelling'\n",
    "q2_ds_storytelling = q2_ds[q2_ds['path'].str.contains('storytelling')]\n",
    "q2_ds_storytelling.head(3)"
   ]
  },
  {
   "cell_type": "code",
   "execution_count": null,
   "id": "9cf19d1e-0c24-4bd6-83c4-168e936fee6e",
   "metadata": {
    "tags": []
   },
   "outputs": [],
   "source": [
    "# filtering the rows where that contain 'timeseries'\n",
    "q2_ds_timeseries = q2_ds[q2_ds['path'].str.contains('timeseries')]\n",
    "q2_ds_timeseries.head(3)"
   ]
  },
  {
   "cell_type": "code",
   "execution_count": null,
   "id": "7434a26f-a4b7-463e-9511-2a4c9152ab21",
   "metadata": {},
   "outputs": [],
   "source": [
    "# filtering the rows where that contain 'nlp'\n",
    "q2_ds_nlp = q2_ds[q2_ds['path'].str.contains('nlp')]\n",
    "q2_ds_nlp.head(3)"
   ]
  },
  {
   "cell_type": "code",
   "execution_count": null,
   "id": "dbe654f9-0ce6-4d6b-9844-1ca6d0bdaf79",
   "metadata": {},
   "outputs": [],
   "source": [
    "# filtering the rows where that contain 'distributed-ml'\n",
    "q2_ds_distributed_ml = q2_ds[q2_ds['path'].str.contains('distributed-ml')]\n",
    "q2_ds_distributed_ml.head(3)"
   ]
  },
  {
   "cell_type": "code",
   "execution_count": null,
   "id": "77d9afc8-b69f-4a5a-a9e0-077f424a968e",
   "metadata": {},
   "outputs": [],
   "source": [
    "# filtering the rows where that contain 'advanced-topics'\n",
    "q2_ds_advanced_topics = q2_ds[q2_ds['path'].str.contains('advanced-topics')]\n",
    "q2_ds_advanced_topics.head(3)"
   ]
  },
  {
   "cell_type": "code",
   "execution_count": null,
   "id": "37d4b43e-8ebe-4fec-9caa-bd3e06185d71",
   "metadata": {},
   "outputs": [],
   "source": [
    "# Returns the number of rows for the respective dataframs of the different programs\n",
    "q2_fsp_rows = q2_fsp.shape[0]\n",
    "print(f'The q2_fsp dataframe has {q2_fsp_rows} rows.')\n",
    "\n",
    "q2_fsj_rows = q2_fsj.shape[0]\n",
    "print(f'The q2_fsj dataframe has {q2_fsj_rows} rows.')\n",
    "\n",
    "q2_ds_rows = q2_ds.shape[0]\n",
    "print(f'The q2_ds dataframe has {q2_ds_rows} rows.')\n",
    "\n",
    "q2_fep_rows = q2_fep.shape[0]\n",
    "print(f'The q2_fep dataframe has {q2_fep_rows} rows.')"
   ]
  },
  {
   "cell_type": "code",
   "execution_count": null,
   "id": "9c2d3b9b-7c1d-4516-8c44-7194a44f27d4",
   "metadata": {},
   "outputs": [],
   "source": [
    "# Returns the number of entries for each of the Full Script Java cohorts\n",
    "q2_fsj['cohort'].value_counts()"
   ]
  },
  {
   "cell_type": "code",
   "execution_count": null,
   "id": "cecbf6ca-ed4d-4d54-adad-ad71f48fa8d5",
   "metadata": {},
   "outputs": [],
   "source": [
    "# Returns the number of entries for each of the Data Science cohorts\n",
    "q2_ds['cohort'].value_counts()"
   ]
  },
  {
   "cell_type": "code",
   "execution_count": null,
   "id": "c08d4a7c-5ed1-4e83-9702-e05f0a598614",
   "metadata": {
    "tags": []
   },
   "outputs": [],
   "source": [
    "# df of values in 'path' column that contain 'javascript-i'\n",
    "q2_fsj_javascript_i = q2_fsj[q2_fsj['path'].str.contains('javascript-i')]\n",
    "q2_fsj_javascript_i.head(3)"
   ]
  },
  {
   "cell_type": "code",
   "execution_count": null,
   "id": "e2461aa6-a179-43ea-b85a-78fc0b692545",
   "metadata": {
    "tags": []
   },
   "outputs": [],
   "source": [
    "# df of values in 'path' column that contain 'java-iii'\n",
    "q2_fsj_java_iii = q2_fsj[q2_fsj['path'].str.contains('java-iii')]\n",
    "q2_fsj_java_iii.head(3)"
   ]
  },
  {
   "cell_type": "code",
   "execution_count": null,
   "id": "71de0693-d727-4a11-ac46-c8ac4383f645",
   "metadata": {
    "tags": []
   },
   "outputs": [],
   "source": [
    "# df of values in 'path' column that contain 'html-css'\n",
    "q2_fsj_html_css = q2_fsj[q2_fsj['path'].str.contains('html-css')]\n",
    "q2_fsj_html_css.head(3)"
   ]
  },
  {
   "cell_type": "code",
   "execution_count": null,
   "id": "79a5b5d7-8db0-4e31-9d21-a10d670b5b1b",
   "metadata": {
    "tags": []
   },
   "outputs": [],
   "source": [
    "# df of values in 'path' column that contain 'java-ii'\n",
    "q2_fsj_java_ii = q2_fsj[q2_fsj['path'].str.contains('java-ii')]\n",
    "q2_fsj_java_ii.head(3)"
   ]
  },
  {
   "cell_type": "code",
   "execution_count": null,
   "id": "5937acb2-6bf4-4808-a696-58d674b3212e",
   "metadata": {
    "tags": []
   },
   "outputs": [],
   "source": [
    "# df of values in 'path' column that contain 'jquery'\n",
    "q2_fsj_jquery = q2_fsj[q2_fsj['path'].str.contains('jquery')]\n",
    "q2_fsj_jquery.head(3)"
   ]
  },
  {
   "cell_type": "code",
   "execution_count": null,
   "id": "706bbec1-46cf-4ed8-97bd-d9cbd9498176",
   "metadata": {
    "tags": []
   },
   "outputs": [],
   "source": [
    "# df of values in 'path' column that contain 'mysql'\n",
    "q2_fsj_mysql = q2_fsj[q2_fsj['path'].str.contains('mysql')]\n",
    "q2_fsj_mysql.head(3)"
   ]
  },
  {
   "cell_type": "code",
   "execution_count": null,
   "id": "1b55aa6d-b0d8-420a-9804-2cce5f297a65",
   "metadata": {
    "tags": []
   },
   "outputs": [],
   "source": [
    "# df of values in 'path' column that contain 'spring'\n",
    "q2_fsj_spring = q2_fsj[q2_fsj['path'].str.contains('spring')]\n",
    "q2_fsj_spring.head(3)"
   ]
  },
  {
   "cell_type": "code",
   "execution_count": null,
   "id": "f603d934-638d-4648-b8db-413ac77c6cce",
   "metadata": {
    "tags": []
   },
   "outputs": [],
   "source": [
    "# df of values in 'path' column that contain 'slides'\n",
    "q2_fsj_slides = q2_fsj[q2_fsj['path'].str.contains('slides')]\n",
    "q2_fsj_slides.head(3)"
   ]
  },
  {
   "cell_type": "code",
   "execution_count": null,
   "id": "db97d13f-65fc-4b7b-8569-57d1b59857f4",
   "metadata": {
    "tags": []
   },
   "outputs": [],
   "source": [
    "# df of values in 'path' column that contain 'web-design'\n",
    "q2_fsj_web_design = q2_fsj[q2_fsj['path'].str.contains('web-design')]\n",
    "q2_fsj_web_design.head(3)"
   ]
  },
  {
   "cell_type": "code",
   "execution_count": null,
   "id": "1b34a50b-56c9-432f-a8f5-0b24a2ca25dc",
   "metadata": {},
   "outputs": [],
   "source": [
    "# list of names of ds lesson dfs\n",
    "q2_ds_lesson_dfs = [q2_ds_fundamentals, q2_ds_classification, q2_ds_sql,\n",
    "                    q2_ds_regression, q2_ds_anomaly_detection, q2_ds_python,\n",
    "                    q2_ds_stats, q2_ds_clustering, q2_ds_storytelling, \n",
    "                    q2_ds_timeseries, q2_ds_nlp, q2_ds_distributed_ml, \n",
    "                    q2_ds_advanced_topics]"
   ]
  },
  {
   "cell_type": "code",
   "execution_count": null,
   "id": "1fadc8c7-8c6d-4675-9311-75a37a64d6cc",
   "metadata": {},
   "outputs": [],
   "source": [
    "# list of names of fsj lesson dfs\n",
    "q2_fsj_lesson_dfs = [q2_fsj_javascript_i, q2_fsj_java_iii, q2_fsj_html_css\n",
    "                     , q2_fsj_java_ii, q2_fsj_jquery, q2_fsj_mysql, \n",
    "                     q2_fsj_spring, q2_fsj_slides, q2_fsj_web_design]"
   ]
  },
  {
   "cell_type": "markdown",
   "id": "f53c85fe-8f55-4141-80da-23dfabc1be54",
   "metadata": {},
   "source": [
    "Groupby for Data Science"
   ]
  },
  {
   "cell_type": "code",
   "execution_count": null,
   "id": "db7d8013-bc30-4218-a44a-144a13a21cb7",
   "metadata": {},
   "outputs": [],
   "source": [
    "# groups the 'cohort' column by the number of corresponding values in the \n",
    "# 'path' column in descending order\n",
    "q2_ds_fundamentals_groupby = q2_ds_fundamentals.groupby('cohort')['path'].count()\n",
    "q2_ds_fundamentals_groupby"
   ]
  },
  {
   "cell_type": "code",
   "execution_count": null,
   "id": "06aef710-e73e-43f1-a8af-ea5e63e2a085",
   "metadata": {},
   "outputs": [],
   "source": [
    "# assigns name to series\n",
    "q2_ds_fundamentals_groupby.name = 'fundamentals'"
   ]
  },
  {
   "cell_type": "code",
   "execution_count": null,
   "id": "d9efee7c-38d6-438a-b4aa-0e2ffc7adaf7",
   "metadata": {},
   "outputs": [],
   "source": [
    "# groups the 'cohort' column by the number of corresponding values in the \n",
    "# 'path' column in descending order\n",
    "q2_ds_classification_groupby = q2_ds_classification.groupby('cohort')['path'].count()\n",
    "q2_ds_classification_groupby"
   ]
  },
  {
   "cell_type": "code",
   "execution_count": null,
   "id": "82a7e9a9-4d7d-4876-9c7f-40f938b16831",
   "metadata": {},
   "outputs": [],
   "source": [
    "# assigns name to series\n",
    "q2_ds_classification_groupby.name = 'classification'"
   ]
  },
  {
   "cell_type": "code",
   "execution_count": null,
   "id": "a676ab3a-6706-416e-a38c-9a97fea73997",
   "metadata": {},
   "outputs": [],
   "source": [
    "# groups the 'cohort' column by the number of corresponding values in the \n",
    "# 'path' column in descending order\n",
    "q2_ds_sql_groupby = q2_ds_sql.groupby('cohort')['path'].count()\n",
    "q2_ds_sql_groupby"
   ]
  },
  {
   "cell_type": "code",
   "execution_count": null,
   "id": "9555d92f-c612-4a84-b825-98173a32fc6c",
   "metadata": {},
   "outputs": [],
   "source": [
    "# assigns name to series\n",
    "q2_ds_sql_groupby.name = 'sql'"
   ]
  },
  {
   "cell_type": "code",
   "execution_count": null,
   "id": "c93dcbf5-e840-4291-8945-73dfb205c12e",
   "metadata": {},
   "outputs": [],
   "source": [
    "# groups the 'cohort' column by the number of corresponding values in the \n",
    "# 'path' column in descending order\n",
    "q2_ds_regression_groupby = q2_ds_regression.groupby('cohort')['path'].count()\n",
    "q2_ds_regression_groupby"
   ]
  },
  {
   "cell_type": "code",
   "execution_count": null,
   "id": "974a54b2-e946-4c4b-9982-8b4db65f76c1",
   "metadata": {},
   "outputs": [],
   "source": [
    "# assigns name to series\n",
    "q2_ds_regression_groupby.name = 'regression'"
   ]
  },
  {
   "cell_type": "code",
   "execution_count": null,
   "id": "06ae697a-b314-4f3e-809f-1d5eb201bc8d",
   "metadata": {},
   "outputs": [],
   "source": [
    "# groups the 'cohort' column by the number of corresponding values in the \n",
    "# 'path' column in descending order\n",
    "q2_ds_anomaly_detection_groupby = q2_ds_anomaly_detection.groupby('cohort')['path'].count()\n",
    "q2_ds_anomaly_detection_groupby"
   ]
  },
  {
   "cell_type": "code",
   "execution_count": null,
   "id": "69890203-6c1f-4e77-8b49-51d4bc1d7e1a",
   "metadata": {},
   "outputs": [],
   "source": [
    "# assigns name to series\n",
    "q2_ds_anomaly_detection_groupby.name = 'anomaly_detection'"
   ]
  },
  {
   "cell_type": "code",
   "execution_count": null,
   "id": "fe1664a8-cdb2-432d-b955-aefd901bb059",
   "metadata": {},
   "outputs": [],
   "source": [
    "# groups the 'cohort' column by the number of corresponding values in the \n",
    "# 'path' column in descending order\n",
    "q2_ds_python_groupby = q2_ds_python.groupby('cohort')['path'].count()\n",
    "q2_ds_python_groupby"
   ]
  },
  {
   "cell_type": "code",
   "execution_count": null,
   "id": "c428590b-4439-4db2-90f7-9110d2e197af",
   "metadata": {},
   "outputs": [],
   "source": [
    "# assigns name to series\n",
    "q2_ds_python_groupby.name = 'python'"
   ]
  },
  {
   "cell_type": "code",
   "execution_count": null,
   "id": "d53c620a-2875-43a0-b2aa-f358db72c130",
   "metadata": {},
   "outputs": [],
   "source": [
    "# groups the 'cohort' column by the number of corresponding values in the \n",
    "# 'path' column in descending order\n",
    "q2_ds_stats_groupby = q2_ds_stats.groupby('cohort')['path'].count()\n",
    "q2_ds_stats_groupby"
   ]
  },
  {
   "cell_type": "code",
   "execution_count": null,
   "id": "86178711-d362-4900-9fb4-842d6f508070",
   "metadata": {},
   "outputs": [],
   "source": [
    "# assigns name to series\n",
    "q2_ds_stats_groupby.name = 'stats'"
   ]
  },
  {
   "cell_type": "code",
   "execution_count": null,
   "id": "562efbb9-f79e-405f-8342-b4d9aa49e2d0",
   "metadata": {},
   "outputs": [],
   "source": [
    "# groups the 'cohort' column by the number of corresponding values in the \n",
    "# 'path' column in descending order\n",
    "q2_ds_clustering_groupby = q2_ds_clustering.groupby('cohort')['path'].count()\n",
    "q2_ds_clustering_groupby"
   ]
  },
  {
   "cell_type": "code",
   "execution_count": null,
   "id": "3cef818b-1bf4-4462-831e-bfcca38d7863",
   "metadata": {},
   "outputs": [],
   "source": [
    "# assigns name to series\n",
    "q2_ds_clustering_groupby.name = 'clustering'"
   ]
  },
  {
   "cell_type": "code",
   "execution_count": null,
   "id": "c33e22a3-14d2-4d46-8860-1e6b1f32a97e",
   "metadata": {},
   "outputs": [],
   "source": [
    "# groups the 'cohort' column by the number of corresponding values in the \n",
    "# 'path' column in descending order\n",
    "q2_ds_storytelling_groupby = q2_ds_storytelling.groupby('cohort')['path'].count()\n",
    "q2_ds_storytelling_groupby"
   ]
  },
  {
   "cell_type": "code",
   "execution_count": null,
   "id": "70031f73-7964-4505-95d0-b284730aab60",
   "metadata": {},
   "outputs": [],
   "source": [
    "# assigns name to series\n",
    "q2_ds_storytelling_groupby.name = 'storytelling'"
   ]
  },
  {
   "cell_type": "code",
   "execution_count": null,
   "id": "3d9e85fb-287f-4dd0-98d0-c8145f65f388",
   "metadata": {},
   "outputs": [],
   "source": [
    "# groups the 'cohort' column by the number of corresponding values in the \n",
    "# 'path' column in descending order\n",
    "q2_ds_timeseries_groupby = q2_ds_timeseries.groupby('cohort')['path'].count()\n",
    "q2_ds_timeseries_groupby"
   ]
  },
  {
   "cell_type": "code",
   "execution_count": null,
   "id": "1bc9bf28-59cd-4e29-bdae-e8cb7e8e9945",
   "metadata": {},
   "outputs": [],
   "source": [
    "# assigns name to series\n",
    "q2_ds_timeseries_groupby.name = 'timeseries'"
   ]
  },
  {
   "cell_type": "code",
   "execution_count": null,
   "id": "bd4db120-26c4-4631-a23e-4720a18be177",
   "metadata": {},
   "outputs": [],
   "source": [
    "# groups the 'cohort' column by the number of corresponding values in the \n",
    "# 'path' column in descending order\n",
    "q2_ds_nlp_groupby = q2_ds_nlp.groupby('cohort')['path'].count()\n",
    "q2_ds_nlp_groupby"
   ]
  },
  {
   "cell_type": "code",
   "execution_count": null,
   "id": "f1f7ffb2-1818-4e16-8546-5b6d9d79a004",
   "metadata": {},
   "outputs": [],
   "source": [
    "# assigns name to series\n",
    "q2_ds_nlp_groupby.name = 'nlp'"
   ]
  },
  {
   "cell_type": "code",
   "execution_count": null,
   "id": "f279c632-1185-40a8-bbb2-2b649563b762",
   "metadata": {},
   "outputs": [],
   "source": [
    "# groups the 'cohort' column by the number of corresponding values in the \n",
    "# 'path' column in descending order\n",
    "q2_ds_distributed_ml_groupby = q2_ds_distributed_ml.groupby('cohort')['path'].count()\n",
    "q2_ds_distributed_ml_groupby"
   ]
  },
  {
   "cell_type": "code",
   "execution_count": null,
   "id": "eb9a1ad4-fd7d-449a-8bdb-b3525192242e",
   "metadata": {},
   "outputs": [],
   "source": [
    "# assigns name to series\n",
    "q2_ds_distributed_ml_groupby.name = 'distributed_ml'"
   ]
  },
  {
   "cell_type": "code",
   "execution_count": null,
   "id": "64cbaf81-f678-4c7f-92d1-f4fa9439fe28",
   "metadata": {},
   "outputs": [],
   "source": [
    "# groups the 'cohort' column by the number of corresponding values in the \n",
    "# 'path' column in descending order\n",
    "q2_ds_advanced_topics_groupby = q2_ds_advanced_topics.groupby('cohort')['path'].count()\n",
    "q2_ds_advanced_topics_groupby"
   ]
  },
  {
   "cell_type": "code",
   "execution_count": null,
   "id": "74da2004-6065-4073-bbba-d01073f5ac42",
   "metadata": {},
   "outputs": [],
   "source": [
    "# assigns name to series\n",
    "q2_ds_advanced_topics_groupby.name = 'advanced_topics'"
   ]
  },
  {
   "cell_type": "markdown",
   "id": "643ba7d7-33eb-48cf-a0cb-417f4e66b920",
   "metadata": {},
   "source": [
    "Groupby for Full Stack Java"
   ]
  },
  {
   "cell_type": "code",
   "execution_count": null,
   "id": "bf0f2b5e-b55a-4250-97b3-6de42cfc90cb",
   "metadata": {},
   "outputs": [],
   "source": [
    "# groups the 'cohort' column by the number of corresponding values in the \n",
    "# 'path' column in descending order\n",
    "q2_fsj_javascript_i_groupby = q2_fsj_javascript_i.groupby('cohort')['path'].count()\n",
    "q2_fsj_javascript_i_groupby"
   ]
  },
  {
   "cell_type": "code",
   "execution_count": null,
   "id": "b1756c09-653b-46b1-9436-9c5f216349e0",
   "metadata": {},
   "outputs": [],
   "source": [
    "# assigns name to series\n",
    "q2_fsj_javascript_i_groupby.name = 'javascript_i'"
   ]
  },
  {
   "cell_type": "code",
   "execution_count": null,
   "id": "8ee4e483-58e9-4596-ba16-736fcf2bddb9",
   "metadata": {},
   "outputs": [],
   "source": [
    "# groups the 'cohort' column by the number of corresponding values in the \n",
    "# 'path' column in descending order\n",
    "q2_fsj_java_iii_groupby = q2_fsj_java_iii.groupby('cohort')['path'].count()\n",
    "q2_fsj_java_iii_groupby"
   ]
  },
  {
   "cell_type": "code",
   "execution_count": null,
   "id": "48b336b0-b849-410e-b2ee-31a7b285ed19",
   "metadata": {},
   "outputs": [],
   "source": [
    "# assigns name to series\n",
    "q2_fsj_java_iii_groupby.name = 'fsj_java_iii'"
   ]
  },
  {
   "cell_type": "code",
   "execution_count": null,
   "id": "b3423615-56ce-48e0-8797-10baccad25ad",
   "metadata": {},
   "outputs": [],
   "source": [
    "# groups the 'cohort' column by the number of corresponding values in the \n",
    "# 'path' column in descending order\n",
    "q2_fsj_html_css_groupby = q2_fsj_html_css.groupby('cohort')['path'].count()\n",
    "q2_fsj_html_css_groupby"
   ]
  },
  {
   "cell_type": "code",
   "execution_count": null,
   "id": "a7c854c5-5c6e-432b-ab8b-21d0bb083f02",
   "metadata": {},
   "outputs": [],
   "source": [
    "# assigns name to series\n",
    "q2_fsj_html_css_groupby.name = 'html_css'"
   ]
  },
  {
   "cell_type": "code",
   "execution_count": null,
   "id": "09d227f5-8cc2-4997-8273-517e159ea136",
   "metadata": {},
   "outputs": [],
   "source": [
    "# groups the 'cohort' column by the number of corresponding values in the \n",
    "# 'path' column in descending order\n",
    "q2_fsj_java_ii_groupby = q2_fsj_java_ii.groupby('cohort')['path'].count()\n",
    "q2_fsj_java_ii_groupby"
   ]
  },
  {
   "cell_type": "code",
   "execution_count": null,
   "id": "76f4a8b4-6c9e-4c9c-a293-07da5192859a",
   "metadata": {},
   "outputs": [],
   "source": [
    "# assigns name to series\n",
    "q2_fsj_java_ii_groupby.name = 'java_ii'"
   ]
  },
  {
   "cell_type": "code",
   "execution_count": null,
   "id": "7aeb594d-ed11-446b-b8fd-4717a783ed03",
   "metadata": {},
   "outputs": [],
   "source": [
    "# groups the 'cohort' column by the number of corresponding values in the \n",
    "# 'path' column in descending order\n",
    "q2_fsj_jquery_groupby = q2_fsj_jquery.groupby('cohort')['path'].count()\n",
    "q2_fsj_jquery_groupby"
   ]
  },
  {
   "cell_type": "code",
   "execution_count": null,
   "id": "a957adf4-3a91-4163-956e-6d5d7f2f2c0a",
   "metadata": {},
   "outputs": [],
   "source": [
    "# assigns name to series\n",
    "q2_fsj_jquery_groupby.name = 'jquery'"
   ]
  },
  {
   "cell_type": "code",
   "execution_count": null,
   "id": "c7b75173-cccc-45f3-96fc-9a49f7dfa435",
   "metadata": {},
   "outputs": [],
   "source": [
    "# groups the 'cohort' column by the number of corresponding values in the \n",
    "# 'path' column in descending order\n",
    "q2_fsj_mysql_groupby = q2_fsj_mysql.groupby('cohort')['path'].count()\n",
    "q2_fsj_mysql_groupby"
   ]
  },
  {
   "cell_type": "code",
   "execution_count": null,
   "id": "a3fef94e-bcce-4ade-8214-4f5536c44de7",
   "metadata": {},
   "outputs": [],
   "source": [
    "# assigns name to series\n",
    "q2_fsj_mysql_groupby.name = 'mysql'"
   ]
  },
  {
   "cell_type": "code",
   "execution_count": null,
   "id": "3dc49389-1531-4d0c-8c95-aea45632ffbd",
   "metadata": {},
   "outputs": [],
   "source": [
    "# groups the 'cohort' column by the number of corresponding values in the \n",
    "# 'path' column in descending order\n",
    "q2_fsj_spring_groupby = q2_fsj_spring.groupby('cohort')['path'].count()\n",
    "q2_fsj_spring_groupby"
   ]
  },
  {
   "cell_type": "code",
   "execution_count": null,
   "id": "55221d68-bfad-4bc1-b0dc-7bd5aa312a00",
   "metadata": {},
   "outputs": [],
   "source": [
    "# assigns name to series\n",
    "q2_fsj_spring_groupby.name = 'spring'"
   ]
  },
  {
   "cell_type": "code",
   "execution_count": null,
   "id": "9121cd97-b23d-49d3-ba3d-b650aaa4fd9c",
   "metadata": {},
   "outputs": [],
   "source": [
    "# groups the 'cohort' column by the number of corresponding values in the \n",
    "# 'path' column in descending order\n",
    "q2_fsj_slides_groupby = q2_fsj_slides.groupby('cohort')['path'].count()\n",
    "q2_fsj_slides_groupby"
   ]
  },
  {
   "cell_type": "code",
   "execution_count": null,
   "id": "1e56c5d3-0d5f-4c2b-80a5-85305df451a5",
   "metadata": {},
   "outputs": [],
   "source": [
    "# assigns name to series\n",
    "q2_fsj_slides_groupby.name = 'slides'"
   ]
  },
  {
   "cell_type": "code",
   "execution_count": null,
   "id": "075672fe-51f0-4449-97a9-c3903ae9a7e5",
   "metadata": {},
   "outputs": [],
   "source": [
    "# groups the 'cohort' column by the number of corresponding values in the \n",
    "# 'path' column in descending order\n",
    "q2_fsj_web_design_groupby = q2_fsj_web_design.groupby('cohort')['path'].count()\n",
    "q2_fsj_web_design_groupby"
   ]
  },
  {
   "cell_type": "code",
   "execution_count": null,
   "id": "a8c4c0ec-8da4-4874-b7cd-f94d9e976ee1",
   "metadata": {},
   "outputs": [],
   "source": [
    "# assigns name to series\n",
    "q2_fsj_web_design_groupby.name = 'web_design'"
   ]
  },
  {
   "cell_type": "code",
   "execution_count": null,
   "id": "765e3b3b-9213-46af-9d6b-627f57b467ad",
   "metadata": {},
   "outputs": [],
   "source": [
    "# list of names of ds series groupbys\n",
    "q2_ds_lesson_dfs_groupby = [q2_ds_fundamentals_groupby, q2_ds_classification_groupby, q2_ds_sql_groupby,\n",
    "                    q2_ds_regression_groupby, q2_ds_anomaly_detection_groupby, q2_ds_python_groupby,\n",
    "                    q2_ds_stats_groupby, q2_ds_clustering_groupby, q2_ds_storytelling_groupby, \n",
    "                    q2_ds_timeseries_groupby, q2_ds_nlp_groupby, q2_ds_distributed_ml_groupby, \n",
    "                    q2_ds_advanced_topics_groupby]"
   ]
  },
  {
   "cell_type": "code",
   "execution_count": null,
   "id": "9efc4469-fda8-406e-bf49-a94b765be00b",
   "metadata": {
    "tags": []
   },
   "outputs": [],
   "source": [
    "q2_ds_combined_lessons = pd.concat(q2_ds_lesson_dfs_groupby, axis=1)\n",
    "q2_ds_combined_lessons"
   ]
  },
  {
   "cell_type": "markdown",
   "id": "a904533e-68fa-4934-af57-0da830866f02",
   "metadata": {},
   "source": [
    "Stacked barplot of the Full Stack Java cohort's lesson"
   ]
  },
  {
   "cell_type": "code",
   "execution_count": null,
   "id": "7bcfaae8-1fab-4d5e-9046-d6530a3bbf0b",
   "metadata": {},
   "outputs": [],
   "source": [
    "# Plots a barplot of number of entries for all Full Stack Java cohorts\n",
    "plt.figure(figsize=(20, 16))\n",
    "q2_ds_combined_lessons.plot.bar(stacked=True)\n",
    "plt.legend(bbox_to_anchor=(1.02, 1), loc='upper left', borderaxespad=0)\n",
    "plt.xticks(rotation = 90)\n",
    "plt.title(\"Lessons Accessed Per Full Stack Java Cohort\")\n",
    "plt.show()"
   ]
  },
  {
   "cell_type": "markdown",
   "id": "09cfdc67-5132-42d2-98f1-376392a56846",
   "metadata": {},
   "source": [
    "##### The counts for top 2 cohorts for each set of lessons for Data Science"
   ]
  },
  {
   "cell_type": "code",
   "execution_count": null,
   "id": "68a58f02-54c7-4e58-acf7-8ef18ccccc85",
   "metadata": {},
   "outputs": [],
   "source": [
    "# prints out the names and numbers of the top 2 cohort for each ds lesson set\n",
    "for group in q2_ds_lesson_dfs_groupby:\n",
    "    print(group.nlargest(2))"
   ]
  },
  {
   "cell_type": "code",
   "execution_count": null,
   "id": "55b88abc-c0c1-49fb-8642-9e4ff96472ad",
   "metadata": {},
   "outputs": [],
   "source": [
    "# list of names of fsj series groupbys\n",
    "q2_fsj_lesson_dfs_groupby = [q2_fsj_javascript_i_groupby, q2_fsj_java_iii_groupby, q2_fsj_html_css_groupby\n",
    "                     , q2_fsj_java_ii_groupby, q2_fsj_jquery_groupby, q2_fsj_mysql_groupby, \n",
    "                     q2_fsj_spring_groupby, q2_fsj_slides_groupby, q2_fsj_web_design_groupby]"
   ]
  },
  {
   "cell_type": "code",
   "execution_count": null,
   "id": "a26a4451-a55e-4200-b67e-880d552d512a",
   "metadata": {},
   "outputs": [],
   "source": [
    "q2_fsj_combined_lessons = pd.concat(q2_fsj_lesson_dfs_groupby, axis=1)\n",
    "q2_fsj_combined_lessons"
   ]
  },
  {
   "cell_type": "code",
   "execution_count": null,
   "id": "965d4596-8a44-4d53-840f-e9e0d39de31c",
   "metadata": {},
   "outputs": [],
   "source": [
    "# Plots a barplot of number of entries for all Full Stack Java cohorts\n",
    "plt.figure(figsize=(20, 16))\n",
    "q2_fsj_combined_lessons.plot.bar(stacked=True)\n",
    "plt.legend(bbox_to_anchor=(1.02, 1), loc='upper left', borderaxespad=0)\n",
    "plt.xticks(rotation = 90)\n",
    "plt.title(\"Lessons Accessed Per Data Science Cohort\")\n",
    "plt.show()"
   ]
  },
  {
   "cell_type": "markdown",
   "id": "97988235-612f-4643-9e38-d4bcca01d207",
   "metadata": {},
   "source": [
    "##### The counts for top 2 cohorts for each set of lessons for Full Stack Java"
   ]
  },
  {
   "cell_type": "code",
   "execution_count": null,
   "id": "9a7abc12-41d9-4c54-822e-3c524bb7a47e",
   "metadata": {},
   "outputs": [],
   "source": [
    "# prints out the names and numbers of the top 2 cohort for each fsj lesson set\n",
    "for group in q2_fsj_lesson_dfs_groupby:\n",
    "    print(group.nlargest(2))"
   ]
  },
  {
   "cell_type": "markdown",
   "id": "a6772d0b-fe7f-42db-a1a7-fbe6f1be4241",
   "metadata": {},
   "source": [
    "##### Percentage of top set of lessons per Full Stack Javascript cohort over next highest"
   ]
  },
  {
   "cell_type": "code",
   "execution_count": null,
   "id": "90b25843-7420-4e8d-86fa-3d2eea69b199",
   "metadata": {},
   "outputs": [],
   "source": [
    "# percentage higher of the max value compared to the second highest\n",
    "q2_ds_fundamentals_percentage = round(((q2_ds_fundamentals_groupby.sort_values(ascending=False)[0]/q2_ds_fundamentals_groupby.sort_values(ascending=False)[1])-1)*100, 2)\n",
    "q2_ds_fundamentals_percentage"
   ]
  },
  {
   "cell_type": "code",
   "execution_count": null,
   "id": "ac704feb-5039-4e68-af5b-257e541bc793",
   "metadata": {},
   "outputs": [],
   "source": [
    "# percentage higher of the max value compared to the second highest\n",
    "q2_ds_classification_percentage = round(((q2_ds_classification_groupby.sort_values(ascending=False)[0]/q2_ds_classification_groupby.sort_values(ascending=False)[1])-1)*100, 2)\n",
    "q2_ds_classification_percentage"
   ]
  },
  {
   "cell_type": "code",
   "execution_count": null,
   "id": "d041d9af-164e-45e9-b29d-97e45bd8f936",
   "metadata": {},
   "outputs": [],
   "source": [
    "# percentage higher of the max value compared to the second highest\n",
    "q2_ds_sql_percentage = round(((q2_ds_sql_groupby.sort_values(ascending=False)[0]/q2_ds_sql_groupby.sort_values(ascending=False)[1])-1)*100, 2)\n",
    "q2_ds_sql_percentage"
   ]
  },
  {
   "cell_type": "code",
   "execution_count": null,
   "id": "e011a7a8-ece4-423a-9831-7569c017218f",
   "metadata": {},
   "outputs": [],
   "source": [
    "# percentage higher of the max value compared to the second highest\n",
    "q2_ds_regression_percentage = round(((q2_ds_regression_groupby.sort_values(ascending=False)[0]/q2_ds_regression_groupby.sort_values(ascending=False)[1])-1)*100, 2)\n",
    "q2_ds_regression_percentage"
   ]
  },
  {
   "cell_type": "code",
   "execution_count": null,
   "id": "742190a7-83de-4d59-98b0-780f9059c2a4",
   "metadata": {},
   "outputs": [],
   "source": [
    "# percentage higher of the max value compared to the second highest\n",
    "q2_ds_anomaly_detection_percentage = round(((q2_ds_anomaly_detection_groupby.sort_values(ascending=False)[0]/q2_ds_anomaly_detection_groupby.sort_values(ascending=False)[1])-1)*100, 2)\n",
    "q2_ds_anomaly_detection_percentage"
   ]
  },
  {
   "cell_type": "code",
   "execution_count": null,
   "id": "8d48ee32-d9c7-477a-8584-6747443199de",
   "metadata": {},
   "outputs": [],
   "source": [
    "# percentage higher of the max value compared to the second highest\n",
    "q2_ds_python_percentage = round(((q2_ds_python_groupby.sort_values(ascending=False)[0]/q2_ds_python_groupby.sort_values(ascending=False)[1])-1)*100, 2)\n",
    "q2_ds_python_percentage"
   ]
  },
  {
   "cell_type": "code",
   "execution_count": null,
   "id": "efb0195e-be1a-48de-9525-d6cd624e86c5",
   "metadata": {},
   "outputs": [],
   "source": [
    "# percentage higher of the max value compared to the second highest\n",
    "q2_ds_stats_percentage = round(((q2_ds_stats_groupby.sort_values(ascending=False)[0]/q2_ds_stats_groupby.sort_values(ascending=False)[1])-1)*100, 2)\n",
    "q2_ds_stats_percentage"
   ]
  },
  {
   "cell_type": "code",
   "execution_count": null,
   "id": "2f9b5a1e-6801-430b-a584-b1e6dd64be59",
   "metadata": {},
   "outputs": [],
   "source": [
    "# percentage higher of the max value compared to the second highest\n",
    "q2_ds_clustering_percentage = round(((q2_ds_clustering_groupby.sort_values(ascending=False)[0]/q2_ds_clustering_groupby.sort_values(ascending=False)[1])-1)*100, 2)\n",
    "q2_ds_clustering_percentage"
   ]
  },
  {
   "cell_type": "code",
   "execution_count": null,
   "id": "82cfb71b-6599-4e84-b11b-a2a5bc1816e6",
   "metadata": {},
   "outputs": [],
   "source": [
    "# percentage higher of the max value compared to the second highest\n",
    "q2_ds_storytelling_percentage = round(((q2_ds_storytelling_groupby.sort_values(ascending=False)[0]/q2_ds_storytelling_groupby.sort_values(ascending=False)[1])-1)*100, 2)\n",
    "q2_ds_storytelling_percentage"
   ]
  },
  {
   "cell_type": "code",
   "execution_count": null,
   "id": "cfedda9d-23ca-4d8f-bfa1-b480303b1bb3",
   "metadata": {},
   "outputs": [],
   "source": [
    "# percentage higher of the max value compared to the second highest\n",
    "q2_ds_timeseries_percentage = round(((q2_ds_timeseries_groupby.sort_values(ascending=False)[0]/q2_ds_timeseries_groupby.sort_values(ascending=False)[1])-1)*100, 2)\n",
    "q2_ds_timeseries_percentage"
   ]
  },
  {
   "cell_type": "code",
   "execution_count": null,
   "id": "e0013311-4cc6-4459-9cc3-331725ce6636",
   "metadata": {},
   "outputs": [],
   "source": [
    "# percentage higher of the max value compared to the second highest\n",
    "q2_ds_nlp_percentage = round(((q2_ds_nlp_groupby.sort_values(ascending=False)[0]/q2_ds_nlp_groupby.sort_values(ascending=False)[1])-1)*100, 2)\n",
    "q2_ds_nlp_percentage"
   ]
  },
  {
   "cell_type": "code",
   "execution_count": null,
   "id": "df7216e4-de0e-4742-8425-9bad4c1c7a77",
   "metadata": {},
   "outputs": [],
   "source": [
    "# percentage higher of the max value compared to the second highest\n",
    "q2_ds_distributed_ml_percentage = round(((q2_ds_distributed_ml_groupby.sort_values(ascending=False)[0]/q2_ds_distributed_ml_groupby.sort_values(ascending=False)[1])-1)*100, 2)\n",
    "q2_ds_distributed_ml_percentage"
   ]
  },
  {
   "cell_type": "code",
   "execution_count": null,
   "id": "2567b749-b93e-456f-839a-c552f61e9110",
   "metadata": {
    "tags": []
   },
   "outputs": [],
   "source": [
    "# percentage higher of the max value compared to the second highest\n",
    "q2_ds_advanced_topics_percentage = round(((q2_ds_advanced_topics_groupby.sort_values(ascending=False)[0]/q2_ds_advanced_topics_groupby.sort_values(ascending=False)[1])-1)*100, 2)\n",
    "q2_ds_advanced_topics_percentage"
   ]
  },
  {
   "cell_type": "markdown",
   "id": "ecbb5f5d-c7b1-422b-bbdc-784b4eb7fcf0",
   "metadata": {},
   "source": [
    "##### Percentage of top set of lessons per Full Stack Javascript cohort over next highest"
   ]
  },
  {
   "cell_type": "code",
   "execution_count": null,
   "id": "d4ce6b36-7e39-48f1-9896-b976f4c03ecb",
   "metadata": {},
   "outputs": [],
   "source": [
    "# Percentage higher of the max value compared to the second highest\n",
    "q2_fsj_javascript_i_percentage = round(((q2_fsj_javascript_i_groupby.sort_values(ascending=False)[0]/q2_fsj_javascript_i_groupby.sort_values(ascending=False)[1])-1)*100, 2)\n",
    "q2_fsj_javascript_i_percentage"
   ]
  },
  {
   "cell_type": "code",
   "execution_count": null,
   "id": "6b3da188-ccb4-498f-8678-a387440ba95b",
   "metadata": {},
   "outputs": [],
   "source": [
    "# Percentage higher of the max value compared to the second highest\n",
    "q2_fsj_java_iii_percentage = round(((q2_fsj_java_iii_groupby.sort_values(ascending=False)[0]/q2_fsj_java_iii_groupby.sort_values(ascending=False)[1])-1)*100, 2)\n",
    "q2_fsj_java_iii_percentage"
   ]
  },
  {
   "cell_type": "code",
   "execution_count": null,
   "id": "e1977cc6-dcbd-4736-856b-1ca4f47f63b2",
   "metadata": {},
   "outputs": [],
   "source": [
    "# Percentage higher of the max value compared to the second highest\n",
    "q2_fsj_html_css_percentage = round(((q2_fsj_html_css_groupby.sort_values(ascending=False)[0]/q2_fsj_html_css_groupby.sort_values(ascending=False)[1])-1)*100, 2)\n",
    "q2_fsj_html_css_percentage"
   ]
  },
  {
   "cell_type": "code",
   "execution_count": null,
   "id": "8c276940-3086-4818-aeab-6ad0e0186e01",
   "metadata": {},
   "outputs": [],
   "source": [
    "# Percentage higher of the max value compared to the second highest\n",
    "q2_fsj_java_ii_percentage = round(((q2_fsj_java_ii_groupby.sort_values(ascending=False)[0]/q2_fsj_java_ii_groupby.sort_values(ascending=False)[1])-1)*100, 2)\n",
    "q2_fsj_java_ii_percentage"
   ]
  },
  {
   "cell_type": "code",
   "execution_count": null,
   "id": "2e6561bd-8b44-4a3b-a4b1-7620b9357c4d",
   "metadata": {},
   "outputs": [],
   "source": [
    "# Percentage higher of the max value compared to the second highest\n",
    "q2_fsj_jquery_percentage = round(((q2_fsj_jquery_groupby.sort_values(ascending=False)[0]/q2_fsj_jquery_groupby.sort_values(ascending=False)[1])-1)*100, 2)\n",
    "q2_fsj_jquery_percentage"
   ]
  },
  {
   "cell_type": "code",
   "execution_count": null,
   "id": "60408933-50e8-4f58-9760-a9b992e50542",
   "metadata": {},
   "outputs": [],
   "source": [
    "# Percentage higher of the max value compared to the second highest\n",
    "q2_fsj_mysql_percentage = round(((q2_fsj_mysql_groupby.sort_values(ascending=False)[0]/q2_fsj_mysql_groupby.sort_values(ascending=False)[1])-1)*100, 2)\n",
    "q2_fsj_mysql_percentage"
   ]
  },
  {
   "cell_type": "code",
   "execution_count": null,
   "id": "1e106118-eed8-4f2a-93e0-c15560c63fdd",
   "metadata": {},
   "outputs": [],
   "source": [
    "# Percentage higher of the max value compared to the second highest\n",
    "q2_fsj_spring_percentage = round(((q2_fsj_spring_groupby.sort_values(ascending=False)[0]/q2_fsj_spring_groupby.sort_values(ascending=False)[1])-1)*100, 2)\n",
    "q2_fsj_spring_percentage"
   ]
  },
  {
   "cell_type": "code",
   "execution_count": null,
   "id": "52ca5f7e-042b-4f24-9019-a3c9c8afe7c7",
   "metadata": {},
   "outputs": [],
   "source": [
    "# Percentage higher of the max value compared to the second highest\n",
    "q2_fsj_slides_percentage = round(((q2_fsj_slides_groupby.sort_values(ascending=False)[0]/q2_fsj_slides_groupby.sort_values(ascending=False)[1])-1)*100, 2)\n",
    "q2_fsj_slides_percentage"
   ]
  },
  {
   "cell_type": "code",
   "execution_count": null,
   "id": "09f240e2-54ef-4a37-9e1c-b5f83554233f",
   "metadata": {},
   "outputs": [],
   "source": [
    "# Percentage higher of the max value compared to the second highest\n",
    "q2_fsj_web_design_percentage = round(((q2_fsj_web_design_groupby.sort_values(ascending=False)[0]/q2_fsj_web_design_groupby.sort_values(ascending=False)[1])-1)*100, 2)\n",
    "q2_fsj_web_design_percentage"
   ]
  },
  {
   "cell_type": "markdown",
   "id": "b01834f8-fe3e-491d-ae80-4f9b50967878",
   "metadata": {},
   "source": [
    "#### Key Takeaways"
   ]
  },
  {
   "cell_type": "markdown",
   "id": "9ca36082-20b6-4e2c-85f2-78b9aaf645cc",
   "metadata": {},
   "source": [
    "The Data Science cohorts with the highest lesson referrals compared to the next highest cohort are as follows:\n",
    "- Darden\n",
    "    - 73.60% for Classification\n",
    "    - 55.56% for SQL\n",
    "    - 36.70% for Anomaly Detection\n",
    "- Bayes\n",
    "    - 36.27% for Advanced Topics"
   ]
  },
  {
   "cell_type": "markdown",
   "id": "15f9a33a-fb90-4f5f-8972-27c3f3b62a70",
   "metadata": {},
   "source": [
    "The Full Stack Java cohorts with the highest lesson referrals compared to the next highest cohort are as follows:\n",
    "- Ceres\n",
    "    - 42.96% for HTML-CSS\n",
    "- Jupiter\n",
    "    - 26.5% for Java II"
   ]
  },
  {
   "cell_type": "code",
   "execution_count": null,
   "id": "ae0ce23e-5542-4548-ab6d-9d81c4faa710",
   "metadata": {},
   "outputs": [],
   "source": [
    "# Assigns a variable to a list of the differences in percentages between the top 2 cohorts for each lesson\n",
    "q2_ds_lesson_percentages = [q2_ds_fundamentals_percentage, q2_ds_classification_percentage, \n",
    "                            q2_ds_sql_percentage, q2_ds_regression_percentage, q2_ds_anomaly_detection_percentage,\n",
    "                            q2_ds_python_percentage, q2_ds_stats_percentage, q2_ds_clustering_percentage, \n",
    "                            q2_ds_storytelling_percentage, q2_ds_timeseries_percentage, q2_ds_nlp_percentage, \n",
    "                            q2_ds_distributed_ml_percentage, q2_ds_advanced_topics_percentage]"
   ]
  },
  {
   "cell_type": "code",
   "execution_count": null,
   "id": "7c148c7b-8297-4cbb-9255-8abcca920c14",
   "metadata": {},
   "outputs": [],
   "source": [
    "# Assigns a variable to a list of the differences in percentages between the top 2 cohorts for each lesson\n",
    "q2_fsj_lesson_percentages = [q2_fsj_javascript_i_percentage, q2_fsj_java_iii_percentage, \n",
    "                             q2_fsj_html_css_percentage, q2_fsj_java_ii_percentage, q2_fsj_jquery_percentage,\n",
    "                             q2_fsj_mysql_percentage, q2_fsj_spring_percentage, q2_fsj_slides_percentage, \n",
    "                             q2_fsj_web_design_percentage]"
   ]
  },
  {
   "cell_type": "code",
   "execution_count": null,
   "id": "9fcdb5a1-b3ea-4c49-ba83-24235740a13a",
   "metadata": {},
   "outputs": [],
   "source": [
    "# Assigns a variable to a series converted from a list of the differences in \n",
    "# percentages between the top 2 cohorts for each lesson\n",
    "ds_upper_bound_and_max = pd.Series(q2_ds_lesson_percentages)\n",
    "\n",
    "# assigns a name to the series\n",
    "ds_upper_bound_and_max.name = 'data_science_cohorts'"
   ]
  },
  {
   "cell_type": "code",
   "execution_count": null,
   "id": "0f76d8bf-e9c2-4456-92d4-2765fa9080be",
   "metadata": {},
   "outputs": [],
   "source": [
    "# Assigns a variable to a series converted from a list of the differences in \n",
    "# percentages between the top 2 cohorts for each lesson\n",
    "fsj_upper_bound_and_max = pd.Series(q2_fsj_lesson_percentages)\n",
    "\n",
    "# assigns a name to the series\n",
    "fsj_upper_bound_and_max.name = 'full_stack_java_cohorts'"
   ]
  },
  {
   "cell_type": "code",
   "execution_count": null,
   "id": "0aa3ebee-0691-488f-b669-4806d67f75f1",
   "metadata": {},
   "outputs": [],
   "source": [
    "# Gets the upper bound and difference from max of a series based on the InterQuartile Range\n",
    "# and a multiplier. Default multiplier is 1.5\n",
    "q2_ds_iqr = e.get_upper_bound_and_difference(ds_upper_bound_and_max)"
   ]
  },
  {
   "cell_type": "code",
   "execution_count": null,
   "id": "f1b65a47-7764-414e-af92-119d82ee6093",
   "metadata": {},
   "outputs": [],
   "source": [
    "# Gets the upper bound and difference from max of a series based on the InterQuartile Range\n",
    "# and a multiplier. Default multiplier is 1.5\n",
    "q2_fsj_iqr = e.get_upper_bound_and_difference(fsj_upper_bound_and_max)"
   ]
  },
  {
   "cell_type": "markdown",
   "id": "72ffe0c2-3e62-4c4d-9b80-37558331cf6c",
   "metadata": {},
   "source": [
    "#### Key Takeaways"
   ]
  },
  {
   "cell_type": "markdown",
   "id": "c38ec47f-1bdd-4f08-9ca6-dd21200ff104",
   "metadata": {},
   "source": [
    "- Using the Interquartile Range Rule the Darden Data Science cohort falls just within the upper bound of 74.85% compared to their 73.60%\n",
    "- Using the Interquartile Range Rule the Ceres Full Stack Java cohort also falls within the upper bound of 52.66% compared to their 42.96%"
   ]
  },
  {
   "cell_type": "markdown",
   "id": "b2b1ed98-10f6-4b72-bace-0ebea15f0955",
   "metadata": {},
   "source": [
    "### Second Interpretation\n",
    " - Using IQR on the whole set instead of top two cohorts"
   ]
  },
  {
   "cell_type": "code",
   "execution_count": null,
   "id": "6fc933b3-cb1f-4b44-8bce-abb8f863be02",
   "metadata": {},
   "outputs": [],
   "source": [
    "# Gets the upper bound and its difference from the max of a series based on the \n",
    "# InterQuartile Range and a multiplier. Default multiplier is 1.5\n",
    "for lesson in q2_ds_lesson_dfs_groupby:\n",
    "    e.get_upper_bound_and_difference(lesson)"
   ]
  },
  {
   "cell_type": "code",
   "execution_count": null,
   "id": "ccfd0cde-bad4-42d2-9f09-26dccd2d39a5",
   "metadata": {},
   "outputs": [],
   "source": [
    "# Gets the upper bound and its difference from the max of a series based on the \n",
    "# InterQuartile Range and a multiplier. Default multiplier is 1.5\n",
    "for group in q2_fsj_lesson_dfs_groupby:\n",
    "    e.get_upper_bound_and_difference(group)"
   ]
  },
  {
   "cell_type": "code",
   "execution_count": null,
   "id": "6475a971-4511-43e4-87d7-78119c8ff1a1",
   "metadata": {
    "tags": []
   },
   "outputs": [],
   "source": [
    "# Average of the sum of all values excluding the max\n",
    "q2_ds_sql_under_max_avg = (q2_ds_sql_groupby.sum()-q2_ds_sql_groupby.max())/(len(q2_fsj_html_css_groupby)-1)"
   ]
  },
  {
   "cell_type": "code",
   "execution_count": null,
   "id": "421ec171-03bb-4785-aaaa-fd8d888246ea",
   "metadata": {
    "tags": []
   },
   "outputs": [],
   "source": [
    "# Max value for a cohort for these lessons\n",
    "q2_ds_sql_max = q2_ds_sql_groupby.max()"
   ]
  },
  {
   "cell_type": "code",
   "execution_count": null,
   "id": "a2f76b96-9288-4f4b-9b05-9785859481b6",
   "metadata": {},
   "outputs": [],
   "source": [
    "# Returns percentage difference of the max value compared to the average of the rest\n",
    "q2_ds_sql_percentage_difference = round((q2_ds_sql_max/q2_ds_sql_under_max_avg*100), 2)\n",
    "q2_ds_sql_percentage_difference"
   ]
  },
  {
   "cell_type": "markdown",
   "id": "ee8efa7b-c7fc-44fb-8aa9-14a6f7c423eb",
   "metadata": {},
   "source": [
    "#### Key Takeaways"
   ]
  },
  {
   "cell_type": "markdown",
   "id": "dda9ac7e-aead-48a0-88fc-45ac92578061",
   "metadata": {},
   "source": [
    "It shows the following Data Science lesson was referred to above the 1.5 IQR Upper Bound:\n",
    "- SQL at 701.5 above the Upper bound with a 996.28% difference compared to average of rest of cohorts.\n",
    "- While at 55.56% this Darden cohort may have been lower percentage-wise then its next immediate cohort, Curie, it's a more significant difference in comparison to all other cohorts referring to their respective lessons"
   ]
  },
  {
   "cell_type": "markdown",
   "id": "29760b4f-e250-4a21-a975-152ee717606d",
   "metadata": {},
   "source": [
    "It shows the following Full Stack Java lessons were referred to above the 1.5 IQR Upper Bound:\n",
    "- HTML-CSS for Ceres, at 523.38, a 207.34% difference compared to average of rest of cohorts.\n",
    "- JQuery for Ceres, at 64.75, a 170.93% difference compared to average of rest of cohorts.\n",
    "- Slides for Teddy, at 1511.62, a 871.26% difference compared to average of rest of cohorts.\n",
    "- While at 42.96% the Ceres cohort may have been under the 1.5 IQR percentage-wise when comparing the next highest cohort to the top cohort for each lesson, the Teddy cohort comes out on top when comparing the average of the rest of the cohorts when referring to the \"Slides\" lessons."
   ]
  },
  {
   "cell_type": "code",
   "execution_count": null,
   "id": "2e8af1bc-b7f8-42c7-9fc6-caa45b169397",
   "metadata": {
    "tags": []
   },
   "outputs": [],
   "source": [
    "# Average of the sum of all values excluding the max\n",
    "q2_fsj_html_css_under_max_avg = (q2_fsj_html_css_groupby.sum()-q2_fsj_html_css_groupby.max())/(len(q2_fsj_html_css_groupby)-1)"
   ]
  },
  {
   "cell_type": "code",
   "execution_count": null,
   "id": "dc6219eb-5165-4bac-a2bd-95a2334ae1f1",
   "metadata": {
    "tags": []
   },
   "outputs": [],
   "source": [
    "# Max value for a cohort for these lessons\n",
    "q2_fsj_html_css_max = q2_fsj_html_css_groupby.max()"
   ]
  },
  {
   "cell_type": "markdown",
   "id": "4092c1de-c257-4841-9f81-8484af804786",
   "metadata": {},
   "source": [
    "Final percentage difference for the max vs the average of the rest for the \"HTML-CSS\" lessons"
   ]
  },
  {
   "cell_type": "code",
   "execution_count": null,
   "id": "49dd49a6-e47a-4640-b118-eef7c69ebe0a",
   "metadata": {},
   "outputs": [],
   "source": [
    "# Returns percentage difference of the max value compared to the average of the rest\n",
    "q2_fsj_html_css_percentage_difference = round((q2_fsj_html_css_max/q2_fsj_html_css_under_max_avg*100), 2)\n",
    "q2_fsj_html_css_percentage_difference"
   ]
  },
  {
   "cell_type": "code",
   "execution_count": null,
   "id": "440a9e9b-bc4f-408f-85e7-a002f454f288",
   "metadata": {},
   "outputs": [],
   "source": [
    "# Average of the sum of all values excluding the max\n",
    "q2_fsj_jquery_under_max_avg = (q2_fsj_jquery_groupby.sum()-q2_fsj_jquery_groupby.max())/(len(q2_fsj_jquery_groupby)-1)"
   ]
  },
  {
   "cell_type": "code",
   "execution_count": null,
   "id": "885c2e64-4258-4ddd-9524-1841c96e9161",
   "metadata": {
    "tags": []
   },
   "outputs": [],
   "source": [
    "# max value for a cohort oor these lessons\n",
    "q2_fsj_jquery_max = q2_fsj_jquery_groupby.max()"
   ]
  },
  {
   "cell_type": "markdown",
   "id": "177cd2e7-b6f0-4c4b-9552-9a5e4587c3b4",
   "metadata": {},
   "source": [
    "Final percentage difference for the max vs the average of the rest for the \"JQuery\" lessons"
   ]
  },
  {
   "cell_type": "code",
   "execution_count": null,
   "id": "e1279c10-56e2-49c5-9d5e-c4677a3c5525",
   "metadata": {},
   "outputs": [],
   "source": [
    "# Returns percentage difference of the max value compared to the average of the rest\n",
    "q2_fsj_jquery_difference = round((q2_fsj_jquery_max/q2_fsj_jquery_under_max_avg*100), 2)\n",
    "q2_fsj_jquery_difference"
   ]
  },
  {
   "cell_type": "code",
   "execution_count": null,
   "id": "20b8ee2f-8836-4868-b98d-a2901138bcda",
   "metadata": {},
   "outputs": [],
   "source": [
    "# Average of the sum of all values excluding the max\n",
    "q2_fsj_slides_under_max_avg = (q2_fsj_slides_groupby.sum()-q2_fsj_slides_groupby.max())/(len(q2_fsj_slides_groupby)-1)"
   ]
  },
  {
   "cell_type": "code",
   "execution_count": null,
   "id": "e03dcb61-f235-4d92-b3bf-afae3d03b41b",
   "metadata": {
    "tags": []
   },
   "outputs": [],
   "source": [
    "# Max value for a cohort for these lessons\n",
    "q2_fsj_slides_max = q2_fsj_slides_groupby.max()"
   ]
  },
  {
   "cell_type": "markdown",
   "id": "12d484b3-6950-4199-994e-38332c1e1302",
   "metadata": {},
   "source": [
    "Final percentage difference for the max vs the average of the rest for the \"Slides\" lessons"
   ]
  },
  {
   "cell_type": "code",
   "execution_count": null,
   "id": "ffc5722d-1f76-416e-a931-c4d4eb545b38",
   "metadata": {},
   "outputs": [],
   "source": [
    "# Returns percentage difference of the max value compared to the average of the rest\n",
    "q2_fsj_slides_difference = round((q2_fsj_slides_max/q2_fsj_slides_under_max_avg*100), 2)\n",
    "q2_fsj_slides_difference"
   ]
  },
  {
   "cell_type": "markdown",
   "id": "62650eba-a578-4f0b-ae5c-4844f26ab6bf",
   "metadata": {
    "tags": []
   },
   "source": [
    "# Q2. Summary of Takeaways\n",
    "- Question 2. *\"Is there a cohort that referred to a lesson significantly more than other cohorts seemed to gloss over?\"*\n",
    "- If applying the Interquartile Range (IQR) Rule to the difference in the percentages between the top cohort and it's runner-up for each set of lessons, none of them fall above the upper bound of the IQR.\n",
    "- However when using the IQR to for the top cohort in comparison to the rest of the cohorts as a whole then for the **Teddy** cohort from the **Full Stack Java** program beats out the rest with the **\"Slides\"** lessons, and the **Darden** cohort from the **Data Science** program beats out the rest with the **\"SQL\"** lessons.\n"
   ]
  },
  {
   "cell_type": "code",
   "execution_count": null,
   "id": "5bd410be-fac5-467c-be03-df16144c9bf5",
   "metadata": {},
   "outputs": [],
   "source": []
  }
 ],
 "metadata": {
  "kernelspec": {
   "display_name": "Python 3 (ipykernel)",
   "language": "python",
   "name": "python3"
  },
  "language_info": {
   "codemirror_mode": {
    "name": "ipython",
    "version": 3
   },
   "file_extension": ".py",
   "mimetype": "text/x-python",
   "name": "python",
   "nbconvert_exporter": "python",
   "pygments_lexer": "ipython3",
   "version": "3.9.7"
  }
 },
 "nbformat": 4,
 "nbformat_minor": 5
}
