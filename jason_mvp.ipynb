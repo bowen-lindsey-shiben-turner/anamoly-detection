{
 "cells": [
  {
   "cell_type": "markdown",
   "id": "f90359a5-c627-4487-9d21-350f5532faa7",
   "metadata": {},
   "source": [
    "# Team Project - Anomaly Detection"
   ]
  },
  {
   "cell_type": "code",
   "execution_count": 1,
   "id": "4a51e777-cf08-4c2c-99bc-44ac3cb99da4",
   "metadata": {},
   "outputs": [],
   "source": [
    "# Libraries\n",
    "import pandas as pd\n",
    "import numpy as np\n",
    "\n",
    "# Wrangling\n",
    "import acquire as a\n",
    "import prepare as p\n",
    "\n",
    "# Exploration/Visualizing\n",
    "import matplotlib.pyplot as plt\n",
    "import seaborn as sns\n",
    "import explore as e\n",
    "from IPython.core import display as ICD\n",
    "\n",
    "from env import get_db_url\n"
   ]
  },
  {
   "cell_type": "markdown",
   "id": "e2ce0a06-ae08-4661-bc77-7d194be27431",
   "metadata": {},
   "source": [
    "## Acquire\n",
    "- Will acquire a dataset to use in answering our questions by doing the following.\n",
    "    - Acquire a dataset from a SQL server database \n",
    "    - Save it locally as a .csv file\n",
    "    - Convert the .csv file as a dataframe using Pandas"
   ]
  },
  {
   "cell_type": "code",
   "execution_count": 2,
   "id": "09eaeb80-fee8-42f7-80c0-4bd9247ed661",
   "metadata": {},
   "outputs": [],
   "source": [
    "# returns a dataframe after acquiring curriculum log data from SQL database\n",
    "df = a.get_log_data()"
   ]
  },
  {
   "cell_type": "code",
   "execution_count": 3,
   "id": "a451ae51-bfe9-4e75-b50f-7b68ddde6ea1",
   "metadata": {},
   "outputs": [
    {
     "name": "stdout",
     "output_type": "stream",
     "text": [
      "<class 'pandas.core.frame.DataFrame'>\n",
      "RangeIndex: 900223 entries, 0 to 900222\n",
      "Data columns (total 16 columns):\n",
      " #   Column      Non-Null Count   Dtype  \n",
      "---  ------      --------------   -----  \n",
      " 0   Unnamed: 0  900223 non-null  int64  \n",
      " 1   date        900223 non-null  object \n",
      " 2   time        900223 non-null  object \n",
      " 3   path        900222 non-null  object \n",
      " 4   user_id     900223 non-null  int64  \n",
      " 5   cohort_id   847330 non-null  float64\n",
      " 6   ip          900223 non-null  object \n",
      " 7   id          847330 non-null  float64\n",
      " 8   name        847330 non-null  object \n",
      " 9   slack       847330 non-null  object \n",
      " 10  start_date  847330 non-null  object \n",
      " 11  end_date    847330 non-null  object \n",
      " 12  created_at  847330 non-null  object \n",
      " 13  updated_at  847330 non-null  object \n",
      " 14  deleted_at  0 non-null       float64\n",
      " 15  program_id  847330 non-null  float64\n",
      "dtypes: float64(4), int64(2), object(10)\n",
      "memory usage: 109.9+ MB\n"
     ]
    }
   ],
   "source": [
    "# returns information on number of non-nulls for each column and their datatype\n",
    "df.info()"
   ]
  },
  {
   "cell_type": "code",
   "execution_count": 4,
   "id": "883c3d1e-c65b-41f5-90cf-ee9cc50ef270",
   "metadata": {},
   "outputs": [
    {
     "data": {
      "text/plain": [
       "Unnamed: 0         0\n",
       "date               0\n",
       "time               0\n",
       "path               1\n",
       "user_id            0\n",
       "cohort_id      52893\n",
       "ip                 0\n",
       "id             52893\n",
       "name           52893\n",
       "slack          52893\n",
       "start_date     52893\n",
       "end_date       52893\n",
       "created_at     52893\n",
       "updated_at     52893\n",
       "deleted_at    900223\n",
       "program_id     52893\n",
       "dtype: int64"
      ]
     },
     "execution_count": 4,
     "metadata": {},
     "output_type": "execute_result"
    }
   ],
   "source": [
    "# returns total number of sums for each column\n",
    "df.isna().sum()"
   ]
  },
  {
   "cell_type": "markdown",
   "id": "3cefb3a1-555b-4f60-a681-3db611065041",
   "metadata": {},
   "source": [
    "- Total rows = 900223\n",
    "- Deleted_at = 100% nulls\n",
    "- Most columns have 52,893 nulls"
   ]
  },
  {
   "cell_type": "markdown",
   "id": "49264ad6-7c05-4617-9459-ed79541f4888",
   "metadata": {},
   "source": [
    "## Prepare\n",
    " - Will prepare the dataframe to best answer the question in Explore section by doing the following\n",
    "     - Dropping all rows with nulls\n",
    "     - Dropping unnecessary columns\n",
    "     - Converting columns to useful datatypes\n",
    "     - Renaming columns for clarity"
   ]
  },
  {
   "cell_type": "code",
   "execution_count": 5,
   "id": "59412815-8afe-4f75-a47c-efd89c9686ed",
   "metadata": {},
   "outputs": [
    {
     "data": {
      "text/html": [
       "<div>\n",
       "<style scoped>\n",
       "    .dataframe tbody tr th:only-of-type {\n",
       "        vertical-align: middle;\n",
       "    }\n",
       "\n",
       "    .dataframe tbody tr th {\n",
       "        vertical-align: top;\n",
       "    }\n",
       "\n",
       "    .dataframe thead th {\n",
       "        text-align: right;\n",
       "    }\n",
       "</style>\n",
       "<table border=\"1\" class=\"dataframe\">\n",
       "  <thead>\n",
       "    <tr style=\"text-align: right;\">\n",
       "      <th></th>\n",
       "      <th>Unnamed: 0</th>\n",
       "      <th>date</th>\n",
       "      <th>time</th>\n",
       "      <th>path</th>\n",
       "      <th>user_id</th>\n",
       "      <th>cohort_id</th>\n",
       "      <th>ip</th>\n",
       "      <th>id</th>\n",
       "      <th>name</th>\n",
       "      <th>slack</th>\n",
       "      <th>start_date</th>\n",
       "      <th>end_date</th>\n",
       "      <th>created_at</th>\n",
       "      <th>updated_at</th>\n",
       "      <th>deleted_at</th>\n",
       "      <th>program_id</th>\n",
       "    </tr>\n",
       "  </thead>\n",
       "  <tbody>\n",
       "    <tr>\n",
       "      <th>0</th>\n",
       "      <td>0</td>\n",
       "      <td>2018-01-26</td>\n",
       "      <td>09:55:03</td>\n",
       "      <td>/</td>\n",
       "      <td>1</td>\n",
       "      <td>8.0</td>\n",
       "      <td>97.105.19.61</td>\n",
       "      <td>8.0</td>\n",
       "      <td>Hampton</td>\n",
       "      <td>#hampton</td>\n",
       "      <td>2015-09-22</td>\n",
       "      <td>2016-02-06</td>\n",
       "      <td>2016-06-14 19:52:26</td>\n",
       "      <td>2016-06-14 19:52:26</td>\n",
       "      <td>NaN</td>\n",
       "      <td>1.0</td>\n",
       "    </tr>\n",
       "    <tr>\n",
       "      <th>1</th>\n",
       "      <td>1</td>\n",
       "      <td>2018-01-26</td>\n",
       "      <td>09:56:02</td>\n",
       "      <td>java-ii</td>\n",
       "      <td>1</td>\n",
       "      <td>8.0</td>\n",
       "      <td>97.105.19.61</td>\n",
       "      <td>8.0</td>\n",
       "      <td>Hampton</td>\n",
       "      <td>#hampton</td>\n",
       "      <td>2015-09-22</td>\n",
       "      <td>2016-02-06</td>\n",
       "      <td>2016-06-14 19:52:26</td>\n",
       "      <td>2016-06-14 19:52:26</td>\n",
       "      <td>NaN</td>\n",
       "      <td>1.0</td>\n",
       "    </tr>\n",
       "    <tr>\n",
       "      <th>2</th>\n",
       "      <td>2</td>\n",
       "      <td>2018-01-26</td>\n",
       "      <td>09:56:05</td>\n",
       "      <td>java-ii/object-oriented-programming</td>\n",
       "      <td>1</td>\n",
       "      <td>8.0</td>\n",
       "      <td>97.105.19.61</td>\n",
       "      <td>8.0</td>\n",
       "      <td>Hampton</td>\n",
       "      <td>#hampton</td>\n",
       "      <td>2015-09-22</td>\n",
       "      <td>2016-02-06</td>\n",
       "      <td>2016-06-14 19:52:26</td>\n",
       "      <td>2016-06-14 19:52:26</td>\n",
       "      <td>NaN</td>\n",
       "      <td>1.0</td>\n",
       "    </tr>\n",
       "  </tbody>\n",
       "</table>\n",
       "</div>"
      ],
      "text/plain": [
       "   Unnamed: 0        date      time                                 path  \\\n",
       "0           0  2018-01-26  09:55:03                                    /   \n",
       "1           1  2018-01-26  09:56:02                              java-ii   \n",
       "2           2  2018-01-26  09:56:05  java-ii/object-oriented-programming   \n",
       "\n",
       "   user_id  cohort_id            ip   id     name     slack  start_date  \\\n",
       "0        1        8.0  97.105.19.61  8.0  Hampton  #hampton  2015-09-22   \n",
       "1        1        8.0  97.105.19.61  8.0  Hampton  #hampton  2015-09-22   \n",
       "2        1        8.0  97.105.19.61  8.0  Hampton  #hampton  2015-09-22   \n",
       "\n",
       "     end_date           created_at           updated_at  deleted_at  \\\n",
       "0  2016-02-06  2016-06-14 19:52:26  2016-06-14 19:52:26         NaN   \n",
       "1  2016-02-06  2016-06-14 19:52:26  2016-06-14 19:52:26         NaN   \n",
       "2  2016-02-06  2016-06-14 19:52:26  2016-06-14 19:52:26         NaN   \n",
       "\n",
       "   program_id  \n",
       "0         1.0  \n",
       "1         1.0  \n",
       "2         1.0  "
      ]
     },
     "execution_count": 5,
     "metadata": {},
     "output_type": "execute_result"
    }
   ],
   "source": [
    "# shows preview the top of the dataframe\n",
    "df.head(3)"
   ]
  },
  {
   "cell_type": "code",
   "execution_count": 6,
   "id": "93cbc150-7044-4fca-bf61-20dbf8d3b0c8",
   "metadata": {},
   "outputs": [],
   "source": [
    "# drops all rows with nulls; drops the columns 'slack', 'id', and 'deleted_at'\n",
    "# ; concatenates 'date' and 'time' columns to single 'date_time' column; \n",
    "# renames values in program_id column from integers to string names; converts \n",
    "# 'start_date', 'end_date', 'created_at', 'updated_at', and 'date_time' from \n",
    "# object to datetime format; renames 'name' and 'program_id' columns to \n",
    "# 'cohort' and 'programs' respectively\n",
    "q2_df = p.q2_df_prep(df)"
   ]
  },
  {
   "cell_type": "code",
   "execution_count": 7,
   "id": "d1341a3d-0283-4b7c-9a06-c9ed9ea947f2",
   "metadata": {},
   "outputs": [
    {
     "name": "stdout",
     "output_type": "stream",
     "text": [
      "<class 'pandas.core.frame.DataFrame'>\n",
      "Int64Index: 763298 entries, 0 to 900217\n",
      "Data columns (total 11 columns):\n",
      " #   Column      Non-Null Count   Dtype         \n",
      "---  ------      --------------   -----         \n",
      " 0   path        763298 non-null  object        \n",
      " 1   user_id     763298 non-null  int64         \n",
      " 2   cohort_id   763298 non-null  float64       \n",
      " 3   ip          763298 non-null  object        \n",
      " 4   cohort      763298 non-null  object        \n",
      " 5   start_date  763298 non-null  datetime64[ns]\n",
      " 6   end_date    763298 non-null  datetime64[ns]\n",
      " 7   created_at  763298 non-null  datetime64[ns]\n",
      " 8   updated_at  763298 non-null  datetime64[ns]\n",
      " 9   programs    763298 non-null  object        \n",
      " 10  date_time   763298 non-null  datetime64[ns]\n",
      "dtypes: datetime64[ns](5), float64(1), int64(1), object(4)\n",
      "memory usage: 69.9+ MB\n"
     ]
    }
   ],
   "source": [
    "# returns information on number of non-nulls for each column and their datatype\n",
    "q2_df.info()"
   ]
  },
  {
   "cell_type": "code",
   "execution_count": 8,
   "id": "e5bc4dae-d3da-4c3c-8cc8-1c7150006ed0",
   "metadata": {},
   "outputs": [
    {
     "data": {
      "text/html": [
       "<div>\n",
       "<style scoped>\n",
       "    .dataframe tbody tr th:only-of-type {\n",
       "        vertical-align: middle;\n",
       "    }\n",
       "\n",
       "    .dataframe tbody tr th {\n",
       "        vertical-align: top;\n",
       "    }\n",
       "\n",
       "    .dataframe thead th {\n",
       "        text-align: right;\n",
       "    }\n",
       "</style>\n",
       "<table border=\"1\" class=\"dataframe\">\n",
       "  <thead>\n",
       "    <tr style=\"text-align: right;\">\n",
       "      <th></th>\n",
       "      <th>path</th>\n",
       "      <th>user_id</th>\n",
       "      <th>cohort_id</th>\n",
       "      <th>ip</th>\n",
       "      <th>cohort</th>\n",
       "      <th>start_date</th>\n",
       "      <th>end_date</th>\n",
       "      <th>created_at</th>\n",
       "      <th>updated_at</th>\n",
       "      <th>programs</th>\n",
       "      <th>date_time</th>\n",
       "    </tr>\n",
       "  </thead>\n",
       "  <tbody>\n",
       "    <tr>\n",
       "      <th>0</th>\n",
       "      <td>/</td>\n",
       "      <td>1</td>\n",
       "      <td>8.0</td>\n",
       "      <td>97.105.19.61</td>\n",
       "      <td>hampton</td>\n",
       "      <td>2015-09-22</td>\n",
       "      <td>2016-02-06</td>\n",
       "      <td>2016-06-14 19:52:26</td>\n",
       "      <td>2016-06-14 19:52:26</td>\n",
       "      <td>full_stack_php</td>\n",
       "      <td>2018-01-26 09:55:03</td>\n",
       "    </tr>\n",
       "    <tr>\n",
       "      <th>1</th>\n",
       "      <td>java-ii</td>\n",
       "      <td>1</td>\n",
       "      <td>8.0</td>\n",
       "      <td>97.105.19.61</td>\n",
       "      <td>hampton</td>\n",
       "      <td>2015-09-22</td>\n",
       "      <td>2016-02-06</td>\n",
       "      <td>2016-06-14 19:52:26</td>\n",
       "      <td>2016-06-14 19:52:26</td>\n",
       "      <td>full_stack_php</td>\n",
       "      <td>2018-01-26 09:56:02</td>\n",
       "    </tr>\n",
       "    <tr>\n",
       "      <th>2</th>\n",
       "      <td>java-ii/object-oriented-programming</td>\n",
       "      <td>1</td>\n",
       "      <td>8.0</td>\n",
       "      <td>97.105.19.61</td>\n",
       "      <td>hampton</td>\n",
       "      <td>2015-09-22</td>\n",
       "      <td>2016-02-06</td>\n",
       "      <td>2016-06-14 19:52:26</td>\n",
       "      <td>2016-06-14 19:52:26</td>\n",
       "      <td>full_stack_php</td>\n",
       "      <td>2018-01-26 09:56:05</td>\n",
       "    </tr>\n",
       "    <tr>\n",
       "      <th>3</th>\n",
       "      <td>slides/object_oriented_programming</td>\n",
       "      <td>1</td>\n",
       "      <td>8.0</td>\n",
       "      <td>97.105.19.61</td>\n",
       "      <td>hampton</td>\n",
       "      <td>2015-09-22</td>\n",
       "      <td>2016-02-06</td>\n",
       "      <td>2016-06-14 19:52:26</td>\n",
       "      <td>2016-06-14 19:52:26</td>\n",
       "      <td>full_stack_php</td>\n",
       "      <td>2018-01-26 09:56:06</td>\n",
       "    </tr>\n",
       "    <tr>\n",
       "      <th>4</th>\n",
       "      <td>javascript-i/conditionals</td>\n",
       "      <td>2</td>\n",
       "      <td>22.0</td>\n",
       "      <td>97.105.19.61</td>\n",
       "      <td>teddy</td>\n",
       "      <td>2018-01-08</td>\n",
       "      <td>2018-05-17</td>\n",
       "      <td>2018-01-08 13:59:10</td>\n",
       "      <td>2018-01-08 13:59:10</td>\n",
       "      <td>full_stack_java</td>\n",
       "      <td>2018-01-26 09:56:24</td>\n",
       "    </tr>\n",
       "  </tbody>\n",
       "</table>\n",
       "</div>"
      ],
      "text/plain": [
       "                                  path  user_id  cohort_id            ip  \\\n",
       "0                                    /        1        8.0  97.105.19.61   \n",
       "1                              java-ii        1        8.0  97.105.19.61   \n",
       "2  java-ii/object-oriented-programming        1        8.0  97.105.19.61   \n",
       "3   slides/object_oriented_programming        1        8.0  97.105.19.61   \n",
       "4            javascript-i/conditionals        2       22.0  97.105.19.61   \n",
       "\n",
       "    cohort start_date   end_date          created_at          updated_at  \\\n",
       "0  hampton 2015-09-22 2016-02-06 2016-06-14 19:52:26 2016-06-14 19:52:26   \n",
       "1  hampton 2015-09-22 2016-02-06 2016-06-14 19:52:26 2016-06-14 19:52:26   \n",
       "2  hampton 2015-09-22 2016-02-06 2016-06-14 19:52:26 2016-06-14 19:52:26   \n",
       "3  hampton 2015-09-22 2016-02-06 2016-06-14 19:52:26 2016-06-14 19:52:26   \n",
       "4    teddy 2018-01-08 2018-05-17 2018-01-08 13:59:10 2018-01-08 13:59:10   \n",
       "\n",
       "          programs           date_time  \n",
       "0   full_stack_php 2018-01-26 09:55:03  \n",
       "1   full_stack_php 2018-01-26 09:56:02  \n",
       "2   full_stack_php 2018-01-26 09:56:05  \n",
       "3   full_stack_php 2018-01-26 09:56:06  \n",
       "4  full_stack_java 2018-01-26 09:56:24  "
      ]
     },
     "execution_count": 8,
     "metadata": {},
     "output_type": "execute_result"
    }
   ],
   "source": [
    "# shows preview the top of the dataframe\n",
    "q2_df.head()"
   ]
  },
  {
   "cell_type": "markdown",
   "id": "887f3710-ba4c-4531-a2cc-a4978597e8b0",
   "metadata": {},
   "source": [
    "## Exploration\n",
    "- Question 2: Is there a cohort that referred to a lesson significantly more than other cohorts seemed to gloss over?"
   ]
  },
  {
   "cell_type": "code",
   "execution_count": 9,
   "id": "278b7728-7a81-4860-9d76-fc35465f6960",
   "metadata": {},
   "outputs": [
    {
     "data": {
      "text/html": [
       "<div>\n",
       "<style scoped>\n",
       "    .dataframe tbody tr th:only-of-type {\n",
       "        vertical-align: middle;\n",
       "    }\n",
       "\n",
       "    .dataframe tbody tr th {\n",
       "        vertical-align: top;\n",
       "    }\n",
       "\n",
       "    .dataframe thead th {\n",
       "        text-align: right;\n",
       "    }\n",
       "</style>\n",
       "<table border=\"1\" class=\"dataframe\">\n",
       "  <thead>\n",
       "    <tr style=\"text-align: right;\">\n",
       "      <th></th>\n",
       "      <th>path</th>\n",
       "      <th>user_id</th>\n",
       "      <th>cohort_id</th>\n",
       "      <th>ip</th>\n",
       "      <th>cohort</th>\n",
       "      <th>start_date</th>\n",
       "      <th>end_date</th>\n",
       "      <th>created_at</th>\n",
       "      <th>updated_at</th>\n",
       "      <th>programs</th>\n",
       "      <th>date_time</th>\n",
       "    </tr>\n",
       "  </thead>\n",
       "  <tbody>\n",
       "    <tr>\n",
       "      <th>4</th>\n",
       "      <td>javascript-i/conditionals</td>\n",
       "      <td>2</td>\n",
       "      <td>22.0</td>\n",
       "      <td>97.105.19.61</td>\n",
       "      <td>teddy</td>\n",
       "      <td>2018-01-08</td>\n",
       "      <td>2018-05-17</td>\n",
       "      <td>2018-01-08 13:59:10</td>\n",
       "      <td>2018-01-08 13:59:10</td>\n",
       "      <td>full_stack_java</td>\n",
       "      <td>2018-01-26 09:56:24</td>\n",
       "    </tr>\n",
       "    <tr>\n",
       "      <th>5</th>\n",
       "      <td>javascript-i/loops</td>\n",
       "      <td>2</td>\n",
       "      <td>22.0</td>\n",
       "      <td>97.105.19.61</td>\n",
       "      <td>teddy</td>\n",
       "      <td>2018-01-08</td>\n",
       "      <td>2018-05-17</td>\n",
       "      <td>2018-01-08 13:59:10</td>\n",
       "      <td>2018-01-08 13:59:10</td>\n",
       "      <td>full_stack_java</td>\n",
       "      <td>2018-01-26 09:56:41</td>\n",
       "    </tr>\n",
       "    <tr>\n",
       "      <th>6</th>\n",
       "      <td>javascript-i/conditionals</td>\n",
       "      <td>3</td>\n",
       "      <td>22.0</td>\n",
       "      <td>97.105.19.61</td>\n",
       "      <td>teddy</td>\n",
       "      <td>2018-01-08</td>\n",
       "      <td>2018-05-17</td>\n",
       "      <td>2018-01-08 13:59:10</td>\n",
       "      <td>2018-01-08 13:59:10</td>\n",
       "      <td>full_stack_java</td>\n",
       "      <td>2018-01-26 09:56:46</td>\n",
       "    </tr>\n",
       "  </tbody>\n",
       "</table>\n",
       "</div>"
      ],
      "text/plain": [
       "                        path  user_id  cohort_id            ip cohort  \\\n",
       "4  javascript-i/conditionals        2       22.0  97.105.19.61  teddy   \n",
       "5         javascript-i/loops        2       22.0  97.105.19.61  teddy   \n",
       "6  javascript-i/conditionals        3       22.0  97.105.19.61  teddy   \n",
       "\n",
       "  start_date   end_date          created_at          updated_at  \\\n",
       "4 2018-01-08 2018-05-17 2018-01-08 13:59:10 2018-01-08 13:59:10   \n",
       "5 2018-01-08 2018-05-17 2018-01-08 13:59:10 2018-01-08 13:59:10   \n",
       "6 2018-01-08 2018-05-17 2018-01-08 13:59:10 2018-01-08 13:59:10   \n",
       "\n",
       "          programs           date_time  \n",
       "4  full_stack_java 2018-01-26 09:56:24  \n",
       "5  full_stack_java 2018-01-26 09:56:41  \n",
       "6  full_stack_java 2018-01-26 09:56:46  "
      ]
     },
     "execution_count": 9,
     "metadata": {},
     "output_type": "execute_result"
    }
   ],
   "source": [
    "# Returns a dataframe with entries that fall within the start and end dates for their respective cohort\n",
    "q2_df = q2_df[(q2_df['date_time'] >= q2_df['start_date']) & (q2_df['date_time'] <= q2_df['end_date'])]\n",
    "q2_df.head(3)"
   ]
  },
  {
   "cell_type": "code",
   "execution_count": 10,
   "id": "3e78c247-1a66-4c72-a512-d19ecb326c2b",
   "metadata": {},
   "outputs": [
    {
     "data": {
      "text/plain": [
       "jupiter       36447\n",
       "ceres         35766\n",
       "zion          33842\n",
       "fortuna       33397\n",
       "voyageurs     32337\n",
       "ganymede      29438\n",
       "darden        28834\n",
       "apex          28641\n",
       "hyperion      28513\n",
       "betelgeuse    25936\n",
       "europa        25702\n",
       "teddy         25280\n",
       "deimos        24799\n",
       "ulysses       24088\n",
       "wrangell      24059\n",
       "kalypso       23691\n",
       "xanadu        22508\n",
       "bayes         21813\n",
       "andromeda     21114\n",
       "yosemite      19255\n",
       "curie         17943\n",
       "luna          16623\n",
       "marco         16397\n",
       "bash          16371\n",
       "easley        14715\n",
       "florence       8562\n",
       "neptune        7276\n",
       "sequoia        2178\n",
       "oberon         1672\n",
       "Name: cohort, dtype: int64"
      ]
     },
     "execution_count": 10,
     "metadata": {},
     "output_type": "execute_result"
    }
   ],
   "source": [
    "# overall row counts by cohort\n",
    "q2_df['cohort'].value_counts()"
   ]
  },
  {
   "cell_type": "code",
   "execution_count": 11,
   "id": "383151b6-fedd-49ac-ae1d-b77959cb3916",
   "metadata": {},
   "outputs": [
    {
     "data": {
      "text/plain": [
       "['full_stack_java', 'data_science']"
      ]
     },
     "execution_count": 11,
     "metadata": {},
     "output_type": "execute_result"
    }
   ],
   "source": [
    "q2_df['programs'].unique().tolist()  "
   ]
  },
  {
   "cell_type": "markdown",
   "id": "5bfcec99-b154-474c-8839-346a9e1d682d",
   "metadata": {},
   "source": [
    "Dataframe abbreviations:\n",
    "- q2_fsp = full_stack_php\n",
    "- q2_fsj = full_stack_java\n",
    "- q2_ds = data_science\n",
    "- q2_fep = front_end_programming"
   ]
  },
  {
   "cell_type": "code",
   "execution_count": 12,
   "id": "9c189e45-62b8-41d4-a93e-d937b25cce17",
   "metadata": {},
   "outputs": [
    {
     "data": {
      "text/html": [
       "<div>\n",
       "<style scoped>\n",
       "    .dataframe tbody tr th:only-of-type {\n",
       "        vertical-align: middle;\n",
       "    }\n",
       "\n",
       "    .dataframe tbody tr th {\n",
       "        vertical-align: top;\n",
       "    }\n",
       "\n",
       "    .dataframe thead th {\n",
       "        text-align: right;\n",
       "    }\n",
       "</style>\n",
       "<table border=\"1\" class=\"dataframe\">\n",
       "  <thead>\n",
       "    <tr style=\"text-align: right;\">\n",
       "      <th></th>\n",
       "      <th>path</th>\n",
       "      <th>user_id</th>\n",
       "      <th>cohort_id</th>\n",
       "      <th>ip</th>\n",
       "      <th>cohort</th>\n",
       "      <th>start_date</th>\n",
       "      <th>end_date</th>\n",
       "      <th>created_at</th>\n",
       "      <th>updated_at</th>\n",
       "      <th>programs</th>\n",
       "      <th>date_time</th>\n",
       "    </tr>\n",
       "  </thead>\n",
       "  <tbody>\n",
       "  </tbody>\n",
       "</table>\n",
       "</div>"
      ],
      "text/plain": [
       "Empty DataFrame\n",
       "Columns: [path, user_id, cohort_id, ip, cohort, start_date, end_date, created_at, updated_at, programs, date_time]\n",
       "Index: []"
      ]
     },
     "execution_count": 12,
     "metadata": {},
     "output_type": "execute_result"
    }
   ],
   "source": [
    "# full stack php dataframe\n",
    "q2_fsp = q2_df[q2_df.programs == 'full_stack_php']\n",
    "q2_fsp.head(3)"
   ]
  },
  {
   "cell_type": "code",
   "execution_count": 13,
   "id": "372d875a-9f82-4405-9e78-01baa83e9d07",
   "metadata": {},
   "outputs": [
    {
     "data": {
      "text/html": [
       "<div>\n",
       "<style scoped>\n",
       "    .dataframe tbody tr th:only-of-type {\n",
       "        vertical-align: middle;\n",
       "    }\n",
       "\n",
       "    .dataframe tbody tr th {\n",
       "        vertical-align: top;\n",
       "    }\n",
       "\n",
       "    .dataframe thead th {\n",
       "        text-align: right;\n",
       "    }\n",
       "</style>\n",
       "<table border=\"1\" class=\"dataframe\">\n",
       "  <thead>\n",
       "    <tr style=\"text-align: right;\">\n",
       "      <th></th>\n",
       "      <th>path</th>\n",
       "      <th>user_id</th>\n",
       "      <th>cohort_id</th>\n",
       "      <th>ip</th>\n",
       "      <th>cohort</th>\n",
       "      <th>start_date</th>\n",
       "      <th>end_date</th>\n",
       "      <th>created_at</th>\n",
       "      <th>updated_at</th>\n",
       "      <th>programs</th>\n",
       "      <th>date_time</th>\n",
       "    </tr>\n",
       "  </thead>\n",
       "  <tbody>\n",
       "    <tr>\n",
       "      <th>4</th>\n",
       "      <td>javascript-i/conditionals</td>\n",
       "      <td>2</td>\n",
       "      <td>22.0</td>\n",
       "      <td>97.105.19.61</td>\n",
       "      <td>teddy</td>\n",
       "      <td>2018-01-08</td>\n",
       "      <td>2018-05-17</td>\n",
       "      <td>2018-01-08 13:59:10</td>\n",
       "      <td>2018-01-08 13:59:10</td>\n",
       "      <td>full_stack_java</td>\n",
       "      <td>2018-01-26 09:56:24</td>\n",
       "    </tr>\n",
       "    <tr>\n",
       "      <th>5</th>\n",
       "      <td>javascript-i/loops</td>\n",
       "      <td>2</td>\n",
       "      <td>22.0</td>\n",
       "      <td>97.105.19.61</td>\n",
       "      <td>teddy</td>\n",
       "      <td>2018-01-08</td>\n",
       "      <td>2018-05-17</td>\n",
       "      <td>2018-01-08 13:59:10</td>\n",
       "      <td>2018-01-08 13:59:10</td>\n",
       "      <td>full_stack_java</td>\n",
       "      <td>2018-01-26 09:56:41</td>\n",
       "    </tr>\n",
       "    <tr>\n",
       "      <th>6</th>\n",
       "      <td>javascript-i/conditionals</td>\n",
       "      <td>3</td>\n",
       "      <td>22.0</td>\n",
       "      <td>97.105.19.61</td>\n",
       "      <td>teddy</td>\n",
       "      <td>2018-01-08</td>\n",
       "      <td>2018-05-17</td>\n",
       "      <td>2018-01-08 13:59:10</td>\n",
       "      <td>2018-01-08 13:59:10</td>\n",
       "      <td>full_stack_java</td>\n",
       "      <td>2018-01-26 09:56:46</td>\n",
       "    </tr>\n",
       "  </tbody>\n",
       "</table>\n",
       "</div>"
      ],
      "text/plain": [
       "                        path  user_id  cohort_id            ip cohort  \\\n",
       "4  javascript-i/conditionals        2       22.0  97.105.19.61  teddy   \n",
       "5         javascript-i/loops        2       22.0  97.105.19.61  teddy   \n",
       "6  javascript-i/conditionals        3       22.0  97.105.19.61  teddy   \n",
       "\n",
       "  start_date   end_date          created_at          updated_at  \\\n",
       "4 2018-01-08 2018-05-17 2018-01-08 13:59:10 2018-01-08 13:59:10   \n",
       "5 2018-01-08 2018-05-17 2018-01-08 13:59:10 2018-01-08 13:59:10   \n",
       "6 2018-01-08 2018-05-17 2018-01-08 13:59:10 2018-01-08 13:59:10   \n",
       "\n",
       "          programs           date_time  \n",
       "4  full_stack_java 2018-01-26 09:56:24  \n",
       "5  full_stack_java 2018-01-26 09:56:41  \n",
       "6  full_stack_java 2018-01-26 09:56:46  "
      ]
     },
     "execution_count": 13,
     "metadata": {},
     "output_type": "execute_result"
    }
   ],
   "source": [
    "# full stack java dataframe\n",
    "q2_fsj  = q2_df[q2_df.programs == 'full_stack_java']\n",
    "q2_fsj.head(3)"
   ]
  },
  {
   "cell_type": "code",
   "execution_count": 14,
   "id": "2abac892-9bbf-4693-803a-52f321dc8c8d",
   "metadata": {},
   "outputs": [
    {
     "data": {
      "text/html": [
       "<div>\n",
       "<style scoped>\n",
       "    .dataframe tbody tr th:only-of-type {\n",
       "        vertical-align: middle;\n",
       "    }\n",
       "\n",
       "    .dataframe tbody tr th {\n",
       "        vertical-align: top;\n",
       "    }\n",
       "\n",
       "    .dataframe thead th {\n",
       "        text-align: right;\n",
       "    }\n",
       "</style>\n",
       "<table border=\"1\" class=\"dataframe\">\n",
       "  <thead>\n",
       "    <tr style=\"text-align: right;\">\n",
       "      <th></th>\n",
       "      <th>path</th>\n",
       "      <th>user_id</th>\n",
       "      <th>cohort_id</th>\n",
       "      <th>ip</th>\n",
       "      <th>cohort</th>\n",
       "      <th>start_date</th>\n",
       "      <th>end_date</th>\n",
       "      <th>created_at</th>\n",
       "      <th>updated_at</th>\n",
       "      <th>programs</th>\n",
       "      <th>date_time</th>\n",
       "    </tr>\n",
       "  </thead>\n",
       "  <tbody>\n",
       "    <tr>\n",
       "      <th>326053</th>\n",
       "      <td>/</td>\n",
       "      <td>466</td>\n",
       "      <td>34.0</td>\n",
       "      <td>97.105.19.58</td>\n",
       "      <td>bayes</td>\n",
       "      <td>2019-08-19</td>\n",
       "      <td>2020-01-30</td>\n",
       "      <td>2019-08-20 14:38:55</td>\n",
       "      <td>2019-08-20 14:38:55</td>\n",
       "      <td>data_science</td>\n",
       "      <td>2019-08-20 09:39:58</td>\n",
       "    </tr>\n",
       "    <tr>\n",
       "      <th>326054</th>\n",
       "      <td>/</td>\n",
       "      <td>467</td>\n",
       "      <td>34.0</td>\n",
       "      <td>97.105.19.58</td>\n",
       "      <td>bayes</td>\n",
       "      <td>2019-08-19</td>\n",
       "      <td>2020-01-30</td>\n",
       "      <td>2019-08-20 14:38:55</td>\n",
       "      <td>2019-08-20 14:38:55</td>\n",
       "      <td>data_science</td>\n",
       "      <td>2019-08-20 09:39:59</td>\n",
       "    </tr>\n",
       "    <tr>\n",
       "      <th>326055</th>\n",
       "      <td>/</td>\n",
       "      <td>468</td>\n",
       "      <td>34.0</td>\n",
       "      <td>97.105.19.58</td>\n",
       "      <td>bayes</td>\n",
       "      <td>2019-08-19</td>\n",
       "      <td>2020-01-30</td>\n",
       "      <td>2019-08-20 14:38:55</td>\n",
       "      <td>2019-08-20 14:38:55</td>\n",
       "      <td>data_science</td>\n",
       "      <td>2019-08-20 09:39:59</td>\n",
       "    </tr>\n",
       "  </tbody>\n",
       "</table>\n",
       "</div>"
      ],
      "text/plain": [
       "       path  user_id  cohort_id            ip cohort start_date   end_date  \\\n",
       "326053    /      466       34.0  97.105.19.58  bayes 2019-08-19 2020-01-30   \n",
       "326054    /      467       34.0  97.105.19.58  bayes 2019-08-19 2020-01-30   \n",
       "326055    /      468       34.0  97.105.19.58  bayes 2019-08-19 2020-01-30   \n",
       "\n",
       "                created_at          updated_at      programs  \\\n",
       "326053 2019-08-20 14:38:55 2019-08-20 14:38:55  data_science   \n",
       "326054 2019-08-20 14:38:55 2019-08-20 14:38:55  data_science   \n",
       "326055 2019-08-20 14:38:55 2019-08-20 14:38:55  data_science   \n",
       "\n",
       "                 date_time  \n",
       "326053 2019-08-20 09:39:58  \n",
       "326054 2019-08-20 09:39:59  \n",
       "326055 2019-08-20 09:39:59  "
      ]
     },
     "execution_count": 14,
     "metadata": {},
     "output_type": "execute_result"
    }
   ],
   "source": [
    "# data science dataframe\n",
    "q2_ds = q2_df[q2_df.programs == 'data_science']\n",
    "q2_ds.head(3)"
   ]
  },
  {
   "cell_type": "code",
   "execution_count": 15,
   "id": "6cccb3b0-cabc-4780-97bd-93027d8a600b",
   "metadata": {},
   "outputs": [
    {
     "data": {
      "text/html": [
       "<div>\n",
       "<style scoped>\n",
       "    .dataframe tbody tr th:only-of-type {\n",
       "        vertical-align: middle;\n",
       "    }\n",
       "\n",
       "    .dataframe tbody tr th {\n",
       "        vertical-align: top;\n",
       "    }\n",
       "\n",
       "    .dataframe thead th {\n",
       "        text-align: right;\n",
       "    }\n",
       "</style>\n",
       "<table border=\"1\" class=\"dataframe\">\n",
       "  <thead>\n",
       "    <tr style=\"text-align: right;\">\n",
       "      <th></th>\n",
       "      <th>path</th>\n",
       "      <th>user_id</th>\n",
       "      <th>cohort_id</th>\n",
       "      <th>ip</th>\n",
       "      <th>cohort</th>\n",
       "      <th>start_date</th>\n",
       "      <th>end_date</th>\n",
       "      <th>created_at</th>\n",
       "      <th>updated_at</th>\n",
       "      <th>programs</th>\n",
       "      <th>date_time</th>\n",
       "    </tr>\n",
       "  </thead>\n",
       "  <tbody>\n",
       "  </tbody>\n",
       "</table>\n",
       "</div>"
      ],
      "text/plain": [
       "Empty DataFrame\n",
       "Columns: [path, user_id, cohort_id, ip, cohort, start_date, end_date, created_at, updated_at, programs, date_time]\n",
       "Index: []"
      ]
     },
     "execution_count": 15,
     "metadata": {},
     "output_type": "execute_result"
    }
   ],
   "source": [
    "# front end programming dataframe\n",
    "q2_fep = q2_df[q2_df.programs == 'front_end_programming']\n",
    "q2_fep.head(3)"
   ]
  },
  {
   "cell_type": "code",
   "execution_count": 16,
   "id": "aeff5d30-1535-4403-8348-deaaac7d12e7",
   "metadata": {},
   "outputs": [
    {
     "data": {
      "text/plain": [
       "Series([], Name: cohort, dtype: int64)"
      ]
     },
     "execution_count": 16,
     "metadata": {},
     "output_type": "execute_result"
    }
   ],
   "source": [
    "# row counts for full stack php\n",
    "q2_fsp['cohort'].value_counts()"
   ]
  },
  {
   "cell_type": "code",
   "execution_count": 17,
   "id": "b085f542-2fe4-49f0-a859-dd41c2398c5d",
   "metadata": {},
   "outputs": [
    {
     "data": {
      "text/plain": [
       "jupiter       36447\n",
       "ceres         35766\n",
       "zion          33842\n",
       "fortuna       33397\n",
       "voyageurs     32337\n",
       "ganymede      29438\n",
       "apex          28641\n",
       "hyperion      28513\n",
       "betelgeuse    25936\n",
       "europa        25702\n",
       "teddy         25280\n",
       "deimos        24799\n",
       "ulysses       24088\n",
       "wrangell      24059\n",
       "kalypso       23691\n",
       "xanadu        22508\n",
       "andromeda     21114\n",
       "yosemite      19255\n",
       "luna          16623\n",
       "marco         16397\n",
       "bash          16371\n",
       "neptune        7276\n",
       "sequoia        2178\n",
       "oberon         1672\n",
       "Name: cohort, dtype: int64"
      ]
     },
     "execution_count": 17,
     "metadata": {},
     "output_type": "execute_result"
    }
   ],
   "source": [
    "# row counts for full stack java\n",
    "q2_fsj['cohort'].value_counts()"
   ]
  },
  {
   "cell_type": "code",
   "execution_count": 18,
   "id": "b971e6c3-5219-4b6e-a3f0-708e3432790e",
   "metadata": {},
   "outputs": [
    {
     "data": {
      "text/plain": [
       "darden      28834\n",
       "bayes       21813\n",
       "curie       17943\n",
       "easley      14715\n",
       "florence     8562\n",
       "Name: cohort, dtype: int64"
      ]
     },
     "execution_count": 18,
     "metadata": {},
     "output_type": "execute_result"
    }
   ],
   "source": [
    "# row counts for data science\n",
    "q2_ds['cohort'].value_counts()"
   ]
  },
  {
   "cell_type": "code",
   "execution_count": 19,
   "id": "0d7a31eb-c49c-4cc5-a03a-d92c3767b081",
   "metadata": {},
   "outputs": [
    {
     "data": {
      "text/plain": [
       "Series([], Name: cohort, dtype: int64)"
      ]
     },
     "execution_count": 19,
     "metadata": {},
     "output_type": "execute_result"
    }
   ],
   "source": [
    "# Row counts for front end programming\n",
    "q2_fep['cohort'].value_counts()"
   ]
  },
  {
   "cell_type": "markdown",
   "id": "01ed0591-68fc-451b-ac92-872cbce3116c",
   "metadata": {},
   "source": [
    "Quick takeaways\n",
    "- After removing rows whose \"date_time\" entry didn't fall within the associated \"start_date\" & \"end_date\" for the class, it resulted in the the Full Stack PHP and Front End Programming to return empty dataframes after the original dataframe was divided up by program.\n",
    "- This indicates that all entries for those programs were either before or after their associated class dates\n",
    "- The Full Stack Java and Data Science programs are the two remaining dataframes that will be use"
   ]
  },
  {
   "cell_type": "code",
   "execution_count": 20,
   "id": "6134f011-6d9c-4807-9a03-13095a4c4e6d",
   "metadata": {},
   "outputs": [
    {
     "data": {
      "text/html": [
       "<div>\n",
       "<style scoped>\n",
       "    .dataframe tbody tr th:only-of-type {\n",
       "        vertical-align: middle;\n",
       "    }\n",
       "\n",
       "    .dataframe tbody tr th {\n",
       "        vertical-align: top;\n",
       "    }\n",
       "\n",
       "    .dataframe thead th {\n",
       "        text-align: right;\n",
       "    }\n",
       "</style>\n",
       "<table border=\"1\" class=\"dataframe\">\n",
       "  <thead>\n",
       "    <tr style=\"text-align: right;\">\n",
       "      <th></th>\n",
       "      <th>path</th>\n",
       "      <th>user_id</th>\n",
       "      <th>cohort_id</th>\n",
       "      <th>ip</th>\n",
       "      <th>cohort</th>\n",
       "      <th>start_date</th>\n",
       "      <th>end_date</th>\n",
       "      <th>created_at</th>\n",
       "      <th>updated_at</th>\n",
       "      <th>programs</th>\n",
       "      <th>date_time</th>\n",
       "    </tr>\n",
       "  </thead>\n",
       "  <tbody>\n",
       "    <tr>\n",
       "      <th>4</th>\n",
       "      <td>javascript-i/conditionals</td>\n",
       "      <td>2</td>\n",
       "      <td>22.0</td>\n",
       "      <td>97.105.19.61</td>\n",
       "      <td>teddy</td>\n",
       "      <td>2018-01-08</td>\n",
       "      <td>2018-05-17</td>\n",
       "      <td>2018-01-08 13:59:10</td>\n",
       "      <td>2018-01-08 13:59:10</td>\n",
       "      <td>full_stack_java</td>\n",
       "      <td>2018-01-26 09:56:24</td>\n",
       "    </tr>\n",
       "    <tr>\n",
       "      <th>5</th>\n",
       "      <td>javascript-i/loops</td>\n",
       "      <td>2</td>\n",
       "      <td>22.0</td>\n",
       "      <td>97.105.19.61</td>\n",
       "      <td>teddy</td>\n",
       "      <td>2018-01-08</td>\n",
       "      <td>2018-05-17</td>\n",
       "      <td>2018-01-08 13:59:10</td>\n",
       "      <td>2018-01-08 13:59:10</td>\n",
       "      <td>full_stack_java</td>\n",
       "      <td>2018-01-26 09:56:41</td>\n",
       "    </tr>\n",
       "    <tr>\n",
       "      <th>6</th>\n",
       "      <td>javascript-i/conditionals</td>\n",
       "      <td>3</td>\n",
       "      <td>22.0</td>\n",
       "      <td>97.105.19.61</td>\n",
       "      <td>teddy</td>\n",
       "      <td>2018-01-08</td>\n",
       "      <td>2018-05-17</td>\n",
       "      <td>2018-01-08 13:59:10</td>\n",
       "      <td>2018-01-08 13:59:10</td>\n",
       "      <td>full_stack_java</td>\n",
       "      <td>2018-01-26 09:56:46</td>\n",
       "    </tr>\n",
       "  </tbody>\n",
       "</table>\n",
       "</div>"
      ],
      "text/plain": [
       "                        path  user_id  cohort_id            ip cohort  \\\n",
       "4  javascript-i/conditionals        2       22.0  97.105.19.61  teddy   \n",
       "5         javascript-i/loops        2       22.0  97.105.19.61  teddy   \n",
       "6  javascript-i/conditionals        3       22.0  97.105.19.61  teddy   \n",
       "\n",
       "  start_date   end_date          created_at          updated_at  \\\n",
       "4 2018-01-08 2018-05-17 2018-01-08 13:59:10 2018-01-08 13:59:10   \n",
       "5 2018-01-08 2018-05-17 2018-01-08 13:59:10 2018-01-08 13:59:10   \n",
       "6 2018-01-08 2018-05-17 2018-01-08 13:59:10 2018-01-08 13:59:10   \n",
       "\n",
       "          programs           date_time  \n",
       "4  full_stack_java 2018-01-26 09:56:24  \n",
       "5  full_stack_java 2018-01-26 09:56:41  \n",
       "6  full_stack_java 2018-01-26 09:56:46  "
      ]
     },
     "execution_count": 20,
     "metadata": {},
     "output_type": "execute_result"
    }
   ],
   "source": [
    "q2_fsj.head(3)"
   ]
  },
  {
   "cell_type": "code",
   "execution_count": 21,
   "id": "9f33ef7f-8128-49f6-8a40-519252fcbd3d",
   "metadata": {},
   "outputs": [
    {
     "data": {
      "image/png": "[encoded data removed]",
      "text/plain": [
       "<Figure size 864x576 with 1 Axes>"
      ]
     },
     "metadata": {
      "needs_background": "light"
     },
     "output_type": "display_data"
    }
   ],
   "source": [
    "# Plots histogram of number of entries for all Full Stack Java cohorts\n",
    "plt.figure(figsize=(12,8))\n",
    "q2_fsj['cohort'].hist()\n",
    "plt.xticks(rotation = 90)\n",
    "plt.show()"
   ]
  },
  {
   "cell_type": "code",
   "execution_count": 22,
   "id": "c3292bac-1821-46fd-ad8b-16f03051d1c9",
   "metadata": {
    "tags": []
   },
   "outputs": [
    {
     "data": {
      "text/html": [
       "<div>\n",
       "<style scoped>\n",
       "    .dataframe tbody tr th:only-of-type {\n",
       "        vertical-align: middle;\n",
       "    }\n",
       "\n",
       "    .dataframe tbody tr th {\n",
       "        vertical-align: top;\n",
       "    }\n",
       "\n",
       "    .dataframe thead th {\n",
       "        text-align: right;\n",
       "    }\n",
       "</style>\n",
       "<table border=\"1\" class=\"dataframe\">\n",
       "  <thead>\n",
       "    <tr style=\"text-align: right;\">\n",
       "      <th></th>\n",
       "      <th>path</th>\n",
       "    </tr>\n",
       "  </thead>\n",
       "  <tbody>\n",
       "    <tr>\n",
       "      <th>/</th>\n",
       "      <td>23374</td>\n",
       "    </tr>\n",
       "    <tr>\n",
       "      <th>toc</th>\n",
       "      <td>15006</td>\n",
       "    </tr>\n",
       "    <tr>\n",
       "      <th>javascript-i</th>\n",
       "      <td>13224</td>\n",
       "    </tr>\n",
       "    <tr>\n",
       "      <th>search/search_index.json</th>\n",
       "      <td>11641</td>\n",
       "    </tr>\n",
       "    <tr>\n",
       "      <th>java-iii</th>\n",
       "      <td>9621</td>\n",
       "    </tr>\n",
       "    <tr>\n",
       "      <th>...</th>\n",
       "      <td>...</td>\n",
       "    </tr>\n",
       "    <tr>\n",
       "      <th>extra-features/file-upload</th>\n",
       "      <td>1</td>\n",
       "    </tr>\n",
       "    <tr>\n",
       "      <th>4.3_control_structures</th>\n",
       "      <td>1</td>\n",
       "    </tr>\n",
       "    <tr>\n",
       "      <th>4.6.4_introduction_to_seaborn</th>\n",
       "      <td>1</td>\n",
       "    </tr>\n",
       "    <tr>\n",
       "      <th>3.1-mysql-introduction</th>\n",
       "      <td>1</td>\n",
       "    </tr>\n",
       "    <tr>\n",
       "      <th>5-stats/confusion-matrix</th>\n",
       "      <td>1</td>\n",
       "    </tr>\n",
       "  </tbody>\n",
       "</table>\n",
       "<p>776 rows × 1 columns</p>\n",
       "</div>"
      ],
      "text/plain": [
       "                                path\n",
       "/                              23374\n",
       "toc                            15006\n",
       "javascript-i                   13224\n",
       "search/search_index.json       11641\n",
       "java-iii                        9621\n",
       "...                              ...\n",
       "extra-features/file-upload         1\n",
       "4.3_control_structures             1\n",
       "4.6.4_introduction_to_seaborn      1\n",
       "3.1-mysql-introduction             1\n",
       "5-stats/confusion-matrix           1\n",
       "\n",
       "[776 rows x 1 columns]"
      ]
     },
     "execution_count": 22,
     "metadata": {},
     "output_type": "execute_result"
    }
   ],
   "source": [
    "# Shows the number of entries for each unique value in the 'path' column for the Full Stack Java Program\n",
    "q2_fsj_path_counts = q2_fsj['path'].value_counts().to_frame()\n",
    "q2_fsj_path_counts"
   ]
  },
  {
   "cell_type": "code",
   "execution_count": 23,
   "id": "ffaa0b26-5911-426d-8e42-473093392ffe",
   "metadata": {},
   "outputs": [
    {
     "data": {
      "text/html": [
       "<div>\n",
       "<style scoped>\n",
       "    .dataframe tbody tr th:only-of-type {\n",
       "        vertical-align: middle;\n",
       "    }\n",
       "\n",
       "    .dataframe tbody tr th {\n",
       "        vertical-align: top;\n",
       "    }\n",
       "\n",
       "    .dataframe thead th {\n",
       "        text-align: right;\n",
       "    }\n",
       "</style>\n",
       "<table border=\"1\" class=\"dataframe\">\n",
       "  <thead>\n",
       "    <tr style=\"text-align: right;\">\n",
       "      <th></th>\n",
       "      <th>path</th>\n",
       "      <th>user_id</th>\n",
       "      <th>cohort_id</th>\n",
       "      <th>ip</th>\n",
       "      <th>cohort</th>\n",
       "      <th>start_date</th>\n",
       "      <th>end_date</th>\n",
       "      <th>created_at</th>\n",
       "      <th>updated_at</th>\n",
       "      <th>programs</th>\n",
       "      <th>date_time</th>\n",
       "    </tr>\n",
       "  </thead>\n",
       "  <tbody>\n",
       "    <tr>\n",
       "      <th>326053</th>\n",
       "      <td>/</td>\n",
       "      <td>466</td>\n",
       "      <td>34.0</td>\n",
       "      <td>97.105.19.58</td>\n",
       "      <td>bayes</td>\n",
       "      <td>2019-08-19</td>\n",
       "      <td>2020-01-30</td>\n",
       "      <td>2019-08-20 14:38:55</td>\n",
       "      <td>2019-08-20 14:38:55</td>\n",
       "      <td>data_science</td>\n",
       "      <td>2019-08-20 09:39:58</td>\n",
       "    </tr>\n",
       "    <tr>\n",
       "      <th>326054</th>\n",
       "      <td>/</td>\n",
       "      <td>467</td>\n",
       "      <td>34.0</td>\n",
       "      <td>97.105.19.58</td>\n",
       "      <td>bayes</td>\n",
       "      <td>2019-08-19</td>\n",
       "      <td>2020-01-30</td>\n",
       "      <td>2019-08-20 14:38:55</td>\n",
       "      <td>2019-08-20 14:38:55</td>\n",
       "      <td>data_science</td>\n",
       "      <td>2019-08-20 09:39:59</td>\n",
       "    </tr>\n",
       "    <tr>\n",
       "      <th>326055</th>\n",
       "      <td>/</td>\n",
       "      <td>468</td>\n",
       "      <td>34.0</td>\n",
       "      <td>97.105.19.58</td>\n",
       "      <td>bayes</td>\n",
       "      <td>2019-08-19</td>\n",
       "      <td>2020-01-30</td>\n",
       "      <td>2019-08-20 14:38:55</td>\n",
       "      <td>2019-08-20 14:38:55</td>\n",
       "      <td>data_science</td>\n",
       "      <td>2019-08-20 09:39:59</td>\n",
       "    </tr>\n",
       "  </tbody>\n",
       "</table>\n",
       "</div>"
      ],
      "text/plain": [
       "       path  user_id  cohort_id            ip cohort start_date   end_date  \\\n",
       "326053    /      466       34.0  97.105.19.58  bayes 2019-08-19 2020-01-30   \n",
       "326054    /      467       34.0  97.105.19.58  bayes 2019-08-19 2020-01-30   \n",
       "326055    /      468       34.0  97.105.19.58  bayes 2019-08-19 2020-01-30   \n",
       "\n",
       "                created_at          updated_at      programs  \\\n",
       "326053 2019-08-20 14:38:55 2019-08-20 14:38:55  data_science   \n",
       "326054 2019-08-20 14:38:55 2019-08-20 14:38:55  data_science   \n",
       "326055 2019-08-20 14:38:55 2019-08-20 14:38:55  data_science   \n",
       "\n",
       "                 date_time  \n",
       "326053 2019-08-20 09:39:58  \n",
       "326054 2019-08-20 09:39:59  \n",
       "326055 2019-08-20 09:39:59  "
      ]
     },
     "execution_count": 23,
     "metadata": {},
     "output_type": "execute_result"
    }
   ],
   "source": [
    "# Shows a preview of the top of the Data Science program dataframe\n",
    "q2_ds.head(3)"
   ]
  },
  {
   "cell_type": "code",
   "execution_count": 24,
   "id": "a1f42984-3246-4278-8702-cb2c50a0d38d",
   "metadata": {},
   "outputs": [
    {
     "data": {
      "image/png": "[encoded data removed]",
      "text/plain": [
       "<Figure size 864x576 with 1 Axes>"
      ]
     },
     "metadata": {
      "needs_background": "light"
     },
     "output_type": "display_data"
    }
   ],
   "source": [
    "# Plots histogram of number of entries for all Full Stack Java cohorts\n",
    "plt.figure(figsize=(12,8))\n",
    "q2_ds['cohort'].hist()\n",
    "plt.xticks(rotation = 90)\n",
    "plt.show()"
   ]
  },
  {
   "cell_type": "code",
   "execution_count": 25,
   "id": "008bd81d-9c3e-479d-bed1-4231a8de130a",
   "metadata": {},
   "outputs": [],
   "source": [
    "# Assigns a variable to the list of fsj lessons\n",
    "q2_fsj_lessons = ['javascript-i', 'java-iii', 'html-css', 'java-ii', 'jquery', \n",
    "                  'mysql', 'spring', 'slides', 'web-design'] "
   ]
  },
  {
   "cell_type": "code",
   "execution_count": 26,
   "id": "48de94ad-cb89-43cb-8233-6ea6dfd96442",
   "metadata": {
    "tags": []
   },
   "outputs": [
    {
     "data": {
      "text/html": [
       "<div>\n",
       "<style scoped>\n",
       "    .dataframe tbody tr th:only-of-type {\n",
       "        vertical-align: middle;\n",
       "    }\n",
       "\n",
       "    .dataframe tbody tr th {\n",
       "        vertical-align: top;\n",
       "    }\n",
       "\n",
       "    .dataframe thead th {\n",
       "        text-align: right;\n",
       "    }\n",
       "</style>\n",
       "<table border=\"1\" class=\"dataframe\">\n",
       "  <thead>\n",
       "    <tr style=\"text-align: right;\">\n",
       "      <th></th>\n",
       "      <th>path</th>\n",
       "    </tr>\n",
       "  </thead>\n",
       "  <tbody>\n",
       "    <tr>\n",
       "      <th>/</th>\n",
       "      <td>6912</td>\n",
       "    </tr>\n",
       "    <tr>\n",
       "      <th>search/search_index.json</th>\n",
       "      <td>1710</td>\n",
       "    </tr>\n",
       "    <tr>\n",
       "      <th>1-fundamentals/modern-data-scientist.jpg</th>\n",
       "      <td>1527</td>\n",
       "    </tr>\n",
       "    <tr>\n",
       "      <th>1-fundamentals/AI-ML-DL-timeline.jpg</th>\n",
       "      <td>1524</td>\n",
       "    </tr>\n",
       "    <tr>\n",
       "      <th>classification/overview</th>\n",
       "      <td>1518</td>\n",
       "    </tr>\n",
       "    <tr>\n",
       "      <th>...</th>\n",
       "      <td>...</td>\n",
       "    </tr>\n",
       "    <tr>\n",
       "      <th>cli/4-navigating-the-filesystem</th>\n",
       "      <td>1</td>\n",
       "    </tr>\n",
       "    <tr>\n",
       "      <th>spring/extra-features/error-pages/asdfasdf</th>\n",
       "      <td>1</td>\n",
       "    </tr>\n",
       "    <tr>\n",
       "      <th>5-detecting-with-clustering</th>\n",
       "      <td>1</td>\n",
       "    </tr>\n",
       "    <tr>\n",
       "      <th>End_to_End_clustering</th>\n",
       "      <td>1</td>\n",
       "    </tr>\n",
       "    <tr>\n",
       "      <th>2.1-spreadsheets-overview</th>\n",
       "      <td>1</td>\n",
       "    </tr>\n",
       "  </tbody>\n",
       "</table>\n",
       "<p>662 rows × 1 columns</p>\n",
       "</div>"
      ],
      "text/plain": [
       "                                            path\n",
       "/                                           6912\n",
       "search/search_index.json                    1710\n",
       "1-fundamentals/modern-data-scientist.jpg    1527\n",
       "1-fundamentals/AI-ML-DL-timeline.jpg        1524\n",
       "classification/overview                     1518\n",
       "...                                          ...\n",
       "cli/4-navigating-the-filesystem                1\n",
       "spring/extra-features/error-pages/asdfasdf     1\n",
       "5-detecting-with-clustering                    1\n",
       "End_to_End_clustering                          1\n",
       "2.1-spreadsheets-overview                      1\n",
       "\n",
       "[662 rows x 1 columns]"
      ]
     },
     "execution_count": 26,
     "metadata": {},
     "output_type": "execute_result"
    }
   ],
   "source": [
    "# Shows the number of entries for each unique value in the 'path' column for the Data Science Program\n",
    "q2_ds_path_counts = q2_ds['path'].value_counts().to_frame()\n",
    "q2_ds_path_counts"
   ]
  },
  {
   "cell_type": "code",
   "execution_count": 27,
   "id": "c333ae47-9c72-483f-a66b-deb0de1e00ed",
   "metadata": {},
   "outputs": [],
   "source": [
    "# Assigns a variable to the list of ds lessons\n",
    "q2_ds_lessons = ['fundamentals', 'classification', 'sql', 'regression', 'anomaly-detection', \n",
    "             'python', 'stats', 'clustering', 'storytelling', 'timeseries', 'nlp', \n",
    "             'distributed-ml', 'advanced-topics']"
   ]
  },
  {
   "cell_type": "code",
   "execution_count": 28,
   "id": "384d4ca4-8262-4d04-9de4-60dd8f22ee9f",
   "metadata": {},
   "outputs": [
    {
     "data": {
      "text/html": [
       "<div>\n",
       "<style scoped>\n",
       "    .dataframe tbody tr th:only-of-type {\n",
       "        vertical-align: middle;\n",
       "    }\n",
       "\n",
       "    .dataframe tbody tr th {\n",
       "        vertical-align: top;\n",
       "    }\n",
       "\n",
       "    .dataframe thead th {\n",
       "        text-align: right;\n",
       "    }\n",
       "</style>\n",
       "<table border=\"1\" class=\"dataframe\">\n",
       "  <thead>\n",
       "    <tr style=\"text-align: right;\">\n",
       "      <th></th>\n",
       "      <th>path</th>\n",
       "      <th>user_id</th>\n",
       "      <th>cohort_id</th>\n",
       "      <th>ip</th>\n",
       "      <th>cohort</th>\n",
       "      <th>start_date</th>\n",
       "      <th>end_date</th>\n",
       "      <th>created_at</th>\n",
       "      <th>updated_at</th>\n",
       "      <th>programs</th>\n",
       "      <th>date_time</th>\n",
       "    </tr>\n",
       "  </thead>\n",
       "  <tbody>\n",
       "    <tr>\n",
       "      <th>326077</th>\n",
       "      <td>1-fundamentals/1.1-intro-to-data-science</td>\n",
       "      <td>469</td>\n",
       "      <td>34.0</td>\n",
       "      <td>97.105.19.58</td>\n",
       "      <td>bayes</td>\n",
       "      <td>2019-08-19</td>\n",
       "      <td>2020-01-30</td>\n",
       "      <td>2019-08-20 14:38:55</td>\n",
       "      <td>2019-08-20 14:38:55</td>\n",
       "      <td>data_science</td>\n",
       "      <td>2019-08-20 09:41:02</td>\n",
       "    </tr>\n",
       "    <tr>\n",
       "      <th>326078</th>\n",
       "      <td>1-fundamentals/modern-data-scientist.jpg</td>\n",
       "      <td>469</td>\n",
       "      <td>34.0</td>\n",
       "      <td>97.105.19.58</td>\n",
       "      <td>bayes</td>\n",
       "      <td>2019-08-19</td>\n",
       "      <td>2020-01-30</td>\n",
       "      <td>2019-08-20 14:38:55</td>\n",
       "      <td>2019-08-20 14:38:55</td>\n",
       "      <td>data_science</td>\n",
       "      <td>2019-08-20 09:41:02</td>\n",
       "    </tr>\n",
       "    <tr>\n",
       "      <th>326079</th>\n",
       "      <td>1-fundamentals/AI-ML-DL-timeline.jpg</td>\n",
       "      <td>469</td>\n",
       "      <td>34.0</td>\n",
       "      <td>97.105.19.58</td>\n",
       "      <td>bayes</td>\n",
       "      <td>2019-08-19</td>\n",
       "      <td>2020-01-30</td>\n",
       "      <td>2019-08-20 14:38:55</td>\n",
       "      <td>2019-08-20 14:38:55</td>\n",
       "      <td>data_science</td>\n",
       "      <td>2019-08-20 09:41:02</td>\n",
       "    </tr>\n",
       "  </tbody>\n",
       "</table>\n",
       "</div>"
      ],
      "text/plain": [
       "                                            path  user_id  cohort_id  \\\n",
       "326077  1-fundamentals/1.1-intro-to-data-science      469       34.0   \n",
       "326078  1-fundamentals/modern-data-scientist.jpg      469       34.0   \n",
       "326079      1-fundamentals/AI-ML-DL-timeline.jpg      469       34.0   \n",
       "\n",
       "                  ip cohort start_date   end_date          created_at  \\\n",
       "326077  97.105.19.58  bayes 2019-08-19 2020-01-30 2019-08-20 14:38:55   \n",
       "326078  97.105.19.58  bayes 2019-08-19 2020-01-30 2019-08-20 14:38:55   \n",
       "326079  97.105.19.58  bayes 2019-08-19 2020-01-30 2019-08-20 14:38:55   \n",
       "\n",
       "                updated_at      programs           date_time  \n",
       "326077 2019-08-20 14:38:55  data_science 2019-08-20 09:41:02  \n",
       "326078 2019-08-20 14:38:55  data_science 2019-08-20 09:41:02  \n",
       "326079 2019-08-20 14:38:55  data_science 2019-08-20 09:41:02  "
      ]
     },
     "execution_count": 28,
     "metadata": {},
     "output_type": "execute_result"
    }
   ],
   "source": [
    "# filtering the rows where that contain 'fundamentals'\n",
    "q2_ds_fundamentals = q2_ds[q2_ds['path'].str.contains('fundamentals')]\n",
    "q2_ds_fundamentals.head(3)"
   ]
  },
  {
   "cell_type": "code",
   "execution_count": 29,
   "id": "83d75015-269a-4150-8c5c-7d06856cb043",
   "metadata": {},
   "outputs": [
    {
     "data": {
      "text/html": [
       "<div>\n",
       "<style scoped>\n",
       "    .dataframe tbody tr th:only-of-type {\n",
       "        vertical-align: middle;\n",
       "    }\n",
       "\n",
       "    .dataframe tbody tr th {\n",
       "        vertical-align: top;\n",
       "    }\n",
       "\n",
       "    .dataframe thead th {\n",
       "        text-align: right;\n",
       "    }\n",
       "</style>\n",
       "<table border=\"1\" class=\"dataframe\">\n",
       "  <thead>\n",
       "    <tr style=\"text-align: right;\">\n",
       "      <th></th>\n",
       "      <th>path</th>\n",
       "      <th>user_id</th>\n",
       "      <th>cohort_id</th>\n",
       "      <th>ip</th>\n",
       "      <th>cohort</th>\n",
       "      <th>start_date</th>\n",
       "      <th>end_date</th>\n",
       "      <th>created_at</th>\n",
       "      <th>updated_at</th>\n",
       "      <th>programs</th>\n",
       "      <th>date_time</th>\n",
       "    </tr>\n",
       "  </thead>\n",
       "  <tbody>\n",
       "    <tr>\n",
       "      <th>327885</th>\n",
       "      <td>7-classification/1-overview</td>\n",
       "      <td>467</td>\n",
       "      <td>34.0</td>\n",
       "      <td>97.105.19.58</td>\n",
       "      <td>bayes</td>\n",
       "      <td>2019-08-19</td>\n",
       "      <td>2020-01-30</td>\n",
       "      <td>2019-08-20 14:38:55</td>\n",
       "      <td>2019-08-20 14:38:55</td>\n",
       "      <td>data_science</td>\n",
       "      <td>2019-08-21 13:36:31</td>\n",
       "    </tr>\n",
       "    <tr>\n",
       "      <th>327890</th>\n",
       "      <td>7-classification/2-intro-to-classification</td>\n",
       "      <td>467</td>\n",
       "      <td>34.0</td>\n",
       "      <td>97.105.19.58</td>\n",
       "      <td>bayes</td>\n",
       "      <td>2019-08-19</td>\n",
       "      <td>2020-01-30</td>\n",
       "      <td>2019-08-20 14:38:55</td>\n",
       "      <td>2019-08-20 14:38:55</td>\n",
       "      <td>data_science</td>\n",
       "      <td>2019-08-21 13:37:15</td>\n",
       "    </tr>\n",
       "    <tr>\n",
       "      <th>327891</th>\n",
       "      <td>7-classification/3-acquire</td>\n",
       "      <td>467</td>\n",
       "      <td>34.0</td>\n",
       "      <td>97.105.19.58</td>\n",
       "      <td>bayes</td>\n",
       "      <td>2019-08-19</td>\n",
       "      <td>2020-01-30</td>\n",
       "      <td>2019-08-20 14:38:55</td>\n",
       "      <td>2019-08-20 14:38:55</td>\n",
       "      <td>data_science</td>\n",
       "      <td>2019-08-21 13:37:19</td>\n",
       "    </tr>\n",
       "  </tbody>\n",
       "</table>\n",
       "</div>"
      ],
      "text/plain": [
       "                                              path  user_id  cohort_id  \\\n",
       "327885                 7-classification/1-overview      467       34.0   \n",
       "327890  7-classification/2-intro-to-classification      467       34.0   \n",
       "327891                  7-classification/3-acquire      467       34.0   \n",
       "\n",
       "                  ip cohort start_date   end_date          created_at  \\\n",
       "327885  97.105.19.58  bayes 2019-08-19 2020-01-30 2019-08-20 14:38:55   \n",
       "327890  97.105.19.58  bayes 2019-08-19 2020-01-30 2019-08-20 14:38:55   \n",
       "327891  97.105.19.58  bayes 2019-08-19 2020-01-30 2019-08-20 14:38:55   \n",
       "\n",
       "                updated_at      programs           date_time  \n",
       "327885 2019-08-20 14:38:55  data_science 2019-08-21 13:36:31  \n",
       "327890 2019-08-20 14:38:55  data_science 2019-08-21 13:37:15  \n",
       "327891 2019-08-20 14:38:55  data_science 2019-08-21 13:37:19  "
      ]
     },
     "execution_count": 29,
     "metadata": {},
     "output_type": "execute_result"
    }
   ],
   "source": [
    "# filtering the rows where that contain 'classification'\n",
    "q2_ds_classification = q2_ds[q2_ds['path'].str.contains('classification')]\n",
    "q2_ds_classification.head(3)"
   ]
  },
  {
   "cell_type": "code",
   "execution_count": 30,
   "id": "70db1bd4-e3e2-482b-b65e-918b034efea5",
   "metadata": {},
   "outputs": [
    {
     "data": {
      "text/html": [
       "<div>\n",
       "<style scoped>\n",
       "    .dataframe tbody tr th:only-of-type {\n",
       "        vertical-align: middle;\n",
       "    }\n",
       "\n",
       "    .dataframe tbody tr th {\n",
       "        vertical-align: top;\n",
       "    }\n",
       "\n",
       "    .dataframe thead th {\n",
       "        text-align: right;\n",
       "    }\n",
       "</style>\n",
       "<table border=\"1\" class=\"dataframe\">\n",
       "  <thead>\n",
       "    <tr style=\"text-align: right;\">\n",
       "      <th></th>\n",
       "      <th>path</th>\n",
       "      <th>user_id</th>\n",
       "      <th>cohort_id</th>\n",
       "      <th>ip</th>\n",
       "      <th>cohort</th>\n",
       "      <th>start_date</th>\n",
       "      <th>end_date</th>\n",
       "      <th>created_at</th>\n",
       "      <th>updated_at</th>\n",
       "      <th>programs</th>\n",
       "      <th>date_time</th>\n",
       "    </tr>\n",
       "  </thead>\n",
       "  <tbody>\n",
       "    <tr>\n",
       "      <th>326064</th>\n",
       "      <td>3-sql/1-mysql-overview</td>\n",
       "      <td>470</td>\n",
       "      <td>34.0</td>\n",
       "      <td>97.105.19.58</td>\n",
       "      <td>bayes</td>\n",
       "      <td>2019-08-19</td>\n",
       "      <td>2020-01-30</td>\n",
       "      <td>2019-08-20 14:38:55</td>\n",
       "      <td>2019-08-20 14:38:55</td>\n",
       "      <td>data_science</td>\n",
       "      <td>2019-08-20 09:40:28</td>\n",
       "    </tr>\n",
       "    <tr>\n",
       "      <th>330839</th>\n",
       "      <td>3-sql/2-mysql-introduction</td>\n",
       "      <td>470</td>\n",
       "      <td>34.0</td>\n",
       "      <td>97.105.19.58</td>\n",
       "      <td>bayes</td>\n",
       "      <td>2019-08-19</td>\n",
       "      <td>2020-01-30</td>\n",
       "      <td>2019-08-20 14:38:55</td>\n",
       "      <td>2019-08-20 14:38:55</td>\n",
       "      <td>data_science</td>\n",
       "      <td>2019-08-23 16:39:13</td>\n",
       "    </tr>\n",
       "    <tr>\n",
       "      <th>331082</th>\n",
       "      <td>3-sql/1-mysql-overview</td>\n",
       "      <td>470</td>\n",
       "      <td>34.0</td>\n",
       "      <td>66.69.81.250</td>\n",
       "      <td>bayes</td>\n",
       "      <td>2019-08-19</td>\n",
       "      <td>2020-01-30</td>\n",
       "      <td>2019-08-20 14:38:55</td>\n",
       "      <td>2019-08-20 14:38:55</td>\n",
       "      <td>data_science</td>\n",
       "      <td>2019-08-24 20:49:11</td>\n",
       "    </tr>\n",
       "  </tbody>\n",
       "</table>\n",
       "</div>"
      ],
      "text/plain": [
       "                              path  user_id  cohort_id            ip cohort  \\\n",
       "326064      3-sql/1-mysql-overview      470       34.0  97.105.19.58  bayes   \n",
       "330839  3-sql/2-mysql-introduction      470       34.0  97.105.19.58  bayes   \n",
       "331082      3-sql/1-mysql-overview      470       34.0  66.69.81.250  bayes   \n",
       "\n",
       "       start_date   end_date          created_at          updated_at  \\\n",
       "326064 2019-08-19 2020-01-30 2019-08-20 14:38:55 2019-08-20 14:38:55   \n",
       "330839 2019-08-19 2020-01-30 2019-08-20 14:38:55 2019-08-20 14:38:55   \n",
       "331082 2019-08-19 2020-01-30 2019-08-20 14:38:55 2019-08-20 14:38:55   \n",
       "\n",
       "            programs           date_time  \n",
       "326064  data_science 2019-08-20 09:40:28  \n",
       "330839  data_science 2019-08-23 16:39:13  \n",
       "331082  data_science 2019-08-24 20:49:11  "
      ]
     },
     "execution_count": 30,
     "metadata": {},
     "output_type": "execute_result"
    }
   ],
   "source": [
    "# filtering the rows where that contain 'sql'\n",
    "q2_ds_sql = q2_ds[q2_ds['path'].str.contains('sql')]\n",
    "q2_ds_sql.head(3)"
   ]
  },
  {
   "cell_type": "code",
   "execution_count": 31,
   "id": "31a70d4d-ac01-46a0-a3d2-cdf7079d0be9",
   "metadata": {},
   "outputs": [
    {
     "data": {
      "text/html": [
       "<div>\n",
       "<style scoped>\n",
       "    .dataframe tbody tr th:only-of-type {\n",
       "        vertical-align: middle;\n",
       "    }\n",
       "\n",
       "    .dataframe tbody tr th {\n",
       "        vertical-align: top;\n",
       "    }\n",
       "\n",
       "    .dataframe thead th {\n",
       "        text-align: right;\n",
       "    }\n",
       "</style>\n",
       "<table border=\"1\" class=\"dataframe\">\n",
       "  <thead>\n",
       "    <tr style=\"text-align: right;\">\n",
       "      <th></th>\n",
       "      <th>path</th>\n",
       "      <th>user_id</th>\n",
       "      <th>cohort_id</th>\n",
       "      <th>ip</th>\n",
       "      <th>cohort</th>\n",
       "      <th>start_date</th>\n",
       "      <th>end_date</th>\n",
       "      <th>created_at</th>\n",
       "      <th>updated_at</th>\n",
       "      <th>programs</th>\n",
       "      <th>date_time</th>\n",
       "    </tr>\n",
       "  </thead>\n",
       "  <tbody>\n",
       "    <tr>\n",
       "      <th>327851</th>\n",
       "      <td>6-regression/1-overview</td>\n",
       "      <td>467</td>\n",
       "      <td>34.0</td>\n",
       "      <td>97.105.19.58</td>\n",
       "      <td>bayes</td>\n",
       "      <td>2019-08-19</td>\n",
       "      <td>2020-01-30</td>\n",
       "      <td>2019-08-20 14:38:55</td>\n",
       "      <td>2019-08-20 14:38:55</td>\n",
       "      <td>data_science</td>\n",
       "      <td>2019-08-21 13:35:37</td>\n",
       "    </tr>\n",
       "    <tr>\n",
       "      <th>327852</th>\n",
       "      <td>6-regression/1-overview</td>\n",
       "      <td>479</td>\n",
       "      <td>34.0</td>\n",
       "      <td>97.105.19.58</td>\n",
       "      <td>bayes</td>\n",
       "      <td>2019-08-19</td>\n",
       "      <td>2020-01-30</td>\n",
       "      <td>2019-08-20 14:38:55</td>\n",
       "      <td>2019-08-20 14:38:55</td>\n",
       "      <td>data_science</td>\n",
       "      <td>2019-08-21 13:35:44</td>\n",
       "    </tr>\n",
       "    <tr>\n",
       "      <th>327853</th>\n",
       "      <td>6-regression/1-overview</td>\n",
       "      <td>481</td>\n",
       "      <td>34.0</td>\n",
       "      <td>97.105.19.58</td>\n",
       "      <td>bayes</td>\n",
       "      <td>2019-08-19</td>\n",
       "      <td>2020-01-30</td>\n",
       "      <td>2019-08-20 14:38:55</td>\n",
       "      <td>2019-08-20 14:38:55</td>\n",
       "      <td>data_science</td>\n",
       "      <td>2019-08-21 13:35:45</td>\n",
       "    </tr>\n",
       "  </tbody>\n",
       "</table>\n",
       "</div>"
      ],
      "text/plain": [
       "                           path  user_id  cohort_id            ip cohort  \\\n",
       "327851  6-regression/1-overview      467       34.0  97.105.19.58  bayes   \n",
       "327852  6-regression/1-overview      479       34.0  97.105.19.58  bayes   \n",
       "327853  6-regression/1-overview      481       34.0  97.105.19.58  bayes   \n",
       "\n",
       "       start_date   end_date          created_at          updated_at  \\\n",
       "327851 2019-08-19 2020-01-30 2019-08-20 14:38:55 2019-08-20 14:38:55   \n",
       "327852 2019-08-19 2020-01-30 2019-08-20 14:38:55 2019-08-20 14:38:55   \n",
       "327853 2019-08-19 2020-01-30 2019-08-20 14:38:55 2019-08-20 14:38:55   \n",
       "\n",
       "            programs           date_time  \n",
       "327851  data_science 2019-08-21 13:35:37  \n",
       "327852  data_science 2019-08-21 13:35:44  \n",
       "327853  data_science 2019-08-21 13:35:45  "
      ]
     },
     "execution_count": 31,
     "metadata": {},
     "output_type": "execute_result"
    }
   ],
   "source": [
    "# filtering the rows where that contain 'regression'\n",
    "q2_ds_regression = q2_ds[q2_ds['path'].str.contains('regression')]\n",
    "q2_ds_regression.head(3)"
   ]
  },
  {
   "cell_type": "code",
   "execution_count": 32,
   "id": "10506249-b190-4a1a-aa87-f1e6c4c6618a",
   "metadata": {},
   "outputs": [
    {
     "data": {
      "text/html": [
       "<div>\n",
       "<style scoped>\n",
       "    .dataframe tbody tr th:only-of-type {\n",
       "        vertical-align: middle;\n",
       "    }\n",
       "\n",
       "    .dataframe tbody tr th {\n",
       "        vertical-align: top;\n",
       "    }\n",
       "\n",
       "    .dataframe thead th {\n",
       "        text-align: right;\n",
       "    }\n",
       "</style>\n",
       "<table border=\"1\" class=\"dataframe\">\n",
       "  <thead>\n",
       "    <tr style=\"text-align: right;\">\n",
       "      <th></th>\n",
       "      <th>path</th>\n",
       "      <th>user_id</th>\n",
       "      <th>cohort_id</th>\n",
       "      <th>ip</th>\n",
       "      <th>cohort</th>\n",
       "      <th>start_date</th>\n",
       "      <th>end_date</th>\n",
       "      <th>created_at</th>\n",
       "      <th>updated_at</th>\n",
       "      <th>programs</th>\n",
       "      <th>date_time</th>\n",
       "    </tr>\n",
       "  </thead>\n",
       "  <tbody>\n",
       "    <tr>\n",
       "      <th>327856</th>\n",
       "      <td>10-anomaly-detection/1-overview</td>\n",
       "      <td>481</td>\n",
       "      <td>34.0</td>\n",
       "      <td>97.105.19.58</td>\n",
       "      <td>bayes</td>\n",
       "      <td>2019-08-19</td>\n",
       "      <td>2020-01-30</td>\n",
       "      <td>2019-08-20 14:38:55</td>\n",
       "      <td>2019-08-20 14:38:55</td>\n",
       "      <td>data_science</td>\n",
       "      <td>2019-08-21 13:35:51</td>\n",
       "    </tr>\n",
       "    <tr>\n",
       "      <th>327857</th>\n",
       "      <td>10-anomaly-detection/AnomalyDetectionCartoon.jpeg</td>\n",
       "      <td>481</td>\n",
       "      <td>34.0</td>\n",
       "      <td>97.105.19.58</td>\n",
       "      <td>bayes</td>\n",
       "      <td>2019-08-19</td>\n",
       "      <td>2020-01-30</td>\n",
       "      <td>2019-08-20 14:38:55</td>\n",
       "      <td>2019-08-20 14:38:55</td>\n",
       "      <td>data_science</td>\n",
       "      <td>2019-08-21 13:35:51</td>\n",
       "    </tr>\n",
       "    <tr>\n",
       "      <th>327864</th>\n",
       "      <td>10-anomaly-detection/1-overview</td>\n",
       "      <td>483</td>\n",
       "      <td>34.0</td>\n",
       "      <td>97.105.19.58</td>\n",
       "      <td>bayes</td>\n",
       "      <td>2019-08-19</td>\n",
       "      <td>2020-01-30</td>\n",
       "      <td>2019-08-20 14:38:55</td>\n",
       "      <td>2019-08-20 14:38:55</td>\n",
       "      <td>data_science</td>\n",
       "      <td>2019-08-21 13:35:59</td>\n",
       "    </tr>\n",
       "  </tbody>\n",
       "</table>\n",
       "</div>"
      ],
      "text/plain": [
       "                                                     path  user_id  cohort_id  \\\n",
       "327856                    10-anomaly-detection/1-overview      481       34.0   \n",
       "327857  10-anomaly-detection/AnomalyDetectionCartoon.jpeg      481       34.0   \n",
       "327864                    10-anomaly-detection/1-overview      483       34.0   \n",
       "\n",
       "                  ip cohort start_date   end_date          created_at  \\\n",
       "327856  97.105.19.58  bayes 2019-08-19 2020-01-30 2019-08-20 14:38:55   \n",
       "327857  97.105.19.58  bayes 2019-08-19 2020-01-30 2019-08-20 14:38:55   \n",
       "327864  97.105.19.58  bayes 2019-08-19 2020-01-30 2019-08-20 14:38:55   \n",
       "\n",
       "                updated_at      programs           date_time  \n",
       "327856 2019-08-20 14:38:55  data_science 2019-08-21 13:35:51  \n",
       "327857 2019-08-20 14:38:55  data_science 2019-08-21 13:35:51  \n",
       "327864 2019-08-20 14:38:55  data_science 2019-08-21 13:35:59  "
      ]
     },
     "execution_count": 32,
     "metadata": {},
     "output_type": "execute_result"
    }
   ],
   "source": [
    "# filtering the rows where that contain 'anomaly-detection'\n",
    "q2_ds_anomaly_detection = q2_ds[q2_ds['path'].str.contains('anomaly-detection')]\n",
    "q2_ds_anomaly_detection.head(3)"
   ]
  },
  {
   "cell_type": "code",
   "execution_count": 33,
   "id": "825c6502-f0fa-4959-a362-692ce0734948",
   "metadata": {},
   "outputs": [
    {
     "data": {
      "text/html": [
       "<div>\n",
       "<style scoped>\n",
       "    .dataframe tbody tr th:only-of-type {\n",
       "        vertical-align: middle;\n",
       "    }\n",
       "\n",
       "    .dataframe tbody tr th {\n",
       "        vertical-align: top;\n",
       "    }\n",
       "\n",
       "    .dataframe thead th {\n",
       "        text-align: right;\n",
       "    }\n",
       "</style>\n",
       "<table border=\"1\" class=\"dataframe\">\n",
       "  <thead>\n",
       "    <tr style=\"text-align: right;\">\n",
       "      <th></th>\n",
       "      <th>path</th>\n",
       "      <th>user_id</th>\n",
       "      <th>cohort_id</th>\n",
       "      <th>ip</th>\n",
       "      <th>cohort</th>\n",
       "      <th>start_date</th>\n",
       "      <th>end_date</th>\n",
       "      <th>created_at</th>\n",
       "      <th>updated_at</th>\n",
       "      <th>programs</th>\n",
       "      <th>date_time</th>\n",
       "    </tr>\n",
       "  </thead>\n",
       "  <tbody>\n",
       "    <tr>\n",
       "      <th>333836</th>\n",
       "      <td>4-python/project</td>\n",
       "      <td>472</td>\n",
       "      <td>34.0</td>\n",
       "      <td>97.105.19.58</td>\n",
       "      <td>bayes</td>\n",
       "      <td>2019-08-19</td>\n",
       "      <td>2020-01-30</td>\n",
       "      <td>2019-08-20 14:38:55</td>\n",
       "      <td>2019-08-20 14:38:55</td>\n",
       "      <td>data_science</td>\n",
       "      <td>2019-08-27 14:16:47</td>\n",
       "    </tr>\n",
       "    <tr>\n",
       "      <th>333857</th>\n",
       "      <td>4-python/6-imports</td>\n",
       "      <td>472</td>\n",
       "      <td>34.0</td>\n",
       "      <td>97.105.19.58</td>\n",
       "      <td>bayes</td>\n",
       "      <td>2019-08-19</td>\n",
       "      <td>2020-01-30</td>\n",
       "      <td>2019-08-20 14:38:55</td>\n",
       "      <td>2019-08-20 14:38:55</td>\n",
       "      <td>data_science</td>\n",
       "      <td>2019-08-27 14:18:50</td>\n",
       "    </tr>\n",
       "    <tr>\n",
       "      <th>334501</th>\n",
       "      <td>4-python/project</td>\n",
       "      <td>470</td>\n",
       "      <td>34.0</td>\n",
       "      <td>97.105.19.58</td>\n",
       "      <td>bayes</td>\n",
       "      <td>2019-08-19</td>\n",
       "      <td>2020-01-30</td>\n",
       "      <td>2019-08-20 14:38:55</td>\n",
       "      <td>2019-08-20 14:38:55</td>\n",
       "      <td>data_science</td>\n",
       "      <td>2019-08-28 09:06:29</td>\n",
       "    </tr>\n",
       "  </tbody>\n",
       "</table>\n",
       "</div>"
      ],
      "text/plain": [
       "                      path  user_id  cohort_id            ip cohort  \\\n",
       "333836    4-python/project      472       34.0  97.105.19.58  bayes   \n",
       "333857  4-python/6-imports      472       34.0  97.105.19.58  bayes   \n",
       "334501    4-python/project      470       34.0  97.105.19.58  bayes   \n",
       "\n",
       "       start_date   end_date          created_at          updated_at  \\\n",
       "333836 2019-08-19 2020-01-30 2019-08-20 14:38:55 2019-08-20 14:38:55   \n",
       "333857 2019-08-19 2020-01-30 2019-08-20 14:38:55 2019-08-20 14:38:55   \n",
       "334501 2019-08-19 2020-01-30 2019-08-20 14:38:55 2019-08-20 14:38:55   \n",
       "\n",
       "            programs           date_time  \n",
       "333836  data_science 2019-08-27 14:16:47  \n",
       "333857  data_science 2019-08-27 14:18:50  \n",
       "334501  data_science 2019-08-28 09:06:29  "
      ]
     },
     "execution_count": 33,
     "metadata": {},
     "output_type": "execute_result"
    }
   ],
   "source": [
    "# filtering the rows where that contain 'python'\n",
    "q2_ds_python = q2_ds[q2_ds['path'].str.contains('python')]\n",
    "q2_ds_python.head(3)"
   ]
  },
  {
   "cell_type": "code",
   "execution_count": 34,
   "id": "777b0dc9-0939-4ab2-becc-b449f1412b94",
   "metadata": {},
   "outputs": [
    {
     "data": {
      "text/html": [
       "<div>\n",
       "<style scoped>\n",
       "    .dataframe tbody tr th:only-of-type {\n",
       "        vertical-align: middle;\n",
       "    }\n",
       "\n",
       "    .dataframe tbody tr th {\n",
       "        vertical-align: top;\n",
       "    }\n",
       "\n",
       "    .dataframe thead th {\n",
       "        text-align: right;\n",
       "    }\n",
       "</style>\n",
       "<table border=\"1\" class=\"dataframe\">\n",
       "  <thead>\n",
       "    <tr style=\"text-align: right;\">\n",
       "      <th></th>\n",
       "      <th>path</th>\n",
       "      <th>user_id</th>\n",
       "      <th>cohort_id</th>\n",
       "      <th>ip</th>\n",
       "      <th>cohort</th>\n",
       "      <th>start_date</th>\n",
       "      <th>end_date</th>\n",
       "      <th>created_at</th>\n",
       "      <th>updated_at</th>\n",
       "      <th>programs</th>\n",
       "      <th>date_time</th>\n",
       "    </tr>\n",
       "  </thead>\n",
       "  <tbody>\n",
       "    <tr>\n",
       "      <th>327912</th>\n",
       "      <td>5-stats/1-overview</td>\n",
       "      <td>483</td>\n",
       "      <td>34.0</td>\n",
       "      <td>97.105.19.58</td>\n",
       "      <td>bayes</td>\n",
       "      <td>2019-08-19</td>\n",
       "      <td>2020-01-30</td>\n",
       "      <td>2019-08-20 14:38:55</td>\n",
       "      <td>2019-08-20 14:38:55</td>\n",
       "      <td>data_science</td>\n",
       "      <td>2019-08-21 13:38:24</td>\n",
       "    </tr>\n",
       "    <tr>\n",
       "      <th>327913</th>\n",
       "      <td>5-stats/1-overview</td>\n",
       "      <td>483</td>\n",
       "      <td>34.0</td>\n",
       "      <td>97.105.19.58</td>\n",
       "      <td>bayes</td>\n",
       "      <td>2019-08-19</td>\n",
       "      <td>2020-01-30</td>\n",
       "      <td>2019-08-20 14:38:55</td>\n",
       "      <td>2019-08-20 14:38:55</td>\n",
       "      <td>data_science</td>\n",
       "      <td>2019-08-21 13:40:02</td>\n",
       "    </tr>\n",
       "    <tr>\n",
       "      <th>334819</th>\n",
       "      <td>5-stats/4.2-compare-means</td>\n",
       "      <td>469</td>\n",
       "      <td>34.0</td>\n",
       "      <td>97.105.19.58</td>\n",
       "      <td>bayes</td>\n",
       "      <td>2019-08-19</td>\n",
       "      <td>2020-01-30</td>\n",
       "      <td>2019-08-20 14:38:55</td>\n",
       "      <td>2019-08-20 14:38:55</td>\n",
       "      <td>data_science</td>\n",
       "      <td>2019-08-28 11:10:50</td>\n",
       "    </tr>\n",
       "  </tbody>\n",
       "</table>\n",
       "</div>"
      ],
      "text/plain": [
       "                             path  user_id  cohort_id            ip cohort  \\\n",
       "327912         5-stats/1-overview      483       34.0  97.105.19.58  bayes   \n",
       "327913         5-stats/1-overview      483       34.0  97.105.19.58  bayes   \n",
       "334819  5-stats/4.2-compare-means      469       34.0  97.105.19.58  bayes   \n",
       "\n",
       "       start_date   end_date          created_at          updated_at  \\\n",
       "327912 2019-08-19 2020-01-30 2019-08-20 14:38:55 2019-08-20 14:38:55   \n",
       "327913 2019-08-19 2020-01-30 2019-08-20 14:38:55 2019-08-20 14:38:55   \n",
       "334819 2019-08-19 2020-01-30 2019-08-20 14:38:55 2019-08-20 14:38:55   \n",
       "\n",
       "            programs           date_time  \n",
       "327912  data_science 2019-08-21 13:38:24  \n",
       "327913  data_science 2019-08-21 13:40:02  \n",
       "334819  data_science 2019-08-28 11:10:50  "
      ]
     },
     "execution_count": 34,
     "metadata": {},
     "output_type": "execute_result"
    }
   ],
   "source": [
    "# filtering the rows where that contain 'stats'\n",
    "q2_ds_stats = q2_ds[q2_ds['path'].str.contains('stats')]\n",
    "q2_ds_stats.head(3)"
   ]
  },
  {
   "cell_type": "code",
   "execution_count": 35,
   "id": "f65be291-8ab1-4639-bb21-80e9ced1e83c",
   "metadata": {},
   "outputs": [
    {
     "data": {
      "text/html": [
       "<div>\n",
       "<style scoped>\n",
       "    .dataframe tbody tr th:only-of-type {\n",
       "        vertical-align: middle;\n",
       "    }\n",
       "\n",
       "    .dataframe tbody tr th {\n",
       "        vertical-align: top;\n",
       "    }\n",
       "\n",
       "    .dataframe thead th {\n",
       "        text-align: right;\n",
       "    }\n",
       "</style>\n",
       "<table border=\"1\" class=\"dataframe\">\n",
       "  <thead>\n",
       "    <tr style=\"text-align: right;\">\n",
       "      <th></th>\n",
       "      <th>path</th>\n",
       "      <th>user_id</th>\n",
       "      <th>cohort_id</th>\n",
       "      <th>ip</th>\n",
       "      <th>cohort</th>\n",
       "      <th>start_date</th>\n",
       "      <th>end_date</th>\n",
       "      <th>created_at</th>\n",
       "      <th>updated_at</th>\n",
       "      <th>programs</th>\n",
       "      <th>date_time</th>\n",
       "    </tr>\n",
       "  </thead>\n",
       "  <tbody>\n",
       "    <tr>\n",
       "      <th>327900</th>\n",
       "      <td>8-clustering/1-overview</td>\n",
       "      <td>467</td>\n",
       "      <td>34.0</td>\n",
       "      <td>97.105.19.58</td>\n",
       "      <td>bayes</td>\n",
       "      <td>2019-08-19</td>\n",
       "      <td>2020-01-30</td>\n",
       "      <td>2019-08-20 14:38:55</td>\n",
       "      <td>2019-08-20 14:38:55</td>\n",
       "      <td>data_science</td>\n",
       "      <td>2019-08-21 13:37:30</td>\n",
       "    </tr>\n",
       "    <tr>\n",
       "      <th>327901</th>\n",
       "      <td>8-clustering/2-about</td>\n",
       "      <td>467</td>\n",
       "      <td>34.0</td>\n",
       "      <td>97.105.19.58</td>\n",
       "      <td>bayes</td>\n",
       "      <td>2019-08-19</td>\n",
       "      <td>2020-01-30</td>\n",
       "      <td>2019-08-20 14:38:55</td>\n",
       "      <td>2019-08-20 14:38:55</td>\n",
       "      <td>data_science</td>\n",
       "      <td>2019-08-21 13:37:36</td>\n",
       "    </tr>\n",
       "    <tr>\n",
       "      <th>327902</th>\n",
       "      <td>8-clustering/Hospital-Distance-Clusters.jpg</td>\n",
       "      <td>467</td>\n",
       "      <td>34.0</td>\n",
       "      <td>97.105.19.58</td>\n",
       "      <td>bayes</td>\n",
       "      <td>2019-08-19</td>\n",
       "      <td>2020-01-30</td>\n",
       "      <td>2019-08-20 14:38:55</td>\n",
       "      <td>2019-08-20 14:38:55</td>\n",
       "      <td>data_science</td>\n",
       "      <td>2019-08-21 13:37:37</td>\n",
       "    </tr>\n",
       "  </tbody>\n",
       "</table>\n",
       "</div>"
      ],
      "text/plain": [
       "                                               path  user_id  cohort_id  \\\n",
       "327900                      8-clustering/1-overview      467       34.0   \n",
       "327901                         8-clustering/2-about      467       34.0   \n",
       "327902  8-clustering/Hospital-Distance-Clusters.jpg      467       34.0   \n",
       "\n",
       "                  ip cohort start_date   end_date          created_at  \\\n",
       "327900  97.105.19.58  bayes 2019-08-19 2020-01-30 2019-08-20 14:38:55   \n",
       "327901  97.105.19.58  bayes 2019-08-19 2020-01-30 2019-08-20 14:38:55   \n",
       "327902  97.105.19.58  bayes 2019-08-19 2020-01-30 2019-08-20 14:38:55   \n",
       "\n",
       "                updated_at      programs           date_time  \n",
       "327900 2019-08-20 14:38:55  data_science 2019-08-21 13:37:30  \n",
       "327901 2019-08-20 14:38:55  data_science 2019-08-21 13:37:36  \n",
       "327902 2019-08-20 14:38:55  data_science 2019-08-21 13:37:37  "
      ]
     },
     "execution_count": 35,
     "metadata": {},
     "output_type": "execute_result"
    }
   ],
   "source": [
    "# filtering the rows where that contain 'clustering'\n",
    "q2_ds_clustering = q2_ds[q2_ds['path'].str.contains('clustering')]\n",
    "q2_ds_clustering.head(3)"
   ]
  },
  {
   "cell_type": "code",
   "execution_count": 36,
   "id": "e63db333-3b41-4383-b192-dce6f8cba105",
   "metadata": {},
   "outputs": [
    {
     "data": {
      "text/html": [
       "<div>\n",
       "<style scoped>\n",
       "    .dataframe tbody tr th:only-of-type {\n",
       "        vertical-align: middle;\n",
       "    }\n",
       "\n",
       "    .dataframe tbody tr th {\n",
       "        vertical-align: top;\n",
       "    }\n",
       "\n",
       "    .dataframe thead th {\n",
       "        text-align: right;\n",
       "    }\n",
       "</style>\n",
       "<table border=\"1\" class=\"dataframe\">\n",
       "  <thead>\n",
       "    <tr style=\"text-align: right;\">\n",
       "      <th></th>\n",
       "      <th>path</th>\n",
       "      <th>user_id</th>\n",
       "      <th>cohort_id</th>\n",
       "      <th>ip</th>\n",
       "      <th>cohort</th>\n",
       "      <th>start_date</th>\n",
       "      <th>end_date</th>\n",
       "      <th>created_at</th>\n",
       "      <th>updated_at</th>\n",
       "      <th>programs</th>\n",
       "      <th>date_time</th>\n",
       "    </tr>\n",
       "  </thead>\n",
       "  <tbody>\n",
       "    <tr>\n",
       "      <th>326067</th>\n",
       "      <td>2-storytelling/bad-charts</td>\n",
       "      <td>467</td>\n",
       "      <td>34.0</td>\n",
       "      <td>97.105.19.58</td>\n",
       "      <td>bayes</td>\n",
       "      <td>2019-08-19</td>\n",
       "      <td>2020-01-30</td>\n",
       "      <td>2019-08-20 14:38:55</td>\n",
       "      <td>2019-08-20 14:38:55</td>\n",
       "      <td>data_science</td>\n",
       "      <td>2019-08-20 09:40:30</td>\n",
       "    </tr>\n",
       "    <tr>\n",
       "      <th>326068</th>\n",
       "      <td>2-storytelling/misleading1_baseball.jpg</td>\n",
       "      <td>467</td>\n",
       "      <td>34.0</td>\n",
       "      <td>97.105.19.58</td>\n",
       "      <td>bayes</td>\n",
       "      <td>2019-08-19</td>\n",
       "      <td>2020-01-30</td>\n",
       "      <td>2019-08-20 14:38:55</td>\n",
       "      <td>2019-08-20 14:38:55</td>\n",
       "      <td>data_science</td>\n",
       "      <td>2019-08-20 09:40:30</td>\n",
       "    </tr>\n",
       "    <tr>\n",
       "      <th>326069</th>\n",
       "      <td>2-storytelling/misleading1_fox.jpg</td>\n",
       "      <td>467</td>\n",
       "      <td>34.0</td>\n",
       "      <td>97.105.19.58</td>\n",
       "      <td>bayes</td>\n",
       "      <td>2019-08-19</td>\n",
       "      <td>2020-01-30</td>\n",
       "      <td>2019-08-20 14:38:55</td>\n",
       "      <td>2019-08-20 14:38:55</td>\n",
       "      <td>data_science</td>\n",
       "      <td>2019-08-20 09:40:30</td>\n",
       "    </tr>\n",
       "  </tbody>\n",
       "</table>\n",
       "</div>"
      ],
      "text/plain": [
       "                                           path  user_id  cohort_id  \\\n",
       "326067                2-storytelling/bad-charts      467       34.0   \n",
       "326068  2-storytelling/misleading1_baseball.jpg      467       34.0   \n",
       "326069       2-storytelling/misleading1_fox.jpg      467       34.0   \n",
       "\n",
       "                  ip cohort start_date   end_date          created_at  \\\n",
       "326067  97.105.19.58  bayes 2019-08-19 2020-01-30 2019-08-20 14:38:55   \n",
       "326068  97.105.19.58  bayes 2019-08-19 2020-01-30 2019-08-20 14:38:55   \n",
       "326069  97.105.19.58  bayes 2019-08-19 2020-01-30 2019-08-20 14:38:55   \n",
       "\n",
       "                updated_at      programs           date_time  \n",
       "326067 2019-08-20 14:38:55  data_science 2019-08-20 09:40:30  \n",
       "326068 2019-08-20 14:38:55  data_science 2019-08-20 09:40:30  \n",
       "326069 2019-08-20 14:38:55  data_science 2019-08-20 09:40:30  "
      ]
     },
     "execution_count": 36,
     "metadata": {},
     "output_type": "execute_result"
    }
   ],
   "source": [
    "# filtering the rows where that contain 'storytelling'\n",
    "q2_ds_storytelling = q2_ds[q2_ds['path'].str.contains('storytelling')]\n",
    "q2_ds_storytelling.head(3)"
   ]
  },
  {
   "cell_type": "code",
   "execution_count": 37,
   "id": "9cf19d1e-0c24-4bd6-83c4-168e936fee6e",
   "metadata": {
    "tags": []
   },
   "outputs": [
    {
     "data": {
      "text/html": [
       "<div>\n",
       "<style scoped>\n",
       "    .dataframe tbody tr th:only-of-type {\n",
       "        vertical-align: middle;\n",
       "    }\n",
       "\n",
       "    .dataframe tbody tr th {\n",
       "        vertical-align: top;\n",
       "    }\n",
       "\n",
       "    .dataframe thead th {\n",
       "        text-align: right;\n",
       "    }\n",
       "</style>\n",
       "<table border=\"1\" class=\"dataframe\">\n",
       "  <thead>\n",
       "    <tr style=\"text-align: right;\">\n",
       "      <th></th>\n",
       "      <th>path</th>\n",
       "      <th>user_id</th>\n",
       "      <th>cohort_id</th>\n",
       "      <th>ip</th>\n",
       "      <th>cohort</th>\n",
       "      <th>start_date</th>\n",
       "      <th>end_date</th>\n",
       "      <th>created_at</th>\n",
       "      <th>updated_at</th>\n",
       "      <th>programs</th>\n",
       "      <th>date_time</th>\n",
       "    </tr>\n",
       "  </thead>\n",
       "  <tbody>\n",
       "    <tr>\n",
       "      <th>327909</th>\n",
       "      <td>9-timeseries/1-overview</td>\n",
       "      <td>467</td>\n",
       "      <td>34.0</td>\n",
       "      <td>97.105.19.58</td>\n",
       "      <td>bayes</td>\n",
       "      <td>2019-08-19</td>\n",
       "      <td>2020-01-30</td>\n",
       "      <td>2019-08-20 14:38:55</td>\n",
       "      <td>2019-08-20 14:38:55</td>\n",
       "      <td>data_science</td>\n",
       "      <td>2019-08-21 13:38:00</td>\n",
       "    </tr>\n",
       "    <tr>\n",
       "      <th>327910</th>\n",
       "      <td>9-timeseries/project</td>\n",
       "      <td>467</td>\n",
       "      <td>34.0</td>\n",
       "      <td>97.105.19.58</td>\n",
       "      <td>bayes</td>\n",
       "      <td>2019-08-19</td>\n",
       "      <td>2020-01-30</td>\n",
       "      <td>2019-08-20 14:38:55</td>\n",
       "      <td>2019-08-20 14:38:55</td>\n",
       "      <td>data_science</td>\n",
       "      <td>2019-08-21 13:38:01</td>\n",
       "    </tr>\n",
       "    <tr>\n",
       "      <th>327940</th>\n",
       "      <td>9-timeseries/1-overview</td>\n",
       "      <td>467</td>\n",
       "      <td>34.0</td>\n",
       "      <td>97.105.19.58</td>\n",
       "      <td>bayes</td>\n",
       "      <td>2019-08-19</td>\n",
       "      <td>2020-01-30</td>\n",
       "      <td>2019-08-20 14:38:55</td>\n",
       "      <td>2019-08-20 14:38:55</td>\n",
       "      <td>data_science</td>\n",
       "      <td>2019-08-21 13:54:54</td>\n",
       "    </tr>\n",
       "  </tbody>\n",
       "</table>\n",
       "</div>"
      ],
      "text/plain": [
       "                           path  user_id  cohort_id            ip cohort  \\\n",
       "327909  9-timeseries/1-overview      467       34.0  97.105.19.58  bayes   \n",
       "327910     9-timeseries/project      467       34.0  97.105.19.58  bayes   \n",
       "327940  9-timeseries/1-overview      467       34.0  97.105.19.58  bayes   \n",
       "\n",
       "       start_date   end_date          created_at          updated_at  \\\n",
       "327909 2019-08-19 2020-01-30 2019-08-20 14:38:55 2019-08-20 14:38:55   \n",
       "327910 2019-08-19 2020-01-30 2019-08-20 14:38:55 2019-08-20 14:38:55   \n",
       "327940 2019-08-19 2020-01-30 2019-08-20 14:38:55 2019-08-20 14:38:55   \n",
       "\n",
       "            programs           date_time  \n",
       "327909  data_science 2019-08-21 13:38:00  \n",
       "327910  data_science 2019-08-21 13:38:01  \n",
       "327940  data_science 2019-08-21 13:54:54  "
      ]
     },
     "execution_count": 37,
     "metadata": {},
     "output_type": "execute_result"
    }
   ],
   "source": [
    "# filtering the rows where that contain 'timeseries'\n",
    "q2_ds_timeseries = q2_ds[q2_ds['path'].str.contains('timeseries')]\n",
    "q2_ds_timeseries.head(3)"
   ]
  },
  {
   "cell_type": "code",
   "execution_count": 38,
   "id": "7434a26f-a4b7-463e-9511-2a4c9152ab21",
   "metadata": {},
   "outputs": [
    {
     "data": {
      "text/html": [
       "<div>\n",
       "<style scoped>\n",
       "    .dataframe tbody tr th:only-of-type {\n",
       "        vertical-align: middle;\n",
       "    }\n",
       "\n",
       "    .dataframe tbody tr th {\n",
       "        vertical-align: top;\n",
       "    }\n",
       "\n",
       "    .dataframe thead th {\n",
       "        text-align: right;\n",
       "    }\n",
       "</style>\n",
       "<table border=\"1\" class=\"dataframe\">\n",
       "  <thead>\n",
       "    <tr style=\"text-align: right;\">\n",
       "      <th></th>\n",
       "      <th>path</th>\n",
       "      <th>user_id</th>\n",
       "      <th>cohort_id</th>\n",
       "      <th>ip</th>\n",
       "      <th>cohort</th>\n",
       "      <th>start_date</th>\n",
       "      <th>end_date</th>\n",
       "      <th>created_at</th>\n",
       "      <th>updated_at</th>\n",
       "      <th>programs</th>\n",
       "      <th>date_time</th>\n",
       "    </tr>\n",
       "  </thead>\n",
       "  <tbody>\n",
       "    <tr>\n",
       "      <th>327867</th>\n",
       "      <td>11-nlp/1-overview</td>\n",
       "      <td>471</td>\n",
       "      <td>34.0</td>\n",
       "      <td>97.105.19.58</td>\n",
       "      <td>bayes</td>\n",
       "      <td>2019-08-19</td>\n",
       "      <td>2020-01-30</td>\n",
       "      <td>2019-08-20 14:38:55</td>\n",
       "      <td>2019-08-20 14:38:55</td>\n",
       "      <td>data_science</td>\n",
       "      <td>2019-08-21 13:36:05</td>\n",
       "    </tr>\n",
       "    <tr>\n",
       "      <th>327881</th>\n",
       "      <td>11-nlp/1-overview</td>\n",
       "      <td>483</td>\n",
       "      <td>34.0</td>\n",
       "      <td>97.105.19.58</td>\n",
       "      <td>bayes</td>\n",
       "      <td>2019-08-19</td>\n",
       "      <td>2020-01-30</td>\n",
       "      <td>2019-08-20 14:38:55</td>\n",
       "      <td>2019-08-20 14:38:55</td>\n",
       "      <td>data_science</td>\n",
       "      <td>2019-08-21 13:36:28</td>\n",
       "    </tr>\n",
       "    <tr>\n",
       "      <th>328890</th>\n",
       "      <td>11-nlp/1-overview</td>\n",
       "      <td>473</td>\n",
       "      <td>34.0</td>\n",
       "      <td>208.54.86.133</td>\n",
       "      <td>bayes</td>\n",
       "      <td>2019-08-19</td>\n",
       "      <td>2020-01-30</td>\n",
       "      <td>2019-08-20 14:38:55</td>\n",
       "      <td>2019-08-20 14:38:55</td>\n",
       "      <td>data_science</td>\n",
       "      <td>2019-08-22 08:23:05</td>\n",
       "    </tr>\n",
       "  </tbody>\n",
       "</table>\n",
       "</div>"
      ],
      "text/plain": [
       "                     path  user_id  cohort_id             ip cohort  \\\n",
       "327867  11-nlp/1-overview      471       34.0   97.105.19.58  bayes   \n",
       "327881  11-nlp/1-overview      483       34.0   97.105.19.58  bayes   \n",
       "328890  11-nlp/1-overview      473       34.0  208.54.86.133  bayes   \n",
       "\n",
       "       start_date   end_date          created_at          updated_at  \\\n",
       "327867 2019-08-19 2020-01-30 2019-08-20 14:38:55 2019-08-20 14:38:55   \n",
       "327881 2019-08-19 2020-01-30 2019-08-20 14:38:55 2019-08-20 14:38:55   \n",
       "328890 2019-08-19 2020-01-30 2019-08-20 14:38:55 2019-08-20 14:38:55   \n",
       "\n",
       "            programs           date_time  \n",
       "327867  data_science 2019-08-21 13:36:05  \n",
       "327881  data_science 2019-08-21 13:36:28  \n",
       "328890  data_science 2019-08-22 08:23:05  "
      ]
     },
     "execution_count": 38,
     "metadata": {},
     "output_type": "execute_result"
    }
   ],
   "source": [
    "# filtering the rows where that contain 'nlp'\n",
    "q2_ds_nlp = q2_ds[q2_ds['path'].str.contains('nlp')]\n",
    "q2_ds_nlp.head(3)"
   ]
  },
  {
   "cell_type": "code",
   "execution_count": 39,
   "id": "dbe654f9-0ce6-4d6b-9844-1ca6d0bdaf79",
   "metadata": {},
   "outputs": [
    {
     "data": {
      "text/html": [
       "<div>\n",
       "<style scoped>\n",
       "    .dataframe tbody tr th:only-of-type {\n",
       "        vertical-align: middle;\n",
       "    }\n",
       "\n",
       "    .dataframe tbody tr th {\n",
       "        vertical-align: top;\n",
       "    }\n",
       "\n",
       "    .dataframe thead th {\n",
       "        text-align: right;\n",
       "    }\n",
       "</style>\n",
       "<table border=\"1\" class=\"dataframe\">\n",
       "  <thead>\n",
       "    <tr style=\"text-align: right;\">\n",
       "      <th></th>\n",
       "      <th>path</th>\n",
       "      <th>user_id</th>\n",
       "      <th>cohort_id</th>\n",
       "      <th>ip</th>\n",
       "      <th>cohort</th>\n",
       "      <th>start_date</th>\n",
       "      <th>end_date</th>\n",
       "      <th>created_at</th>\n",
       "      <th>updated_at</th>\n",
       "      <th>programs</th>\n",
       "      <th>date_time</th>\n",
       "    </tr>\n",
       "  </thead>\n",
       "  <tbody>\n",
       "    <tr>\n",
       "      <th>353721</th>\n",
       "      <td>12-distributed-ml/topic-modeling</td>\n",
       "      <td>484</td>\n",
       "      <td>34.0</td>\n",
       "      <td>70.117.31.136</td>\n",
       "      <td>bayes</td>\n",
       "      <td>2019-08-19</td>\n",
       "      <td>2020-01-30</td>\n",
       "      <td>2019-08-20 14:38:55</td>\n",
       "      <td>2019-08-20 14:38:55</td>\n",
       "      <td>data_science</td>\n",
       "      <td>2019-09-22 22:18:55</td>\n",
       "    </tr>\n",
       "    <tr>\n",
       "      <th>353878</th>\n",
       "      <td>12-distributed-ml/1-overview</td>\n",
       "      <td>484</td>\n",
       "      <td>34.0</td>\n",
       "      <td>70.117.31.136</td>\n",
       "      <td>bayes</td>\n",
       "      <td>2019-08-19</td>\n",
       "      <td>2020-01-30</td>\n",
       "      <td>2019-08-20 14:38:55</td>\n",
       "      <td>2019-08-20 14:38:55</td>\n",
       "      <td>data_science</td>\n",
       "      <td>2019-09-23 00:38:58</td>\n",
       "    </tr>\n",
       "    <tr>\n",
       "      <th>353879</th>\n",
       "      <td>12-distributed-ml/2-environment-setup</td>\n",
       "      <td>484</td>\n",
       "      <td>34.0</td>\n",
       "      <td>70.117.31.136</td>\n",
       "      <td>bayes</td>\n",
       "      <td>2019-08-19</td>\n",
       "      <td>2020-01-30</td>\n",
       "      <td>2019-08-20 14:38:55</td>\n",
       "      <td>2019-08-20 14:38:55</td>\n",
       "      <td>data_science</td>\n",
       "      <td>2019-09-23 00:39:36</td>\n",
       "    </tr>\n",
       "  </tbody>\n",
       "</table>\n",
       "</div>"
      ],
      "text/plain": [
       "                                         path  user_id  cohort_id  \\\n",
       "353721       12-distributed-ml/topic-modeling      484       34.0   \n",
       "353878           12-distributed-ml/1-overview      484       34.0   \n",
       "353879  12-distributed-ml/2-environment-setup      484       34.0   \n",
       "\n",
       "                   ip cohort start_date   end_date          created_at  \\\n",
       "353721  70.117.31.136  bayes 2019-08-19 2020-01-30 2019-08-20 14:38:55   \n",
       "353878  70.117.31.136  bayes 2019-08-19 2020-01-30 2019-08-20 14:38:55   \n",
       "353879  70.117.31.136  bayes 2019-08-19 2020-01-30 2019-08-20 14:38:55   \n",
       "\n",
       "                updated_at      programs           date_time  \n",
       "353721 2019-08-20 14:38:55  data_science 2019-09-22 22:18:55  \n",
       "353878 2019-08-20 14:38:55  data_science 2019-09-23 00:38:58  \n",
       "353879 2019-08-20 14:38:55  data_science 2019-09-23 00:39:36  "
      ]
     },
     "execution_count": 39,
     "metadata": {},
     "output_type": "execute_result"
    }
   ],
   "source": [
    "# filtering the rows where that contain 'distributed-ml'\n",
    "q2_ds_distributed_ml = q2_ds[q2_ds['path'].str.contains('distributed-ml')]\n",
    "q2_ds_distributed_ml.head(3)"
   ]
  },
  {
   "cell_type": "code",
   "execution_count": 40,
   "id": "77d9afc8-b69f-4a5a-a9e0-077f424a968e",
   "metadata": {},
   "outputs": [
    {
     "data": {
      "text/html": [
       "<div>\n",
       "<style scoped>\n",
       "    .dataframe tbody tr th:only-of-type {\n",
       "        vertical-align: middle;\n",
       "    }\n",
       "\n",
       "    .dataframe tbody tr th {\n",
       "        vertical-align: top;\n",
       "    }\n",
       "\n",
       "    .dataframe thead th {\n",
       "        text-align: right;\n",
       "    }\n",
       "</style>\n",
       "<table border=\"1\" class=\"dataframe\">\n",
       "  <thead>\n",
       "    <tr style=\"text-align: right;\">\n",
       "      <th></th>\n",
       "      <th>path</th>\n",
       "      <th>user_id</th>\n",
       "      <th>cohort_id</th>\n",
       "      <th>ip</th>\n",
       "      <th>cohort</th>\n",
       "      <th>start_date</th>\n",
       "      <th>end_date</th>\n",
       "      <th>created_at</th>\n",
       "      <th>updated_at</th>\n",
       "      <th>programs</th>\n",
       "      <th>date_time</th>\n",
       "    </tr>\n",
       "  </thead>\n",
       "  <tbody>\n",
       "    <tr>\n",
       "      <th>326609</th>\n",
       "      <td>13-advanced-topics/3.7-styling-webpages</td>\n",
       "      <td>478</td>\n",
       "      <td>34.0</td>\n",
       "      <td>97.105.19.58</td>\n",
       "      <td>bayes</td>\n",
       "      <td>2019-08-19</td>\n",
       "      <td>2020-01-30</td>\n",
       "      <td>2019-08-20 14:38:55</td>\n",
       "      <td>2019-08-20 14:38:55</td>\n",
       "      <td>data_science</td>\n",
       "      <td>2019-08-20 12:27:11</td>\n",
       "    </tr>\n",
       "    <tr>\n",
       "      <th>326610</th>\n",
       "      <td>13-advanced-topics/3.7-styling-webpages</td>\n",
       "      <td>478</td>\n",
       "      <td>34.0</td>\n",
       "      <td>97.105.19.58</td>\n",
       "      <td>bayes</td>\n",
       "      <td>2019-08-19</td>\n",
       "      <td>2020-01-30</td>\n",
       "      <td>2019-08-20 14:38:55</td>\n",
       "      <td>2019-08-20 14:38:55</td>\n",
       "      <td>data_science</td>\n",
       "      <td>2019-08-20 12:27:16</td>\n",
       "    </tr>\n",
       "    <tr>\n",
       "      <th>351300</th>\n",
       "      <td>13-advanced-topics/3.1-developing-data-products</td>\n",
       "      <td>474</td>\n",
       "      <td>34.0</td>\n",
       "      <td>97.105.19.58</td>\n",
       "      <td>bayes</td>\n",
       "      <td>2019-08-19</td>\n",
       "      <td>2020-01-30</td>\n",
       "      <td>2019-08-20 14:38:55</td>\n",
       "      <td>2019-08-20 14:38:55</td>\n",
       "      <td>data_science</td>\n",
       "      <td>2019-09-18 11:26:50</td>\n",
       "    </tr>\n",
       "  </tbody>\n",
       "</table>\n",
       "</div>"
      ],
      "text/plain": [
       "                                                   path  user_id  cohort_id  \\\n",
       "326609          13-advanced-topics/3.7-styling-webpages      478       34.0   \n",
       "326610          13-advanced-topics/3.7-styling-webpages      478       34.0   \n",
       "351300  13-advanced-topics/3.1-developing-data-products      474       34.0   \n",
       "\n",
       "                  ip cohort start_date   end_date          created_at  \\\n",
       "326609  97.105.19.58  bayes 2019-08-19 2020-01-30 2019-08-20 14:38:55   \n",
       "326610  97.105.19.58  bayes 2019-08-19 2020-01-30 2019-08-20 14:38:55   \n",
       "351300  97.105.19.58  bayes 2019-08-19 2020-01-30 2019-08-20 14:38:55   \n",
       "\n",
       "                updated_at      programs           date_time  \n",
       "326609 2019-08-20 14:38:55  data_science 2019-08-20 12:27:11  \n",
       "326610 2019-08-20 14:38:55  data_science 2019-08-20 12:27:16  \n",
       "351300 2019-08-20 14:38:55  data_science 2019-09-18 11:26:50  "
      ]
     },
     "execution_count": 40,
     "metadata": {},
     "output_type": "execute_result"
    }
   ],
   "source": [
    "# filtering the rows where that contain 'advanced-topics'\n",
    "q2_ds_advanced_topics = q2_ds[q2_ds['path'].str.contains('advanced-topics')]\n",
    "q2_ds_advanced_topics.head(3)"
   ]
  },
  {
   "cell_type": "code",
   "execution_count": 41,
   "id": "37d4b43e-8ebe-4fec-9caa-bd3e06185d71",
   "metadata": {},
   "outputs": [
    {
     "name": "stdout",
     "output_type": "stream",
     "text": [
      "The q2_fsp dataframe has 0 rows.\n",
      "The q2_fsj dataframe has 555330 rows.\n",
      "The q2_ds dataframe has 91867 rows.\n",
      "The q2_fep dataframe has 0 rows.\n"
     ]
    }
   ],
   "source": [
    "# Returns the number of rows for the respective dataframs of the different programs\n",
    "q2_fsp_rows = q2_fsp.shape[0]\n",
    "print(f'The q2_fsp dataframe has {q2_fsp_rows} rows.')\n",
    "\n",
    "q2_fsj_rows = q2_fsj.shape[0]\n",
    "print(f'The q2_fsj dataframe has {q2_fsj_rows} rows.')\n",
    "\n",
    "q2_ds_rows = q2_ds.shape[0]\n",
    "print(f'The q2_ds dataframe has {q2_ds_rows} rows.')\n",
    "\n",
    "q2_fep_rows = q2_fep.shape[0]\n",
    "print(f'The q2_fep dataframe has {q2_fep_rows} rows.')"
   ]
  },
  {
   "cell_type": "code",
   "execution_count": 42,
   "id": "9c2d3b9b-7c1d-4516-8c44-7194a44f27d4",
   "metadata": {},
   "outputs": [
    {
     "data": {
      "text/plain": [
       "jupiter       36447\n",
       "ceres         35766\n",
       "zion          33842\n",
       "fortuna       33397\n",
       "voyageurs     32337\n",
       "ganymede      29438\n",
       "apex          28641\n",
       "hyperion      28513\n",
       "betelgeuse    25936\n",
       "europa        25702\n",
       "teddy         25280\n",
       "deimos        24799\n",
       "ulysses       24088\n",
       "wrangell      24059\n",
       "kalypso       23691\n",
       "xanadu        22508\n",
       "andromeda     21114\n",
       "yosemite      19255\n",
       "luna          16623\n",
       "marco         16397\n",
       "bash          16371\n",
       "neptune        7276\n",
       "sequoia        2178\n",
       "oberon         1672\n",
       "Name: cohort, dtype: int64"
      ]
     },
     "execution_count": 42,
     "metadata": {},
     "output_type": "execute_result"
    }
   ],
   "source": [
    "# Returns the number of entries for each of the Full Script Java cohorts\n",
    "q2_fsj['cohort'].value_counts()"
   ]
  },
  {
   "cell_type": "code",
   "execution_count": 43,
   "id": "cecbf6ca-ed4d-4d54-adad-ad71f48fa8d5",
   "metadata": {},
   "outputs": [
    {
     "data": {
      "text/plain": [
       "darden      28834\n",
       "bayes       21813\n",
       "curie       17943\n",
       "easley      14715\n",
       "florence     8562\n",
       "Name: cohort, dtype: int64"
      ]
     },
     "execution_count": 43,
     "metadata": {},
     "output_type": "execute_result"
    }
   ],
   "source": [
    "# Returns the number of entries for each of the Data Science cohorts\n",
    "q2_ds['cohort'].value_counts()"
   ]
  },
  {
   "cell_type": "code",
   "execution_count": 44,
   "id": "c08d4a7c-5ed1-4e83-9702-e05f0a598614",
   "metadata": {
    "tags": []
   },
   "outputs": [
    {
     "data": {
      "text/html": [
       "<div>\n",
       "<style scoped>\n",
       "    .dataframe tbody tr th:only-of-type {\n",
       "        vertical-align: middle;\n",
       "    }\n",
       "\n",
       "    .dataframe tbody tr th {\n",
       "        vertical-align: top;\n",
       "    }\n",
       "\n",
       "    .dataframe thead th {\n",
       "        text-align: right;\n",
       "    }\n",
       "</style>\n",
       "<table border=\"1\" class=\"dataframe\">\n",
       "  <thead>\n",
       "    <tr style=\"text-align: right;\">\n",
       "      <th></th>\n",
       "      <th>path</th>\n",
       "      <th>user_id</th>\n",
       "      <th>cohort_id</th>\n",
       "      <th>ip</th>\n",
       "      <th>cohort</th>\n",
       "      <th>start_date</th>\n",
       "      <th>end_date</th>\n",
       "      <th>created_at</th>\n",
       "      <th>updated_at</th>\n",
       "      <th>programs</th>\n",
       "      <th>date_time</th>\n",
       "    </tr>\n",
       "  </thead>\n",
       "  <tbody>\n",
       "    <tr>\n",
       "      <th>4</th>\n",
       "      <td>javascript-i/conditionals</td>\n",
       "      <td>2</td>\n",
       "      <td>22.0</td>\n",
       "      <td>97.105.19.61</td>\n",
       "      <td>teddy</td>\n",
       "      <td>2018-01-08</td>\n",
       "      <td>2018-05-17</td>\n",
       "      <td>2018-01-08 13:59:10</td>\n",
       "      <td>2018-01-08 13:59:10</td>\n",
       "      <td>full_stack_java</td>\n",
       "      <td>2018-01-26 09:56:24</td>\n",
       "    </tr>\n",
       "    <tr>\n",
       "      <th>5</th>\n",
       "      <td>javascript-i/loops</td>\n",
       "      <td>2</td>\n",
       "      <td>22.0</td>\n",
       "      <td>97.105.19.61</td>\n",
       "      <td>teddy</td>\n",
       "      <td>2018-01-08</td>\n",
       "      <td>2018-05-17</td>\n",
       "      <td>2018-01-08 13:59:10</td>\n",
       "      <td>2018-01-08 13:59:10</td>\n",
       "      <td>full_stack_java</td>\n",
       "      <td>2018-01-26 09:56:41</td>\n",
       "    </tr>\n",
       "    <tr>\n",
       "      <th>6</th>\n",
       "      <td>javascript-i/conditionals</td>\n",
       "      <td>3</td>\n",
       "      <td>22.0</td>\n",
       "      <td>97.105.19.61</td>\n",
       "      <td>teddy</td>\n",
       "      <td>2018-01-08</td>\n",
       "      <td>2018-05-17</td>\n",
       "      <td>2018-01-08 13:59:10</td>\n",
       "      <td>2018-01-08 13:59:10</td>\n",
       "      <td>full_stack_java</td>\n",
       "      <td>2018-01-26 09:56:46</td>\n",
       "    </tr>\n",
       "  </tbody>\n",
       "</table>\n",
       "</div>"
      ],
      "text/plain": [
       "                        path  user_id  cohort_id            ip cohort  \\\n",
       "4  javascript-i/conditionals        2       22.0  97.105.19.61  teddy   \n",
       "5         javascript-i/loops        2       22.0  97.105.19.61  teddy   \n",
       "6  javascript-i/conditionals        3       22.0  97.105.19.61  teddy   \n",
       "\n",
       "  start_date   end_date          created_at          updated_at  \\\n",
       "4 2018-01-08 2018-05-17 2018-01-08 13:59:10 2018-01-08 13:59:10   \n",
       "5 2018-01-08 2018-05-17 2018-01-08 13:59:10 2018-01-08 13:59:10   \n",
       "6 2018-01-08 2018-05-17 2018-01-08 13:59:10 2018-01-08 13:59:10   \n",
       "\n",
       "          programs           date_time  \n",
       "4  full_stack_java 2018-01-26 09:56:24  \n",
       "5  full_stack_java 2018-01-26 09:56:41  \n",
       "6  full_stack_java 2018-01-26 09:56:46  "
      ]
     },
     "execution_count": 44,
     "metadata": {},
     "output_type": "execute_result"
    }
   ],
   "source": [
    "# df of values in 'path' column that contain 'javascript-i'\n",
    "q2_fsj_javascript_i = q2_fsj[q2_fsj['path'].str.contains('javascript-i')]\n",
    "q2_fsj_javascript_i.head(3)"
   ]
  },
  {
   "cell_type": "code",
   "execution_count": 45,
   "id": "e2461aa6-a179-43ea-b85a-78fc0b692545",
   "metadata": {
    "tags": []
   },
   "outputs": [
    {
     "data": {
      "text/html": [
       "<div>\n",
       "<style scoped>\n",
       "    .dataframe tbody tr th:only-of-type {\n",
       "        vertical-align: middle;\n",
       "    }\n",
       "\n",
       "    .dataframe tbody tr th {\n",
       "        vertical-align: top;\n",
       "    }\n",
       "\n",
       "    .dataframe thead th {\n",
       "        text-align: right;\n",
       "    }\n",
       "</style>\n",
       "<table border=\"1\" class=\"dataframe\">\n",
       "  <thead>\n",
       "    <tr style=\"text-align: right;\">\n",
       "      <th></th>\n",
       "      <th>path</th>\n",
       "      <th>user_id</th>\n",
       "      <th>cohort_id</th>\n",
       "      <th>ip</th>\n",
       "      <th>cohort</th>\n",
       "      <th>start_date</th>\n",
       "      <th>end_date</th>\n",
       "      <th>created_at</th>\n",
       "      <th>updated_at</th>\n",
       "      <th>programs</th>\n",
       "      <th>date_time</th>\n",
       "    </tr>\n",
       "  </thead>\n",
       "  <tbody>\n",
       "    <tr>\n",
       "      <th>780</th>\n",
       "      <td>java-iii/passwords</td>\n",
       "      <td>52</td>\n",
       "      <td>21.0</td>\n",
       "      <td>99.203.26.41</td>\n",
       "      <td>sequoia</td>\n",
       "      <td>2017-09-27</td>\n",
       "      <td>2018-02-15</td>\n",
       "      <td>2017-09-27 20:22:41</td>\n",
       "      <td>2017-09-27 20:22:41</td>\n",
       "      <td>full_stack_java</td>\n",
       "      <td>2018-01-27 22:43:09</td>\n",
       "    </tr>\n",
       "    <tr>\n",
       "      <th>861</th>\n",
       "      <td>java-iii</td>\n",
       "      <td>45</td>\n",
       "      <td>21.0</td>\n",
       "      <td>104.193.225.250</td>\n",
       "      <td>sequoia</td>\n",
       "      <td>2017-09-27</td>\n",
       "      <td>2018-02-15</td>\n",
       "      <td>2017-09-27 20:22:41</td>\n",
       "      <td>2017-09-27 20:22:41</td>\n",
       "      <td>full_stack_java</td>\n",
       "      <td>2018-01-28 14:30:41</td>\n",
       "    </tr>\n",
       "    <tr>\n",
       "      <th>865</th>\n",
       "      <td>java-iii</td>\n",
       "      <td>42</td>\n",
       "      <td>21.0</td>\n",
       "      <td>70.114.139.150</td>\n",
       "      <td>sequoia</td>\n",
       "      <td>2017-09-27</td>\n",
       "      <td>2018-02-15</td>\n",
       "      <td>2017-09-27 20:22:41</td>\n",
       "      <td>2017-09-27 20:22:41</td>\n",
       "      <td>full_stack_java</td>\n",
       "      <td>2018-01-28 15:06:00</td>\n",
       "    </tr>\n",
       "  </tbody>\n",
       "</table>\n",
       "</div>"
      ],
      "text/plain": [
       "                   path  user_id  cohort_id               ip   cohort  \\\n",
       "780  java-iii/passwords       52       21.0     99.203.26.41  sequoia   \n",
       "861            java-iii       45       21.0  104.193.225.250  sequoia   \n",
       "865            java-iii       42       21.0   70.114.139.150  sequoia   \n",
       "\n",
       "    start_date   end_date          created_at          updated_at  \\\n",
       "780 2017-09-27 2018-02-15 2017-09-27 20:22:41 2017-09-27 20:22:41   \n",
       "861 2017-09-27 2018-02-15 2017-09-27 20:22:41 2017-09-27 20:22:41   \n",
       "865 2017-09-27 2018-02-15 2017-09-27 20:22:41 2017-09-27 20:22:41   \n",
       "\n",
       "            programs           date_time  \n",
       "780  full_stack_java 2018-01-27 22:43:09  \n",
       "861  full_stack_java 2018-01-28 14:30:41  \n",
       "865  full_stack_java 2018-01-28 15:06:00  "
      ]
     },
     "execution_count": 45,
     "metadata": {},
     "output_type": "execute_result"
    }
   ],
   "source": [
    "# df of values in 'path' column that contain 'java-iii'\n",
    "q2_fsj_java_iii = q2_fsj[q2_fsj['path'].str.contains('java-iii')]\n",
    "q2_fsj_java_iii.head(3)"
   ]
  },
  {
   "cell_type": "code",
   "execution_count": 46,
   "id": "71de0693-d727-4a11-ac46-c8ac4383f645",
   "metadata": {
    "tags": []
   },
   "outputs": [
    {
     "data": {
      "text/html": [
       "<div>\n",
       "<style scoped>\n",
       "    .dataframe tbody tr th:only-of-type {\n",
       "        vertical-align: middle;\n",
       "    }\n",
       "\n",
       "    .dataframe tbody tr th {\n",
       "        vertical-align: top;\n",
       "    }\n",
       "\n",
       "    .dataframe thead th {\n",
       "        text-align: right;\n",
       "    }\n",
       "</style>\n",
       "<table border=\"1\" class=\"dataframe\">\n",
       "  <thead>\n",
       "    <tr style=\"text-align: right;\">\n",
       "      <th></th>\n",
       "      <th>path</th>\n",
       "      <th>user_id</th>\n",
       "      <th>cohort_id</th>\n",
       "      <th>ip</th>\n",
       "      <th>cohort</th>\n",
       "      <th>start_date</th>\n",
       "      <th>end_date</th>\n",
       "      <th>created_at</th>\n",
       "      <th>updated_at</th>\n",
       "      <th>programs</th>\n",
       "      <th>date_time</th>\n",
       "    </tr>\n",
       "  </thead>\n",
       "  <tbody>\n",
       "    <tr>\n",
       "      <th>78</th>\n",
       "      <td>html-css/introduction</td>\n",
       "      <td>22</td>\n",
       "      <td>21.0</td>\n",
       "      <td>97.105.19.61</td>\n",
       "      <td>sequoia</td>\n",
       "      <td>2017-09-27</td>\n",
       "      <td>2018-02-15</td>\n",
       "      <td>2017-09-27 20:22:41</td>\n",
       "      <td>2017-09-27 20:22:41</td>\n",
       "      <td>full_stack_java</td>\n",
       "      <td>2018-01-26 11:11:52</td>\n",
       "    </tr>\n",
       "    <tr>\n",
       "      <th>155</th>\n",
       "      <td>html-css</td>\n",
       "      <td>35</td>\n",
       "      <td>22.0</td>\n",
       "      <td>97.105.19.61</td>\n",
       "      <td>teddy</td>\n",
       "      <td>2018-01-08</td>\n",
       "      <td>2018-05-17</td>\n",
       "      <td>2018-01-08 13:59:10</td>\n",
       "      <td>2018-01-08 13:59:10</td>\n",
       "      <td>full_stack_java</td>\n",
       "      <td>2018-01-26 11:49:37</td>\n",
       "    </tr>\n",
       "    <tr>\n",
       "      <th>193</th>\n",
       "      <td>html-css</td>\n",
       "      <td>27</td>\n",
       "      <td>21.0</td>\n",
       "      <td>97.105.19.61</td>\n",
       "      <td>sequoia</td>\n",
       "      <td>2017-09-27</td>\n",
       "      <td>2018-02-15</td>\n",
       "      <td>2017-09-27 20:22:41</td>\n",
       "      <td>2017-09-27 20:22:41</td>\n",
       "      <td>full_stack_java</td>\n",
       "      <td>2018-01-26 12:28:01</td>\n",
       "    </tr>\n",
       "  </tbody>\n",
       "</table>\n",
       "</div>"
      ],
      "text/plain": [
       "                      path  user_id  cohort_id            ip   cohort  \\\n",
       "78   html-css/introduction       22       21.0  97.105.19.61  sequoia   \n",
       "155               html-css       35       22.0  97.105.19.61    teddy   \n",
       "193               html-css       27       21.0  97.105.19.61  sequoia   \n",
       "\n",
       "    start_date   end_date          created_at          updated_at  \\\n",
       "78  2017-09-27 2018-02-15 2017-09-27 20:22:41 2017-09-27 20:22:41   \n",
       "155 2018-01-08 2018-05-17 2018-01-08 13:59:10 2018-01-08 13:59:10   \n",
       "193 2017-09-27 2018-02-15 2017-09-27 20:22:41 2017-09-27 20:22:41   \n",
       "\n",
       "            programs           date_time  \n",
       "78   full_stack_java 2018-01-26 11:11:52  \n",
       "155  full_stack_java 2018-01-26 11:49:37  \n",
       "193  full_stack_java 2018-01-26 12:28:01  "
      ]
     },
     "execution_count": 46,
     "metadata": {},
     "output_type": "execute_result"
    }
   ],
   "source": [
    "# df of values in 'path' column that contain 'html-css'\n",
    "q2_fsj_html_css = q2_fsj[q2_fsj['path'].str.contains('html-css')]\n",
    "q2_fsj_html_css.head(3)"
   ]
  },
  {
   "cell_type": "code",
   "execution_count": 47,
   "id": "79a5b5d7-8db0-4e31-9d21-a10d670b5b1b",
   "metadata": {
    "tags": []
   },
   "outputs": [
    {
     "data": {
      "text/html": [
       "<div>\n",
       "<style scoped>\n",
       "    .dataframe tbody tr th:only-of-type {\n",
       "        vertical-align: middle;\n",
       "    }\n",
       "\n",
       "    .dataframe tbody tr th {\n",
       "        vertical-align: top;\n",
       "    }\n",
       "\n",
       "    .dataframe thead th {\n",
       "        text-align: right;\n",
       "    }\n",
       "</style>\n",
       "<table border=\"1\" class=\"dataframe\">\n",
       "  <thead>\n",
       "    <tr style=\"text-align: right;\">\n",
       "      <th></th>\n",
       "      <th>path</th>\n",
       "      <th>user_id</th>\n",
       "      <th>cohort_id</th>\n",
       "      <th>ip</th>\n",
       "      <th>cohort</th>\n",
       "      <th>start_date</th>\n",
       "      <th>end_date</th>\n",
       "      <th>created_at</th>\n",
       "      <th>updated_at</th>\n",
       "      <th>programs</th>\n",
       "      <th>date_time</th>\n",
       "    </tr>\n",
       "  </thead>\n",
       "  <tbody>\n",
       "    <tr>\n",
       "      <th>780</th>\n",
       "      <td>java-iii/passwords</td>\n",
       "      <td>52</td>\n",
       "      <td>21.0</td>\n",
       "      <td>99.203.26.41</td>\n",
       "      <td>sequoia</td>\n",
       "      <td>2017-09-27</td>\n",
       "      <td>2018-02-15</td>\n",
       "      <td>2017-09-27 20:22:41</td>\n",
       "      <td>2017-09-27 20:22:41</td>\n",
       "      <td>full_stack_java</td>\n",
       "      <td>2018-01-27 22:43:09</td>\n",
       "    </tr>\n",
       "    <tr>\n",
       "      <th>861</th>\n",
       "      <td>java-iii</td>\n",
       "      <td>45</td>\n",
       "      <td>21.0</td>\n",
       "      <td>104.193.225.250</td>\n",
       "      <td>sequoia</td>\n",
       "      <td>2017-09-27</td>\n",
       "      <td>2018-02-15</td>\n",
       "      <td>2017-09-27 20:22:41</td>\n",
       "      <td>2017-09-27 20:22:41</td>\n",
       "      <td>full_stack_java</td>\n",
       "      <td>2018-01-28 14:30:41</td>\n",
       "    </tr>\n",
       "    <tr>\n",
       "      <th>865</th>\n",
       "      <td>java-iii</td>\n",
       "      <td>42</td>\n",
       "      <td>21.0</td>\n",
       "      <td>70.114.139.150</td>\n",
       "      <td>sequoia</td>\n",
       "      <td>2017-09-27</td>\n",
       "      <td>2018-02-15</td>\n",
       "      <td>2017-09-27 20:22:41</td>\n",
       "      <td>2017-09-27 20:22:41</td>\n",
       "      <td>full_stack_java</td>\n",
       "      <td>2018-01-28 15:06:00</td>\n",
       "    </tr>\n",
       "  </tbody>\n",
       "</table>\n",
       "</div>"
      ],
      "text/plain": [
       "                   path  user_id  cohort_id               ip   cohort  \\\n",
       "780  java-iii/passwords       52       21.0     99.203.26.41  sequoia   \n",
       "861            java-iii       45       21.0  104.193.225.250  sequoia   \n",
       "865            java-iii       42       21.0   70.114.139.150  sequoia   \n",
       "\n",
       "    start_date   end_date          created_at          updated_at  \\\n",
       "780 2017-09-27 2018-02-15 2017-09-27 20:22:41 2017-09-27 20:22:41   \n",
       "861 2017-09-27 2018-02-15 2017-09-27 20:22:41 2017-09-27 20:22:41   \n",
       "865 2017-09-27 2018-02-15 2017-09-27 20:22:41 2017-09-27 20:22:41   \n",
       "\n",
       "            programs           date_time  \n",
       "780  full_stack_java 2018-01-27 22:43:09  \n",
       "861  full_stack_java 2018-01-28 14:30:41  \n",
       "865  full_stack_java 2018-01-28 15:06:00  "
      ]
     },
     "execution_count": 47,
     "metadata": {},
     "output_type": "execute_result"
    }
   ],
   "source": [
    "# df of values in 'path' column that contain 'java-ii'\n",
    "q2_fsj_java_ii = q2_fsj[q2_fsj['path'].str.contains('java-ii')]\n",
    "q2_fsj_java_ii.head(3)"
   ]
  },
  {
   "cell_type": "code",
   "execution_count": 48,
   "id": "5937acb2-6bf4-4808-a696-58d674b3212e",
   "metadata": {
    "tags": []
   },
   "outputs": [
    {
     "data": {
      "text/html": [
       "<div>\n",
       "<style scoped>\n",
       "    .dataframe tbody tr th:only-of-type {\n",
       "        vertical-align: middle;\n",
       "    }\n",
       "\n",
       "    .dataframe tbody tr th {\n",
       "        vertical-align: top;\n",
       "    }\n",
       "\n",
       "    .dataframe thead th {\n",
       "        text-align: right;\n",
       "    }\n",
       "</style>\n",
       "<table border=\"1\" class=\"dataframe\">\n",
       "  <thead>\n",
       "    <tr style=\"text-align: right;\">\n",
       "      <th></th>\n",
       "      <th>path</th>\n",
       "      <th>user_id</th>\n",
       "      <th>cohort_id</th>\n",
       "      <th>ip</th>\n",
       "      <th>cohort</th>\n",
       "      <th>start_date</th>\n",
       "      <th>end_date</th>\n",
       "      <th>created_at</th>\n",
       "      <th>updated_at</th>\n",
       "      <th>programs</th>\n",
       "      <th>date_time</th>\n",
       "    </tr>\n",
       "  </thead>\n",
       "  <tbody>\n",
       "    <tr>\n",
       "      <th>220</th>\n",
       "      <td>jquery/personal-site</td>\n",
       "      <td>31</td>\n",
       "      <td>22.0</td>\n",
       "      <td>97.105.19.61</td>\n",
       "      <td>teddy</td>\n",
       "      <td>2018-01-08</td>\n",
       "      <td>2018-05-17</td>\n",
       "      <td>2018-01-08 13:59:10</td>\n",
       "      <td>2018-01-08 13:59:10</td>\n",
       "      <td>full_stack_java</td>\n",
       "      <td>2018-01-26 13:37:07</td>\n",
       "    </tr>\n",
       "    <tr>\n",
       "      <th>522</th>\n",
       "      <td>jquery</td>\n",
       "      <td>19</td>\n",
       "      <td>22.0</td>\n",
       "      <td>96.8.150.23</td>\n",
       "      <td>teddy</td>\n",
       "      <td>2018-01-08</td>\n",
       "      <td>2018-05-17</td>\n",
       "      <td>2018-01-08 13:59:10</td>\n",
       "      <td>2018-01-08 13:59:10</td>\n",
       "      <td>full_stack_java</td>\n",
       "      <td>2018-01-26 21:18:43</td>\n",
       "    </tr>\n",
       "    <tr>\n",
       "      <th>523</th>\n",
       "      <td>jquery/selectors</td>\n",
       "      <td>19</td>\n",
       "      <td>22.0</td>\n",
       "      <td>96.8.150.23</td>\n",
       "      <td>teddy</td>\n",
       "      <td>2018-01-08</td>\n",
       "      <td>2018-05-17</td>\n",
       "      <td>2018-01-08 13:59:10</td>\n",
       "      <td>2018-01-08 13:59:10</td>\n",
       "      <td>full_stack_java</td>\n",
       "      <td>2018-01-26 21:18:45</td>\n",
       "    </tr>\n",
       "  </tbody>\n",
       "</table>\n",
       "</div>"
      ],
      "text/plain": [
       "                     path  user_id  cohort_id            ip cohort start_date  \\\n",
       "220  jquery/personal-site       31       22.0  97.105.19.61  teddy 2018-01-08   \n",
       "522                jquery       19       22.0   96.8.150.23  teddy 2018-01-08   \n",
       "523      jquery/selectors       19       22.0   96.8.150.23  teddy 2018-01-08   \n",
       "\n",
       "      end_date          created_at          updated_at         programs  \\\n",
       "220 2018-05-17 2018-01-08 13:59:10 2018-01-08 13:59:10  full_stack_java   \n",
       "522 2018-05-17 2018-01-08 13:59:10 2018-01-08 13:59:10  full_stack_java   \n",
       "523 2018-05-17 2018-01-08 13:59:10 2018-01-08 13:59:10  full_stack_java   \n",
       "\n",
       "              date_time  \n",
       "220 2018-01-26 13:37:07  \n",
       "522 2018-01-26 21:18:43  \n",
       "523 2018-01-26 21:18:45  "
      ]
     },
     "execution_count": 48,
     "metadata": {},
     "output_type": "execute_result"
    }
   ],
   "source": [
    "# df of values in 'path' column that contain 'jquery'\n",
    "q2_fsj_jquery = q2_fsj[q2_fsj['path'].str.contains('jquery')]\n",
    "q2_fsj_jquery.head(3)"
   ]
  },
  {
   "cell_type": "code",
   "execution_count": 49,
   "id": "706bbec1-46cf-4ed8-97bd-d9cbd9498176",
   "metadata": {
    "tags": []
   },
   "outputs": [
    {
     "data": {
      "text/html": [
       "<div>\n",
       "<style scoped>\n",
       "    .dataframe tbody tr th:only-of-type {\n",
       "        vertical-align: middle;\n",
       "    }\n",
       "\n",
       "    .dataframe tbody tr th {\n",
       "        vertical-align: top;\n",
       "    }\n",
       "\n",
       "    .dataframe thead th {\n",
       "        text-align: right;\n",
       "    }\n",
       "</style>\n",
       "<table border=\"1\" class=\"dataframe\">\n",
       "  <thead>\n",
       "    <tr style=\"text-align: right;\">\n",
       "      <th></th>\n",
       "      <th>path</th>\n",
       "      <th>user_id</th>\n",
       "      <th>cohort_id</th>\n",
       "      <th>ip</th>\n",
       "      <th>cohort</th>\n",
       "      <th>start_date</th>\n",
       "      <th>end_date</th>\n",
       "      <th>created_at</th>\n",
       "      <th>updated_at</th>\n",
       "      <th>programs</th>\n",
       "      <th>date_time</th>\n",
       "    </tr>\n",
       "  </thead>\n",
       "  <tbody>\n",
       "    <tr>\n",
       "      <th>149</th>\n",
       "      <td>mysql</td>\n",
       "      <td>16</td>\n",
       "      <td>21.0</td>\n",
       "      <td>97.105.19.61</td>\n",
       "      <td>sequoia</td>\n",
       "      <td>2017-09-27</td>\n",
       "      <td>2018-02-15</td>\n",
       "      <td>2017-09-27 20:22:41</td>\n",
       "      <td>2017-09-27 20:22:41</td>\n",
       "      <td>full_stack_java</td>\n",
       "      <td>2018-01-26 11:48:17</td>\n",
       "    </tr>\n",
       "    <tr>\n",
       "      <th>234</th>\n",
       "      <td>mysql</td>\n",
       "      <td>36</td>\n",
       "      <td>21.0</td>\n",
       "      <td>97.105.19.61</td>\n",
       "      <td>sequoia</td>\n",
       "      <td>2017-09-27</td>\n",
       "      <td>2018-02-15</td>\n",
       "      <td>2017-09-27 20:22:41</td>\n",
       "      <td>2017-09-27 20:22:41</td>\n",
       "      <td>full_stack_java</td>\n",
       "      <td>2018-01-26 13:51:13</td>\n",
       "    </tr>\n",
       "    <tr>\n",
       "      <th>235</th>\n",
       "      <td>mysql/users</td>\n",
       "      <td>36</td>\n",
       "      <td>21.0</td>\n",
       "      <td>97.105.19.61</td>\n",
       "      <td>sequoia</td>\n",
       "      <td>2017-09-27</td>\n",
       "      <td>2018-02-15</td>\n",
       "      <td>2017-09-27 20:22:41</td>\n",
       "      <td>2017-09-27 20:22:41</td>\n",
       "      <td>full_stack_java</td>\n",
       "      <td>2018-01-26 13:51:15</td>\n",
       "    </tr>\n",
       "  </tbody>\n",
       "</table>\n",
       "</div>"
      ],
      "text/plain": [
       "            path  user_id  cohort_id            ip   cohort start_date  \\\n",
       "149        mysql       16       21.0  97.105.19.61  sequoia 2017-09-27   \n",
       "234        mysql       36       21.0  97.105.19.61  sequoia 2017-09-27   \n",
       "235  mysql/users       36       21.0  97.105.19.61  sequoia 2017-09-27   \n",
       "\n",
       "      end_date          created_at          updated_at         programs  \\\n",
       "149 2018-02-15 2017-09-27 20:22:41 2017-09-27 20:22:41  full_stack_java   \n",
       "234 2018-02-15 2017-09-27 20:22:41 2017-09-27 20:22:41  full_stack_java   \n",
       "235 2018-02-15 2017-09-27 20:22:41 2017-09-27 20:22:41  full_stack_java   \n",
       "\n",
       "              date_time  \n",
       "149 2018-01-26 11:48:17  \n",
       "234 2018-01-26 13:51:13  \n",
       "235 2018-01-26 13:51:15  "
      ]
     },
     "execution_count": 49,
     "metadata": {},
     "output_type": "execute_result"
    }
   ],
   "source": [
    "# df of values in 'path' column that contain 'mysql'\n",
    "q2_fsj_mysql = q2_fsj[q2_fsj['path'].str.contains('mysql')]\n",
    "q2_fsj_mysql.head(3)"
   ]
  },
  {
   "cell_type": "code",
   "execution_count": 50,
   "id": "1b55aa6d-b0d8-420a-9804-2cce5f297a65",
   "metadata": {
    "tags": []
   },
   "outputs": [
    {
     "data": {
      "text/html": [
       "<div>\n",
       "<style scoped>\n",
       "    .dataframe tbody tr th:only-of-type {\n",
       "        vertical-align: middle;\n",
       "    }\n",
       "\n",
       "    .dataframe tbody tr th {\n",
       "        vertical-align: top;\n",
       "    }\n",
       "\n",
       "    .dataframe thead th {\n",
       "        text-align: right;\n",
       "    }\n",
       "</style>\n",
       "<table border=\"1\" class=\"dataframe\">\n",
       "  <thead>\n",
       "    <tr style=\"text-align: right;\">\n",
       "      <th></th>\n",
       "      <th>path</th>\n",
       "      <th>user_id</th>\n",
       "      <th>cohort_id</th>\n",
       "      <th>ip</th>\n",
       "      <th>cohort</th>\n",
       "      <th>start_date</th>\n",
       "      <th>end_date</th>\n",
       "      <th>created_at</th>\n",
       "      <th>updated_at</th>\n",
       "      <th>programs</th>\n",
       "      <th>date_time</th>\n",
       "    </tr>\n",
       "  </thead>\n",
       "  <tbody>\n",
       "    <tr>\n",
       "      <th>40</th>\n",
       "      <td>spring</td>\n",
       "      <td>10</td>\n",
       "      <td>21.0</td>\n",
       "      <td>97.105.19.61</td>\n",
       "      <td>sequoia</td>\n",
       "      <td>2017-09-27</td>\n",
       "      <td>2018-02-15</td>\n",
       "      <td>2017-09-27 20:22:41</td>\n",
       "      <td>2017-09-27 20:22:41</td>\n",
       "      <td>full_stack_java</td>\n",
       "      <td>2018-01-26 10:18:24</td>\n",
       "    </tr>\n",
       "    <tr>\n",
       "      <th>51</th>\n",
       "      <td>spring</td>\n",
       "      <td>16</td>\n",
       "      <td>21.0</td>\n",
       "      <td>97.105.19.61</td>\n",
       "      <td>sequoia</td>\n",
       "      <td>2017-09-27</td>\n",
       "      <td>2018-02-15</td>\n",
       "      <td>2017-09-27 20:22:41</td>\n",
       "      <td>2017-09-27 20:22:41</td>\n",
       "      <td>full_stack_java</td>\n",
       "      <td>2018-01-26 10:35:29</td>\n",
       "    </tr>\n",
       "    <tr>\n",
       "      <th>53</th>\n",
       "      <td>spring/extra-features/file-upload</td>\n",
       "      <td>16</td>\n",
       "      <td>21.0</td>\n",
       "      <td>97.105.19.61</td>\n",
       "      <td>sequoia</td>\n",
       "      <td>2017-09-27</td>\n",
       "      <td>2018-02-15</td>\n",
       "      <td>2017-09-27 20:22:41</td>\n",
       "      <td>2017-09-27 20:22:41</td>\n",
       "      <td>full_stack_java</td>\n",
       "      <td>2018-01-26 10:35:33</td>\n",
       "    </tr>\n",
       "  </tbody>\n",
       "</table>\n",
       "</div>"
      ],
      "text/plain": [
       "                                 path  user_id  cohort_id            ip  \\\n",
       "40                             spring       10       21.0  97.105.19.61   \n",
       "51                             spring       16       21.0  97.105.19.61   \n",
       "53  spring/extra-features/file-upload       16       21.0  97.105.19.61   \n",
       "\n",
       "     cohort start_date   end_date          created_at          updated_at  \\\n",
       "40  sequoia 2017-09-27 2018-02-15 2017-09-27 20:22:41 2017-09-27 20:22:41   \n",
       "51  sequoia 2017-09-27 2018-02-15 2017-09-27 20:22:41 2017-09-27 20:22:41   \n",
       "53  sequoia 2017-09-27 2018-02-15 2017-09-27 20:22:41 2017-09-27 20:22:41   \n",
       "\n",
       "           programs           date_time  \n",
       "40  full_stack_java 2018-01-26 10:18:24  \n",
       "51  full_stack_java 2018-01-26 10:35:29  \n",
       "53  full_stack_java 2018-01-26 10:35:33  "
      ]
     },
     "execution_count": 50,
     "metadata": {},
     "output_type": "execute_result"
    }
   ],
   "source": [
    "# df of values in 'path' column that contain 'spring'\n",
    "q2_fsj_spring = q2_fsj[q2_fsj['path'].str.contains('spring')]\n",
    "q2_fsj_spring.head(3)"
   ]
  },
  {
   "cell_type": "code",
   "execution_count": 51,
   "id": "f603d934-638d-4648-b8db-413ac77c6cce",
   "metadata": {
    "tags": []
   },
   "outputs": [
    {
     "data": {
      "text/html": [
       "<div>\n",
       "<style scoped>\n",
       "    .dataframe tbody tr th:only-of-type {\n",
       "        vertical-align: middle;\n",
       "    }\n",
       "\n",
       "    .dataframe tbody tr th {\n",
       "        vertical-align: top;\n",
       "    }\n",
       "\n",
       "    .dataframe thead th {\n",
       "        text-align: right;\n",
       "    }\n",
       "</style>\n",
       "<table border=\"1\" class=\"dataframe\">\n",
       "  <thead>\n",
       "    <tr style=\"text-align: right;\">\n",
       "      <th></th>\n",
       "      <th>path</th>\n",
       "      <th>user_id</th>\n",
       "      <th>cohort_id</th>\n",
       "      <th>ip</th>\n",
       "      <th>cohort</th>\n",
       "      <th>start_date</th>\n",
       "      <th>end_date</th>\n",
       "      <th>created_at</th>\n",
       "      <th>updated_at</th>\n",
       "      <th>programs</th>\n",
       "      <th>date_time</th>\n",
       "    </tr>\n",
       "  </thead>\n",
       "  <tbody>\n",
       "    <tr>\n",
       "      <th>781</th>\n",
       "      <td>slides/passwords</td>\n",
       "      <td>52</td>\n",
       "      <td>21.0</td>\n",
       "      <td>99.203.26.41</td>\n",
       "      <td>sequoia</td>\n",
       "      <td>2017-09-27</td>\n",
       "      <td>2018-02-15</td>\n",
       "      <td>2017-09-27 20:22:41</td>\n",
       "      <td>2017-09-27 20:22:41</td>\n",
       "      <td>full_stack_java</td>\n",
       "      <td>2018-01-27 22:43:12</td>\n",
       "    </tr>\n",
       "    <tr>\n",
       "      <th>1059</th>\n",
       "      <td>slides/user_input</td>\n",
       "      <td>55</td>\n",
       "      <td>21.0</td>\n",
       "      <td>97.105.19.61</td>\n",
       "      <td>sequoia</td>\n",
       "      <td>2017-09-27</td>\n",
       "      <td>2018-02-15</td>\n",
       "      <td>2017-09-27 20:22:41</td>\n",
       "      <td>2017-09-27 20:22:41</td>\n",
       "      <td>full_stack_java</td>\n",
       "      <td>2018-01-29 09:25:47</td>\n",
       "    </tr>\n",
       "    <tr>\n",
       "      <th>1093</th>\n",
       "      <td>slides/deployment_and_dependencies</td>\n",
       "      <td>41</td>\n",
       "      <td>21.0</td>\n",
       "      <td>97.105.19.61</td>\n",
       "      <td>sequoia</td>\n",
       "      <td>2017-09-27</td>\n",
       "      <td>2018-02-15</td>\n",
       "      <td>2017-09-27 20:22:41</td>\n",
       "      <td>2017-09-27 20:22:41</td>\n",
       "      <td>full_stack_java</td>\n",
       "      <td>2018-01-29 09:35:13</td>\n",
       "    </tr>\n",
       "  </tbody>\n",
       "</table>\n",
       "</div>"
      ],
      "text/plain": [
       "                                    path  user_id  cohort_id            ip  \\\n",
       "781                     slides/passwords       52       21.0  99.203.26.41   \n",
       "1059                   slides/user_input       55       21.0  97.105.19.61   \n",
       "1093  slides/deployment_and_dependencies       41       21.0  97.105.19.61   \n",
       "\n",
       "       cohort start_date   end_date          created_at          updated_at  \\\n",
       "781   sequoia 2017-09-27 2018-02-15 2017-09-27 20:22:41 2017-09-27 20:22:41   \n",
       "1059  sequoia 2017-09-27 2018-02-15 2017-09-27 20:22:41 2017-09-27 20:22:41   \n",
       "1093  sequoia 2017-09-27 2018-02-15 2017-09-27 20:22:41 2017-09-27 20:22:41   \n",
       "\n",
       "             programs           date_time  \n",
       "781   full_stack_java 2018-01-27 22:43:12  \n",
       "1059  full_stack_java 2018-01-29 09:25:47  \n",
       "1093  full_stack_java 2018-01-29 09:35:13  "
      ]
     },
     "execution_count": 51,
     "metadata": {},
     "output_type": "execute_result"
    }
   ],
   "source": [
    "# df of values in 'path' column that contain 'slides'\n",
    "q2_fsj_slides = q2_fsj[q2_fsj['path'].str.contains('slides')]\n",
    "q2_fsj_slides.head(3)"
   ]
  },
  {
   "cell_type": "code",
   "execution_count": 52,
   "id": "db97d13f-65fc-4b7b-8569-57d1b59857f4",
   "metadata": {
    "tags": []
   },
   "outputs": [
    {
     "data": {
      "text/html": [
       "<div>\n",
       "<style scoped>\n",
       "    .dataframe tbody tr th:only-of-type {\n",
       "        vertical-align: middle;\n",
       "    }\n",
       "\n",
       "    .dataframe tbody tr th {\n",
       "        vertical-align: top;\n",
       "    }\n",
       "\n",
       "    .dataframe thead th {\n",
       "        text-align: right;\n",
       "    }\n",
       "</style>\n",
       "<table border=\"1\" class=\"dataframe\">\n",
       "  <thead>\n",
       "    <tr style=\"text-align: right;\">\n",
       "      <th></th>\n",
       "      <th>path</th>\n",
       "      <th>user_id</th>\n",
       "      <th>cohort_id</th>\n",
       "      <th>ip</th>\n",
       "      <th>cohort</th>\n",
       "      <th>start_date</th>\n",
       "      <th>end_date</th>\n",
       "      <th>created_at</th>\n",
       "      <th>updated_at</th>\n",
       "      <th>programs</th>\n",
       "      <th>date_time</th>\n",
       "    </tr>\n",
       "  </thead>\n",
       "  <tbody>\n",
       "    <tr>\n",
       "      <th>294126</th>\n",
       "      <td>web-design</td>\n",
       "      <td>412</td>\n",
       "      <td>32.0</td>\n",
       "      <td>97.105.19.58</td>\n",
       "      <td>betelgeuse</td>\n",
       "      <td>2019-05-28</td>\n",
       "      <td>2019-10-08</td>\n",
       "      <td>2019-05-28 18:41:05</td>\n",
       "      <td>2019-05-28 18:41:05</td>\n",
       "      <td>full_stack_java</td>\n",
       "      <td>2019-07-08 15:14:00</td>\n",
       "    </tr>\n",
       "    <tr>\n",
       "      <th>294132</th>\n",
       "      <td>web-design</td>\n",
       "      <td>420</td>\n",
       "      <td>32.0</td>\n",
       "      <td>97.105.19.58</td>\n",
       "      <td>betelgeuse</td>\n",
       "      <td>2019-05-28</td>\n",
       "      <td>2019-10-08</td>\n",
       "      <td>2019-05-28 18:41:05</td>\n",
       "      <td>2019-05-28 18:41:05</td>\n",
       "      <td>full_stack_java</td>\n",
       "      <td>2019-07-08 15:14:05</td>\n",
       "    </tr>\n",
       "    <tr>\n",
       "      <th>294135</th>\n",
       "      <td>web-design/intro</td>\n",
       "      <td>420</td>\n",
       "      <td>32.0</td>\n",
       "      <td>97.105.19.58</td>\n",
       "      <td>betelgeuse</td>\n",
       "      <td>2019-05-28</td>\n",
       "      <td>2019-10-08</td>\n",
       "      <td>2019-05-28 18:41:05</td>\n",
       "      <td>2019-05-28 18:41:05</td>\n",
       "      <td>full_stack_java</td>\n",
       "      <td>2019-07-08 15:14:20</td>\n",
       "    </tr>\n",
       "  </tbody>\n",
       "</table>\n",
       "</div>"
      ],
      "text/plain": [
       "                    path  user_id  cohort_id            ip      cohort  \\\n",
       "294126        web-design      412       32.0  97.105.19.58  betelgeuse   \n",
       "294132        web-design      420       32.0  97.105.19.58  betelgeuse   \n",
       "294135  web-design/intro      420       32.0  97.105.19.58  betelgeuse   \n",
       "\n",
       "       start_date   end_date          created_at          updated_at  \\\n",
       "294126 2019-05-28 2019-10-08 2019-05-28 18:41:05 2019-05-28 18:41:05   \n",
       "294132 2019-05-28 2019-10-08 2019-05-28 18:41:05 2019-05-28 18:41:05   \n",
       "294135 2019-05-28 2019-10-08 2019-05-28 18:41:05 2019-05-28 18:41:05   \n",
       "\n",
       "               programs           date_time  \n",
       "294126  full_stack_java 2019-07-08 15:14:00  \n",
       "294132  full_stack_java 2019-07-08 15:14:05  \n",
       "294135  full_stack_java 2019-07-08 15:14:20  "
      ]
     },
     "execution_count": 52,
     "metadata": {},
     "output_type": "execute_result"
    }
   ],
   "source": [
    "# df of values in 'path' column that contain 'web-design'\n",
    "q2_fsj_web_design = q2_fsj[q2_fsj['path'].str.contains('web-design')]\n",
    "q2_fsj_web_design.head(3)"
   ]
  },
  {
   "cell_type": "code",
   "execution_count": 53,
   "id": "1b34a50b-56c9-432f-a8f5-0b24a2ca25dc",
   "metadata": {},
   "outputs": [],
   "source": [
    "# list of names of ds lesson dfs\n",
    "q2_ds_lesson_dfs = [q2_ds_fundamentals, q2_ds_classification, q2_ds_sql,\n",
    "                    q2_ds_regression, q2_ds_anomaly_detection, q2_ds_python,\n",
    "                    q2_ds_stats, q2_ds_clustering, q2_ds_storytelling, \n",
    "                    q2_ds_timeseries, q2_ds_nlp, q2_ds_distributed_ml, \n",
    "                    q2_ds_advanced_topics]"
   ]
  },
  {
   "cell_type": "code",
   "execution_count": 54,
   "id": "1fadc8c7-8c6d-4675-9311-75a37a64d6cc",
   "metadata": {},
   "outputs": [],
   "source": [
    "# list of names of fsj lesson dfs\n",
    "q2_fsj_lesson_dfs = [q2_fsj_javascript_i, q2_fsj_java_iii, q2_fsj_html_css\n",
    "                     , q2_fsj_java_ii, q2_fsj_jquery, q2_fsj_mysql, \n",
    "                     q2_fsj_spring, q2_fsj_slides, q2_fsj_web_design]"
   ]
  },
  {
   "cell_type": "markdown",
   "id": "f53c85fe-8f55-4141-80da-23dfabc1be54",
   "metadata": {},
   "source": [
    "Groupby for Data Science"
   ]
  },
  {
   "cell_type": "code",
   "execution_count": 55,
   "id": "db7d8013-bc30-4218-a44a-144a13a21cb7",
   "metadata": {},
   "outputs": [
    {
     "data": {
      "text/plain": [
       "cohort\n",
       "bayes       2715\n",
       "curie       2092\n",
       "darden      4182\n",
       "easley      2545\n",
       "florence    3637\n",
       "Name: path, dtype: int64"
      ]
     },
     "execution_count": 55,
     "metadata": {},
     "output_type": "execute_result"
    }
   ],
   "source": [
    "# groups the 'cohort' column by the number of corresponding values in the \n",
    "# 'path' column in descending order\n",
    "q2_ds_fundamentals_groupby = q2_ds_fundamentals.groupby('cohort')['path'].count()\n",
    "q2_ds_fundamentals_groupby"
   ]
  },
  {
   "cell_type": "code",
   "execution_count": 56,
   "id": "06aef710-e73e-43f1-a8af-ea5e63e2a085",
   "metadata": {},
   "outputs": [],
   "source": [
    "# assigns name to series\n",
    "q2_ds_fundamentals_groupby.name = 'fundamentals'"
   ]
  },
  {
   "cell_type": "code",
   "execution_count": 57,
   "id": "d9efee7c-38d6-438a-b4aa-0e2ffc7adaf7",
   "metadata": {},
   "outputs": [
    {
     "data": {
      "text/plain": [
       "cohort\n",
       "bayes       1711\n",
       "curie       1169\n",
       "darden      4715\n",
       "easley      2716\n",
       "florence     214\n",
       "Name: path, dtype: int64"
      ]
     },
     "execution_count": 57,
     "metadata": {},
     "output_type": "execute_result"
    }
   ],
   "source": [
    "# groups the 'cohort' column by the number of corresponding values in the \n",
    "# 'path' column in descending order\n",
    "q2_ds_classification_groupby = q2_ds_classification.groupby('cohort')['path'].count()\n",
    "q2_ds_classification_groupby"
   ]
  },
  {
   "cell_type": "code",
   "execution_count": 58,
   "id": "82a7e9a9-4d7d-4876-9c7f-40f938b16831",
   "metadata": {},
   "outputs": [],
   "source": [
    "# assigns name to series\n",
    "q2_ds_classification_groupby.name = 'classification'"
   ]
  },
  {
   "cell_type": "code",
   "execution_count": 59,
   "id": "a676ab3a-6706-416e-a38c-9a97fea73997",
   "metadata": {},
   "outputs": [
    {
     "data": {
      "text/plain": [
       "cohort\n",
       "bayes       1951\n",
       "curie       2356\n",
       "darden      3665\n",
       "easley      1872\n",
       "florence    2282\n",
       "Name: path, dtype: int64"
      ]
     },
     "execution_count": 59,
     "metadata": {},
     "output_type": "execute_result"
    }
   ],
   "source": [
    "# groups the 'cohort' column by the number of corresponding values in the \n",
    "# 'path' column in descending order\n",
    "q2_ds_sql_groupby = q2_ds_sql.groupby('cohort')['path'].count()\n",
    "q2_ds_sql_groupby"
   ]
  },
  {
   "cell_type": "code",
   "execution_count": 60,
   "id": "9555d92f-c612-4a84-b825-98173a32fc6c",
   "metadata": {},
   "outputs": [],
   "source": [
    "# assigns name to series\n",
    "q2_ds_sql_groupby.name = 'sql'"
   ]
  },
  {
   "cell_type": "code",
   "execution_count": 61,
   "id": "c93dcbf5-e840-4291-8945-73dfb205c12e",
   "metadata": {},
   "outputs": [
    {
     "data": {
      "text/plain": [
       "cohort\n",
       "bayes       2416\n",
       "curie       2118\n",
       "darden      1898\n",
       "easley      1261\n",
       "florence      22\n",
       "Name: path, dtype: int64"
      ]
     },
     "execution_count": 61,
     "metadata": {},
     "output_type": "execute_result"
    }
   ],
   "source": [
    "# groups the 'cohort' column by the number of corresponding values in the \n",
    "# 'path' column in descending order\n",
    "q2_ds_regression_groupby = q2_ds_regression.groupby('cohort')['path'].count()\n",
    "q2_ds_regression_groupby"
   ]
  },
  {
   "cell_type": "code",
   "execution_count": 62,
   "id": "974a54b2-e946-4c4b-9982-8b4db65f76c1",
   "metadata": {},
   "outputs": [],
   "source": [
    "# assigns name to series\n",
    "q2_ds_regression_groupby.name = 'regression'"
   ]
  },
  {
   "cell_type": "code",
   "execution_count": 63,
   "id": "06ae697a-b314-4f3e-809f-1d5eb201bc8d",
   "metadata": {},
   "outputs": [
    {
     "data": {
      "text/plain": [
       "cohort\n",
       "bayes       1068\n",
       "curie        884\n",
       "darden      1460\n",
       "easley       255\n",
       "florence      37\n",
       "Name: path, dtype: int64"
      ]
     },
     "execution_count": 63,
     "metadata": {},
     "output_type": "execute_result"
    }
   ],
   "source": [
    "# groups the 'cohort' column by the number of corresponding values in the \n",
    "# 'path' column in descending order\n",
    "q2_ds_anomaly_detection_groupby = q2_ds_anomaly_detection.groupby('cohort')['path'].count()\n",
    "q2_ds_anomaly_detection_groupby"
   ]
  },
  {
   "cell_type": "code",
   "execution_count": 64,
   "id": "69890203-6c1f-4e77-8b49-51d4bc1d7e1a",
   "metadata": {},
   "outputs": [],
   "source": [
    "# assigns name to series\n",
    "q2_ds_anomaly_detection_groupby.name = 'anomaly_detection'"
   ]
  },
  {
   "cell_type": "code",
   "execution_count": 65,
   "id": "fe1664a8-cdb2-432d-b955-aefd901bb059",
   "metadata": {},
   "outputs": [
    {
     "data": {
      "text/plain": [
       "cohort\n",
       "bayes       2220\n",
       "curie       2286\n",
       "darden      2500\n",
       "easley      1276\n",
       "florence    1365\n",
       "Name: path, dtype: int64"
      ]
     },
     "execution_count": 65,
     "metadata": {},
     "output_type": "execute_result"
    }
   ],
   "source": [
    "# groups the 'cohort' column by the number of corresponding values in the \n",
    "# 'path' column in descending order\n",
    "q2_ds_python_groupby = q2_ds_python.groupby('cohort')['path'].count()\n",
    "q2_ds_python_groupby"
   ]
  },
  {
   "cell_type": "code",
   "execution_count": 66,
   "id": "c428590b-4439-4db2-90f7-9110d2e197af",
   "metadata": {},
   "outputs": [],
   "source": [
    "# assigns name to series\n",
    "q2_ds_python_groupby.name = 'python'"
   ]
  },
  {
   "cell_type": "code",
   "execution_count": 67,
   "id": "d53c620a-2875-43a0-b2aa-f358db72c130",
   "metadata": {},
   "outputs": [
    {
     "data": {
      "text/plain": [
       "cohort\n",
       "bayes       1783\n",
       "curie       1214\n",
       "darden      2126\n",
       "easley      1008\n",
       "florence       5\n",
       "Name: path, dtype: int64"
      ]
     },
     "execution_count": 67,
     "metadata": {},
     "output_type": "execute_result"
    }
   ],
   "source": [
    "# groups the 'cohort' column by the number of corresponding values in the \n",
    "# 'path' column in descending order\n",
    "q2_ds_stats_groupby = q2_ds_stats.groupby('cohort')['path'].count()\n",
    "q2_ds_stats_groupby"
   ]
  },
  {
   "cell_type": "code",
   "execution_count": 68,
   "id": "86178711-d362-4900-9fb4-842d6f508070",
   "metadata": {},
   "outputs": [],
   "source": [
    "# assigns name to series\n",
    "q2_ds_stats_groupby.name = 'stats'"
   ]
  },
  {
   "cell_type": "code",
   "execution_count": 69,
   "id": "562efbb9-f79e-405f-8342-b4d9aa49e2d0",
   "metadata": {},
   "outputs": [
    {
     "data": {
      "text/plain": [
       "cohort\n",
       "bayes       1254\n",
       "curie        782\n",
       "darden      1173\n",
       "easley       862\n",
       "florence      10\n",
       "Name: path, dtype: int64"
      ]
     },
     "execution_count": 69,
     "metadata": {},
     "output_type": "execute_result"
    }
   ],
   "source": [
    "# groups the 'cohort' column by the number of corresponding values in the \n",
    "# 'path' column in descending order\n",
    "q2_ds_clustering_groupby = q2_ds_clustering.groupby('cohort')['path'].count()\n",
    "q2_ds_clustering_groupby"
   ]
  },
  {
   "cell_type": "code",
   "execution_count": 70,
   "id": "3cef818b-1bf4-4462-831e-bfcca38d7863",
   "metadata": {},
   "outputs": [],
   "source": [
    "# assigns name to series\n",
    "q2_ds_clustering_groupby.name = 'clustering'"
   ]
  },
  {
   "cell_type": "code",
   "execution_count": 71,
   "id": "c33e22a3-14d2-4d46-8860-1e6b1f32a97e",
   "metadata": {},
   "outputs": [
    {
     "data": {
      "text/plain": [
       "cohort\n",
       "bayes       775\n",
       "curie       683\n",
       "darden      904\n",
       "easley      744\n",
       "florence     16\n",
       "Name: path, dtype: int64"
      ]
     },
     "execution_count": 71,
     "metadata": {},
     "output_type": "execute_result"
    }
   ],
   "source": [
    "# groups the 'cohort' column by the number of corresponding values in the \n",
    "# 'path' column in descending order\n",
    "q2_ds_storytelling_groupby = q2_ds_storytelling.groupby('cohort')['path'].count()\n",
    "q2_ds_storytelling_groupby"
   ]
  },
  {
   "cell_type": "code",
   "execution_count": 72,
   "id": "70031f73-7964-4505-95d0-b284730aab60",
   "metadata": {},
   "outputs": [],
   "source": [
    "# assigns name to series\n",
    "q2_ds_storytelling_groupby.name = 'storytelling'"
   ]
  },
  {
   "cell_type": "code",
   "execution_count": 73,
   "id": "3d9e85fb-287f-4dd0-98d0-c8145f65f388",
   "metadata": {},
   "outputs": [
    {
     "data": {
      "text/plain": [
       "cohort\n",
       "bayes       1117\n",
       "curie        622\n",
       "darden       939\n",
       "easley       438\n",
       "florence       6\n",
       "Name: path, dtype: int64"
      ]
     },
     "execution_count": 73,
     "metadata": {},
     "output_type": "execute_result"
    }
   ],
   "source": [
    "# groups the 'cohort' column by the number of corresponding values in the \n",
    "# 'path' column in descending order\n",
    "q2_ds_timeseries_groupby = q2_ds_timeseries.groupby('cohort')['path'].count()\n",
    "q2_ds_timeseries_groupby"
   ]
  },
  {
   "cell_type": "code",
   "execution_count": 74,
   "id": "1bc9bf28-59cd-4e29-bdae-e8cb7e8e9945",
   "metadata": {},
   "outputs": [],
   "source": [
    "# assigns name to series\n",
    "q2_ds_timeseries_groupby.name = 'timeseries'"
   ]
  },
  {
   "cell_type": "code",
   "execution_count": 75,
   "id": "bd4db120-26c4-4631-a23e-4720a18be177",
   "metadata": {},
   "outputs": [
    {
     "data": {
      "text/plain": [
       "cohort\n",
       "bayes       981\n",
       "curie       723\n",
       "darden      979\n",
       "easley       34\n",
       "florence      4\n",
       "Name: path, dtype: int64"
      ]
     },
     "execution_count": 75,
     "metadata": {},
     "output_type": "execute_result"
    }
   ],
   "source": [
    "# groups the 'cohort' column by the number of corresponding values in the \n",
    "# 'path' column in descending order\n",
    "q2_ds_nlp_groupby = q2_ds_nlp.groupby('cohort')['path'].count()\n",
    "q2_ds_nlp_groupby"
   ]
  },
  {
   "cell_type": "code",
   "execution_count": 76,
   "id": "f1f7ffb2-1818-4e16-8546-5b6d9d79a004",
   "metadata": {},
   "outputs": [],
   "source": [
    "# assigns name to series\n",
    "q2_ds_nlp_groupby.name = 'nlp'"
   ]
  },
  {
   "cell_type": "code",
   "execution_count": 77,
   "id": "f279c632-1185-40a8-bbb2-2b649563b762",
   "metadata": {},
   "outputs": [
    {
     "data": {
      "text/plain": [
       "cohort\n",
       "bayes       493\n",
       "curie       374\n",
       "darden      545\n",
       "easley        8\n",
       "florence      4\n",
       "Name: path, dtype: int64"
      ]
     },
     "execution_count": 77,
     "metadata": {},
     "output_type": "execute_result"
    }
   ],
   "source": [
    "# groups the 'cohort' column by the number of corresponding values in the \n",
    "# 'path' column in descending order\n",
    "q2_ds_distributed_ml_groupby = q2_ds_distributed_ml.groupby('cohort')['path'].count()\n",
    "q2_ds_distributed_ml_groupby"
   ]
  },
  {
   "cell_type": "code",
   "execution_count": 78,
   "id": "eb9a1ad4-fd7d-449a-8bdb-b3525192242e",
   "metadata": {},
   "outputs": [],
   "source": [
    "# assigns name to series\n",
    "q2_ds_distributed_ml_groupby.name = 'distributed_ml'"
   ]
  },
  {
   "cell_type": "code",
   "execution_count": 79,
   "id": "64cbaf81-f678-4c7f-92d1-f4fa9439fe28",
   "metadata": {},
   "outputs": [
    {
     "data": {
      "text/plain": [
       "cohort\n",
       "bayes       541\n",
       "curie       397\n",
       "darden      128\n",
       "easley       26\n",
       "florence      1\n",
       "Name: path, dtype: int64"
      ]
     },
     "execution_count": 79,
     "metadata": {},
     "output_type": "execute_result"
    }
   ],
   "source": [
    "# groups the 'cohort' column by the number of corresponding values in the \n",
    "# 'path' column in descending order\n",
    "q2_ds_advanced_topics_groupby = q2_ds_advanced_topics.groupby('cohort')['path'].count()\n",
    "q2_ds_advanced_topics_groupby"
   ]
  },
  {
   "cell_type": "code",
   "execution_count": 80,
   "id": "74da2004-6065-4073-bbba-d01073f5ac42",
   "metadata": {},
   "outputs": [],
   "source": [
    "# assigns name to series\n",
    "q2_ds_advanced_topics_groupby.name = 'advanced_topics'"
   ]
  },
  {
   "cell_type": "markdown",
   "id": "643ba7d7-33eb-48cf-a0cb-417f4e66b920",
   "metadata": {},
   "source": [
    "Groupby for Full Stack Java"
   ]
  },
  {
   "cell_type": "code",
   "execution_count": 81,
   "id": "bf0f2b5e-b55a-4250-97b3-6de42cfc90cb",
   "metadata": {},
   "outputs": [
    {
     "data": {
      "text/plain": [
       "cohort\n",
       "andromeda     4833\n",
       "apex          5449\n",
       "bash          3443\n",
       "betelgeuse    6555\n",
       "ceres         7989\n",
       "deimos        4846\n",
       "europa        4816\n",
       "fortuna       6587\n",
       "ganymede      5801\n",
       "hyperion      6423\n",
       "jupiter       6653\n",
       "kalypso       5191\n",
       "luna          4501\n",
       "marco         6589\n",
       "neptune       2952\n",
       "oberon        1334\n",
       "sequoia         77\n",
       "teddy         5468\n",
       "ulysses       5116\n",
       "voyageurs     6582\n",
       "wrangell      5730\n",
       "xanadu        4942\n",
       "yosemite      4510\n",
       "zion          7617\n",
       "Name: path, dtype: int64"
      ]
     },
     "execution_count": 81,
     "metadata": {},
     "output_type": "execute_result"
    }
   ],
   "source": [
    "# groups the 'cohort' column by the number of corresponding values in the \n",
    "# 'path' column in descending order\n",
    "q2_fsj_javascript_i_groupby = q2_fsj_javascript_i.groupby('cohort')['path'].count()\n",
    "q2_fsj_javascript_i_groupby"
   ]
  },
  {
   "cell_type": "code",
   "execution_count": 82,
   "id": "b1756c09-653b-46b1-9436-9c5f216349e0",
   "metadata": {},
   "outputs": [],
   "source": [
    "# assigns name to series\n",
    "q2_fsj_javascript_i_groupby.name = 'javascript_i'"
   ]
  },
  {
   "cell_type": "code",
   "execution_count": 83,
   "id": "8ee4e483-58e9-4596-ba16-736fcf2bddb9",
   "metadata": {},
   "outputs": [
    {
     "data": {
      "text/plain": [
       "cohort\n",
       "andromeda     1612\n",
       "apex          2328\n",
       "bash          1251\n",
       "betelgeuse    1911\n",
       "ceres         2496\n",
       "deimos        2074\n",
       "europa        1934\n",
       "fortuna       2677\n",
       "ganymede      2425\n",
       "hyperion      2402\n",
       "jupiter       3590\n",
       "kalypso       2043\n",
       "luna          1466\n",
       "marco           76\n",
       "neptune         14\n",
       "oberon           3\n",
       "sequoia         46\n",
       "teddy         2344\n",
       "ulysses       1644\n",
       "voyageurs     2927\n",
       "wrangell      1679\n",
       "xanadu        2036\n",
       "yosemite      1545\n",
       "zion          2571\n",
       "Name: path, dtype: int64"
      ]
     },
     "execution_count": 83,
     "metadata": {},
     "output_type": "execute_result"
    }
   ],
   "source": [
    "# groups the 'cohort' column by the number of corresponding values in the \n",
    "# 'path' column in descending order\n",
    "q2_fsj_java_iii_groupby = q2_fsj_java_iii.groupby('cohort')['path'].count()\n",
    "q2_fsj_java_iii_groupby"
   ]
  },
  {
   "cell_type": "code",
   "execution_count": 84,
   "id": "48b336b0-b849-410e-b2ee-31a7b285ed19",
   "metadata": {},
   "outputs": [],
   "source": [
    "# assigns name to series\n",
    "q2_fsj_java_iii_groupby.name = 'fsj_java_iii'"
   ]
  },
  {
   "cell_type": "code",
   "execution_count": 85,
   "id": "b3423615-56ce-48e0-8797-10baccad25ad",
   "metadata": {},
   "outputs": [
    {
     "data": {
      "text/plain": [
       "cohort\n",
       "andromeda     2686\n",
       "apex          3428\n",
       "bash          1734\n",
       "betelgeuse    3141\n",
       "ceres         5577\n",
       "deimos        3748\n",
       "europa        3781\n",
       "fortuna       3901\n",
       "ganymede      3410\n",
       "hyperion      3479\n",
       "jupiter       3688\n",
       "kalypso       2961\n",
       "luna          2101\n",
       "marco         3396\n",
       "neptune       2501\n",
       "oberon          22\n",
       "sequoia        159\n",
       "teddy          548\n",
       "ulysses       2740\n",
       "voyageurs     3152\n",
       "wrangell      3040\n",
       "xanadu        2597\n",
       "yosemite      2179\n",
       "zion          3472\n",
       "Name: path, dtype: int64"
      ]
     },
     "execution_count": 85,
     "metadata": {},
     "output_type": "execute_result"
    }
   ],
   "source": [
    "# groups the 'cohort' column by the number of corresponding values in the \n",
    "# 'path' column in descending order\n",
    "q2_fsj_html_css_groupby = q2_fsj_html_css.groupby('cohort')['path'].count()\n",
    "q2_fsj_html_css_groupby"
   ]
  },
  {
   "cell_type": "code",
   "execution_count": 86,
   "id": "a7c854c5-5c6e-432b-ab8b-21d0bb083f02",
   "metadata": {},
   "outputs": [],
   "source": [
    "# assigns name to series\n",
    "q2_fsj_html_css_groupby.name = 'html_css'"
   ]
  },
  {
   "cell_type": "code",
   "execution_count": 87,
   "id": "09d227f5-8cc2-4997-8273-517e159ea136",
   "metadata": {},
   "outputs": [
    {
     "data": {
      "text/plain": [
       "cohort\n",
       "andromeda     3109\n",
       "apex          4851\n",
       "bash          2423\n",
       "betelgeuse    4111\n",
       "ceres         5429\n",
       "deimos        4113\n",
       "europa        3949\n",
       "fortuna       5391\n",
       "ganymede      5077\n",
       "hyperion      4774\n",
       "jupiter       7046\n",
       "kalypso       3940\n",
       "luna          2813\n",
       "marco          153\n",
       "neptune         25\n",
       "oberon           4\n",
       "sequoia         69\n",
       "teddy         3991\n",
       "ulysses       3404\n",
       "voyageurs     5570\n",
       "wrangell      3210\n",
       "xanadu        3604\n",
       "yosemite      2788\n",
       "zion          5216\n",
       "Name: path, dtype: int64"
      ]
     },
     "execution_count": 87,
     "metadata": {},
     "output_type": "execute_result"
    }
   ],
   "source": [
    "# groups the 'cohort' column by the number of corresponding values in the \n",
    "# 'path' column in descending order\n",
    "q2_fsj_java_ii_groupby = q2_fsj_java_ii.groupby('cohort')['path'].count()\n",
    "q2_fsj_java_ii_groupby"
   ]
  },
  {
   "cell_type": "code",
   "execution_count": 88,
   "id": "76f4a8b4-6c9e-4c9c-a293-07da5192859a",
   "metadata": {},
   "outputs": [],
   "source": [
    "# assigns name to series\n",
    "q2_fsj_java_ii_groupby.name = 'java_ii'"
   ]
  },
  {
   "cell_type": "code",
   "execution_count": 89,
   "id": "7aeb594d-ed11-446b-b8fd-4717a783ed03",
   "metadata": {},
   "outputs": [
    {
     "data": {
      "text/plain": [
       "cohort\n",
       "andromeda     1975\n",
       "apex          2249\n",
       "bash          1339\n",
       "betelgeuse    2882\n",
       "ceres         3355\n",
       "deimos        1953\n",
       "europa        2312\n",
       "fortuna       2684\n",
       "ganymede      2348\n",
       "hyperion      2208\n",
       "jupiter       2453\n",
       "kalypso       2269\n",
       "luna          1797\n",
       "marco         2499\n",
       "neptune         58\n",
       "oberon           5\n",
       "sequoia         49\n",
       "teddy         2023\n",
       "ulysses       2257\n",
       "voyageurs     2678\n",
       "wrangell      2327\n",
       "xanadu        2051\n",
       "yosemite      1451\n",
       "zion          3277\n",
       "Name: path, dtype: int64"
      ]
     },
     "execution_count": 89,
     "metadata": {},
     "output_type": "execute_result"
    }
   ],
   "source": [
    "# groups the 'cohort' column by the number of corresponding values in the \n",
    "# 'path' column in descending order\n",
    "q2_fsj_jquery_groupby = q2_fsj_jquery.groupby('cohort')['path'].count()\n",
    "q2_fsj_jquery_groupby"
   ]
  },
  {
   "cell_type": "code",
   "execution_count": 90,
   "id": "a957adf4-3a91-4163-956e-6d5d7f2f2c0a",
   "metadata": {},
   "outputs": [],
   "source": [
    "# assigns name to series\n",
    "q2_fsj_jquery_groupby.name = 'jquery'"
   ]
  },
  {
   "cell_type": "code",
   "execution_count": 91,
   "id": "c7b75173-cccc-45f3-96fc-9a49f7dfa435",
   "metadata": {},
   "outputs": [
    {
     "data": {
      "text/plain": [
       "cohort\n",
       "andromeda     2650\n",
       "apex          3446\n",
       "bash          1941\n",
       "betelgeuse    2747\n",
       "ceres         3871\n",
       "deimos        3620\n",
       "europa        3441\n",
       "fortuna       4246\n",
       "ganymede      3598\n",
       "hyperion      2969\n",
       "jupiter       4296\n",
       "kalypso       2440\n",
       "luna          2029\n",
       "marco          118\n",
       "neptune         29\n",
       "sequoia        217\n",
       "teddy         3956\n",
       "ulysses       2844\n",
       "voyageurs     4338\n",
       "wrangell      2836\n",
       "xanadu        3278\n",
       "yosemite      2574\n",
       "zion          4418\n",
       "Name: path, dtype: int64"
      ]
     },
     "execution_count": 91,
     "metadata": {},
     "output_type": "execute_result"
    }
   ],
   "source": [
    "# groups the 'cohort' column by the number of corresponding values in the \n",
    "# 'path' column in descending order\n",
    "q2_fsj_mysql_groupby = q2_fsj_mysql.groupby('cohort')['path'].count()\n",
    "q2_fsj_mysql_groupby"
   ]
  },
  {
   "cell_type": "code",
   "execution_count": 92,
   "id": "a3fef94e-bcce-4ade-8214-4f5536c44de7",
   "metadata": {},
   "outputs": [],
   "source": [
    "# assigns name to series\n",
    "q2_fsj_mysql_groupby.name = 'mysql'"
   ]
  },
  {
   "cell_type": "code",
   "execution_count": 93,
   "id": "3dc49389-1531-4d0c-8c95-aea45632ffbd",
   "metadata": {},
   "outputs": [
    {
     "data": {
      "text/plain": [
       "cohort\n",
       "andromeda     1989\n",
       "apex          2193\n",
       "bash          1430\n",
       "betelgeuse    1632\n",
       "ceres         2206\n",
       "deimos        1991\n",
       "europa        1719\n",
       "fortuna       2545\n",
       "ganymede      1801\n",
       "hyperion      1968\n",
       "jupiter       2927\n",
       "kalypso       1603\n",
       "luna           107\n",
       "marco           93\n",
       "neptune         11\n",
       "oberon           2\n",
       "sequoia       1047\n",
       "teddy         2713\n",
       "ulysses       2009\n",
       "voyageurs     2163\n",
       "wrangell      1535\n",
       "xanadu        1773\n",
       "yosemite      1689\n",
       "zion          2643\n",
       "Name: path, dtype: int64"
      ]
     },
     "execution_count": 93,
     "metadata": {},
     "output_type": "execute_result"
    }
   ],
   "source": [
    "# groups the 'cohort' column by the number of corresponding values in the \n",
    "# 'path' column in descending order\n",
    "q2_fsj_spring_groupby = q2_fsj_spring.groupby('cohort')['path'].count()\n",
    "q2_fsj_spring_groupby"
   ]
  },
  {
   "cell_type": "code",
   "execution_count": 94,
   "id": "55221d68-bfad-4bc1-b0dc-7bd5aa312a00",
   "metadata": {},
   "outputs": [],
   "source": [
    "# assigns name to series\n",
    "q2_fsj_spring_groupby.name = 'spring'"
   ]
  },
  {
   "cell_type": "code",
   "execution_count": 95,
   "id": "9121cd97-b23d-49d3-ba3d-b650aaa4fd9c",
   "metadata": {},
   "outputs": [
    {
     "data": {
      "text/plain": [
       "cohort\n",
       "andromeda       38\n",
       "apex            51\n",
       "bash            36\n",
       "betelgeuse       8\n",
       "ceres           27\n",
       "deimos          48\n",
       "europa          16\n",
       "fortuna        177\n",
       "ganymede       205\n",
       "hyperion       107\n",
       "jupiter        106\n",
       "kalypso         28\n",
       "luna            90\n",
       "marco           21\n",
       "sequoia         64\n",
       "teddy         1901\n",
       "ulysses       1625\n",
       "voyageurs     1419\n",
       "wrangell       164\n",
       "xanadu         203\n",
       "yosemite        25\n",
       "zion           124\n",
       "Name: path, dtype: int64"
      ]
     },
     "execution_count": 95,
     "metadata": {},
     "output_type": "execute_result"
    }
   ],
   "source": [
    "# groups the 'cohort' column by the number of corresponding values in the \n",
    "# 'path' column in descending order\n",
    "q2_fsj_slides_groupby = q2_fsj_slides.groupby('cohort')['path'].count()\n",
    "q2_fsj_slides_groupby"
   ]
  },
  {
   "cell_type": "code",
   "execution_count": 96,
   "id": "1e56c5d3-0d5f-4c2b-80a5-85305df451a5",
   "metadata": {},
   "outputs": [],
   "source": [
    "# assigns name to series\n",
    "q2_fsj_slides_groupby.name = 'slides'"
   ]
  },
  {
   "cell_type": "code",
   "execution_count": 97,
   "id": "075672fe-51f0-4449-97a9-c3903ae9a7e5",
   "metadata": {},
   "outputs": [
    {
     "data": {
      "text/plain": [
       "cohort\n",
       "andromeda      53\n",
       "apex          135\n",
       "bash           15\n",
       "betelgeuse    200\n",
       "ceres         233\n",
       "deimos         87\n",
       "europa        227\n",
       "fortuna       154\n",
       "ganymede      120\n",
       "hyperion       16\n",
       "jupiter       114\n",
       "kalypso        53\n",
       "luna           20\n",
       "marco          44\n",
       "Name: path, dtype: int64"
      ]
     },
     "execution_count": 97,
     "metadata": {},
     "output_type": "execute_result"
    }
   ],
   "source": [
    "# groups the 'cohort' column by the number of corresponding values in the \n",
    "# 'path' column in descending order\n",
    "q2_fsj_web_design_groupby = q2_fsj_web_design.groupby('cohort')['path'].count()\n",
    "q2_fsj_web_design_groupby"
   ]
  },
  {
   "cell_type": "code",
   "execution_count": 98,
   "id": "a8c4c0ec-8da4-4874-b7cd-f94d9e976ee1",
   "metadata": {},
   "outputs": [],
   "source": [
    "# assigns name to series\n",
    "q2_fsj_web_design_groupby.name = 'web_design'"
   ]
  },
  {
   "cell_type": "code",
   "execution_count": 99,
   "id": "765e3b3b-9213-46af-9d6b-627f57b467ad",
   "metadata": {},
   "outputs": [],
   "source": [
    "# list of names of ds series groupbys\n",
    "q2_ds_lesson_dfs_groupby = [q2_ds_fundamentals_groupby, q2_ds_classification_groupby, q2_ds_sql_groupby,\n",
    "                    q2_ds_regression_groupby, q2_ds_anomaly_detection_groupby, q2_ds_python_groupby,\n",
    "                    q2_ds_stats_groupby, q2_ds_clustering_groupby, q2_ds_storytelling_groupby, \n",
    "                    q2_ds_timeseries_groupby, q2_ds_nlp_groupby, q2_ds_distributed_ml_groupby, \n",
    "                    q2_ds_advanced_topics_groupby]"
   ]
  },
  {
   "cell_type": "code",
   "execution_count": 100,
   "id": "9efc4469-fda8-406e-bf49-a94b765be00b",
   "metadata": {
    "tags": []
   },
   "outputs": [
    {
     "data": {
      "text/html": [
       "<div>\n",
       "<style scoped>\n",
       "    .dataframe tbody tr th:only-of-type {\n",
       "        vertical-align: middle;\n",
       "    }\n",
       "\n",
       "    .dataframe tbody tr th {\n",
       "        vertical-align: top;\n",
       "    }\n",
       "\n",
       "    .dataframe thead th {\n",
       "        text-align: right;\n",
       "    }\n",
       "</style>\n",
       "<table border=\"1\" class=\"dataframe\">\n",
       "  <thead>\n",
       "    <tr style=\"text-align: right;\">\n",
       "      <th></th>\n",
       "      <th>fundamentals</th>\n",
       "      <th>classification</th>\n",
       "      <th>sql</th>\n",
       "      <th>regression</th>\n",
       "      <th>anomaly_detection</th>\n",
       "      <th>python</th>\n",
       "      <th>stats</th>\n",
       "      <th>clustering</th>\n",
       "      <th>storytelling</th>\n",
       "      <th>timeseries</th>\n",
       "      <th>nlp</th>\n",
       "      <th>distributed_ml</th>\n",
       "      <th>advanced_topics</th>\n",
       "    </tr>\n",
       "    <tr>\n",
       "      <th>cohort</th>\n",
       "      <th></th>\n",
       "      <th></th>\n",
       "      <th></th>\n",
       "      <th></th>\n",
       "      <th></th>\n",
       "      <th></th>\n",
       "      <th></th>\n",
       "      <th></th>\n",
       "      <th></th>\n",
       "      <th></th>\n",
       "      <th></th>\n",
       "      <th></th>\n",
       "      <th></th>\n",
       "    </tr>\n",
       "  </thead>\n",
       "  <tbody>\n",
       "    <tr>\n",
       "      <th>bayes</th>\n",
       "      <td>2715</td>\n",
       "      <td>1711</td>\n",
       "      <td>1951</td>\n",
       "      <td>2416</td>\n",
       "      <td>1068</td>\n",
       "      <td>2220</td>\n",
       "      <td>1783</td>\n",
       "      <td>1254</td>\n",
       "      <td>775</td>\n",
       "      <td>1117</td>\n",
       "      <td>981</td>\n",
       "      <td>493</td>\n",
       "      <td>541</td>\n",
       "    </tr>\n",
       "    <tr>\n",
       "      <th>curie</th>\n",
       "      <td>2092</td>\n",
       "      <td>1169</td>\n",
       "      <td>2356</td>\n",
       "      <td>2118</td>\n",
       "      <td>884</td>\n",
       "      <td>2286</td>\n",
       "      <td>1214</td>\n",
       "      <td>782</td>\n",
       "      <td>683</td>\n",
       "      <td>622</td>\n",
       "      <td>723</td>\n",
       "      <td>374</td>\n",
       "      <td>397</td>\n",
       "    </tr>\n",
       "    <tr>\n",
       "      <th>darden</th>\n",
       "      <td>4182</td>\n",
       "      <td>4715</td>\n",
       "      <td>3665</td>\n",
       "      <td>1898</td>\n",
       "      <td>1460</td>\n",
       "      <td>2500</td>\n",
       "      <td>2126</td>\n",
       "      <td>1173</td>\n",
       "      <td>904</td>\n",
       "      <td>939</td>\n",
       "      <td>979</td>\n",
       "      <td>545</td>\n",
       "      <td>128</td>\n",
       "    </tr>\n",
       "    <tr>\n",
       "      <th>easley</th>\n",
       "      <td>2545</td>\n",
       "      <td>2716</td>\n",
       "      <td>1872</td>\n",
       "      <td>1261</td>\n",
       "      <td>255</td>\n",
       "      <td>1276</td>\n",
       "      <td>1008</td>\n",
       "      <td>862</td>\n",
       "      <td>744</td>\n",
       "      <td>438</td>\n",
       "      <td>34</td>\n",
       "      <td>8</td>\n",
       "      <td>26</td>\n",
       "    </tr>\n",
       "    <tr>\n",
       "      <th>florence</th>\n",
       "      <td>3637</td>\n",
       "      <td>214</td>\n",
       "      <td>2282</td>\n",
       "      <td>22</td>\n",
       "      <td>37</td>\n",
       "      <td>1365</td>\n",
       "      <td>5</td>\n",
       "      <td>10</td>\n",
       "      <td>16</td>\n",
       "      <td>6</td>\n",
       "      <td>4</td>\n",
       "      <td>4</td>\n",
       "      <td>1</td>\n",
       "    </tr>\n",
       "  </tbody>\n",
       "</table>\n",
       "</div>"
      ],
      "text/plain": [
       "          fundamentals  classification   sql  regression  anomaly_detection  \\\n",
       "cohort                                                                        \n",
       "bayes             2715            1711  1951        2416               1068   \n",
       "curie             2092            1169  2356        2118                884   \n",
       "darden            4182            4715  3665        1898               1460   \n",
       "easley            2545            2716  1872        1261                255   \n",
       "florence          3637             214  2282          22                 37   \n",
       "\n",
       "          python  stats  clustering  storytelling  timeseries  nlp  \\\n",
       "cohort                                                               \n",
       "bayes       2220   1783        1254           775        1117  981   \n",
       "curie       2286   1214         782           683         622  723   \n",
       "darden      2500   2126        1173           904         939  979   \n",
       "easley      1276   1008         862           744         438   34   \n",
       "florence    1365      5          10            16           6    4   \n",
       "\n",
       "          distributed_ml  advanced_topics  \n",
       "cohort                                     \n",
       "bayes                493              541  \n",
       "curie                374              397  \n",
       "darden               545              128  \n",
       "easley                 8               26  \n",
       "florence               4                1  "
      ]
     },
     "execution_count": 100,
     "metadata": {},
     "output_type": "execute_result"
    }
   ],
   "source": [
    "q2_ds_combined_lessons = pd.concat(q2_ds_lesson_dfs_groupby, axis=1)\n",
    "q2_ds_combined_lessons"
   ]
  },
  {
   "cell_type": "markdown",
   "id": "a904533e-68fa-4934-af57-0da830866f02",
   "metadata": {},
   "source": [
    "Stacked barplot of the Full Stack Java cohort's lesson"
   ]
  },
  {
   "cell_type": "code",
   "execution_count": 101,
   "id": "7bcfaae8-1fab-4d5e-9046-d6530a3bbf0b",
   "metadata": {},
   "outputs": [
    {
     "data": {
      "text/plain": [
       "<Figure size 1440x1152 with 0 Axes>"
      ]
     },
     "metadata": {},
     "output_type": "display_data"
    },
    {
     "data": {
      "image/png": "[encoded data removed]",
      "text/plain": [
       "<Figure size 432x288 with 1 Axes>"
      ]
     },
     "metadata": {
      "needs_background": "light"
     },
     "output_type": "display_data"
    }
   ],
   "source": [
    "# Plots a barplot of number of entries for all Full Stack Java cohorts\n",
    "plt.figure(figsize=(20, 16))\n",
    "q2_ds_combined_lessons.plot.bar(stacked=True)\n",
    "plt.legend(bbox_to_anchor=(1.02, 1), loc='upper left', borderaxespad=0)\n",
    "plt.xticks(rotation = 90)\n",
    "plt.show()"
   ]
  },
  {
   "cell_type": "markdown",
   "id": "09cfdc67-5132-42d2-98f1-376392a56846",
   "metadata": {},
   "source": [
    "##### The counts for top 2 cohorts for each set of lessons for Data Science"
   ]
  },
  {
   "cell_type": "code",
   "execution_count": 102,
   "id": "68a58f02-54c7-4e58-acf7-8ef18ccccc85",
   "metadata": {},
   "outputs": [
    {
     "name": "stdout",
     "output_type": "stream",
     "text": [
      "cohort\n",
      "darden      4182\n",
      "florence    3637\n",
      "Name: fundamentals, dtype: int64\n",
      "cohort\n",
      "darden    4715\n",
      "easley    2716\n",
      "Name: classification, dtype: int64\n",
      "cohort\n",
      "darden    3665\n",
      "curie     2356\n",
      "Name: sql, dtype: int64\n",
      "cohort\n",
      "bayes    2416\n",
      "curie    2118\n",
      "Name: regression, dtype: int64\n",
      "cohort\n",
      "darden    1460\n",
      "bayes     1068\n",
      "Name: anomaly_detection, dtype: int64\n",
      "cohort\n",
      "darden    2500\n",
      "curie     2286\n",
      "Name: python, dtype: int64\n",
      "cohort\n",
      "darden    2126\n",
      "bayes     1783\n",
      "Name: stats, dtype: int64\n",
      "cohort\n",
      "bayes     1254\n",
      "darden    1173\n",
      "Name: clustering, dtype: int64\n",
      "cohort\n",
      "darden    904\n",
      "bayes     775\n",
      "Name: storytelling, dtype: int64\n",
      "cohort\n",
      "bayes     1117\n",
      "darden     939\n",
      "Name: timeseries, dtype: int64\n",
      "cohort\n",
      "bayes     981\n",
      "darden    979\n",
      "Name: nlp, dtype: int64\n",
      "cohort\n",
      "darden    545\n",
      "bayes     493\n",
      "Name: distributed_ml, dtype: int64\n",
      "cohort\n",
      "bayes    541\n",
      "curie    397\n",
      "Name: advanced_topics, dtype: int64\n"
     ]
    }
   ],
   "source": [
    "# prints out the names and numbers of the top 2 cohort for each ds lesson set\n",
    "for group in q2_ds_lesson_dfs_groupby:\n",
    "    print(group.nlargest(2))"
   ]
  },
  {
   "cell_type": "code",
   "execution_count": 103,
   "id": "55b88abc-c0c1-49fb-8642-9e4ff96472ad",
   "metadata": {},
   "outputs": [],
   "source": [
    "# list of names of fsj series groupbys\n",
    "q2_fsj_lesson_dfs_groupby = [q2_fsj_javascript_i_groupby, q2_fsj_java_iii_groupby, q2_fsj_html_css_groupby\n",
    "                     , q2_fsj_java_ii_groupby, q2_fsj_jquery_groupby, q2_fsj_mysql_groupby, \n",
    "                     q2_fsj_spring_groupby, q2_fsj_slides_groupby, q2_fsj_web_design_groupby]"
   ]
  },
  {
   "cell_type": "code",
   "execution_count": 104,
   "id": "a26a4451-a55e-4200-b67e-880d552d512a",
   "metadata": {},
   "outputs": [
    {
     "data": {
      "text/html": [
       "<div>\n",
       "<style scoped>\n",
       "    .dataframe tbody tr th:only-of-type {\n",
       "        vertical-align: middle;\n",
       "    }\n",
       "\n",
       "    .dataframe tbody tr th {\n",
       "        vertical-align: top;\n",
       "    }\n",
       "\n",
       "    .dataframe thead th {\n",
       "        text-align: right;\n",
       "    }\n",
       "</style>\n",
       "<table border=\"1\" class=\"dataframe\">\n",
       "  <thead>\n",
       "    <tr style=\"text-align: right;\">\n",
       "      <th></th>\n",
       "      <th>javascript_i</th>\n",
       "      <th>fsj_java_iii</th>\n",
       "      <th>html_css</th>\n",
       "      <th>java_ii</th>\n",
       "      <th>jquery</th>\n",
       "      <th>mysql</th>\n",
       "      <th>spring</th>\n",
       "      <th>slides</th>\n",
       "      <th>web_design</th>\n",
       "    </tr>\n",
       "    <tr>\n",
       "      <th>cohort</th>\n",
       "      <th></th>\n",
       "      <th></th>\n",
       "      <th></th>\n",
       "      <th></th>\n",
       "      <th></th>\n",
       "      <th></th>\n",
       "      <th></th>\n",
       "      <th></th>\n",
       "      <th></th>\n",
       "    </tr>\n",
       "  </thead>\n",
       "  <tbody>\n",
       "    <tr>\n",
       "      <th>andromeda</th>\n",
       "      <td>4833</td>\n",
       "      <td>1612</td>\n",
       "      <td>2686</td>\n",
       "      <td>3109</td>\n",
       "      <td>1975</td>\n",
       "      <td>2650.0</td>\n",
       "      <td>1989</td>\n",
       "      <td>38.0</td>\n",
       "      <td>53.0</td>\n",
       "    </tr>\n",
       "    <tr>\n",
       "      <th>apex</th>\n",
       "      <td>5449</td>\n",
       "      <td>2328</td>\n",
       "      <td>3428</td>\n",
       "      <td>4851</td>\n",
       "      <td>2249</td>\n",
       "      <td>3446.0</td>\n",
       "      <td>2193</td>\n",
       "      <td>51.0</td>\n",
       "      <td>135.0</td>\n",
       "    </tr>\n",
       "    <tr>\n",
       "      <th>bash</th>\n",
       "      <td>3443</td>\n",
       "      <td>1251</td>\n",
       "      <td>1734</td>\n",
       "      <td>2423</td>\n",
       "      <td>1339</td>\n",
       "      <td>1941.0</td>\n",
       "      <td>1430</td>\n",
       "      <td>36.0</td>\n",
       "      <td>15.0</td>\n",
       "    </tr>\n",
       "    <tr>\n",
       "      <th>betelgeuse</th>\n",
       "      <td>6555</td>\n",
       "      <td>1911</td>\n",
       "      <td>3141</td>\n",
       "      <td>4111</td>\n",
       "      <td>2882</td>\n",
       "      <td>2747.0</td>\n",
       "      <td>1632</td>\n",
       "      <td>8.0</td>\n",
       "      <td>200.0</td>\n",
       "    </tr>\n",
       "    <tr>\n",
       "      <th>ceres</th>\n",
       "      <td>7989</td>\n",
       "      <td>2496</td>\n",
       "      <td>5577</td>\n",
       "      <td>5429</td>\n",
       "      <td>3355</td>\n",
       "      <td>3871.0</td>\n",
       "      <td>2206</td>\n",
       "      <td>27.0</td>\n",
       "      <td>233.0</td>\n",
       "    </tr>\n",
       "    <tr>\n",
       "      <th>deimos</th>\n",
       "      <td>4846</td>\n",
       "      <td>2074</td>\n",
       "      <td>3748</td>\n",
       "      <td>4113</td>\n",
       "      <td>1953</td>\n",
       "      <td>3620.0</td>\n",
       "      <td>1991</td>\n",
       "      <td>48.0</td>\n",
       "      <td>87.0</td>\n",
       "    </tr>\n",
       "    <tr>\n",
       "      <th>europa</th>\n",
       "      <td>4816</td>\n",
       "      <td>1934</td>\n",
       "      <td>3781</td>\n",
       "      <td>3949</td>\n",
       "      <td>2312</td>\n",
       "      <td>3441.0</td>\n",
       "      <td>1719</td>\n",
       "      <td>16.0</td>\n",
       "      <td>227.0</td>\n",
       "    </tr>\n",
       "    <tr>\n",
       "      <th>fortuna</th>\n",
       "      <td>6587</td>\n",
       "      <td>2677</td>\n",
       "      <td>3901</td>\n",
       "      <td>5391</td>\n",
       "      <td>2684</td>\n",
       "      <td>4246.0</td>\n",
       "      <td>2545</td>\n",
       "      <td>177.0</td>\n",
       "      <td>154.0</td>\n",
       "    </tr>\n",
       "    <tr>\n",
       "      <th>ganymede</th>\n",
       "      <td>5801</td>\n",
       "      <td>2425</td>\n",
       "      <td>3410</td>\n",
       "      <td>5077</td>\n",
       "      <td>2348</td>\n",
       "      <td>3598.0</td>\n",
       "      <td>1801</td>\n",
       "      <td>205.0</td>\n",
       "      <td>120.0</td>\n",
       "    </tr>\n",
       "    <tr>\n",
       "      <th>hyperion</th>\n",
       "      <td>6423</td>\n",
       "      <td>2402</td>\n",
       "      <td>3479</td>\n",
       "      <td>4774</td>\n",
       "      <td>2208</td>\n",
       "      <td>2969.0</td>\n",
       "      <td>1968</td>\n",
       "      <td>107.0</td>\n",
       "      <td>16.0</td>\n",
       "    </tr>\n",
       "    <tr>\n",
       "      <th>jupiter</th>\n",
       "      <td>6653</td>\n",
       "      <td>3590</td>\n",
       "      <td>3688</td>\n",
       "      <td>7046</td>\n",
       "      <td>2453</td>\n",
       "      <td>4296.0</td>\n",
       "      <td>2927</td>\n",
       "      <td>106.0</td>\n",
       "      <td>114.0</td>\n",
       "    </tr>\n",
       "    <tr>\n",
       "      <th>kalypso</th>\n",
       "      <td>5191</td>\n",
       "      <td>2043</td>\n",
       "      <td>2961</td>\n",
       "      <td>3940</td>\n",
       "      <td>2269</td>\n",
       "      <td>2440.0</td>\n",
       "      <td>1603</td>\n",
       "      <td>28.0</td>\n",
       "      <td>53.0</td>\n",
       "    </tr>\n",
       "    <tr>\n",
       "      <th>luna</th>\n",
       "      <td>4501</td>\n",
       "      <td>1466</td>\n",
       "      <td>2101</td>\n",
       "      <td>2813</td>\n",
       "      <td>1797</td>\n",
       "      <td>2029.0</td>\n",
       "      <td>107</td>\n",
       "      <td>90.0</td>\n",
       "      <td>20.0</td>\n",
       "    </tr>\n",
       "    <tr>\n",
       "      <th>marco</th>\n",
       "      <td>6589</td>\n",
       "      <td>76</td>\n",
       "      <td>3396</td>\n",
       "      <td>153</td>\n",
       "      <td>2499</td>\n",
       "      <td>118.0</td>\n",
       "      <td>93</td>\n",
       "      <td>21.0</td>\n",
       "      <td>44.0</td>\n",
       "    </tr>\n",
       "    <tr>\n",
       "      <th>neptune</th>\n",
       "      <td>2952</td>\n",
       "      <td>14</td>\n",
       "      <td>2501</td>\n",
       "      <td>25</td>\n",
       "      <td>58</td>\n",
       "      <td>29.0</td>\n",
       "      <td>11</td>\n",
       "      <td>NaN</td>\n",
       "      <td>NaN</td>\n",
       "    </tr>\n",
       "    <tr>\n",
       "      <th>oberon</th>\n",
       "      <td>1334</td>\n",
       "      <td>3</td>\n",
       "      <td>22</td>\n",
       "      <td>4</td>\n",
       "      <td>5</td>\n",
       "      <td>NaN</td>\n",
       "      <td>2</td>\n",
       "      <td>NaN</td>\n",
       "      <td>NaN</td>\n",
       "    </tr>\n",
       "    <tr>\n",
       "      <th>sequoia</th>\n",
       "      <td>77</td>\n",
       "      <td>46</td>\n",
       "      <td>159</td>\n",
       "      <td>69</td>\n",
       "      <td>49</td>\n",
       "      <td>217.0</td>\n",
       "      <td>1047</td>\n",
       "      <td>64.0</td>\n",
       "      <td>NaN</td>\n",
       "    </tr>\n",
       "    <tr>\n",
       "      <th>teddy</th>\n",
       "      <td>5468</td>\n",
       "      <td>2344</td>\n",
       "      <td>548</td>\n",
       "      <td>3991</td>\n",
       "      <td>2023</td>\n",
       "      <td>3956.0</td>\n",
       "      <td>2713</td>\n",
       "      <td>1901.0</td>\n",
       "      <td>NaN</td>\n",
       "    </tr>\n",
       "    <tr>\n",
       "      <th>ulysses</th>\n",
       "      <td>5116</td>\n",
       "      <td>1644</td>\n",
       "      <td>2740</td>\n",
       "      <td>3404</td>\n",
       "      <td>2257</td>\n",
       "      <td>2844.0</td>\n",
       "      <td>2009</td>\n",
       "      <td>1625.0</td>\n",
       "      <td>NaN</td>\n",
       "    </tr>\n",
       "    <tr>\n",
       "      <th>voyageurs</th>\n",
       "      <td>6582</td>\n",
       "      <td>2927</td>\n",
       "      <td>3152</td>\n",
       "      <td>5570</td>\n",
       "      <td>2678</td>\n",
       "      <td>4338.0</td>\n",
       "      <td>2163</td>\n",
       "      <td>1419.0</td>\n",
       "      <td>NaN</td>\n",
       "    </tr>\n",
       "    <tr>\n",
       "      <th>wrangell</th>\n",
       "      <td>5730</td>\n",
       "      <td>1679</td>\n",
       "      <td>3040</td>\n",
       "      <td>3210</td>\n",
       "      <td>2327</td>\n",
       "      <td>2836.0</td>\n",
       "      <td>1535</td>\n",
       "      <td>164.0</td>\n",
       "      <td>NaN</td>\n",
       "    </tr>\n",
       "    <tr>\n",
       "      <th>xanadu</th>\n",
       "      <td>4942</td>\n",
       "      <td>2036</td>\n",
       "      <td>2597</td>\n",
       "      <td>3604</td>\n",
       "      <td>2051</td>\n",
       "      <td>3278.0</td>\n",
       "      <td>1773</td>\n",
       "      <td>203.0</td>\n",
       "      <td>NaN</td>\n",
       "    </tr>\n",
       "    <tr>\n",
       "      <th>yosemite</th>\n",
       "      <td>4510</td>\n",
       "      <td>1545</td>\n",
       "      <td>2179</td>\n",
       "      <td>2788</td>\n",
       "      <td>1451</td>\n",
       "      <td>2574.0</td>\n",
       "      <td>1689</td>\n",
       "      <td>25.0</td>\n",
       "      <td>NaN</td>\n",
       "    </tr>\n",
       "    <tr>\n",
       "      <th>zion</th>\n",
       "      <td>7617</td>\n",
       "      <td>2571</td>\n",
       "      <td>3472</td>\n",
       "      <td>5216</td>\n",
       "      <td>3277</td>\n",
       "      <td>4418.0</td>\n",
       "      <td>2643</td>\n",
       "      <td>124.0</td>\n",
       "      <td>NaN</td>\n",
       "    </tr>\n",
       "  </tbody>\n",
       "</table>\n",
       "</div>"
      ],
      "text/plain": [
       "            javascript_i  fsj_java_iii  html_css  java_ii  jquery   mysql  \\\n",
       "cohort                                                                      \n",
       "andromeda           4833          1612      2686     3109    1975  2650.0   \n",
       "apex                5449          2328      3428     4851    2249  3446.0   \n",
       "bash                3443          1251      1734     2423    1339  1941.0   \n",
       "betelgeuse          6555          1911      3141     4111    2882  2747.0   \n",
       "ceres               7989          2496      5577     5429    3355  3871.0   \n",
       "deimos              4846          2074      3748     4113    1953  3620.0   \n",
       "europa              4816          1934      3781     3949    2312  3441.0   \n",
       "fortuna             6587          2677      3901     5391    2684  4246.0   \n",
       "ganymede            5801          2425      3410     5077    2348  3598.0   \n",
       "hyperion            6423          2402      3479     4774    2208  2969.0   \n",
       "jupiter             6653          3590      3688     7046    2453  4296.0   \n",
       "kalypso             5191          2043      2961     3940    2269  2440.0   \n",
       "luna                4501          1466      2101     2813    1797  2029.0   \n",
       "marco               6589            76      3396      153    2499   118.0   \n",
       "neptune             2952            14      2501       25      58    29.0   \n",
       "oberon              1334             3        22        4       5     NaN   \n",
       "sequoia               77            46       159       69      49   217.0   \n",
       "teddy               5468          2344       548     3991    2023  3956.0   \n",
       "ulysses             5116          1644      2740     3404    2257  2844.0   \n",
       "voyageurs           6582          2927      3152     5570    2678  4338.0   \n",
       "wrangell            5730          1679      3040     3210    2327  2836.0   \n",
       "xanadu              4942          2036      2597     3604    2051  3278.0   \n",
       "yosemite            4510          1545      2179     2788    1451  2574.0   \n",
       "zion                7617          2571      3472     5216    3277  4418.0   \n",
       "\n",
       "            spring  slides  web_design  \n",
       "cohort                                  \n",
       "andromeda     1989    38.0        53.0  \n",
       "apex          2193    51.0       135.0  \n",
       "bash          1430    36.0        15.0  \n",
       "betelgeuse    1632     8.0       200.0  \n",
       "ceres         2206    27.0       233.0  \n",
       "deimos        1991    48.0        87.0  \n",
       "europa        1719    16.0       227.0  \n",
       "fortuna       2545   177.0       154.0  \n",
       "ganymede      1801   205.0       120.0  \n",
       "hyperion      1968   107.0        16.0  \n",
       "jupiter       2927   106.0       114.0  \n",
       "kalypso       1603    28.0        53.0  \n",
       "luna           107    90.0        20.0  \n",
       "marco           93    21.0        44.0  \n",
       "neptune         11     NaN         NaN  \n",
       "oberon           2     NaN         NaN  \n",
       "sequoia       1047    64.0         NaN  \n",
       "teddy         2713  1901.0         NaN  \n",
       "ulysses       2009  1625.0         NaN  \n",
       "voyageurs     2163  1419.0         NaN  \n",
       "wrangell      1535   164.0         NaN  \n",
       "xanadu        1773   203.0         NaN  \n",
       "yosemite      1689    25.0         NaN  \n",
       "zion          2643   124.0         NaN  "
      ]
     },
     "execution_count": 104,
     "metadata": {},
     "output_type": "execute_result"
    }
   ],
   "source": [
    "q2_fsj_combined_lessons = pd.concat(q2_fsj_lesson_dfs_groupby, axis=1)\n",
    "q2_fsj_combined_lessons"
   ]
  },
  {
   "cell_type": "code",
   "execution_count": 105,
   "id": "965d4596-8a44-4d53-840f-e9e0d39de31c",
   "metadata": {},
   "outputs": [
    {
     "data": {
      "text/plain": [
       "<Figure size 1440x1152 with 0 Axes>"
      ]
     },
     "metadata": {},
     "output_type": "display_data"
    },
    {
     "data": {
      "image/png": "[encoded data removed]",
      "text/plain": [
       "<Figure size 432x288 with 1 Axes>"
      ]
     },
     "metadata": {
      "needs_background": "light"
     },
     "output_type": "display_data"
    }
   ],
   "source": [
    "# Plots a barplot of number of entries for all Full Stack Java cohorts\n",
    "plt.figure(figsize=(20, 16))\n",
    "q2_fsj_combined_lessons.plot.bar(stacked=True)\n",
    "plt.legend(bbox_to_anchor=(1.02, 1), loc='upper left', borderaxespad=0)\n",
    "plt.xticks(rotation = 90)\n",
    "plt.show()"
   ]
  },
  {
   "cell_type": "markdown",
   "id": "97988235-612f-4643-9e38-d4bcca01d207",
   "metadata": {},
   "source": [
    "##### The counts for top 2 cohorts for each set of lessons for Full Stack Java"
   ]
  },
  {
   "cell_type": "code",
   "execution_count": 106,
   "id": "9a7abc12-41d9-4c54-822e-3c524bb7a47e",
   "metadata": {},
   "outputs": [
    {
     "name": "stdout",
     "output_type": "stream",
     "text": [
      "cohort\n",
      "ceres    7989\n",
      "zion     7617\n",
      "Name: javascript_i, dtype: int64\n",
      "cohort\n",
      "jupiter      3590\n",
      "voyageurs    2927\n",
      "Name: fsj_java_iii, dtype: int64\n",
      "cohort\n",
      "ceres      5577\n",
      "fortuna    3901\n",
      "Name: html_css, dtype: int64\n",
      "cohort\n",
      "jupiter      7046\n",
      "voyageurs    5570\n",
      "Name: java_ii, dtype: int64\n",
      "cohort\n",
      "ceres    3355\n",
      "zion     3277\n",
      "Name: jquery, dtype: int64\n",
      "cohort\n",
      "zion         4418\n",
      "voyageurs    4338\n",
      "Name: mysql, dtype: int64\n",
      "cohort\n",
      "jupiter    2927\n",
      "teddy      2713\n",
      "Name: spring, dtype: int64\n",
      "cohort\n",
      "teddy      1901\n",
      "ulysses    1625\n",
      "Name: slides, dtype: int64\n",
      "cohort\n",
      "ceres     233\n",
      "europa    227\n",
      "Name: web_design, dtype: int64\n"
     ]
    }
   ],
   "source": [
    "# prints out the names and numbers of the top 2 cohort for each fsj lesson set\n",
    "for group in q2_fsj_lesson_dfs_groupby:\n",
    "    print(group.nlargest(2))"
   ]
  },
  {
   "cell_type": "markdown",
   "id": "a6772d0b-fe7f-42db-a1a7-fbe6f1be4241",
   "metadata": {},
   "source": [
    "##### Percentage of top set of lessons per Full Stack Javascript cohort over next highest"
   ]
  },
  {
   "cell_type": "code",
   "execution_count": 107,
   "id": "90b25843-7420-4e8d-86fa-3d2eea69b199",
   "metadata": {},
   "outputs": [
    {
     "data": {
      "text/plain": [
       "14.98"
      ]
     },
     "execution_count": 107,
     "metadata": {},
     "output_type": "execute_result"
    }
   ],
   "source": [
    "# percentage higher of the max value compared to the second highest\n",
    "q2_ds_fundamentals_percentage = round(((q2_ds_fundamentals_groupby.sort_values(ascending=False)[0]/q2_ds_fundamentals_groupby.sort_values(ascending=False)[1])-1)*100, 2)\n",
    "q2_ds_fundamentals_percentage"
   ]
  },
  {
   "cell_type": "code",
   "execution_count": 108,
   "id": "ac704feb-5039-4e68-af5b-257e541bc793",
   "metadata": {},
   "outputs": [
    {
     "data": {
      "text/plain": [
       "73.6"
      ]
     },
     "execution_count": 108,
     "metadata": {},
     "output_type": "execute_result"
    }
   ],
   "source": [
    "# percentage higher of the max value compared to the second highest\n",
    "q2_ds_classification_percentage = round(((q2_ds_classification_groupby.sort_values(ascending=False)[0]/q2_ds_classification_groupby.sort_values(ascending=False)[1])-1)*100, 2)\n",
    "q2_ds_classification_percentage"
   ]
  },
  {
   "cell_type": "code",
   "execution_count": 109,
   "id": "d041d9af-164e-45e9-b29d-97e45bd8f936",
   "metadata": {},
   "outputs": [
    {
     "data": {
      "text/plain": [
       "55.56"
      ]
     },
     "execution_count": 109,
     "metadata": {},
     "output_type": "execute_result"
    }
   ],
   "source": [
    "# percentage higher of the max value compared to the second highest\n",
    "q2_ds_sql_percentage = round(((q2_ds_sql_groupby.sort_values(ascending=False)[0]/q2_ds_sql_groupby.sort_values(ascending=False)[1])-1)*100, 2)\n",
    "q2_ds_sql_percentage"
   ]
  },
  {
   "cell_type": "code",
   "execution_count": 110,
   "id": "e011a7a8-ece4-423a-9831-7569c017218f",
   "metadata": {},
   "outputs": [
    {
     "data": {
      "text/plain": [
       "14.07"
      ]
     },
     "execution_count": 110,
     "metadata": {},
     "output_type": "execute_result"
    }
   ],
   "source": [
    "# percentage higher of the max value compared to the second highest\n",
    "q2_ds_regression_percentage = round(((q2_ds_regression_groupby.sort_values(ascending=False)[0]/q2_ds_regression_groupby.sort_values(ascending=False)[1])-1)*100, 2)\n",
    "q2_ds_regression_percentage"
   ]
  },
  {
   "cell_type": "code",
   "execution_count": 111,
   "id": "742190a7-83de-4d59-98b0-780f9059c2a4",
   "metadata": {},
   "outputs": [
    {
     "data": {
      "text/plain": [
       "36.7"
      ]
     },
     "execution_count": 111,
     "metadata": {},
     "output_type": "execute_result"
    }
   ],
   "source": [
    "# percentage higher of the max value compared to the second highest\n",
    "q2_ds_anomaly_detection_percentage = round(((q2_ds_anomaly_detection_groupby.sort_values(ascending=False)[0]/q2_ds_anomaly_detection_groupby.sort_values(ascending=False)[1])-1)*100, 2)\n",
    "q2_ds_anomaly_detection_percentage"
   ]
  },
  {
   "cell_type": "code",
   "execution_count": 112,
   "id": "8d48ee32-d9c7-477a-8584-6747443199de",
   "metadata": {},
   "outputs": [
    {
     "data": {
      "text/plain": [
       "9.36"
      ]
     },
     "execution_count": 112,
     "metadata": {},
     "output_type": "execute_result"
    }
   ],
   "source": [
    "# percentage higher of the max value compared to the second highest\n",
    "q2_ds_python_percentage = round(((q2_ds_python_groupby.sort_values(ascending=False)[0]/q2_ds_python_groupby.sort_values(ascending=False)[1])-1)*100, 2)\n",
    "q2_ds_python_percentage"
   ]
  },
  {
   "cell_type": "code",
   "execution_count": 113,
   "id": "efb0195e-be1a-48de-9525-d6cd624e86c5",
   "metadata": {},
   "outputs": [
    {
     "data": {
      "text/plain": [
       "19.24"
      ]
     },
     "execution_count": 113,
     "metadata": {},
     "output_type": "execute_result"
    }
   ],
   "source": [
    "# percentage higher of the max value compared to the second highest\n",
    "q2_ds_stats_percentage = round(((q2_ds_stats_groupby.sort_values(ascending=False)[0]/q2_ds_stats_groupby.sort_values(ascending=False)[1])-1)*100, 2)\n",
    "q2_ds_stats_percentage"
   ]
  },
  {
   "cell_type": "code",
   "execution_count": 114,
   "id": "2f9b5a1e-6801-430b-a584-b1e6dd64be59",
   "metadata": {},
   "outputs": [
    {
     "data": {
      "text/plain": [
       "6.91"
      ]
     },
     "execution_count": 114,
     "metadata": {},
     "output_type": "execute_result"
    }
   ],
   "source": [
    "# percentage higher of the max value compared to the second highest\n",
    "q2_ds_clustering_percentage = round(((q2_ds_clustering_groupby.sort_values(ascending=False)[0]/q2_ds_clustering_groupby.sort_values(ascending=False)[1])-1)*100, 2)\n",
    "q2_ds_clustering_percentage"
   ]
  },
  {
   "cell_type": "code",
   "execution_count": 115,
   "id": "82cfb71b-6599-4e84-b11b-a2a5bc1816e6",
   "metadata": {},
   "outputs": [
    {
     "data": {
      "text/plain": [
       "16.65"
      ]
     },
     "execution_count": 115,
     "metadata": {},
     "output_type": "execute_result"
    }
   ],
   "source": [
    "# percentage higher of the max value compared to the second highest\n",
    "q2_ds_storytelling_percentage = round(((q2_ds_storytelling_groupby.sort_values(ascending=False)[0]/q2_ds_storytelling_groupby.sort_values(ascending=False)[1])-1)*100, 2)\n",
    "q2_ds_storytelling_percentage"
   ]
  },
  {
   "cell_type": "code",
   "execution_count": 116,
   "id": "cfedda9d-23ca-4d8f-bfa1-b480303b1bb3",
   "metadata": {},
   "outputs": [
    {
     "data": {
      "text/plain": [
       "18.96"
      ]
     },
     "execution_count": 116,
     "metadata": {},
     "output_type": "execute_result"
    }
   ],
   "source": [
    "# percentage higher of the max value compared to the second highest\n",
    "q2_ds_timeseries_percentage = round(((q2_ds_timeseries_groupby.sort_values(ascending=False)[0]/q2_ds_timeseries_groupby.sort_values(ascending=False)[1])-1)*100, 2)\n",
    "q2_ds_timeseries_percentage"
   ]
  },
  {
   "cell_type": "code",
   "execution_count": 117,
   "id": "e0013311-4cc6-4459-9cc3-331725ce6636",
   "metadata": {},
   "outputs": [
    {
     "data": {
      "text/plain": [
       "0.2"
      ]
     },
     "execution_count": 117,
     "metadata": {},
     "output_type": "execute_result"
    }
   ],
   "source": [
    "# percentage higher of the max value compared to the second highest\n",
    "q2_ds_nlp_percentage = round(((q2_ds_nlp_groupby.sort_values(ascending=False)[0]/q2_ds_nlp_groupby.sort_values(ascending=False)[1])-1)*100, 2)\n",
    "q2_ds_nlp_percentage"
   ]
  },
  {
   "cell_type": "code",
   "execution_count": 118,
   "id": "df7216e4-de0e-4742-8425-9bad4c1c7a77",
   "metadata": {},
   "outputs": [
    {
     "data": {
      "text/plain": [
       "10.55"
      ]
     },
     "execution_count": 118,
     "metadata": {},
     "output_type": "execute_result"
    }
   ],
   "source": [
    "# percentage higher of the max value compared to the second highest\n",
    "q2_ds_distributed_ml_percentage = round(((q2_ds_distributed_ml_groupby.sort_values(ascending=False)[0]/q2_ds_distributed_ml_groupby.sort_values(ascending=False)[1])-1)*100, 2)\n",
    "q2_ds_distributed_ml_percentage"
   ]
  },
  {
   "cell_type": "code",
   "execution_count": 119,
   "id": "2567b749-b93e-456f-839a-c552f61e9110",
   "metadata": {
    "tags": []
   },
   "outputs": [
    {
     "data": {
      "text/plain": [
       "36.27"
      ]
     },
     "execution_count": 119,
     "metadata": {},
     "output_type": "execute_result"
    }
   ],
   "source": [
    "# percentage higher of the max value compared to the second highest\n",
    "q2_ds_advanced_topics_percentage = round(((q2_ds_advanced_topics_groupby.sort_values(ascending=False)[0]/q2_ds_advanced_topics_groupby.sort_values(ascending=False)[1])-1)*100, 2)\n",
    "q2_ds_advanced_topics_percentage"
   ]
  },
  {
   "cell_type": "markdown",
   "id": "ecbb5f5d-c7b1-422b-bbdc-784b4eb7fcf0",
   "metadata": {},
   "source": [
    "##### Percentage of top set of lessons per Full Stack Javascript cohort over next highest"
   ]
  },
  {
   "cell_type": "code",
   "execution_count": 120,
   "id": "d4ce6b36-7e39-48f1-9896-b976f4c03ecb",
   "metadata": {},
   "outputs": [
    {
     "data": {
      "text/plain": [
       "4.88"
      ]
     },
     "execution_count": 120,
     "metadata": {},
     "output_type": "execute_result"
    }
   ],
   "source": [
    "# Percentage higher of the max value compared to the second highest\n",
    "q2_fsj_javascript_i_percentage = round(((q2_fsj_javascript_i_groupby.sort_values(ascending=False)[0]/q2_fsj_javascript_i_groupby.sort_values(ascending=False)[1])-1)*100, 2)\n",
    "q2_fsj_javascript_i_percentage"
   ]
  },
  {
   "cell_type": "code",
   "execution_count": 121,
   "id": "6b3da188-ccb4-498f-8678-a387440ba95b",
   "metadata": {},
   "outputs": [
    {
     "data": {
      "text/plain": [
       "22.65"
      ]
     },
     "execution_count": 121,
     "metadata": {},
     "output_type": "execute_result"
    }
   ],
   "source": [
    "# Percentage higher of the max value compared to the second highest\n",
    "q2_fsj_java_iii_percentage = round(((q2_fsj_java_iii_groupby.sort_values(ascending=False)[0]/q2_fsj_java_iii_groupby.sort_values(ascending=False)[1])-1)*100, 2)\n",
    "q2_fsj_java_iii_percentage"
   ]
  },
  {
   "cell_type": "code",
   "execution_count": 122,
   "id": "e1977cc6-dcbd-4736-856b-1ca4f47f63b2",
   "metadata": {},
   "outputs": [
    {
     "data": {
      "text/plain": [
       "42.96"
      ]
     },
     "execution_count": 122,
     "metadata": {},
     "output_type": "execute_result"
    }
   ],
   "source": [
    "# Percentage higher of the max value compared to the second highest\n",
    "q2_fsj_html_css_percentage = round(((q2_fsj_html_css_groupby.sort_values(ascending=False)[0]/q2_fsj_html_css_groupby.sort_values(ascending=False)[1])-1)*100, 2)\n",
    "q2_fsj_html_css_percentage"
   ]
  },
  {
   "cell_type": "code",
   "execution_count": 123,
   "id": "8c276940-3086-4818-aeab-6ad0e0186e01",
   "metadata": {},
   "outputs": [
    {
     "data": {
      "text/plain": [
       "26.5"
      ]
     },
     "execution_count": 123,
     "metadata": {},
     "output_type": "execute_result"
    }
   ],
   "source": [
    "# Percentage higher of the max value compared to the second highest\n",
    "q2_fsj_java_ii_percentage = round(((q2_fsj_java_ii_groupby.sort_values(ascending=False)[0]/q2_fsj_java_ii_groupby.sort_values(ascending=False)[1])-1)*100, 2)\n",
    "q2_fsj_java_ii_percentage"
   ]
  },
  {
   "cell_type": "code",
   "execution_count": 124,
   "id": "2e6561bd-8b44-4a3b-a4b1-7620b9357c4d",
   "metadata": {},
   "outputs": [
    {
     "data": {
      "text/plain": [
       "2.38"
      ]
     },
     "execution_count": 124,
     "metadata": {},
     "output_type": "execute_result"
    }
   ],
   "source": [
    "# Percentage higher of the max value compared to the second highest\n",
    "q2_fsj_jquery_percentage = round(((q2_fsj_jquery_groupby.sort_values(ascending=False)[0]/q2_fsj_jquery_groupby.sort_values(ascending=False)[1])-1)*100, 2)\n",
    "q2_fsj_jquery_percentage"
   ]
  },
  {
   "cell_type": "code",
   "execution_count": 125,
   "id": "60408933-50e8-4f58-9760-a9b992e50542",
   "metadata": {},
   "outputs": [
    {
     "data": {
      "text/plain": [
       "1.84"
      ]
     },
     "execution_count": 125,
     "metadata": {},
     "output_type": "execute_result"
    }
   ],
   "source": [
    "# Percentage higher of the max value compared to the second highest\n",
    "q2_fsj_mysql_percentage = round(((q2_fsj_mysql_groupby.sort_values(ascending=False)[0]/q2_fsj_mysql_groupby.sort_values(ascending=False)[1])-1)*100, 2)\n",
    "q2_fsj_mysql_percentage"
   ]
  },
  {
   "cell_type": "code",
   "execution_count": 126,
   "id": "1e106118-eed8-4f2a-93e0-c15560c63fdd",
   "metadata": {},
   "outputs": [
    {
     "data": {
      "text/plain": [
       "7.89"
      ]
     },
     "execution_count": 126,
     "metadata": {},
     "output_type": "execute_result"
    }
   ],
   "source": [
    "# Percentage higher of the max value compared to the second highest\n",
    "q2_fsj_spring_percentage = round(((q2_fsj_spring_groupby.sort_values(ascending=False)[0]/q2_fsj_spring_groupby.sort_values(ascending=False)[1])-1)*100, 2)\n",
    "q2_fsj_spring_percentage"
   ]
  },
  {
   "cell_type": "code",
   "execution_count": 127,
   "id": "52ca5f7e-042b-4f24-9019-a3c9c8afe7c7",
   "metadata": {},
   "outputs": [
    {
     "data": {
      "text/plain": [
       "16.98"
      ]
     },
     "execution_count": 127,
     "metadata": {},
     "output_type": "execute_result"
    }
   ],
   "source": [
    "# Percentage higher of the max value compared to the second highest\n",
    "q2_fsj_slides_percentage = round(((q2_fsj_slides_groupby.sort_values(ascending=False)[0]/q2_fsj_slides_groupby.sort_values(ascending=False)[1])-1)*100, 2)\n",
    "q2_fsj_slides_percentage"
   ]
  },
  {
   "cell_type": "code",
   "execution_count": 128,
   "id": "09f240e2-54ef-4a37-9e1c-b5f83554233f",
   "metadata": {},
   "outputs": [
    {
     "data": {
      "text/plain": [
       "2.64"
      ]
     },
     "execution_count": 128,
     "metadata": {},
     "output_type": "execute_result"
    }
   ],
   "source": [
    "# Percentage higher of the max value compared to the second highest\n",
    "q2_fsj_web_design_percentage = round(((q2_fsj_web_design_groupby.sort_values(ascending=False)[0]/q2_fsj_web_design_groupby.sort_values(ascending=False)[1])-1)*100, 2)\n",
    "q2_fsj_web_design_percentage"
   ]
  },
  {
   "cell_type": "markdown",
   "id": "b01834f8-fe3e-491d-ae80-4f9b50967878",
   "metadata": {},
   "source": [
    "#### Key Takeaways"
   ]
  },
  {
   "cell_type": "markdown",
   "id": "9ca36082-20b6-4e2c-85f2-78b9aaf645cc",
   "metadata": {},
   "source": [
    "The Data Science cohorts with the highest lesson referrals compared to the next highest cohort are as follows:\n",
    "- Darden\n",
    "    - 73.60% for Classification\n",
    "    - 55.56% for SQL\n",
    "    - 36.70% for Anomaly Detection\n",
    "- Bayes\n",
    "    - 36.27% for Advanced Topics"
   ]
  },
  {
   "cell_type": "markdown",
   "id": "15f9a33a-fb90-4f5f-8972-27c3f3b62a70",
   "metadata": {},
   "source": [
    "The Full Stack Java cohorts with the highest lesson referrals compared to the next highest cohort are as follows:\n",
    "- Ceres\n",
    "    - 42.96% for HTML-CSS\n",
    "- Jupiter\n",
    "    - 26.5% for Java II"
   ]
  },
  {
   "cell_type": "code",
   "execution_count": 129,
   "id": "ae0ce23e-5542-4548-ab6d-9d81c4faa710",
   "metadata": {},
   "outputs": [],
   "source": [
    "# Assigns a variable to a list of the differences in percentages between the top 2 cohorts for each lesson\n",
    "q2_ds_lesson_percentages = [q2_ds_fundamentals_percentage, q2_ds_classification_percentage, \n",
    "                            q2_ds_sql_percentage, q2_ds_regression_percentage, q2_ds_anomaly_detection_percentage,\n",
    "                            q2_ds_python_percentage, q2_ds_stats_percentage, q2_ds_clustering_percentage, \n",
    "                            q2_ds_storytelling_percentage, q2_ds_timeseries_percentage, q2_ds_nlp_percentage, \n",
    "                            q2_ds_distributed_ml_percentage, q2_ds_advanced_topics_percentage]"
   ]
  },
  {
   "cell_type": "code",
   "execution_count": 130,
   "id": "7c148c7b-8297-4cbb-9255-8abcca920c14",
   "metadata": {},
   "outputs": [],
   "source": [
    "# Assigns a variable to a list of the differences in percentages between the top 2 cohorts for each lesson\n",
    "q2_fsj_lesson_percentages = [q2_fsj_javascript_i_percentage, q2_fsj_java_iii_percentage, \n",
    "                             q2_fsj_html_css_percentage, q2_fsj_java_ii_percentage, q2_fsj_jquery_percentage,\n",
    "                             q2_fsj_mysql_percentage, q2_fsj_spring_percentage, q2_fsj_slides_percentage, \n",
    "                             q2_fsj_web_design_percentage]"
   ]
  },
  {
   "cell_type": "code",
   "execution_count": 131,
   "id": "9fcdb5a1-b3ea-4c49-ba83-24235740a13a",
   "metadata": {},
   "outputs": [],
   "source": [
    "# Assigns a variable to a series converted from a list of the differences in \n",
    "# percentages between the top 2 cohorts for each lesson\n",
    "ds_upper_bound_and_max = pd.Series(q2_ds_lesson_percentages)\n",
    "\n",
    "# assigns a name to the series\n",
    "ds_upper_bound_and_max.name = 'data_science_cohorts'"
   ]
  },
  {
   "cell_type": "code",
   "execution_count": 132,
   "id": "0f76d8bf-e9c2-4456-92d4-2765fa9080be",
   "metadata": {},
   "outputs": [],
   "source": [
    "# Assigns a variable to a series converted from a list of the differences in \n",
    "# percentages between the top 2 cohorts for each lesson\n",
    "fsj_upper_bound_and_max = pd.Series(q2_fsj_lesson_percentages)\n",
    "\n",
    "# assigns a name to the series\n",
    "fsj_upper_bound_and_max.name = 'full_stack_java_cohorts'"
   ]
  },
  {
   "cell_type": "code",
   "execution_count": 133,
   "id": "0aa3ebee-0691-488f-b669-4806d67f75f1",
   "metadata": {},
   "outputs": [
    {
     "name": "stdout",
     "output_type": "stream",
     "text": [
      "data_science_cohorts's Upper bound is 74.85, and difference from max is -1.25\n"
     ]
    }
   ],
   "source": [
    "# Gets the upper bound and difference from max of a series based on the InterQuartile Range\n",
    "# and a multiplier. Default multiplier is 1.5\n",
    "q2_ds_iqr = e.get_upper_bound_and_difference(ds_upper_bound_and_max)"
   ]
  },
  {
   "cell_type": "code",
   "execution_count": 134,
   "id": "f1b65a47-7764-414e-af92-119d82ee6093",
   "metadata": {},
   "outputs": [
    {
     "name": "stdout",
     "output_type": "stream",
     "text": [
      "full_stack_java_cohorts's Upper bound is 52.66, and difference from max is -9.7\n"
     ]
    }
   ],
   "source": [
    "# Gets the upper bound and difference from max of a series based on the InterQuartile Range\n",
    "# and a multiplier. Default multiplier is 1.5\n",
    "q2_fsj_iqr = e.get_upper_bound_and_difference(fsj_upper_bound_and_max)"
   ]
  },
  {
   "cell_type": "markdown",
   "id": "72ffe0c2-3e62-4c4d-9b80-37558331cf6c",
   "metadata": {},
   "source": [
    "#### Key Takeaways"
   ]
  },
  {
   "cell_type": "markdown",
   "id": "c38ec47f-1bdd-4f08-9ca6-dd21200ff104",
   "metadata": {},
   "source": [
    "- Using the Interquartile Range Rule the Darden Data Science cohort falls just within the upper bound of 74.85% compared to their 73.60%\n",
    "- Using the Interquartile Range Rule the Ceres Full Stack Java cohort also falls within the upper bound of 52.66% compared to their 42.96%"
   ]
  },
  {
   "cell_type": "markdown",
   "id": "b2b1ed98-10f6-4b72-bace-0ebea15f0955",
   "metadata": {},
   "source": [
    "### Second Interpretation\n",
    " - Using IQR on the whole set instead of top two cohorts"
   ]
  },
  {
   "cell_type": "code",
   "execution_count": 135,
   "id": "6fc933b3-cb1f-4b44-8bce-abb8f863be02",
   "metadata": {},
   "outputs": [
    {
     "name": "stdout",
     "output_type": "stream",
     "text": [
      "fundamentals's Upper bound is 5275.0, and difference from max is -1093.0\n",
      "classification's Upper bound is 5036.5, and difference from max is -321.5\n",
      "sql's Upper bound is 2963.5, and difference from max is 701.5\n",
      "regression's Upper bound is 3403.5, and difference from max is -987.5\n",
      "anomaly_detection's Upper bound is 2287.5, and difference from max is -827.5\n",
      "python's Upper bound is 3667.5, and difference from max is -1167.5\n",
      "stats's Upper bound is 2945.5, and difference from max is -819.5\n",
      "clustering's Upper bound is 1759.5, and difference from max is -505.5\n",
      "storytelling's Upper bound is 913.0, and difference from max is -9.0\n",
      "timeseries's Upper bound is 1690.5, and difference from max is -573.5\n",
      "nlp's Upper bound is 2396.5, and difference from max is -1415.5\n",
      "distributed_ml's Upper bound is 1220.5, and difference from max is -675.5\n",
      "advanced_topics's Upper bound is 953.5, and difference from max is -412.5\n"
     ]
    }
   ],
   "source": [
    "# Gets the upper bound and its difference from the max of a series based on the \n",
    "# InterQuartile Range and a multiplier. Default multiplier is 1.5\n",
    "for lesson in q2_ds_lesson_dfs_groupby:\n",
    "    e.get_upper_bound_and_difference(lesson)"
   ]
  },
  {
   "cell_type": "code",
   "execution_count": 136,
   "id": "ccfd0cde-bad4-42d2-9f09-26dccd2d39a5",
   "metadata": {},
   "outputs": [
    {
     "name": "stdout",
     "output_type": "stream",
     "text": [
      "javascript_i's Upper bound is 9295.12, and difference from max is -1306.12\n",
      "fsj_java_iii's Upper bound is 3731.5, and difference from max is -141.5\n",
      "html_css's Upper bound is 5053.62, and difference from max is 523.38\n",
      "java_ii's Upper bound is 8058.62, and difference from max is -1012.62\n",
      "jquery's Upper bound is 3290.25, and difference from max is 64.75\n",
      "mysql's Upper bound is 5603.25, and difference from max is -1185.25\n",
      "spring's Upper bound is 3163.12, and difference from max is -236.12\n",
      "slides's Upper bound is 389.38, and difference from max is 1511.62\n",
      "web_design's Upper bound is 303.75, and difference from max is -70.75\n"
     ]
    }
   ],
   "source": [
    "# Gets the upper bound and its difference from the max of a series based on the \n",
    "# InterQuartile Range and a multiplier. Default multiplier is 1.5\n",
    "for group in q2_fsj_lesson_dfs_groupby:\n",
    "    e.get_upper_bound_and_difference(group)"
   ]
  },
  {
   "cell_type": "code",
   "execution_count": 137,
   "id": "6475a971-4511-43e4-87d7-78119c8ff1a1",
   "metadata": {
    "tags": []
   },
   "outputs": [],
   "source": [
    "# Average of the sum of all values excluding the max\n",
    "q2_ds_sql_under_max_avg = (q2_ds_sql_groupby.sum()-q2_ds_sql_groupby.max())/(len(q2_fsj_html_css_groupby)-1)"
   ]
  },
  {
   "cell_type": "code",
   "execution_count": 138,
   "id": "421ec171-03bb-4785-aaaa-fd8d888246ea",
   "metadata": {
    "tags": []
   },
   "outputs": [],
   "source": [
    "# Max value for a cohort for these lessons\n",
    "q2_ds_sql_max = q2_ds_sql_groupby.max()"
   ]
  },
  {
   "cell_type": "code",
   "execution_count": 139,
   "id": "a2f76b96-9288-4f4b-9b05-9785859481b6",
   "metadata": {},
   "outputs": [
    {
     "data": {
      "text/plain": [
       "996.28"
      ]
     },
     "execution_count": 139,
     "metadata": {},
     "output_type": "execute_result"
    }
   ],
   "source": [
    "# Returns percentage difference of the max value compared to the average of the rest\n",
    "q2_ds_sql_percentage_difference = round((q2_ds_sql_max/q2_ds_sql_under_max_avg*100), 2)\n",
    "q2_ds_sql_percentage_difference"
   ]
  },
  {
   "cell_type": "markdown",
   "id": "ee8efa7b-c7fc-44fb-8aa9-14a6f7c423eb",
   "metadata": {},
   "source": [
    "#### Key Takeaways"
   ]
  },
  {
   "cell_type": "markdown",
   "id": "dda9ac7e-aead-48a0-88fc-45ac92578061",
   "metadata": {},
   "source": [
    "It shows the following Data Science lesson was referred to above the 1.5 IQR Upper Bound:\n",
    "- SQL at 701.5 above the Upper bound with a 996.28% difference compared to average of rest of cohorts.\n",
    "- While at 55.56% this Darden cohort may have been lower percentage-wise then its next immediate cohort, Curie, it's a more significant difference in comparison to all other cohorts referring to their respective lessons"
   ]
  },
  {
   "cell_type": "markdown",
   "id": "29760b4f-e250-4a21-a975-152ee717606d",
   "metadata": {},
   "source": [
    "It shows the following Full Stack Java lessons were referred to above the 1.5 IQR Upper Bound:\n",
    "- HTML-CSS for Ceres, at 523.38, a 207.34% difference compared to average of rest of cohorts.\n",
    "- JQuery for Ceres, at 64.75, a 170.93% difference compared to average of rest of cohorts.\n",
    "- Slides for Teddy, at 1511.62, a 871.26% difference compared to average of rest of cohorts.\n",
    "- While at 42.96% the Ceres cohort may have been under the 1.5 IQR percentage-wise when comparing the next highest cohort to the top cohort for each lesson, the Teddy cohort comes out on top when comparing the average of the rest of the cohorts when referring to the \"Slides\" lessons."
   ]
  },
  {
   "cell_type": "code",
   "execution_count": 141,
   "id": "2e8af1bc-b7f8-42c7-9fc6-caa45b169397",
   "metadata": {
    "tags": []
   },
   "outputs": [],
   "source": [
    "# Average of the sum of all values excluding the max\n",
    "q2_fsj_html_css_under_max_avg = (q2_fsj_html_css_groupby.sum()-q2_fsj_html_css_groupby.max())/(len(q2_fsj_html_css_groupby)-1)"
   ]
  },
  {
   "cell_type": "code",
   "execution_count": 142,
   "id": "dc6219eb-5165-4bac-a2bd-95a2334ae1f1",
   "metadata": {
    "tags": []
   },
   "outputs": [],
   "source": [
    "# Max value for a cohort for these lessons\n",
    "q2_fsj_html_css_max = q2_fsj_html_css_groupby.max()"
   ]
  },
  {
   "cell_type": "markdown",
   "id": "4092c1de-c257-4841-9f81-8484af804786",
   "metadata": {},
   "source": [
    "Final percentage difference for the max vs the average of the rest for the \"HTML-CSS\" lessons"
   ]
  },
  {
   "cell_type": "code",
   "execution_count": 143,
   "id": "49dd49a6-e47a-4640-b118-eef7c69ebe0a",
   "metadata": {},
   "outputs": [
    {
     "data": {
      "text/plain": [
       "207.34"
      ]
     },
     "execution_count": 143,
     "metadata": {},
     "output_type": "execute_result"
    }
   ],
   "source": [
    "# Returns percentage difference of the max value compared to the average of the rest\n",
    "q2_fsj_html_css_percentage_difference = round((q2_fsj_html_css_max/q2_fsj_html_css_under_max_avg*100), 2)\n",
    "q2_fsj_html_css_percentage_difference"
   ]
  },
  {
   "cell_type": "code",
   "execution_count": 144,
   "id": "440a9e9b-bc4f-408f-85e7-a002f454f288",
   "metadata": {},
   "outputs": [],
   "source": [
    "# Average of the sum of all values excluding the max\n",
    "q2_fsj_jquery_under_max_avg = (q2_fsj_jquery_groupby.sum()-q2_fsj_jquery_groupby.max())/(len(q2_fsj_jquery_groupby)-1)"
   ]
  },
  {
   "cell_type": "code",
   "execution_count": 145,
   "id": "885c2e64-4258-4ddd-9524-1841c96e9161",
   "metadata": {
    "tags": []
   },
   "outputs": [],
   "source": [
    "# max value for a cohort oor these lessons\n",
    "q2_fsj_jquery_max = q2_fsj_jquery_groupby.max()"
   ]
  },
  {
   "cell_type": "markdown",
   "id": "177cd2e7-b6f0-4c4b-9552-9a5e4587c3b4",
   "metadata": {},
   "source": [
    "Final percentage difference for the max vs the average of the rest for the \"JQuery\" lessons"
   ]
  },
  {
   "cell_type": "code",
   "execution_count": 146,
   "id": "e1279c10-56e2-49c5-9d5e-c4677a3c5525",
   "metadata": {},
   "outputs": [
    {
     "data": {
      "text/plain": [
       "170.93"
      ]
     },
     "execution_count": 146,
     "metadata": {},
     "output_type": "execute_result"
    }
   ],
   "source": [
    "# Returns percentage difference of the max value compared to the average of the rest\n",
    "q2_fsj_jquery_difference = round((q2_fsj_jquery_max/q2_fsj_jquery_under_max_avg*100), 2)\n",
    "q2_fsj_jquery_difference"
   ]
  },
  {
   "cell_type": "code",
   "execution_count": 147,
   "id": "20b8ee2f-8836-4868-b98d-a2901138bcda",
   "metadata": {},
   "outputs": [],
   "source": [
    "# Average of the sum of all values excluding the max\n",
    "q2_fsj_slides_under_max_avg = (q2_fsj_slides_groupby.sum()-q2_fsj_slides_groupby.max())/(len(q2_fsj_slides_groupby)-1)"
   ]
  },
  {
   "cell_type": "code",
   "execution_count": 148,
   "id": "e03dcb61-f235-4d92-b3bf-afae3d03b41b",
   "metadata": {
    "tags": []
   },
   "outputs": [],
   "source": [
    "# Max value for a cohort for these lessons\n",
    "q2_fsj_slides_max = q2_fsj_slides_groupby.max()"
   ]
  },
  {
   "cell_type": "markdown",
   "id": "12d484b3-6950-4199-994e-38332c1e1302",
   "metadata": {},
   "source": [
    "Final percentage difference for the max vs the average of the rest for the \"Slides\" lessons"
   ]
  },
  {
   "cell_type": "code",
   "execution_count": 149,
   "id": "ffc5722d-1f76-416e-a931-c4d4eb545b38",
   "metadata": {},
   "outputs": [
    {
     "data": {
      "text/plain": [
       "871.26"
      ]
     },
     "execution_count": 149,
     "metadata": {},
     "output_type": "execute_result"
    }
   ],
   "source": [
    "# Returns percentage difference of the max value compared to the average of the rest\n",
    "q2_fsj_slides_difference = round((q2_fsj_slides_max/q2_fsj_slides_under_max_avg*100), 2)\n",
    "q2_fsj_slides_difference"
   ]
  },
  {
   "cell_type": "markdown",
   "id": "62650eba-a578-4f0b-ae5c-4844f26ab6bf",
   "metadata": {
    "jp-MarkdownHeadingCollapsed": true,
    "tags": []
   },
   "source": [
    "# Q2. Summary of Takeaways\n",
    "- Question 2. *\"Is there a cohort that referred to a lesson significantly more than other cohorts seemed to gloss over?\"*\n",
    "- If applying the Interquartile Range (IQR) Rule to the difference in the percentages between the top cohort and it's runner-up for each set of lessons, none of them fall above the upper bound of the IQR.\n",
    "- However when using the IQR to for the top cohort in comparison to the rest of the cohorts as a whole then for the **Teddy** cohort from the **Full Stack Java** program beats out the rest with the **\"Slides\"** lessons, and the **Darden** cohort from the **Data Science** program beats out the rest with the **\"SQL\"** lessons.\n"
   ]
  },
  {
   "cell_type": "code",
   "execution_count": null,
   "id": "5bd410be-fac5-467c-be03-df16144c9bf5",
   "metadata": {},
   "outputs": [],
   "source": []
  }
 ],
 "metadata": {
  "kernelspec": {
   "display_name": "Python 3 (ipykernel)",
   "language": "python",
   "name": "python3"
  },
  "language_info": {
   "codemirror_mode": {
    "name": "ipython",
    "version": 3
   },
   "file_extension": ".py",
   "mimetype": "text/x-python",
   "name": "python",
   "nbconvert_exporter": "python",
   "pygments_lexer": "ipython3",
   "version": "3.9.7"
  }
 },
 "nbformat": 4,
 "nbformat_minor": 5
}
