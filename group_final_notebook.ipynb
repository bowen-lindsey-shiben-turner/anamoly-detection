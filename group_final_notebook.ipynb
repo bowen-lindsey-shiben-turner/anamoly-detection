{
 "cells": [
  {
   "cell_type": "markdown",
   "id": "0f03cc6b",
   "metadata": {},
   "source": [
    "<h1> TITLE: </h1>\n",
    "<hr>\n",
    "<h2>SUBTITLE<h2/>\n",
    "<hr style=\"border-top: 10px groove blue; margin-top: 1px; margin-bottom: 1px\">"
   ]
  },
  {
   "cell_type": "markdown",
   "id": "05ddbe71",
   "metadata": {},
   "source": [
    "<img src=\"INSERT PICTURE\" style=\"vertical-align:bottom\">\n",
    "<br>\n",
    "<br>"
   ]
  },
  {
   "cell_type": "markdown",
   "id": "c9f2908b",
   "metadata": {},
   "source": [
    "## Project Outline\n",
    "<hr style=\"border-top: 10px groove blue; margin-top: 1px; margin-bottom: 1px\">"
   ]
  },
  {
   "cell_type": "markdown",
   "id": "a003ca82",
   "metadata": {},
   "source": [
    "### 1. Acquire, prepare and clean data set.\n",
    "\n",
    "- ACQUIRE DESCRIPTION \n",
    "<br>\n",
    "\n",
    "### 2. Perform Exploratory Data Analysis on the unencoded data set\n",
    "\n",
    "- EDA DESCRIPTION\n",
    "    \n",
    "### 3. Recommendations and Takeaways:\n",
    "\n",
    "- document takeaways and conclusion"
   ]
  },
  {
   "cell_type": "markdown",
   "id": "bcf31a26",
   "metadata": {},
   "source": [
    "## Executive Summary:\n",
    "<hr style=\"border-top: 10px groove blue; margin-top: 1px; margin-bottom: 1px\">"
   ]
  },
  {
   "cell_type": "markdown",
   "id": "ce1336a3",
   "metadata": {},
   "source": [
    "<h2>Questions we answered</h2>\n",
    "<hr style=\"border-top: 5px groove limegreen; margin-top: 1px; margin-bottom: 1px\">\n",
    "\n",
    "<h3> Q1?</h3>\n",
    "- Answer.\n",
    "\n",
    "<h3> Q2? </h3>\n",
    "- Answer.\n",
    "\n",
    "<h3> Q3? </h3>\n",
    "- Answer.\n",
    "\n",
    "<h3> Q4? </h3>\n",
    "- Answer.\n",
    "\n",
    "<h3> Q5? </h3>\n",
    "- Answer.\n",
    "\n",
    "<h3> Q6? </h3>\n",
    "- Answer.\n",
    "\n",
    "<h3> Q7? </h3>\n",
    "- Answer."
   ]
  },
  {
   "cell_type": "markdown",
   "id": "710fa247",
   "metadata": {},
   "source": [
    "## 1. Data Wrangle: Show off our Acquire/Prep/Cleaned DataFrame. Summary of removed data.\n",
    "<hr style=\"border-top: 10px groove blue; margin-top: 1px; margin-bottom: 1px\">"
   ]
  },
  {
   "cell_type": "code",
   "execution_count": null,
   "id": "acd2b744",
   "metadata": {},
   "outputs": [],
   "source": [
    "## Import function code/master prepare DF\n",
    "import pandas as pd\n",
    "import numpy as np\n",
    "import seaborn as sns\n",
    "import matplotlib.pyplot as plt\n",
    "import acquire\n",
    "import prepare\n",
    "import explore\n",
    "from env import get_db_url\n",
    "import time\n",
    "import warnings\n",
    "warnings.filterwarnings(\"ignore\")\n"
   ]
  },
  {
   "cell_type": "markdown",
   "id": "2af93c5c",
   "metadata": {},
   "source": [
    "## 2. Exploratory Data Analysis\n",
    "<hr style=\"border-top: 10px groove blue; margin-top: 1px; margin-bottom: 1px\">"
   ]
  },
  {
   "cell_type": "code",
   "execution_count": null,
   "id": "a1890ed9",
   "metadata": {},
   "outputs": [],
   "source": [
    "# master visual settings.\n",
    "\n",
    "plt.rcParams['axes.labelsize'] = 5\n",
    "plt.rcParams['axes.titlesize'] = 20\n",
    "plt.figure(figsize=(35, 12), constrained_layout=True)"
   ]
  },
  {
   "cell_type": "markdown",
   "id": "e786a913",
   "metadata": {},
   "source": [
    "***"
   ]
  },
  {
   "cell_type": "markdown",
   "id": "9a8b8232",
   "metadata": {},
   "source": [
    "<div class=\"alert alert-block alert-success\">\n",
    "    <b>Q1.</b> Which lesson appears to attract the most traffic consistently across cohorts (per program)?\n",
    "</div>"
   ]
  },
  {
   "cell_type": "markdown",
   "id": "16ceb069",
   "metadata": {},
   "source": [
    "#### How can I answer this question?\n",
    "- Group by Program\n",
    "- Get an aggregated count of the path(s) per program\n",
    "- Identify lessons that attract the most traffic"
   ]
  },
  {
   "cell_type": "code",
   "execution_count": null,
   "id": "e38309b1",
   "metadata": {},
   "outputs": [],
   "source": [
    "# call and set the dataframe\n",
    "df1 = prepare.prepare_logs()\n",
    "df1 = prepare.get_q6_eda_df()"
   ]
  },
  {
   "cell_type": "markdown",
   "id": "8d3fbdf9",
   "metadata": {},
   "source": [
    "#### First I will drop nulls so that all cohorts match with a path (lesson)"
   ]
  },
  {
   "cell_type": "code",
   "execution_count": null,
   "id": "03cae4ea",
   "metadata": {},
   "outputs": [],
   "source": [
    "df1 = df1.dropna()"
   ]
  },
  {
   "cell_type": "markdown",
   "id": "e942d8b5",
   "metadata": {},
   "source": [
    "#### Then, I'll remove some excess paths that aren't defined as lessons. (This is not all of them, just as many as could be found in the allotted time.)"
   ]
  },
  {
   "cell_type": "code",
   "execution_count": null,
   "id": "70226a45",
   "metadata": {},
   "outputs": [],
   "source": [
    "explore.q1_remove_columns(df1)"
   ]
  },
  {
   "cell_type": "markdown",
   "id": "e3138847",
   "metadata": {},
   "source": [
    "#### Finally, I'll create a dataframe for each program to properly answer the question. "
   ]
  },
  {
   "cell_type": "code",
   "execution_count": null,
   "id": "994fc0d5",
   "metadata": {},
   "outputs": [],
   "source": [
    "# gets full stack java dataframe\n",
    "java = explore.q1_full_stack_java(df1)\n",
    "\n",
    "# gets data science dataframe\n",
    "data_science = explore.q1_data_science_program(df1)\n",
    "\n",
    "# gets full stack php dataframe\n",
    "php = explore.q1_full_stack_php(df1)\n",
    "\n",
    "# gets front end programming dataframe\n",
    "front_end = explore.q1_front_end_programming(df1)"
   ]
  },
  {
   "cell_type": "markdown",
   "id": "7303df8e",
   "metadata": {},
   "source": [
    "---"
   ]
  },
  {
   "cell_type": "markdown",
   "id": "0d761289",
   "metadata": {},
   "source": [
    "### Exploring Question 1"
   ]
  },
  {
   "cell_type": "markdown",
   "id": "6c64fcbe",
   "metadata": {},
   "source": [
    "To explore this question, I took a look at the top most active and most visited paths to answer the question 'which lesson appears to attract the most traffic'. "
   ]
  },
  {
   "cell_type": "markdown",
   "id": "0e4813ab",
   "metadata": {},
   "source": [
    "#### Exploring the Full Stack Java program:"
   ]
  },
  {
   "cell_type": "code",
   "execution_count": null,
   "id": "7252a076",
   "metadata": {
    "scrolled": false
   },
   "outputs": [],
   "source": [
    "explore.q1_display_paths_java(java)"
   ]
  },
  {
   "cell_type": "markdown",
   "id": "76f52401",
   "metadata": {},
   "source": [
    "#### Exploring the Data Science program"
   ]
  },
  {
   "cell_type": "code",
   "execution_count": null,
   "id": "3d3f4519",
   "metadata": {},
   "outputs": [],
   "source": [
    "explore.q1_display_path_ds(data_science)"
   ]
  },
  {
   "cell_type": "markdown",
   "id": "8cdb94f6",
   "metadata": {},
   "source": [
    "#### Exploring the Full Stack PHP program"
   ]
  },
  {
   "cell_type": "code",
   "execution_count": null,
   "id": "f0288eb4",
   "metadata": {},
   "outputs": [],
   "source": [
    "explore.q1_display_path_php(php)"
   ]
  },
  {
   "cell_type": "markdown",
   "id": "e98c9c91",
   "metadata": {},
   "source": [
    "#### Exploring the Front End Programming program"
   ]
  },
  {
   "cell_type": "code",
   "execution_count": null,
   "id": "f4540413",
   "metadata": {},
   "outputs": [],
   "source": [
    "pd.DataFrame(front_end.path.value_counts())"
   ]
  },
  {
   "cell_type": "markdown",
   "id": "071b2ad2",
   "metadata": {},
   "source": [
    "<div class=\"alert alert-block alert-warning\"> \n",
    "    \n",
    "Question 1: Takeaway\n",
    "    \n",
    "\"Which lesson appears to attract the most traffic consistently across cohorts (per program)?\"\n",
    "    \n",
    "</div>"
   ]
  },
  {
   "cell_type": "markdown",
   "id": "fdef6993",
   "metadata": {},
   "source": [
    "<div class=\"alert alert-block alert-warning\"> \n",
    "    \n",
    "Full Stack Java\n",
    "    \n",
    "&nbsp; \n",
    "    \n",
    "The lesson with the most traffic in the Full Stack Java program is Javascript I.\n",
    "    \n",
    "</div>"
   ]
  },
  {
   "cell_type": "markdown",
   "id": "8a956cb3",
   "metadata": {},
   "source": [
    "<div class=\"alert alert-block alert-warning\"> \n",
    "    \n",
    "Data Science Program\n",
    "    \n",
    "&nbsp; \n",
    "    \n",
    "The lesson with the most traffic in the Data Science program is Classification.\n",
    "    \n",
    "</div>"
   ]
  },
  {
   "cell_type": "markdown",
   "id": "48a86f83",
   "metadata": {},
   "source": [
    "<div class=\"alert alert-block alert-warning\"> \n",
    "    \n",
    "Full Stack PHP Program\n",
    "    \n",
    "&nbsp; \n",
    "    \n",
    "The lesson with the most traffic in the Full Stack PHP program is also Javascript I. \n",
    "    \n",
    "</div>"
   ]
  },
  {
   "cell_type": "markdown",
   "id": "9ce95e37",
   "metadata": {},
   "source": [
    "<div class=\"alert alert-block alert-warning\"> \n",
    "    \n",
    "Front End Programming Program\n",
    "    \n",
    "&nbsp; \n",
    "    \n",
    "The lesson with the most traffic in the Front End Programming program is HTML-CSS\n",
    "    \n",
    "</div>"
   ]
  },
  {
   "cell_type": "markdown",
   "id": "23858e80",
   "metadata": {},
   "source": [
    "##### SQL has the most traffic consitently across all cohorts and programs, not including the Front End Programming program which has a sample of 5. "
   ]
  },
  {
   "cell_type": "markdown",
   "id": "cafcbacf",
   "metadata": {},
   "source": [
    "***"
   ]
  },
  {
   "cell_type": "markdown",
   "id": "54f33759",
   "metadata": {},
   "source": [
    "***"
   ]
  },
  {
   "cell_type": "markdown",
   "id": "9e7bbd2d",
   "metadata": {},
   "source": [
    "<div class=\"alert alert-block alert-success\">\n",
    "    <b>Q2.</b> QUESTION HERE\n",
    "</div>"
   ]
  },
  {
   "cell_type": "code",
   "execution_count": null,
   "id": "b703a8eb",
   "metadata": {},
   "outputs": [],
   "source": [
    "### Narrative here"
   ]
  },
  {
   "cell_type": "code",
   "execution_count": null,
   "id": "48d5ce26",
   "metadata": {},
   "outputs": [],
   "source": [
    "### explore code, visualization code here\n",
    "\n",
    "#(visualizations/dataframes below. Do not exceed 5. Include takeaway in MD after each visual/DF. Refer to master scaling parameters for font and chart size)"
   ]
  },
  {
   "cell_type": "markdown",
   "id": "8dc5e387",
   "metadata": {},
   "source": [
    "<div class=\"alert alert-block alert-warning\"> \n",
    "    \n",
    "<b>Takeaway:</b>\n",
    "    \n",
    "- TAKEAWAY and QUESTION ANSWER HERE\n",
    "    \n",
    "</div>"
   ]
  },
  {
   "cell_type": "markdown",
   "id": "cb0c4d3f",
   "metadata": {},
   "source": [
    "***"
   ]
  },
  {
   "cell_type": "markdown",
   "id": "9b97be7e",
   "metadata": {},
   "source": [
    "***"
   ]
  },
  {
   "cell_type": "markdown",
   "id": "bbea8716",
   "metadata": {},
   "source": [
    "<div class=\"alert alert-block alert-success\">\n",
    "    <b>Q3.</b> Are there students who, when active, hardly access the curriculum? If so, what information do you have about these students?\n",
    "</div>"
   ]
  },
  {
   "cell_type": "code",
   "execution_count": null,
   "id": "ca1f16ef",
   "metadata": {},
   "outputs": [],
   "source": [
    "df = prepare.prepare_logs()\n",
    "# this user-defined function includes an acquire which pulls in data and wrangles it in useable form\n",
    "df3 = explore.explore_question3(df)\n",
    "# this user-defined function prepares data specifically for question 3 exploration"
   ]
  },
  {
   "cell_type": "markdown",
   "id": "24c84a60",
   "metadata": {},
   "source": [
    "#### What factors seem to influence program access? cohort, program type, course dates, outside events (ie.COVID-19 pandemic)?\n",
    "   -  Visualize Average user access with cohort, program type, and course dates\n",
    "   -  Determine if there is an access trend with cohort, program type, and course dates"
   ]
  },
  {
   "cell_type": "code",
   "execution_count": null,
   "id": "492b5e0c",
   "metadata": {},
   "outputs": [],
   "source": [
    "plt.figure(figsize=(20,15)) #figure size\n",
    "(df3.cohort_dates.value_counts()/df3.user_id.groupby(df3.cohort_dates).nunique()).sort_values(ascending=True).plot(kind='barh', fontsize=25)\n",
    "# creates horizontal bar chart with specified data\n",
    "plt.title('Average User Access Counts Per Program/Cohort', fontsize=40) #figure title"
   ]
  },
  {
   "cell_type": "markdown",
   "id": "f5b645dd",
   "metadata": {},
   "source": [
    "#### Takeaways: Average User Access Counts Per Program/Cohort Graph\n",
    "\n",
    "- While there does seem to be a signifant difference in program access for certain cohorts, it is unclear why based on data presented here. \n",
    "- There does not appear to be a relationship with the type of program or cohort dates (including pre and post pandemic) \n",
    "- With additional data (ie. instructors, in-person vs. virtual), I could assess this cohort-curriculum access relationship further. "
   ]
  },
  {
   "cell_type": "markdown",
   "id": "c9943d3e",
   "metadata": {},
   "source": [
    "#### Who are the users that access the curriculum the least? \n",
    "- Break the data down into quantiles (bottom 5% of access, bottom 25% of access, middle 25-75% of access, and top 25% of access) for comparisons. \n",
    "- With the 4 sub-populations, groupby user_id's last access date and calculate the difference of the program end date to the user's last access date. This will tell us when the sub-population's stopped accessing the curriculum during their program."
   ]
  },
  {
   "cell_type": "code",
   "execution_count": null,
   "id": "3986313f",
   "metadata": {},
   "outputs": [],
   "source": [
    "bottom_5, bottom_25, middle, top_25, all_users, middle_users, top_25_users, bottom_25_users, bottom_5_users = explore.q3_create_percentile_dfs(df3)\n",
    "#user-defined function that creates 9 new dataframes specific to amount of access and prints number of records"
   ]
  },
  {
   "cell_type": "markdown",
   "id": "cb91d467",
   "metadata": {},
   "source": [
    "#### Takeaways: Creating New Dataframes\n",
    "- As we can see, I chose not to split the data into even quartiles because I want to highlight the very bottom (bottom 5%) of accessors in addition to the bottom 25%. The first 5 dataframes seen here will be used to look at access counts and trends while the last 5 dataframes will be used to show individual users and their last day of access in the duration of their program."
   ]
  },
  {
   "cell_type": "markdown",
   "id": "108bb55d",
   "metadata": {},
   "source": [
    "#### Are there differences in the day and time of user access for bottom, middle, and top accessors?\n",
    "- Explore and visualize average access counts & trends of the four sub-populations\n",
    "- Determine if there are differences in weekday access and access time of sub-populations.  "
   ]
  },
  {
   "cell_type": "code",
   "execution_count": null,
   "id": "e5fc6736",
   "metadata": {},
   "outputs": [],
   "source": [
    "explore.q3_plot_counts(bottom_5, bottom_25, middle, top_25)\n",
    "#user-defined function to plot counts of sub-populations by weekday access and hour access"
   ]
  },
  {
   "cell_type": "markdown",
   "id": "3272b1e2",
   "metadata": {},
   "source": [
    "#### Takeaways: Sub-Population Access Counts\n",
    "- Both sub-populations of middle and top access follow very similar patterns of access days and times. \n",
    "- Unsuprisingly, average user access counts for the bottom 25% and 5% of accessors is much lower and, especially for the bottom 5%, difficult to see a trend. It looks like the bottom 25% of accessors follow a similar trend of access to populations over 25% of access, but perhaps not as much difference between weekdays/weekends and program hours/off hours. To further visualize the potential relevance, I will graph this as a percentage of access in the sub-population."
   ]
  },
  {
   "cell_type": "code",
   "execution_count": null,
   "id": "040d03b1",
   "metadata": {},
   "outputs": [],
   "source": [
    "explore.q3_plot_trends(top_25, middle, bottom_25, bottom_5)\n",
    "#user-defined function to plot trends of weekday & time of day access"
   ]
  },
  {
   "cell_type": "markdown",
   "id": "071bd173",
   "metadata": {},
   "source": [
    "#### Takeaways: Sub-Population Access Trends\n",
    "- There does not seem to be a significant difference in weekday of time of day access trends of sub-populations and in fact, all sub-populations follow very similiar access trends although access counts vary significantly as seen in previous graphs.\n",
    "- The only notable differences is the bottom 5% of accessors have a significant dip in Thursday access and have a spike in access near the end of the work day (around 4pm)\n",
    "- It is worth noting that there are significantly less records in the bottom 5% than all other sub-populations"
   ]
  },
  {
   "cell_type": "markdown",
   "id": "a53561c6",
   "metadata": {},
   "source": [
    "#### When do the bottom accessors tend to stop accessing the curriculum during their course? Is this different than the middle and top accessors?\n",
    " - With the 4 sub-populations, groupby user_id's last access date and calculate the difference of the program end date to the user's last access date. This will tell us when the sub-population's stopped accessing the curriculum during their program.\n",
    " - Visualize the last day of curriculum access of users in sub-populations to determine if there is a difference"
   ]
  },
  {
   "cell_type": "code",
   "execution_count": null,
   "id": "525f5f9b",
   "metadata": {},
   "outputs": [],
   "source": [
    "explore.q3_plot_hists(all_users, bottom_5_users, bottom_25_users, middle_users, top_25_users)"
   ]
  },
  {
   "cell_type": "markdown",
   "id": "f499ba62",
   "metadata": {},
   "source": [
    "#### Takeaways: Last Day of Access\n",
    "- Here we see a very significant change in last day of access during the program in sub-populations\n",
    "- The majority of the bottom 5% of users' last access day was over 100 days prior to the course end date. This leads me to believe that many of those students did not complete the program, but this is only a hypothesis.\n",
    "- Interestingly, with the bottom 5% and bottom 25% user populations, the day of last access is somewhat steady throughout the program meaning that there isn't one point in the program where these students stop accessing, but a steady fall off throughout the program. This is especially true for the bottom 25%. The bottom 5% has more user last access records near the beginning of the program.\n",
    "- Populations of all users, middle 25-75% and top 25% has a very low number of students (compared to their population) that stopped accessing the curriculum a month of more prior to the program end date."
   ]
  },
  {
   "cell_type": "code",
   "execution_count": null,
   "id": "001e14e3",
   "metadata": {},
   "outputs": [],
   "source": [
    "df3.user_id.value_counts().mean()"
   ]
  },
  {
   "cell_type": "markdown",
   "id": "890d1189",
   "metadata": {},
   "source": [
    "<div class=\"alert alert-block alert-warning\"> \n",
    "    \n",
    "<b>Takeaways: Are there students who, when active, hardly access the curriculum? If so, what information do you have about these students?</b>\n",
    "\n",
    "   - The bottom 5% of program accessors have between 1-112 access occurance through the duration of their programs which is less than one access a day on average. \n",
    "   - The bottom 5% of program accessors have up to 624 access occurance through the duration of their programs which is much higher than the bottom 5%, but almost twice as low as the access occurance mean which is 1041.\n",
    "   - Cohort appears to be a signifanct factor in user access, but it is unclear why as the program dates and program type do not seem to be a factor.\n",
    "   \n",
    "       - The top 3 cohorts with the greatest average access (over 1200 average access occurances) are:\n",
    "         - Apex (program: full stack java, dates: 2020-02-04 to 2020-07-29)\n",
    "         - Zion (program: full stack java, dates: 2019-01-22 to 2019-06-04)\n",
    "         - Betelgeuse (program: full stack java, dates: 2019-05-28 to 2019-10-08)\n",
    "    \n",
    "    - The bottom 3 cohorts with the least average access (less than 800 average access occurances) are: \n",
    "    \n",
    "        - Yosemite (program: full stack java, dates: 2018-11-05 to 2019-04-03)\n",
    "        - Bash (program: full stack java, dates: 2020-07-20 to 2021-01-21)\n",
    "        - Andromeda (program: full stack java, dates: 2019-03-18 to 2019-07-30)\n",
    "    \n",
    "   - Because the cohort seems to be a significant factor in program access amount, as a next step, I would like to gather additional data (ie. instructors, in-person vs. virtual student distributions per cohort) to explore potential drivers of access per cohorts\n",
    "    \n",
    "   - The exploration of individual users to program access amount revealed that the students with low access have a high probability (~50% for bottom 25% of users and ~65% for bottom 5% of users) of ceasing to access the curriculum over a month before the program end date. The last access day, especially for the bottom 25%, appears to occur at a somewhat steady rate throughout the duration of the program.\n",
    "    \n",
    "Next Steps: With the data available in this dataset, I cannot draw conclusions on why the bottom accessors cease accessing the curriculum and I'd like to request more data to evaluate the following questions:\n",
    "   - Do students stop accessing because they feel they've acquired enough knowledge? (assess a relationship between access and student performance)\n",
    "   - Could ceasing access be due to dropping out of the program? If so, how often does this occur?\n",
    "   - Do the instructors seem to influence the amount of program access?\n",
    "</div>"
   ]
  },
  {
   "cell_type": "markdown",
   "id": "d43e838b",
   "metadata": {},
   "source": [
    "***"
   ]
  },
  {
   "cell_type": "markdown",
   "id": "a39142f8",
   "metadata": {},
   "source": [
    "***"
   ]
  },
  {
   "cell_type": "markdown",
   "id": "d37fd410",
   "metadata": {},
   "source": [
    "<div class=\"alert alert-block alert-success\">\n",
    "    <b>Q4.</b> QUESTION HERE\n",
    "</div>"
   ]
  },
  {
   "cell_type": "code",
   "execution_count": null,
   "id": "89605305",
   "metadata": {},
   "outputs": [],
   "source": [
    "### Narrative here"
   ]
  },
  {
   "cell_type": "code",
   "execution_count": null,
   "id": "6189f5e3",
   "metadata": {},
   "outputs": [],
   "source": [
    "### explore code, visualization code here\n",
    "\n",
    "#(visualizations/dataframes below. Do not exceed 5. Include takeaway in MD after each visual/DF. Refer to master scaling parameters for font and chart size)"
   ]
  },
  {
   "cell_type": "markdown",
   "id": "20a41545",
   "metadata": {},
   "source": [
    "<div class=\"alert alert-block alert-warning\"> \n",
    "    \n",
    "<b>Takeaway:</b>\n",
    "    \n",
    "- TAKEAWAY and QUESTION ANSWER HERE\n",
    "    \n",
    "</div>"
   ]
  },
  {
   "cell_type": "markdown",
   "id": "fe8d07e4",
   "metadata": {},
   "source": [
    "***"
   ]
  },
  {
   "cell_type": "markdown",
   "id": "19ac7e78",
   "metadata": {},
   "source": [
    "***"
   ]
  },
  {
   "cell_type": "markdown",
   "id": "cde2e0eb",
   "metadata": {},
   "source": [
    "<div class=\"alert alert-block alert-success\">\n",
    "    <b>Q5.</b> QUESTION HERE\n",
    "</div>"
   ]
  },
  {
   "cell_type": "code",
   "execution_count": null,
   "id": "dccfd7f0",
   "metadata": {},
   "outputs": [],
   "source": [
    "### Narrative here"
   ]
  },
  {
   "cell_type": "code",
   "execution_count": null,
   "id": "df6c99bd",
   "metadata": {},
   "outputs": [],
   "source": [
    "### explore code, visualization code here\n",
    "\n",
    "#(visualizations/dataframes below. Do not exceed 5. Include takeaway in MD after each visual/DF. Refer to master scaling parameters for font and chart size)"
   ]
  },
  {
   "cell_type": "markdown",
   "id": "c493c51a",
   "metadata": {},
   "source": [
    "<div class=\"alert alert-block alert-warning\"> \n",
    "    \n",
    "<b>Takeaway:</b>\n",
    "    \n",
    "- TAKEAWAY and QUESTION ANSWER HERE\n",
    "    \n",
    "</div>"
   ]
  },
  {
   "cell_type": "markdown",
   "id": "85d253f4",
   "metadata": {},
   "source": [
    "***"
   ]
  },
  {
   "cell_type": "markdown",
   "id": "0e8a6636",
   "metadata": {},
   "source": [
    "***"
   ]
  },
  {
   "cell_type": "markdown",
   "id": "58e48c1c",
   "metadata": {},
   "source": [
    "<div class=\"alert alert-block alert-success\">\n",
    "    <b>Q6.</b> Which topics are grads continuing to reference after graduation and into their jobs (for each program)?\n",
    "</div>"
   ]
  },
  {
   "cell_type": "code",
   "execution_count": null,
   "id": "71fac270",
   "metadata": {},
   "outputs": [],
   "source": [
    "### Narrative here"
   ]
  },
  {
   "cell_type": "code",
   "execution_count": null,
   "id": "fa9fec32",
   "metadata": {},
   "outputs": [],
   "source": [
    "### explore code, visualization code here\n",
    "\n",
    "#(visualizations/dataframes below. Do not exceed 5. Include takeaway in MD after each visual/DF. Refer to master scaling parameters for font and chart size)"
   ]
  },
  {
   "cell_type": "markdown",
   "id": "1db50c88",
   "metadata": {},
   "source": [
    "<div class=\"alert alert-block alert-warning\"> \n",
    "    \n",
    "<b>Takeaway:</b>\n",
    "    \n",
    "- TAKEAWAY and QUESTION ANSWER HERE\n",
    "    \n",
    "</div>"
   ]
  },
  {
   "cell_type": "markdown",
   "id": "2980864c",
   "metadata": {},
   "source": [
    "***"
   ]
  },
  {
   "cell_type": "markdown",
   "id": "d189454c",
   "metadata": {},
   "source": [
    "***"
   ]
  },
  {
   "cell_type": "markdown",
   "id": "7f674f00",
   "metadata": {},
   "source": [
    "<div class=\"alert alert-block alert-success\">\n",
    "    <b>Q7.</b> QUESTION HERE\n",
    "</div>"
   ]
  },
  {
   "cell_type": "markdown",
   "id": "1e4bfee3",
   "metadata": {},
   "source": [
    "_Least accessed by cohort could work only if I can recreate a dataframe that correctly holds values in 'path' that represent a proper lesson from codeup. As the path is currently jumbled with miscellaneous paths, it would take a extra amounts of time to identify paths then create this dataframe that I do not have for the course of this project_"
   ]
  },
  {
   "cell_type": "markdown",
   "id": "edb1d03f",
   "metadata": {},
   "source": [
    "### Least Accessed Overall"
   ]
  },
  {
   "cell_type": "markdown",
   "id": "ed85ea6d",
   "metadata": {},
   "source": [
    "For the least accessed overall, I will identify the least accessed as paths that have been accessed at least 75 times but no more than 100 times. This is because the number of paths that have been accessed less than 75 times is over 9,500. While there may be a lesson in there that has been accessed only once, the sample is too small to call it active or relevant."
   ]
  },
  {
   "cell_type": "code",
   "execution_count": null,
   "id": "506d7e42",
   "metadata": {},
   "outputs": [],
   "source": [
    "least_accessed = explore.q1_get_least_accessed(df1)\n",
    "least_accessed.head()"
   ]
  },
  {
   "cell_type": "markdown",
   "id": "07358d4f",
   "metadata": {},
   "source": [
    "<div class=\"alert alert-block alert-warning\"> \n",
    "    \n",
    "<b>Takeaway:</b>\n",
    "    \n",
    "The least access path with the set conditions is the `Regression, acquire and prepare lesson.`\n",
    "    \n",
    "&nbsp; \n",
    "    \n",
    "This lesson was accessed by the Data Science cohorts `Curie, Bayes and Darden` for a total of `77 times`. The last access date for this lesson was `January 22nd, 2021`.  \n",
    "    \n",
    "</div>"
   ]
  },
  {
   "cell_type": "markdown",
   "id": "3ab493d5",
   "metadata": {},
   "source": [
    "### Least Accessed Controlling for Program"
   ]
  },
  {
   "cell_type": "markdown",
   "id": "69e56ad5",
   "metadata": {},
   "source": [
    "### Full Stack Java"
   ]
  },
  {
   "cell_type": "code",
   "execution_count": null,
   "id": "c3d2a416",
   "metadata": {
    "scrolled": false
   },
   "outputs": [],
   "source": [
    "explore.q1_display_least_accessed(java)"
   ]
  },
  {
   "cell_type": "markdown",
   "id": "46eb462b",
   "metadata": {},
   "source": [
    "### Data Science"
   ]
  },
  {
   "cell_type": "code",
   "execution_count": null,
   "id": "791bfc5a",
   "metadata": {
    "scrolled": true
   },
   "outputs": [],
   "source": [
    "explore.q1_display_least_accessed(data_science)"
   ]
  },
  {
   "cell_type": "markdown",
   "id": "36ac2804",
   "metadata": {},
   "source": [
    "### Full Stack PHP"
   ]
  },
  {
   "cell_type": "code",
   "execution_count": null,
   "id": "6cb0c20d",
   "metadata": {
    "scrolled": true
   },
   "outputs": [],
   "source": [
    "explore.q1_display_least_accessed(php)"
   ]
  },
  {
   "cell_type": "markdown",
   "id": "83888ec8",
   "metadata": {},
   "source": [
    "### Front End Programming"
   ]
  },
  {
   "cell_type": "markdown",
   "id": "2f5406e9",
   "metadata": {},
   "source": [
    "#### The least accessed for Front End Programming is HTML-CSS as it is the only lessons that were offered."
   ]
  },
  {
   "cell_type": "markdown",
   "id": "4196bf59",
   "metadata": {},
   "source": [
    "<div class=\"alert alert-block alert-warning\"> \n",
    "    \n",
    "<b>Takeaway:</b>\n",
    "#### Full Stack Program\n",
    "    \n",
    "The least access path in the Full Stack Java Program is the `Classification, tidy-data lesson.`\n",
    "    \n",
    "&nbsp; \n",
    "    \n",
    "This lesson was accessed by the Full Stack Java cohorts, but mainly `Staff` for a total of `76 times`. The last access date for this lesson was `April 21st, 2021`.  \n",
    "\n",
    "&nbsp; \n",
    "    \n",
    "#### Data Science Program\n",
    "    \n",
    "The least access path in the Data Science program is the `Story-telling, creating charts` lesson.`\n",
    "    \n",
    "&nbsp; \n",
    "    \n",
    "This lesson was accessed by the Data Science cohorts for a total of `79 times`. The last access date for this lesson was `April 21st, 2021`.  \n",
    "    \n",
    "&nbsp; \n",
    "    \n",
    "#### PHP Program\n",
    "    \n",
    "The least access path in the Full Stack PHP is the `MySQL, intellij` lesson.\n",
    "    \n",
    "&nbsp; \n",
    "    \n",
    "This lesson was accessed by the Full Stack PHP cohorts for a total of `76 times`. The last access date for this lesson was `April 10th, 2021`.  \n",
    "    \n",
    "&nbsp; \n",
    "\n",
    "#### Front End Programming    \n",
    "Front end programming sample size is `too small` to properly define as having a least accessed lesson, when it didn't offer many lessons to a sizable group of individuals. However, it did have `2 visits on the HTML-CSS Program`\n",
    "    \n",
    "    \n",
    "    \n",
    "</div>"
   ]
  },
  {
   "cell_type": "markdown",
   "id": "dd869bb0",
   "metadata": {},
   "source": [
    "***"
   ]
  },
  {
   "cell_type": "markdown",
   "id": "5477443f",
   "metadata": {},
   "source": [
    "***"
   ]
  },
  {
   "cell_type": "markdown",
   "id": "4b266375",
   "metadata": {},
   "source": [
    "<div class=\"alert alert-block alert-warning\">\n",
    "    <b> SUMMARY of Takeaways:</b>\n",
    "<br>\n",
    "1. SUMMARY of Q1\n",
    "<br>\n",
    "2. SUMMARY of Q2\n",
    "<br>\n",
    "3. SUMMARY of Q3\n",
    "<br>\n",
    "4. SUMMARY of Q4\n",
    "<br>\n",
    "5. SUMMARY of Q5\n",
    "<br>\n",
    "6. SUMMARY of Q6\n",
    "<br>\n",
    "7. SUMMARY of Q7\n",
    "<br>\n",
    "</div>"
   ]
  },
  {
   "cell_type": "markdown",
   "id": "3a09709a",
   "metadata": {},
   "source": [
    "# 3. Key Findings and Recommendations\n",
    "<hr style=\"border-top: 10px groove blue; margin-top: 1px; margin-bottom: 1px\">"
   ]
  },
  {
   "cell_type": "markdown",
   "id": "b4e636ae",
   "metadata": {},
   "source": [
    "<h2> Key Findings</h2>\n",
    "<br>\n",
    "<hr style=\"border-top: 5px groove limegreen; margin-top: 1px; margin-bottom: 1px\">\n",
    "1. Finding 1\n",
    "    <br>\n",
    "    <br>\n",
    "2. Finding 2"
   ]
  },
  {
   "cell_type": "markdown",
   "id": "cdd5d04a",
   "metadata": {},
   "source": [
    "<h2> Recommendations </h2>\n",
    "<br>\n",
    "<hr style=\"border-top: 5px groove limegreen; margin-top: 1px; margin-bottom: 1px\">\n",
    "\n",
    "<b> 1. Recommendation 1 <b>\n",
    "<br>\n",
    "<b> 2. Recommendation 2<b>\n",
    "<br>\n",
    "<b> 3. Recommendation 3 <b>"
   ]
  },
  {
   "cell_type": "code",
   "execution_count": null,
   "id": "1b8bdb51",
   "metadata": {},
   "outputs": [],
   "source": []
  }
 ],
 "metadata": {
  "kernelspec": {
   "display_name": "Python 3 (ipykernel)",
   "language": "python",
   "name": "python3"
  },
  "language_info": {
   "codemirror_mode": {
    "name": "ipython",
    "version": 3
   },
   "file_extension": ".py",
   "mimetype": "text/x-python",
   "name": "python",
   "nbconvert_exporter": "python",
   "pygments_lexer": "ipython3",
   "version": "3.9.7"
  },
  "vscode": {
   "interpreter": {
    "hash": "38cca0c38332a56087b24af0bc80247f4fced29cb4f7f437d91dc159adec9c4e"
   }
  }
 },
 "nbformat": 4,
 "nbformat_minor": 5
}
