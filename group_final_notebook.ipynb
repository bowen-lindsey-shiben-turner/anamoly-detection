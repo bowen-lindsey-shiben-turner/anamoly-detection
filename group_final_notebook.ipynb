{
 "cells": [
  {
   "cell_type": "markdown",
   "id": "367dd30e",
   "metadata": {},
   "source": [
    "<h1> TITLE: </h1>\n",
    "<hr>\n",
    "<h2>SUBTITLE<h2/>\n",
    "<hr style=\"border-top: 10px groove blue; margin-top: 1px; margin-bottom: 1px\">"
   ]
  },
  {
   "cell_type": "markdown",
   "id": "513f2f1c",
   "metadata": {},
   "source": [
    "<img src=\"INSERT PICTURE\" style=\"vertical-align:bottom\">\n",
    "<br>\n",
    "<br>"
   ]
  },
  {
   "cell_type": "markdown",
   "id": "97c406c8",
   "metadata": {},
   "source": [
    "## Project Outline\n",
    "<hr style=\"border-top: 10px groove blue; margin-top: 1px; margin-bottom: 1px\">"
   ]
  },
  {
   "cell_type": "markdown",
   "id": "0a991dae",
   "metadata": {},
   "source": [
    "### 1. Acquire, prepare and clean data set.\n",
    "\n",
    "- ACQUIRE DESCRIPTION \n",
    "<br>\n",
    "\n",
    "### 2. Perform Exploratory Data Analysis on the unencoded data set\n",
    "\n",
    "- EDA DESCRIPTION\n",
    "    \n",
    "### 3. Recommendations and Takeaways:\n",
    "\n",
    "- document takeaways and conclusion"
   ]
  },
  {
   "cell_type": "markdown",
   "id": "e924890c",
   "metadata": {},
   "source": [
    "## Executive Summary:\n",
    "<hr style=\"border-top: 10px groove blue; margin-top: 1px; margin-bottom: 1px\">"
   ]
  },
  {
   "cell_type": "markdown",
   "id": "3f55d90a",
   "metadata": {},
   "source": [
    "<h2>Questions we answered</h2>\n",
    "<hr style=\"border-top: 5px groove limegreen; margin-top: 1px; margin-bottom: 1px\">\n",
    "\n",
    "<h3> Q1?</h3>\n",
    "- Answer.\n",
    "\n",
    "<h3> Q2? </h3>\n",
    "- Answer.\n",
    "\n",
    "<h3> Q3? </h3>\n",
    "- Answer.\n",
    "\n",
    "<h3> Q4? </h3>\n",
    "- Answer.\n",
    "\n",
    "<h3> Q5? </h3>\n",
    "- Answer.\n",
    "\n",
    "<h3> Q6? </h3>\n",
    "- Answer.\n",
    "\n",
    "<h3> Q7? </h3>\n",
    "- Answer."
   ]
  },
  {
   "cell_type": "markdown",
   "id": "01935b6d",
   "metadata": {},
   "source": [
    "## 1. Data Wrangle: Show off our Acquire/Prep/Cleaned DataFrame. Summary of removed data.\n",
    "<hr style=\"border-top: 10px groove blue; margin-top: 1px; margin-bottom: 1px\">"
   ]
  },
  {
   "cell_type": "code",
   "execution_count": 11,
   "id": "d91ffaa5",
   "metadata": {},
   "outputs": [],
   "source": [
    "## Import function code/master prepare DF\n",
    "import matplotlib.pyplot as plt\n",
    "import warnings\n",
    "warnings.filterwarnings(\"ignore\")\n"
   ]
  },
  {
   "cell_type": "markdown",
   "id": "a63563b7",
   "metadata": {},
   "source": [
    "## 2. Exploratory Data Analysis\n",
    "<hr style=\"border-top: 10px groove blue; margin-top: 1px; margin-bottom: 1px\">"
   ]
  },
  {
   "cell_type": "code",
   "execution_count": 12,
   "id": "badf12f1",
   "metadata": {},
   "outputs": [
    {
     "data": {
      "text/plain": [
       "<Figure size 2520x864 with 0 Axes>"
      ]
     },
     "execution_count": 12,
     "metadata": {},
     "output_type": "execute_result"
    },
    {
     "data": {
      "text/plain": [
       "<Figure size 2520x864 with 0 Axes>"
      ]
     },
     "metadata": {},
     "output_type": "display_data"
    }
   ],
   "source": [
    "# master visual settings.\n",
    "\n",
    "plt.rcParams['axes.labelsize'] = 5\n",
    "plt.rcParams['axes.titlesize'] = 20\n",
    "plt.figure(figsize=(35, 12), constrained_layout=True)"
   ]
  },
  {
   "cell_type": "markdown",
   "id": "63353490",
   "metadata": {},
   "source": [
    "***"
   ]
  },
  {
   "cell_type": "markdown",
   "id": "dca0e5f5",
   "metadata": {},
   "source": [
    "<div class=\"alert alert-block alert-success\">\n",
    "    <b>Q1.</b> QUESTION HERE\n",
    "</div>"
   ]
  },
  {
   "cell_type": "code",
   "execution_count": 13,
   "id": "3d496e65",
   "metadata": {},
   "outputs": [],
   "source": [
    "### Narrative here"
   ]
  },
  {
   "cell_type": "code",
   "execution_count": 14,
   "id": "3d496e65",
   "metadata": {},
   "outputs": [],
   "source": [
    "### explore code, visualization code here\n",
    "\n",
    "#(visualizations/dataframes below. Do not exceed 5. Include takeaway in MD after each visual/DF. Refer to master scaling parameters for font and chart size)"
   ]
  },
  {
   "cell_type": "markdown",
   "id": "ef8f72bd",
   "metadata": {},
   "source": [
    "<div class=\"alert alert-block alert-warning\"> \n",
    "    \n",
    "<b>Takeaway:</b>\n",
    "    \n",
    "- TAKEAWAY and QUESTION ANSWER HERE\n",
    "    \n",
    "</div>"
   ]
  },
  {
   "cell_type": "markdown",
   "id": "c79c09a9",
   "metadata": {},
   "source": [
    "***"
   ]
  },
  {
   "cell_type": "markdown",
   "id": "63353490",
   "metadata": {},
   "source": [
    "***"
   ]
  },
  {
   "cell_type": "markdown",
   "id": "dca0e5f5",
   "metadata": {},
   "source": [
    "<div class=\"alert alert-block alert-success\">\n",
    "    <b>Q2.</b> QUESTION HERE\n",
    "</div>"
   ]
  },
  {
   "cell_type": "code",
   "execution_count": 15,
   "id": "3d496e65",
   "metadata": {},
   "outputs": [],
   "source": [
    "### Narrative here"
   ]
  },
  {
   "cell_type": "code",
   "execution_count": 16,
   "id": "3d496e65",
   "metadata": {},
   "outputs": [],
   "source": [
    "### explore code, visualization code here\n",
    "\n",
    "#(visualizations/dataframes below. Do not exceed 5. Include takeaway in MD after each visual/DF. Refer to master scaling parameters for font and chart size)"
   ]
  },
  {
   "cell_type": "markdown",
   "id": "ef8f72bd",
   "metadata": {},
   "source": [
    "<div class=\"alert alert-block alert-warning\"> \n",
    "    \n",
    "<b>Takeaway:</b>\n",
    "    \n",
    "- TAKEAWAY and QUESTION ANSWER HERE\n",
    "    \n",
    "</div>"
   ]
  },
  {
   "cell_type": "markdown",
   "id": "c79c09a9",
   "metadata": {},
   "source": [
    "***"
   ]
  },
  {
   "cell_type": "markdown",
   "id": "63353490",
   "metadata": {},
   "source": [
    "***"
   ]
  },
  {
   "cell_type": "markdown",
   "id": "dca0e5f5",
   "metadata": {},
   "source": [
    "<div class=\"alert alert-block alert-success\">\n",
    "    <b>Q3.</b> QUESTION HERE\n",
    "</div>"
   ]
  },
  {
   "cell_type": "code",
   "execution_count": 17,
   "id": "3d496e65",
   "metadata": {},
   "outputs": [],
   "source": [
    "### Narrative here"
   ]
  },
  {
   "cell_type": "code",
   "execution_count": 18,
   "id": "3d496e65",
   "metadata": {},
   "outputs": [],
   "source": [
    "### explore code, visualization code here\n",
    "\n",
    "#(visualizations/dataframes below. Do not exceed 5. Include takeaway in MD after each visual/DF. Refer to master scaling parameters for font and chart size)"
   ]
  },
  {
   "cell_type": "markdown",
   "id": "ef8f72bd",
   "metadata": {},
   "source": [
    "<div class=\"alert alert-block alert-warning\"> \n",
    "    \n",
    "<b>Takeaway:</b>\n",
    "    \n",
    "- TAKEAWAY and QUESTION ANSWER HERE\n",
    "    \n",
    "</div>"
   ]
  },
  {
   "cell_type": "markdown",
   "id": "c79c09a9",
   "metadata": {},
   "source": [
    "***"
   ]
  },
  {
   "cell_type": "markdown",
   "id": "63353490",
   "metadata": {},
   "source": [
    "***"
   ]
  },
  {
   "cell_type": "markdown",
   "id": "dca0e5f5",
   "metadata": {},
   "source": [
    "<div class=\"alert alert-block alert-success\">\n",
    "    <b>Q4.</b> QUESTION HERE\n",
    "</div>"
   ]
  },
  {
   "cell_type": "code",
   "execution_count": 19,
   "id": "3d496e65",
   "metadata": {},
   "outputs": [],
   "source": [
    "### Narrative here"
   ]
  },
  {
   "cell_type": "code",
   "execution_count": 20,
   "id": "3d496e65",
   "metadata": {},
   "outputs": [],
   "source": [
    "### explore code, visualization code here\n",
    "\n",
    "#(visualizations/dataframes below. Do not exceed 5. Include takeaway in MD after each visual/DF. Refer to master scaling parameters for font and chart size)"
   ]
  },
  {
   "cell_type": "markdown",
   "id": "ef8f72bd",
   "metadata": {},
   "source": [
    "<div class=\"alert alert-block alert-warning\"> \n",
    "    \n",
    "<b>Takeaway:</b>\n",
    "    \n",
    "- TAKEAWAY and QUESTION ANSWER HERE\n",
    "    \n",
    "</div>"
   ]
  },
  {
   "cell_type": "markdown",
   "id": "c79c09a9",
   "metadata": {},
   "source": [
    "***"
   ]
  },
  {
   "cell_type": "markdown",
   "id": "63353490",
   "metadata": {},
   "source": [
    "***"
   ]
  },
  {
   "cell_type": "markdown",
   "id": "dca0e5f5",
   "metadata": {},
   "source": [
    "<div class=\"alert alert-block alert-success\">\n",
    "    <b>Q5.</b> QUESTION HERE\n",
    "</div>"
   ]
  },
  {
   "cell_type": "code",
   "execution_count": 21,
   "id": "3d496e65",
   "metadata": {},
   "outputs": [],
   "source": [
    "### Narrative here"
   ]
  },
  {
   "cell_type": "code",
   "execution_count": 22,
   "id": "3d496e65",
   "metadata": {},
   "outputs": [],
   "source": [
    "### explore code, visualization code here\n",
    "\n",
    "#(visualizations/dataframes below. Do not exceed 5. Include takeaway in MD after each visual/DF. Refer to master scaling parameters for font and chart size)"
   ]
  },
  {
   "cell_type": "markdown",
   "id": "ef8f72bd",
   "metadata": {},
   "source": [
    "<div class=\"alert alert-block alert-warning\"> \n",
    "    \n",
    "<b>Takeaway:</b>\n",
    "    \n",
    "- TAKEAWAY and QUESTION ANSWER HERE\n",
    "    \n",
    "</div>"
   ]
  },
  {
   "cell_type": "markdown",
   "id": "c79c09a9",
   "metadata": {},
   "source": [
    "***"
   ]
  },
  {
   "cell_type": "markdown",
   "id": "63353490",
   "metadata": {},
   "source": [
    "***"
   ]
  },
  {
   "cell_type": "markdown",
   "id": "dca0e5f5",
   "metadata": {},
   "source": [
    "<div class=\"alert alert-block alert-success\">\n",
    "    <b>Q6.</b> QUESTION HERE\n",
    "</div>"
   ]
  },
  {
   "cell_type": "code",
   "execution_count": 23,
   "id": "3d496e65",
   "metadata": {},
   "outputs": [],
   "source": [
    "### Narrative here"
   ]
  },
  {
   "cell_type": "code",
   "execution_count": 24,
   "id": "3d496e65",
   "metadata": {},
   "outputs": [],
   "source": [
    "### explore code, visualization code here\n",
    "\n",
    "#(visualizations/dataframes below. Do not exceed 5. Include takeaway in MD after each visual/DF. Refer to master scaling parameters for font and chart size)"
   ]
  },
  {
   "cell_type": "markdown",
   "id": "ef8f72bd",
   "metadata": {},
   "source": [
    "<div class=\"alert alert-block alert-warning\"> \n",
    "    \n",
    "<b>Takeaway:</b>\n",
    "    \n",
    "- TAKEAWAY and QUESTION ANSWER HERE\n",
    "    \n",
    "</div>"
   ]
  },
  {
   "cell_type": "markdown",
   "id": "c79c09a9",
   "metadata": {},
   "source": [
    "***"
   ]
  },
  {
   "cell_type": "markdown",
   "id": "63353490",
   "metadata": {},
   "source": [
    "***"
   ]
  },
  {
   "cell_type": "markdown",
   "id": "dca0e5f5",
   "metadata": {},
   "source": [
    "<div class=\"alert alert-block alert-success\">\n",
    "    <b>Q7.</b> QUESTION HERE\n",
    "</div>"
   ]
  },
  {
   "cell_type": "code",
   "execution_count": 25,
   "id": "3d496e65",
   "metadata": {},
   "outputs": [],
   "source": [
    "### Narrative here"
   ]
  },
  {
   "cell_type": "code",
   "execution_count": 26,
   "id": "3d496e65",
   "metadata": {},
   "outputs": [],
   "source": [
    "### explore code, visualization code here\n",
    "\n",
    "#(visualizations/dataframes below. Do not exceed 5. Include takeaway in MD after each visual/DF. Refer to master scaling parameters for font and chart size)"
   ]
  },
  {
   "cell_type": "markdown",
   "id": "ef8f72bd",
   "metadata": {},
   "source": [
    "<div class=\"alert alert-block alert-warning\"> \n",
    "    \n",
    "<b>Takeaway:</b>\n",
    "    \n",
    "- TAKEAWAY and QUESTION ANSWER HERE\n",
    "    \n",
    "</div>"
   ]
  },
  {
   "cell_type": "markdown",
   "id": "c79c09a9",
   "metadata": {},
   "source": [
    "***"
   ]
  },
  {
   "cell_type": "markdown",
   "id": "c79c09a9",
   "metadata": {},
   "source": [
    "***"
   ]
  },
  {
   "cell_type": "markdown",
   "id": "bad5840e",
   "metadata": {},
   "source": [
    "<div class=\"alert alert-block alert-warning\">\n",
    "    <b> SUMMARY of Takeaways:</b>\n",
    "<br>\n",
    "1. SUMMARY of Q1\n",
    "<br>\n",
    "2. SUMMARY of Q2\n",
    "<br>\n",
    "3. SUMMARY of Q3\n",
    "<br>\n",
    "4. SUMMARY of Q4\n",
    "<br>\n",
    "5. SUMMARY of Q5\n",
    "<br>\n",
    "6. SUMMARY of Q6\n",
    "<br>\n",
    "7. SUMMARY of Q7\n",
    "<br>\n",
    "</div>"
   ]
  },
  {
   "cell_type": "markdown",
   "id": "0d611171",
   "metadata": {},
   "source": [
    "# 3. Key Findings and Recommendations\n",
    "<hr style=\"border-top: 10px groove blue; margin-top: 1px; margin-bottom: 1px\">"
   ]
  },
  {
   "cell_type": "markdown",
   "id": "43f8ea4e",
   "metadata": {},
   "source": [
    "<h2> Key Findings</h2>\n",
    "<br>\n",
    "<hr style=\"border-top: 5px groove limegreen; margin-top: 1px; margin-bottom: 1px\">\n",
    "1. Finding 1\n",
    "    <br>\n",
    "    <br>\n",
    "2. Finding 2"
   ]
  },
  {
   "cell_type": "markdown",
   "id": "ce428152",
   "metadata": {},
   "source": [
    "<h2> Recommendations </h2>\n",
    "<br>\n",
    "<hr style=\"border-top: 5px groove limegreen; margin-top: 1px; margin-bottom: 1px\">\n",
    "\n",
    "<b> 1. Recommendation 1 <b>\n",
    "<br>\n",
    "<b> 2. Recommendation 2<b>\n",
    "<br>\n",
    "<b> 3. Recommendation 3 <b>"
   ]
  }
 ],
 "metadata": {
  "kernelspec": {
   "display_name": "Python 3.9.7 ('base')",
   "language": "python",
   "name": "python3"
  },
  "language_info": {
   "codemirror_mode": {
    "name": "ipython",
    "version": 3
   },
   "file_extension": ".py",
   "mimetype": "text/x-python",
   "name": "python",
   "nbconvert_exporter": "python",
   "pygments_lexer": "ipython3",
   "version": "3.9.7"
  },
  "vscode": {
   "interpreter": {
    "hash": "38cca0c38332a56087b24af0bc80247f4fced29cb4f7f437d91dc159adec9c4e"
   }
  }
 },
 "nbformat": 4,
 "nbformat_minor": 5
}
