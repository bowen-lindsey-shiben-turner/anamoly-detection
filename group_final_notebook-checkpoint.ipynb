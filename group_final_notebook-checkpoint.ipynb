{
 "cells": [
  {
   "cell_type": "markdown",
   "id": "367dd30e",
   "metadata": {},
   "source": [
    "<h1> TITLE: </h1>\n",
    "<hr>\n",
    "<h2>SUBTITLE<h2/>\n",
    "<hr style=\"border-top: 10px groove blue; margin-top: 1px; margin-bottom: 1px\">"
   ]
  },
  {
   "cell_type": "markdown",
   "id": "513f2f1c",
   "metadata": {},
   "source": [
    "<img src=\"INSERT PICTURE\" style=\"vertical-align:bottom\">\n",
    "<br>\n",
    "<br>"
   ]
  },
  {
   "cell_type": "markdown",
   "id": "97c406c8",
   "metadata": {},
   "source": [
    "## Project Outline\n",
    "<hr style=\"border-top: 10px groove blue; margin-top: 1px; margin-bottom: 1px\">"
   ]
  },
  {
   "cell_type": "markdown",
   "id": "0a991dae",
   "metadata": {},
   "source": [
    "### 1. Acquire, prepare and clean data set.\n",
    "\n",
    "- ACQUIRE DESCRIPTION \n",
    "<br>\n",
    "\n",
    "### 2. Perform Exploratory Data Analysis on the unencoded data set\n",
    "\n",
    "- EDA DESCRIPTION\n",
    "    \n",
    "### 3. Recommendations and Takeaways:\n",
    "\n",
    "- document takeaways and conclusion"
   ]
  },
  {
   "cell_type": "markdown",
   "id": "e924890c",
   "metadata": {},
   "source": [
    "## Executive Summary:\n",
    "<hr style=\"border-top: 10px groove blue; margin-top: 1px; margin-bottom: 1px\">"
   ]
  },
  {
   "cell_type": "markdown",
   "id": "3f55d90a",
   "metadata": {},
   "source": [
    "<h2>Questions we answered</h2>\n",
    "<hr style=\"border-top: 5px groove limegreen; margin-top: 1px; margin-bottom: 1px\">\n",
    "\n",
    "<h3> Q1?</h3>\n",
    "- Answer.\n",
    "\n",
    "<h3> Q2? </h3>\n",
    "- Answer.\n",
    "\n",
    "<h3> Q3? </h3>\n",
    "- Answer.\n",
    "\n",
    "<h3> Q4? </h3>\n",
    "- Answer.\n",
    "\n",
    "<h3> Q5? </h3>\n",
    "- Answer.\n",
    "\n",
    "<h3> Q6? </h3>\n",
    "- Answer.\n",
    "\n",
    "<h3> Q7? </h3>\n",
    "- Answer."
   ]
  },
  {
   "cell_type": "markdown",
   "id": "01935b6d",
   "metadata": {},
   "source": [
    "## 1. Data Wrangle: Show off our Acquire/Prep/Cleaned DataFrame. Summary of removed data.\n",
    "<hr style=\"border-top: 10px groove blue; margin-top: 1px; margin-bottom: 1px\">"
   ]
  },
  {
   "cell_type": "code",
   "execution_count": 1,
   "id": "d91ffaa5",
   "metadata": {},
   "outputs": [],
   "source": [
    "## Import function code/master prepare DF\n",
    "import pandas as pd\n",
    "import numpy as np\n",
    "import seaborn as sns\n",
    "import matplotlib.pyplot as plt\n",
    "import acquire\n",
    "import prepare\n",
    "import explore\n",
    "from env import get_db_url\n",
    "import time\n",
    "import warnings\n",
    "warnings.filterwarnings(\"ignore\")\n"
   ]
  },
  {
   "cell_type": "markdown",
   "id": "a63563b7",
   "metadata": {},
   "source": [
    "## 2. Exploratory Data Analysis\n",
    "<hr style=\"border-top: 10px groove blue; margin-top: 1px; margin-bottom: 1px\">"
   ]
  },
  {
   "cell_type": "code",
   "execution_count": 2,
   "id": "badf12f1",
   "metadata": {},
   "outputs": [
    {
     "data": {
      "text/plain": [
       "<Figure size 2520x864 with 0 Axes>"
      ]
     },
     "execution_count": 2,
     "metadata": {},
     "output_type": "execute_result"
    },
    {
     "data": {
      "text/plain": [
       "<Figure size 2520x864 with 0 Axes>"
      ]
     },
     "metadata": {},
     "output_type": "display_data"
    }
   ],
   "source": [
    "# master visual settings.\n",
    "\n",
    "plt.rcParams['axes.labelsize'] = 5\n",
    "plt.rcParams['axes.titlesize'] = 20\n",
    "plt.figure(figsize=(35, 12), constrained_layout=True)"
   ]
  },
  {
   "cell_type": "markdown",
   "id": "63353490",
   "metadata": {},
   "source": [
    "***"
   ]
  },
  {
   "cell_type": "markdown",
   "id": "dca0e5f5",
   "metadata": {},
   "source": [
    "<div class=\"alert alert-block alert-success\">\n",
    "    <b>Q1.</b> Which lesson appears to attract the most traffic consistently across cohorts (per program)?\n",
    "</div>"
   ]
  },
  {
   "cell_type": "markdown",
   "id": "60713a4e",
   "metadata": {},
   "source": [
    "#### How can I answer this question?\n",
    "- Group by Program\n",
    "- Get an aggregated count of the path(s) per program\n",
    "- Identify lessons that attract the most traffic"
   ]
  },
  {
   "cell_type": "code",
   "execution_count": 3,
   "id": "1d311b57",
   "metadata": {},
   "outputs": [],
   "source": [
    "# call and set the dataframe\n",
    "df1 = prepare.prepare_logs()\n",
    "df1 = prepare.get_q6_eda_df()"
   ]
  },
  {
   "cell_type": "markdown",
   "id": "c502912e",
   "metadata": {},
   "source": [
    "#### First I will drop nulls so that all cohorts match with a path (lesson)"
   ]
  },
  {
   "cell_type": "code",
   "execution_count": 4,
   "id": "6def290d",
   "metadata": {},
   "outputs": [],
   "source": [
    "df1 = df1.dropna()"
   ]
  },
  {
   "cell_type": "markdown",
   "id": "994051ce",
   "metadata": {},
   "source": [
    "#### Then, I'll remove some excess paths that aren't defined as lessons. (This is not all of them, just as many as could be found in the allotted time.)"
   ]
  },
  {
   "cell_type": "code",
   "execution_count": 5,
   "id": "567792ef",
   "metadata": {},
   "outputs": [],
   "source": [
    "explore.q1_remove_columns(df1)"
   ]
  },
  {
   "cell_type": "markdown",
   "id": "3a687218",
   "metadata": {},
   "source": [
    "#### Finally, I'll create a dataframe for each program to properly answer the question. "
   ]
  },
  {
   "cell_type": "code",
   "execution_count": 6,
   "id": "a38fe409",
   "metadata": {},
   "outputs": [],
   "source": [
    "# gets full stack java dataframe\n",
    "java = explore.q1_full_stack_java(df1)\n",
    "\n",
    "# gets data science dataframe\n",
    "data_science = explore.q1_data_science_program(df1)\n",
    "\n",
    "# gets full stack php dataframe\n",
    "php = explore.q1_full_stack_php(df1)\n",
    "\n",
    "# gets front end programming dataframe\n",
    "front_end = explore.q1_front_end_programming(df1)"
   ]
  },
  {
   "cell_type": "markdown",
   "id": "1cbe209c",
   "metadata": {},
   "source": [
    "---"
   ]
  },
  {
   "cell_type": "markdown",
   "id": "fcb81a58",
   "metadata": {},
   "source": [
    "### Exploring Question 1"
   ]
  },
  {
   "cell_type": "markdown",
   "id": "bfee0fbf",
   "metadata": {},
   "source": [
    "To explore this question, I took a look at the top most active and most visited paths to answer the question 'which lesson appears to attract the most traffic'. "
   ]
  },
  {
   "cell_type": "markdown",
   "id": "5ec15897",
   "metadata": {},
   "source": [
    "#### Exploring the Full Stack Java program:"
   ]
  },
  {
   "cell_type": "code",
   "execution_count": 7,
   "id": "c1a8003d",
   "metadata": {
    "scrolled": false
   },
   "outputs": [
    {
     "data": {
      "text/html": [
       "<div>\n",
       "<style scoped>\n",
       "    .dataframe tbody tr th:only-of-type {\n",
       "        vertical-align: middle;\n",
       "    }\n",
       "\n",
       "    .dataframe tbody tr th {\n",
       "        vertical-align: top;\n",
       "    }\n",
       "\n",
       "    .dataframe thead th {\n",
       "        text-align: right;\n",
       "    }\n",
       "</style>\n",
       "<table border=\"1\" class=\"dataframe\">\n",
       "  <thead>\n",
       "    <tr style=\"text-align: right;\">\n",
       "      <th></th>\n",
       "      <th>path</th>\n",
       "    </tr>\n",
       "  </thead>\n",
       "  <tbody>\n",
       "    <tr>\n",
       "      <th>/</th>\n",
       "      <td>35814</td>\n",
       "    </tr>\n",
       "    <tr>\n",
       "      <th>javascript-i</th>\n",
       "      <td>17457</td>\n",
       "    </tr>\n",
       "    <tr>\n",
       "      <th>toc</th>\n",
       "      <td>17428</td>\n",
       "    </tr>\n",
       "    <tr>\n",
       "      <th>search/search_index.json</th>\n",
       "      <td>15212</td>\n",
       "    </tr>\n",
       "    <tr>\n",
       "      <th>java-iii</th>\n",
       "      <td>12683</td>\n",
       "    </tr>\n",
       "    <tr>\n",
       "      <th>html-css</th>\n",
       "      <td>12569</td>\n",
       "    </tr>\n",
       "    <tr>\n",
       "      <th>java-ii</th>\n",
       "      <td>11719</td>\n",
       "    </tr>\n",
       "    <tr>\n",
       "      <th>spring</th>\n",
       "      <td>11376</td>\n",
       "    </tr>\n",
       "    <tr>\n",
       "      <th>jquery</th>\n",
       "      <td>10693</td>\n",
       "    </tr>\n",
       "    <tr>\n",
       "      <th>mysql</th>\n",
       "      <td>10318</td>\n",
       "    </tr>\n",
       "    <tr>\n",
       "      <th>java-i</th>\n",
       "      <td>10016</td>\n",
       "    </tr>\n",
       "  </tbody>\n",
       "</table>\n",
       "</div>"
      ],
      "text/plain": [
       "                           path\n",
       "/                         35814\n",
       "javascript-i              17457\n",
       "toc                       17428\n",
       "search/search_index.json  15212\n",
       "java-iii                  12683\n",
       "html-css                  12569\n",
       "java-ii                   11719\n",
       "spring                    11376\n",
       "jquery                    10693\n",
       "mysql                     10318\n",
       "java-i                    10016"
      ]
     },
     "execution_count": 7,
     "metadata": {},
     "output_type": "execute_result"
    }
   ],
   "source": [
    "explore.q1_display_paths_java(java)"
   ]
  },
  {
   "cell_type": "markdown",
   "id": "adaddd08",
   "metadata": {},
   "source": [
    "#### Exploring the Data Science program"
   ]
  },
  {
   "cell_type": "code",
   "execution_count": 8,
   "id": "ba9f3b2b",
   "metadata": {},
   "outputs": [
    {
     "data": {
      "text/html": [
       "<div>\n",
       "<style scoped>\n",
       "    .dataframe tbody tr th:only-of-type {\n",
       "        vertical-align: middle;\n",
       "    }\n",
       "\n",
       "    .dataframe tbody tr th {\n",
       "        vertical-align: top;\n",
       "    }\n",
       "\n",
       "    .dataframe thead th {\n",
       "        text-align: right;\n",
       "    }\n",
       "</style>\n",
       "<table border=\"1\" class=\"dataframe\">\n",
       "  <thead>\n",
       "    <tr style=\"text-align: right;\">\n",
       "      <th></th>\n",
       "      <th>path</th>\n",
       "    </tr>\n",
       "  </thead>\n",
       "  <tbody>\n",
       "    <tr>\n",
       "      <th>/</th>\n",
       "      <td>8358</td>\n",
       "    </tr>\n",
       "    <tr>\n",
       "      <th>search/search_index.json</th>\n",
       "      <td>2203</td>\n",
       "    </tr>\n",
       "    <tr>\n",
       "      <th>classification/overview</th>\n",
       "      <td>1785</td>\n",
       "    </tr>\n",
       "    <tr>\n",
       "      <th>1-fundamentals/modern-data-scientist.jpg</th>\n",
       "      <td>1655</td>\n",
       "    </tr>\n",
       "    <tr>\n",
       "      <th>1-fundamentals/AI-ML-DL-timeline.jpg</th>\n",
       "      <td>1651</td>\n",
       "    </tr>\n",
       "    <tr>\n",
       "      <th>1-fundamentals/1.1-intro-to-data-science</th>\n",
       "      <td>1633</td>\n",
       "    </tr>\n",
       "    <tr>\n",
       "      <th>classification/scale_features_or_not.svg</th>\n",
       "      <td>1590</td>\n",
       "    </tr>\n",
       "  </tbody>\n",
       "</table>\n",
       "</div>"
      ],
      "text/plain": [
       "                                          path\n",
       "/                                         8358\n",
       "search/search_index.json                  2203\n",
       "classification/overview                   1785\n",
       "1-fundamentals/modern-data-scientist.jpg  1655\n",
       "1-fundamentals/AI-ML-DL-timeline.jpg      1651\n",
       "1-fundamentals/1.1-intro-to-data-science  1633\n",
       "classification/scale_features_or_not.svg  1590"
      ]
     },
     "execution_count": 8,
     "metadata": {},
     "output_type": "execute_result"
    }
   ],
   "source": [
    "explore.q1_display_path_ds(data_science)"
   ]
  },
  {
   "cell_type": "markdown",
   "id": "b46ad7c7",
   "metadata": {},
   "source": [
    "#### Exploring the Full Stack PHP program"
   ]
  },
  {
   "cell_type": "code",
   "execution_count": 9,
   "id": "657261e5",
   "metadata": {},
   "outputs": [
    {
     "data": {
      "text/html": [
       "<div>\n",
       "<style scoped>\n",
       "    .dataframe tbody tr th:only-of-type {\n",
       "        vertical-align: middle;\n",
       "    }\n",
       "\n",
       "    .dataframe tbody tr th {\n",
       "        vertical-align: top;\n",
       "    }\n",
       "\n",
       "    .dataframe thead th {\n",
       "        text-align: right;\n",
       "    }\n",
       "</style>\n",
       "<table border=\"1\" class=\"dataframe\">\n",
       "  <thead>\n",
       "    <tr style=\"text-align: right;\">\n",
       "      <th></th>\n",
       "      <th>path</th>\n",
       "    </tr>\n",
       "  </thead>\n",
       "  <tbody>\n",
       "    <tr>\n",
       "      <th>/</th>\n",
       "      <td>1681</td>\n",
       "    </tr>\n",
       "    <tr>\n",
       "      <th>index.html</th>\n",
       "      <td>1011</td>\n",
       "    </tr>\n",
       "    <tr>\n",
       "      <th>javascript-i</th>\n",
       "      <td>736</td>\n",
       "    </tr>\n",
       "    <tr>\n",
       "      <th>html-css</th>\n",
       "      <td>542</td>\n",
       "    </tr>\n",
       "    <tr>\n",
       "      <th>spring</th>\n",
       "      <td>501</td>\n",
       "    </tr>\n",
       "    <tr>\n",
       "      <th>java-iii</th>\n",
       "      <td>479</td>\n",
       "    </tr>\n",
       "    <tr>\n",
       "      <th>java-ii</th>\n",
       "      <td>454</td>\n",
       "    </tr>\n",
       "    <tr>\n",
       "      <th>java-i</th>\n",
       "      <td>444</td>\n",
       "    </tr>\n",
       "    <tr>\n",
       "      <th>javascript-ii</th>\n",
       "      <td>429</td>\n",
       "    </tr>\n",
       "    <tr>\n",
       "      <th>appendix</th>\n",
       "      <td>409</td>\n",
       "    </tr>\n",
       "    <tr>\n",
       "      <th>jquery</th>\n",
       "      <td>344</td>\n",
       "    </tr>\n",
       "    <tr>\n",
       "      <th>mysql</th>\n",
       "      <td>284</td>\n",
       "    </tr>\n",
       "    <tr>\n",
       "      <th>content/html-css</th>\n",
       "      <td>262</td>\n",
       "    </tr>\n",
       "  </tbody>\n",
       "</table>\n",
       "</div>"
      ],
      "text/plain": [
       "                  path\n",
       "/                 1681\n",
       "index.html        1011\n",
       "javascript-i       736\n",
       "html-css           542\n",
       "spring             501\n",
       "java-iii           479\n",
       "java-ii            454\n",
       "java-i             444\n",
       "javascript-ii      429\n",
       "appendix           409\n",
       "jquery             344\n",
       "mysql              284\n",
       "content/html-css   262"
      ]
     },
     "execution_count": 9,
     "metadata": {},
     "output_type": "execute_result"
    }
   ],
   "source": [
    "explore.q1_display_path_php(php)"
   ]
  },
  {
   "cell_type": "markdown",
   "id": "517297d2",
   "metadata": {},
   "source": [
    "#### Exploring the Front End Programming program"
   ]
  },
  {
   "cell_type": "code",
   "execution_count": 10,
   "id": "bce455e8",
   "metadata": {},
   "outputs": [
    {
     "data": {
      "text/html": [
       "<div>\n",
       "<style scoped>\n",
       "    .dataframe tbody tr th:only-of-type {\n",
       "        vertical-align: middle;\n",
       "    }\n",
       "\n",
       "    .dataframe tbody tr th {\n",
       "        vertical-align: top;\n",
       "    }\n",
       "\n",
       "    .dataframe thead th {\n",
       "        text-align: right;\n",
       "    }\n",
       "</style>\n",
       "<table border=\"1\" class=\"dataframe\">\n",
       "  <thead>\n",
       "    <tr style=\"text-align: right;\">\n",
       "      <th></th>\n",
       "      <th>path</th>\n",
       "    </tr>\n",
       "  </thead>\n",
       "  <tbody>\n",
       "    <tr>\n",
       "      <th>content/html-css</th>\n",
       "      <td>2</td>\n",
       "    </tr>\n",
       "    <tr>\n",
       "      <th>/</th>\n",
       "      <td>1</td>\n",
       "    </tr>\n",
       "    <tr>\n",
       "      <th>content/html-css/gitbook/images/favicon.ico</th>\n",
       "      <td>1</td>\n",
       "    </tr>\n",
       "    <tr>\n",
       "      <th>content/html-css/introduction.html</th>\n",
       "      <td>1</td>\n",
       "    </tr>\n",
       "  </tbody>\n",
       "</table>\n",
       "</div>"
      ],
      "text/plain": [
       "                                             path\n",
       "content/html-css                                2\n",
       "/                                               1\n",
       "content/html-css/gitbook/images/favicon.ico     1\n",
       "content/html-css/introduction.html              1"
      ]
     },
     "execution_count": 10,
     "metadata": {},
     "output_type": "execute_result"
    }
   ],
   "source": [
    "pd.DataFrame(front_end.path.value_counts())"
   ]
  },
  {
   "cell_type": "markdown",
   "id": "ef8f72bd",
   "metadata": {},
   "source": [
    "<div class=\"alert alert-block alert-warning\"> \n",
    "    \n",
    "## Question 1: Takeaway\n",
    "    \n",
    "### _\"Which lesson appears to attract the most traffic consistently across cohorts (per program)?\"_\n",
    "    \n",
    "</div>"
   ]
  },
  {
   "cell_type": "markdown",
   "id": "d147f29f",
   "metadata": {},
   "source": [
    "<div class=\"alert alert-block alert-warning\"> \n",
    "    \n",
    "#### Full Stack Java\n",
    "The lesson with the most traffic in the Full Stack Java program is Javascript I.\n",
    "    \n",
    "</div>"
   ]
  },
  {
   "cell_type": "markdown",
   "id": "a215052c",
   "metadata": {},
   "source": [
    "<div class=\"alert alert-block alert-warning\"> \n",
    "    \n",
    "#### Data Science Program\n",
    "The lesson with the most traffic in the Data Science program is Classification.\n",
    "    \n",
    "</div>"
   ]
  },
  {
   "cell_type": "markdown",
   "id": "dd5d0eaf",
   "metadata": {},
   "source": [
    "<div class=\"alert alert-block alert-warning\"> \n",
    "    \n",
    "#### Full Stack PHP Program\n",
    "The lesson with the most traffic in the Full Stack PHP program is also Javascript I. \n",
    "    \n",
    "</div>"
   ]
  },
  {
   "cell_type": "markdown",
   "id": "0a41ff7b",
   "metadata": {},
   "source": [
    "<div class=\"alert alert-block alert-warning\"> \n",
    "    \n",
    "#### Front End Programming Program\n",
    "The lesson with the most traffic in the Front End Programming program is HTML-CSS\n",
    "    \n",
    "</div>"
   ]
  },
  {
   "cell_type": "markdown",
   "id": "c0619332",
   "metadata": {},
   "source": [
    "##### SQL has the most traffic consitently across all cohorts and programs, not including the Front End Programming program which has a sample of 5. "
   ]
  },
  {
   "cell_type": "markdown",
   "id": "c79c09a9",
   "metadata": {},
   "source": [
    "***"
   ]
  },
  {
   "cell_type": "markdown",
   "id": "c2d435cd",
   "metadata": {},
   "source": [
    "***"
   ]
  },
  {
   "cell_type": "markdown",
   "id": "711585ce",
   "metadata": {},
   "source": [
    "<div class=\"alert alert-block alert-success\">\n",
    "    <b>Q2.</b> QUESTION HERE\n",
    "</div>"
   ]
  },
  {
   "cell_type": "code",
   "execution_count": null,
   "id": "242f3c6b",
   "metadata": {},
   "outputs": [],
   "source": [
    "### Narrative here"
   ]
  },
  {
   "cell_type": "code",
   "execution_count": null,
   "id": "b689323a",
   "metadata": {},
   "outputs": [],
   "source": [
    "### explore code, visualization code here\n",
    "\n",
    "#(visualizations/dataframes below. Do not exceed 5. Include takeaway in MD after each visual/DF. Refer to master scaling parameters for font and chart size)"
   ]
  },
  {
   "cell_type": "markdown",
   "id": "cc8715e0",
   "metadata": {},
   "source": [
    "<div class=\"alert alert-block alert-warning\"> \n",
    "    \n",
    "<b>Takeaway:</b>\n",
    "    \n",
    "- TAKEAWAY and QUESTION ANSWER HERE\n",
    "    \n",
    "</div>"
   ]
  },
  {
   "cell_type": "markdown",
   "id": "c79c09a9",
   "metadata": {},
   "source": [
    "***"
   ]
  },
  {
   "cell_type": "markdown",
   "id": "63353490",
   "metadata": {},
   "source": [
    "***"
   ]
  },
  {
   "cell_type": "markdown",
   "id": "dca0e5f5",
   "metadata": {},
   "source": [
    "<div class=\"alert alert-block alert-success\">\n",
    "    <b>Q3.</b> QUESTION HERE\n",
    "</div>"
   ]
  },
  {
   "cell_type": "code",
   "execution_count": null,
   "id": "3d496e65",
   "metadata": {},
   "outputs": [],
   "source": [
    "### Narrative here"
   ]
  },
  {
   "cell_type": "code",
   "execution_count": null,
   "id": "3d496e65",
   "metadata": {},
   "outputs": [],
   "source": [
    "### explore code, visualization code here\n",
    "\n",
    "#(visualizations/dataframes below. Do not exceed 5. Include takeaway in MD after each visual/DF. Refer to master scaling parameters for font and chart size)"
   ]
  },
  {
   "cell_type": "code",
   "execution_count": null,
   "id": "d969e197",
   "metadata": {},
   "outputs": [],
   "source": [
    "df = prepare.prepare_logs()\n",
    "df3 = explore.explore_question3(df)"
   ]
  },
  {
   "cell_type": "code",
   "execution_count": null,
   "id": "508a7b72",
   "metadata": {},
   "outputs": [],
   "source": [
    "plt.figure(figsize=(20,15)) \n",
    "(df3.cohort_dates.value_counts()/df3.user_id.groupby(df3.cohort_dates).nunique()).sort_values(ascending=True).plot(kind='barh', fontsize=25)\n",
    "plt.title('Average User Access Counts Per Program/Cohort', fontsize=20)"
   ]
  },
  {
   "cell_type": "markdown",
   "id": "8da7a723",
   "metadata": {},
   "source": [
    "#### Takeaways: Average User Access Counts Per Program/Cohort Graph\n",
    "- While there does seem to be a signifant difference in program access for certain cohorts, it is unclear why based on data presented here. There does not appear to be a relationship with the type of program or cohort dates. With additional date (ie. instructors, in-person vs. virtual), I could assess this relationship further."
   ]
  },
  {
   "cell_type": "markdown",
   "id": "6b9d9c9e",
   "metadata": {},
   "source": [
    "#### Graph:\n",
    "what this is for..."
   ]
  },
  {
   "cell_type": "code",
   "execution_count": null,
   "id": "02e46c36",
   "metadata": {},
   "outputs": [],
   "source": [
    "bottom_5, bottom_25, middle, top_25, all_users, middle_users, top_25_users, bottom_25_users, bottom_5_users = explore.q3_create_percentile_dfs(df3)"
   ]
  },
  {
   "cell_type": "markdown",
   "id": "0dd7b44d",
   "metadata": {},
   "source": [
    "#### summary of new dfs"
   ]
  },
  {
   "cell_type": "markdown",
   "id": "0d357c83",
   "metadata": {},
   "source": [
    "#### Graph:\n",
    "what this is for....\n"
   ]
  },
  {
   "cell_type": "code",
   "execution_count": null,
   "id": "ac3d18b2",
   "metadata": {},
   "outputs": [],
   "source": [
    "explore.q3_plot_counts(bottom_5, bottom_25, middle, top_25)"
   ]
  },
  {
   "cell_type": "markdown",
   "id": "eb343a2a",
   "metadata": {},
   "source": [
    "#### Takeaways: Access Counts Sub-pops"
   ]
  },
  {
   "cell_type": "markdown",
   "id": "58c07b98",
   "metadata": {},
   "source": [
    "#### Graph: Trends\n",
    "- what this is for"
   ]
  },
  {
   "cell_type": "code",
   "execution_count": null,
   "id": "2fdb8a75",
   "metadata": {},
   "outputs": [],
   "source": [
    "explore.q3_plot_trends(top_25, middle, bottom_25, bottom_5)"
   ]
  },
  {
   "cell_type": "markdown",
   "id": "8cc57f60",
   "metadata": {},
   "source": [
    "#### Takeaways"
   ]
  },
  {
   "cell_type": "markdown",
   "id": "9bcf1512",
   "metadata": {},
   "source": [
    "#### Graph what is this for"
   ]
  },
  {
   "cell_type": "code",
   "execution_count": null,
   "id": "be934a15",
   "metadata": {},
   "outputs": [],
   "source": [
    "explore.q3_plot_hists(all_users, bottom_5_users, bottom_25_users, middle_users, top_25_users)"
   ]
  },
  {
   "cell_type": "markdown",
   "id": "ef8f72bd",
   "metadata": {},
   "source": [
    "<div class=\"alert alert-block alert-warning\"> \n",
    "    \n",
    "<b>Takeaway:</b>\n",
    "    \n",
    "- TAKEAWAY and QUESTION ANSWER HERE\n",
    "    \n",
    "</div>"
   ]
  },
  {
   "cell_type": "markdown",
   "id": "c79c09a9",
   "metadata": {},
   "source": [
    "***"
   ]
  },
  {
   "cell_type": "markdown",
   "id": "63353490",
   "metadata": {},
   "source": [
    "***"
   ]
  },
  {
   "cell_type": "markdown",
   "id": "dca0e5f5",
   "metadata": {},
   "source": [
    "<div class=\"alert alert-block alert-success\">\n",
    "    <b>Q4.</b> QUESTION HERE\n",
    "</div>"
   ]
  },
  {
   "cell_type": "code",
   "execution_count": null,
   "id": "3d496e65",
   "metadata": {},
   "outputs": [],
   "source": [
    "### Narrative here"
   ]
  },
  {
   "cell_type": "code",
   "execution_count": null,
   "id": "3d496e65",
   "metadata": {},
   "outputs": [],
   "source": [
    "### explore code, visualization code here\n",
    "\n",
    "#(visualizations/dataframes below. Do not exceed 5. Include takeaway in MD after each visual/DF. Refer to master scaling parameters for font and chart size)"
   ]
  },
  {
   "cell_type": "markdown",
   "id": "ef8f72bd",
   "metadata": {},
   "source": [
    "<div class=\"alert alert-block alert-warning\"> \n",
    "    \n",
    "<b>Takeaway:</b>\n",
    "    \n",
    "- TAKEAWAY and QUESTION ANSWER HERE\n",
    "    \n",
    "</div>"
   ]
  },
  {
   "cell_type": "markdown",
   "id": "c79c09a9",
   "metadata": {},
   "source": [
    "***"
   ]
  },
  {
   "cell_type": "markdown",
   "id": "63353490",
   "metadata": {},
   "source": [
    "***"
   ]
  },
  {
   "cell_type": "markdown",
   "id": "dca0e5f5",
   "metadata": {},
   "source": [
    "<div class=\"alert alert-block alert-success\">\n",
    "    <b>Q5.</b> QUESTION HERE\n",
    "</div>"
   ]
  },
  {
   "cell_type": "code",
   "execution_count": null,
   "id": "3d496e65",
   "metadata": {},
   "outputs": [],
   "source": [
    "### Narrative here"
   ]
  },
  {
   "cell_type": "code",
   "execution_count": null,
   "id": "3d496e65",
   "metadata": {},
   "outputs": [],
   "source": [
    "### explore code, visualization code here\n",
    "\n",
    "#(visualizations/dataframes below. Do not exceed 5. Include takeaway in MD after each visual/DF. Refer to master scaling parameters for font and chart size)"
   ]
  },
  {
   "cell_type": "markdown",
   "id": "ef8f72bd",
   "metadata": {},
   "source": [
    "<div class=\"alert alert-block alert-warning\"> \n",
    "    \n",
    "<b>Takeaway:</b>\n",
    "    \n",
    "- TAKEAWAY and QUESTION ANSWER HERE\n",
    "    \n",
    "</div>"
   ]
  },
  {
   "cell_type": "markdown",
   "id": "c79c09a9",
   "metadata": {},
   "source": [
    "***"
   ]
  },
  {
   "cell_type": "markdown",
   "id": "63353490",
   "metadata": {},
   "source": [
    "***"
   ]
  },
  {
   "cell_type": "markdown",
   "id": "dca0e5f5",
   "metadata": {},
   "source": [
    "<div class=\"alert alert-block alert-success\">\n",
    "    <b>Q6.</b> QUESTION HERE\n",
    "</div>"
   ]
  },
  {
   "cell_type": "code",
   "execution_count": null,
   "id": "3d496e65",
   "metadata": {},
   "outputs": [],
   "source": [
    "### Narrative here"
   ]
  },
  {
   "cell_type": "code",
   "execution_count": null,
   "id": "3d496e65",
   "metadata": {},
   "outputs": [],
   "source": [
    "### explore code, visualization code here\n",
    "\n",
    "#(visualizations/dataframes below. Do not exceed 5. Include takeaway in MD after each visual/DF. Refer to master scaling parameters for font and chart size)"
   ]
  },
  {
   "cell_type": "markdown",
   "id": "ef8f72bd",
   "metadata": {},
   "source": [
    "<div class=\"alert alert-block alert-warning\"> \n",
    "    \n",
    "<b>Takeaway:</b>\n",
    "    \n",
    "- TAKEAWAY and QUESTION ANSWER HERE\n",
    "    \n",
    "</div>"
   ]
  },
  {
   "cell_type": "markdown",
   "id": "c79c09a9",
   "metadata": {},
   "source": [
    "***"
   ]
  },
  {
   "cell_type": "markdown",
   "id": "63353490",
   "metadata": {},
   "source": [
    "***"
   ]
  },
  {
   "cell_type": "markdown",
   "id": "dca0e5f5",
   "metadata": {},
   "source": [
    "<div class=\"alert alert-block alert-success\">\n",
    "    <b>Q7.</b> QUESTION HERE\n",
    "</div>"
   ]
  },
  {
   "cell_type": "markdown",
   "id": "ad28db44",
   "metadata": {},
   "source": [
    "#### How to answer this question?"
   ]
  },
  {
   "cell_type": "markdown",
   "id": "24d01281",
   "metadata": {},
   "source": [
    "This can be very simple or complex depending on how the question is being asked. I will answer the question 2 different ways, but there are many other ways the question can be observed. \n",
    "\n",
    "- Least accessed overall\n",
    "- Least accessed by program"
   ]
  },
  {
   "cell_type": "markdown",
   "id": "5e233b66",
   "metadata": {},
   "source": [
    "_Least accessed by cohort could work only if I can recreate a dataframe that correctly holds values in 'path' that represent a proper lesson from codeup. As the path is currently jumbled with miscellaneous paths, it would take a extra amounts of time to identify paths then create this dataframe that I do not have for the course of this project_"
   ]
  },
  {
   "cell_type": "markdown",
   "id": "ba5bc007",
   "metadata": {},
   "source": [
    "### Least Accessed Overall"
   ]
  },
  {
   "cell_type": "markdown",
   "id": "86d100a6",
   "metadata": {},
   "source": [
    "For the least accessed overall, I will identify the least accessed as paths that have been accessed at least 75 times but no more than 100 times. This is because the number of paths that have been accessed less than 75 times is over 9,500. While there may be a lesson in there that has been accessed only once, the sample is too small to call it active or relevant."
   ]
  },
  {
   "cell_type": "code",
   "execution_count": 11,
   "id": "9edb1a78",
   "metadata": {},
   "outputs": [
    {
     "data": {
      "text/html": [
       "<div>\n",
       "<style scoped>\n",
       "    .dataframe tbody tr th:only-of-type {\n",
       "        vertical-align: middle;\n",
       "    }\n",
       "\n",
       "    .dataframe tbody tr th {\n",
       "        vertical-align: top;\n",
       "    }\n",
       "\n",
       "    .dataframe thead th {\n",
       "        text-align: right;\n",
       "    }\n",
       "</style>\n",
       "<table border=\"1\" class=\"dataframe\">\n",
       "  <thead>\n",
       "    <tr style=\"text-align: right;\">\n",
       "      <th></th>\n",
       "      <th>path</th>\n",
       "      <th>user_id</th>\n",
       "      <th>cohort_id</th>\n",
       "      <th>ip</th>\n",
       "      <th>name</th>\n",
       "      <th>start_date</th>\n",
       "      <th>end_date</th>\n",
       "      <th>created_at</th>\n",
       "      <th>updated_at</th>\n",
       "      <th>program_id</th>\n",
       "      <th>date_time</th>\n",
       "    </tr>\n",
       "  </thead>\n",
       "  <tbody>\n",
       "    <tr>\n",
       "      <th>506604</th>\n",
       "      <td>6-regression/2-acquire-and-prep</td>\n",
       "      <td>616</td>\n",
       "      <td>55.0</td>\n",
       "      <td>70.114.9.241</td>\n",
       "      <td>curie</td>\n",
       "      <td>2020-02-03</td>\n",
       "      <td>2020-07-07</td>\n",
       "      <td>2020-02-03 19:31:51</td>\n",
       "      <td>2020-02-03 19:31:51</td>\n",
       "      <td>data_science</td>\n",
       "      <td>2020-04-08 11:39:02</td>\n",
       "    </tr>\n",
       "    <tr>\n",
       "      <th>506668</th>\n",
       "      <td>6-regression/2-acquire-and-prep</td>\n",
       "      <td>580</td>\n",
       "      <td>55.0</td>\n",
       "      <td>74.192.167.159</td>\n",
       "      <td>curie</td>\n",
       "      <td>2020-02-03</td>\n",
       "      <td>2020-07-07</td>\n",
       "      <td>2020-02-03 19:31:51</td>\n",
       "      <td>2020-02-03 19:31:51</td>\n",
       "      <td>data_science</td>\n",
       "      <td>2020-04-08 12:00:27</td>\n",
       "    </tr>\n",
       "    <tr>\n",
       "      <th>506723</th>\n",
       "      <td>6-regression/2-acquire-and-prep</td>\n",
       "      <td>580</td>\n",
       "      <td>55.0</td>\n",
       "      <td>74.192.167.159</td>\n",
       "      <td>curie</td>\n",
       "      <td>2020-02-03</td>\n",
       "      <td>2020-07-07</td>\n",
       "      <td>2020-02-03 19:31:51</td>\n",
       "      <td>2020-02-03 19:31:51</td>\n",
       "      <td>data_science</td>\n",
       "      <td>2020-04-08 12:26:49</td>\n",
       "    </tr>\n",
       "    <tr>\n",
       "      <th>506747</th>\n",
       "      <td>6-regression/2-acquire-and-prep</td>\n",
       "      <td>580</td>\n",
       "      <td>55.0</td>\n",
       "      <td>74.192.167.159</td>\n",
       "      <td>curie</td>\n",
       "      <td>2020-02-03</td>\n",
       "      <td>2020-07-07</td>\n",
       "      <td>2020-02-03 19:31:51</td>\n",
       "      <td>2020-02-03 19:31:51</td>\n",
       "      <td>data_science</td>\n",
       "      <td>2020-04-08 12:52:54</td>\n",
       "    </tr>\n",
       "    <tr>\n",
       "      <th>506827</th>\n",
       "      <td>6-regression/2-acquire-and-prep</td>\n",
       "      <td>576</td>\n",
       "      <td>55.0</td>\n",
       "      <td>99.126.113.140</td>\n",
       "      <td>curie</td>\n",
       "      <td>2020-02-03</td>\n",
       "      <td>2020-07-07</td>\n",
       "      <td>2020-02-03 19:31:51</td>\n",
       "      <td>2020-02-03 19:31:51</td>\n",
       "      <td>data_science</td>\n",
       "      <td>2020-04-08 13:37:16</td>\n",
       "    </tr>\n",
       "  </tbody>\n",
       "</table>\n",
       "</div>"
      ],
      "text/plain": [
       "                                   path  user_id  cohort_id              ip  \\\n",
       "506604  6-regression/2-acquire-and-prep      616       55.0    70.114.9.241   \n",
       "506668  6-regression/2-acquire-and-prep      580       55.0  74.192.167.159   \n",
       "506723  6-regression/2-acquire-and-prep      580       55.0  74.192.167.159   \n",
       "506747  6-regression/2-acquire-and-prep      580       55.0  74.192.167.159   \n",
       "506827  6-regression/2-acquire-and-prep      576       55.0  99.126.113.140   \n",
       "\n",
       "         name start_date   end_date          created_at          updated_at  \\\n",
       "506604  curie 2020-02-03 2020-07-07 2020-02-03 19:31:51 2020-02-03 19:31:51   \n",
       "506668  curie 2020-02-03 2020-07-07 2020-02-03 19:31:51 2020-02-03 19:31:51   \n",
       "506723  curie 2020-02-03 2020-07-07 2020-02-03 19:31:51 2020-02-03 19:31:51   \n",
       "506747  curie 2020-02-03 2020-07-07 2020-02-03 19:31:51 2020-02-03 19:31:51   \n",
       "506827  curie 2020-02-03 2020-07-07 2020-02-03 19:31:51 2020-02-03 19:31:51   \n",
       "\n",
       "          program_id           date_time  \n",
       "506604  data_science 2020-04-08 11:39:02  \n",
       "506668  data_science 2020-04-08 12:00:27  \n",
       "506723  data_science 2020-04-08 12:26:49  \n",
       "506747  data_science 2020-04-08 12:52:54  \n",
       "506827  data_science 2020-04-08 13:37:16  "
      ]
     },
     "execution_count": 11,
     "metadata": {},
     "output_type": "execute_result"
    }
   ],
   "source": [
    "least_accessed = explore.q1_get_least_accessed(df1)\n",
    "least_accessed.head()"
   ]
  },
  {
   "cell_type": "markdown",
   "id": "ef8f72bd",
   "metadata": {},
   "source": [
    "<div class=\"alert alert-block alert-warning\"> \n",
    "    \n",
    "<b>Takeaway:</b>\n",
    "    \n",
    "The least access path with the set conditions is the `Regression, acquire and prepare lesson.`\n",
    "    \n",
    "&nbsp; \n",
    "    \n",
    "This lesson was accessed by the Data Science cohorts `Curie, Bayes and Darden` for a total of `77 times`. The last access date for this lesson was `January 22nd, 2021`.  \n",
    "    \n",
    "</div>"
   ]
  },
  {
   "cell_type": "markdown",
   "id": "fcd32213",
   "metadata": {},
   "source": [
    "### Least Accessed Controlling for Program"
   ]
  },
  {
   "cell_type": "markdown",
   "id": "d5e5cef3",
   "metadata": {},
   "source": [
    "### Full Stack Java"
   ]
  },
  {
   "cell_type": "code",
   "execution_count": 12,
   "id": "6f6a5190",
   "metadata": {
    "scrolled": false
   },
   "outputs": [
    {
     "data": {
      "text/html": [
       "<div>\n",
       "<style scoped>\n",
       "    .dataframe tbody tr th:only-of-type {\n",
       "        vertical-align: middle;\n",
       "    }\n",
       "\n",
       "    .dataframe tbody tr th {\n",
       "        vertical-align: top;\n",
       "    }\n",
       "\n",
       "    .dataframe thead th {\n",
       "        text-align: right;\n",
       "    }\n",
       "</style>\n",
       "<table border=\"1\" class=\"dataframe\">\n",
       "  <thead>\n",
       "    <tr style=\"text-align: right;\">\n",
       "      <th></th>\n",
       "      <th>path</th>\n",
       "    </tr>\n",
       "  </thead>\n",
       "  <tbody>\n",
       "    <tr>\n",
       "      <th>python/series</th>\n",
       "      <td>84</td>\n",
       "    </tr>\n",
       "    <tr>\n",
       "      <th>classification/decision-trees</th>\n",
       "      <td>82</td>\n",
       "    </tr>\n",
       "    <tr>\n",
       "      <th>appendix/extra-challenges/java-file-io-extras</th>\n",
       "      <td>80</td>\n",
       "    </tr>\n",
       "    <tr>\n",
       "      <th>timeseries/prep</th>\n",
       "      <td>80</td>\n",
       "    </tr>\n",
       "    <tr>\n",
       "      <th>python/functions</th>\n",
       "      <td>79</td>\n",
       "    </tr>\n",
       "    <tr>\n",
       "      <th>6-regression/2.0-acquire-and-prep</th>\n",
       "      <td>77</td>\n",
       "    </tr>\n",
       "    <tr>\n",
       "      <th>python/dataframes</th>\n",
       "      <td>77</td>\n",
       "    </tr>\n",
       "    <tr>\n",
       "      <th>appendix/angular/models</th>\n",
       "      <td>76</td>\n",
       "    </tr>\n",
       "    <tr>\n",
       "      <th>8-clustering/3-wrangle</th>\n",
       "      <td>76</td>\n",
       "    </tr>\n",
       "    <tr>\n",
       "      <th>6-regression/5.0-evaluate</th>\n",
       "      <td>76</td>\n",
       "    </tr>\n",
       "    <tr>\n",
       "      <th>9-timeseries/3-prep</th>\n",
       "      <td>76</td>\n",
       "    </tr>\n",
       "    <tr>\n",
       "      <th>classification/tidy-data</th>\n",
       "      <td>76</td>\n",
       "    </tr>\n",
       "  </tbody>\n",
       "</table>\n",
       "</div>"
      ],
      "text/plain": [
       "                                               path\n",
       "python/series                                    84\n",
       "classification/decision-trees                    82\n",
       "appendix/extra-challenges/java-file-io-extras    80\n",
       "timeseries/prep                                  80\n",
       "python/functions                                 79\n",
       "6-regression/2.0-acquire-and-prep                77\n",
       "python/dataframes                                77\n",
       "appendix/angular/models                          76\n",
       "8-clustering/3-wrangle                           76\n",
       "6-regression/5.0-evaluate                        76\n",
       "9-timeseries/3-prep                              76\n",
       "classification/tidy-data                         76"
      ]
     },
     "execution_count": 12,
     "metadata": {},
     "output_type": "execute_result"
    }
   ],
   "source": [
    "explore.q1_display_least_accessed(java)"
   ]
  },
  {
   "cell_type": "markdown",
   "id": "d6e66155",
   "metadata": {},
   "source": [
    "### Data Science"
   ]
  },
  {
   "cell_type": "code",
   "execution_count": 13,
   "id": "94c0bfe6",
   "metadata": {
    "scrolled": true
   },
   "outputs": [
    {
     "data": {
      "text/html": [
       "<div>\n",
       "<style scoped>\n",
       "    .dataframe tbody tr th:only-of-type {\n",
       "        vertical-align: middle;\n",
       "    }\n",
       "\n",
       "    .dataframe tbody tr th {\n",
       "        vertical-align: top;\n",
       "    }\n",
       "\n",
       "    .dataframe thead th {\n",
       "        text-align: right;\n",
       "    }\n",
       "</style>\n",
       "<table border=\"1\" class=\"dataframe\">\n",
       "  <thead>\n",
       "    <tr style=\"text-align: right;\">\n",
       "      <th></th>\n",
       "      <th>path</th>\n",
       "    </tr>\n",
       "  </thead>\n",
       "  <tbody>\n",
       "    <tr>\n",
       "      <th>4-python/7.4.1-pandas-overview</th>\n",
       "      <td>84</td>\n",
       "    </tr>\n",
       "    <tr>\n",
       "      <th>12-distributed-ml/6-ml-with-spark</th>\n",
       "      <td>84</td>\n",
       "    </tr>\n",
       "    <tr>\n",
       "      <th>4-python/8.4.1-pandas-overview</th>\n",
       "      <td>83</td>\n",
       "    </tr>\n",
       "    <tr>\n",
       "      <th>individual-project/individual-project</th>\n",
       "      <td>81</td>\n",
       "    </tr>\n",
       "    <tr>\n",
       "      <th>6-regression/4-explore</th>\n",
       "      <td>80</td>\n",
       "    </tr>\n",
       "    <tr>\n",
       "      <th>storytelling/creating-charts</th>\n",
       "      <td>79</td>\n",
       "    </tr>\n",
       "    <tr>\n",
       "      <th>appendix/documentation</th>\n",
       "      <td>78</td>\n",
       "    </tr>\n",
       "  </tbody>\n",
       "</table>\n",
       "</div>"
      ],
      "text/plain": [
       "                                       path\n",
       "4-python/7.4.1-pandas-overview           84\n",
       "12-distributed-ml/6-ml-with-spark        84\n",
       "4-python/8.4.1-pandas-overview           83\n",
       "individual-project/individual-project    81\n",
       "6-regression/4-explore                   80\n",
       "storytelling/creating-charts             79\n",
       "appendix/documentation                   78"
      ]
     },
     "execution_count": 13,
     "metadata": {},
     "output_type": "execute_result"
    }
   ],
   "source": [
    "explore.q1_display_least_accessed(data_science)"
   ]
  },
  {
   "cell_type": "markdown",
   "id": "49acc4f3",
   "metadata": {},
   "source": [
    "### Full Stack PHP"
   ]
  },
  {
   "cell_type": "code",
   "execution_count": 14,
   "id": "7f9aa7b9",
   "metadata": {
    "scrolled": true
   },
   "outputs": [
    {
     "data": {
      "text/html": [
       "<div>\n",
       "<style scoped>\n",
       "    .dataframe tbody tr th:only-of-type {\n",
       "        vertical-align: middle;\n",
       "    }\n",
       "\n",
       "    .dataframe tbody tr th {\n",
       "        vertical-align: top;\n",
       "    }\n",
       "\n",
       "    .dataframe thead th {\n",
       "        text-align: right;\n",
       "    }\n",
       "</style>\n",
       "<table border=\"1\" class=\"dataframe\">\n",
       "  <thead>\n",
       "    <tr style=\"text-align: right;\">\n",
       "      <th></th>\n",
       "      <th>path</th>\n",
       "    </tr>\n",
       "  </thead>\n",
       "  <tbody>\n",
       "    <tr>\n",
       "      <th>content/git/creating-a-repository.html</th>\n",
       "      <td>84</td>\n",
       "    </tr>\n",
       "    <tr>\n",
       "      <th>content/html-css/gitbook/images/favicon.ico</th>\n",
       "      <td>83</td>\n",
       "    </tr>\n",
       "    <tr>\n",
       "      <th>mysql/relationships/indexes</th>\n",
       "      <td>82</td>\n",
       "    </tr>\n",
       "    <tr>\n",
       "      <th>java-iii/finish-the-adlister</th>\n",
       "      <td>79</td>\n",
       "    </tr>\n",
       "    <tr>\n",
       "      <th>content/javascript_ii</th>\n",
       "      <td>77</td>\n",
       "    </tr>\n",
       "    <tr>\n",
       "      <th>content/mysql/intro-to-mysql</th>\n",
       "      <td>77</td>\n",
       "    </tr>\n",
       "    <tr>\n",
       "      <th>jquery/ajax</th>\n",
       "      <td>77</td>\n",
       "    </tr>\n",
       "    <tr>\n",
       "      <th>mysql/intellij</th>\n",
       "      <td>76</td>\n",
       "    </tr>\n",
       "  </tbody>\n",
       "</table>\n",
       "</div>"
      ],
      "text/plain": [
       "                                             path\n",
       "content/git/creating-a-repository.html         84\n",
       "content/html-css/gitbook/images/favicon.ico    83\n",
       "mysql/relationships/indexes                    82\n",
       "java-iii/finish-the-adlister                   79\n",
       "content/javascript_ii                          77\n",
       "content/mysql/intro-to-mysql                   77\n",
       "jquery/ajax                                    77\n",
       "mysql/intellij                                 76"
      ]
     },
     "execution_count": 14,
     "metadata": {},
     "output_type": "execute_result"
    }
   ],
   "source": [
    "explore.q1_display_least_accessed(php)"
   ]
  },
  {
   "cell_type": "markdown",
   "id": "18b867f8",
   "metadata": {},
   "source": [
    "### Front End Programming"
   ]
  },
  {
   "cell_type": "markdown",
   "id": "158f233b",
   "metadata": {},
   "source": [
    "#### The least accessed for Front End Programming is HTML-CSS as it is the only lessons that were offered."
   ]
  },
  {
   "cell_type": "markdown",
   "id": "0f9802c0",
   "metadata": {},
   "source": [
    "<div class=\"alert alert-block alert-warning\"> \n",
    "    \n",
    "<b>Takeaway:</b>\n",
    "#### Full Stack Program\n",
    "    \n",
    "The least access path in the Full Stack Java Program is the `Classification, tidy-data lesson.`\n",
    "    \n",
    "&nbsp; \n",
    "    \n",
    "This lesson was accessed by the Full Stack Java cohorts, but mainly `Staff` for a total of `76 times`. The last access date for this lesson was `April 21st, 2021`.  \n",
    "\n",
    "&nbsp; \n",
    "    \n",
    "#### Data Science Program\n",
    "    \n",
    "The least access path in the Data Science program is the `Story-telling, creating charts` lesson.`\n",
    "    \n",
    "&nbsp; \n",
    "    \n",
    "This lesson was accessed by the Data Science cohorts for a total of `79 times`. The last access date for this lesson was `April 21st, 2021`.  \n",
    "    \n",
    "&nbsp; \n",
    "    \n",
    "#### PHP Program\n",
    "    \n",
    "The least access path in the Full Stack PHP is the `MySQL, intellij` lesson.\n",
    "    \n",
    "&nbsp; \n",
    "    \n",
    "This lesson was accessed by the Full Stack PHP cohorts for a total of `76 times`. The last access date for this lesson was `April 10th, 2021`.  \n",
    "    \n",
    "&nbsp; \n",
    "\n",
    "#### Front End Programming    \n",
    "Front end programming sample size is `too small` to properly define as having a least accessed lesson, when it didn't offer many lessons to a sizable group of individuals. However, it did have `2 visits on the HTML-CSS Program`\n",
    "    \n",
    "    \n",
    "    \n",
    "</div>"
   ]
  },
  {
   "cell_type": "markdown",
   "id": "c79c09a9",
   "metadata": {},
   "source": [
    "***"
   ]
  },
  {
   "cell_type": "markdown",
   "id": "c79c09a9",
   "metadata": {},
   "source": [
    "***"
   ]
  },
  {
   "cell_type": "markdown",
   "id": "bad5840e",
   "metadata": {},
   "source": [
    "<div class=\"alert alert-block alert-warning\">\n",
    "    <b> SUMMARY of Takeaways:</b>\n",
    "<br>\n",
    "1. SUMMARY of Q1\n",
    "<br>\n",
    "2. SUMMARY of Q2\n",
    "<br>\n",
    "3. SUMMARY of Q3\n",
    "<br>\n",
    "4. SUMMARY of Q4\n",
    "<br>\n",
    "5. SUMMARY of Q5\n",
    "<br>\n",
    "6. SUMMARY of Q6\n",
    "<br>\n",
    "7. SUMMARY of Q7\n",
    "<br>\n",
    "</div>"
   ]
  },
  {
   "cell_type": "markdown",
   "id": "0d611171",
   "metadata": {},
   "source": [
    "# 3. Key Findings and Recommendations\n",
    "<hr style=\"border-top: 10px groove blue; margin-top: 1px; margin-bottom: 1px\">"
   ]
  },
  {
   "cell_type": "markdown",
   "id": "43f8ea4e",
   "metadata": {},
   "source": [
    "<h2> Key Findings</h2>\n",
    "<br>\n",
    "<hr style=\"border-top: 5px groove limegreen; margin-top: 1px; margin-bottom: 1px\">\n",
    "1. Finding 1\n",
    "    <br>\n",
    "    <br>\n",
    "2. Finding 2"
   ]
  },
  {
   "cell_type": "markdown",
   "id": "ce428152",
   "metadata": {},
   "source": [
    "<h2> Recommendations </h2>\n",
    "<br>\n",
    "<hr style=\"border-top: 5px groove limegreen; margin-top: 1px; margin-bottom: 1px\">\n",
    "\n",
    "<b> 1. Recommendation 1 <b>\n",
    "<br>\n",
    "<b> 2. Recommendation 2<b>\n",
    "<br>\n",
    "<b> 3. Recommendation 3 <b>"
   ]
  }
 ],
 "metadata": {
  "kernelspec": {
   "display_name": "Python 3 (ipykernel)",
   "language": "python",
   "name": "python3"
  },
  "language_info": {
   "codemirror_mode": {
    "name": "ipython",
    "version": 3
   },
   "file_extension": ".py",
   "mimetype": "text/x-python",
   "name": "python",
   "nbconvert_exporter": "python",
   "pygments_lexer": "ipython3",
   "version": "3.9.7"
  },
  "vscode": {
   "interpreter": {
    "hash": "38cca0c38332a56087b24af0bc80247f4fced29cb4f7f437d91dc159adec9c4e"
   }
  }
 },
 "nbformat": 4,
 "nbformat_minor": 5
}
