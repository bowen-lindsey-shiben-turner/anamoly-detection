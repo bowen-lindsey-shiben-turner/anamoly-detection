{
 "cells": [
  {
   "cell_type": "code",
   "execution_count": 1,
   "id": "89b9f68f",
   "metadata": {},
   "outputs": [],
   "source": [
    "import pandas as pd\n",
    "import numpy as np\n",
    "import seaborn as sns\n",
    "import matplotlib.pyplot as plt\n",
    "import acquire\n",
    "import prepare\n",
    "from env import get_db_url\n",
    "import time\n",
    "import warnings\n",
    "warnings.filterwarnings(\"ignore\")\n",
    "import explore"
   ]
  },
  {
   "cell_type": "code",
   "execution_count": 123,
   "id": "6585882a",
   "metadata": {},
   "outputs": [],
   "source": [
    "df = prepare.prepare_logs()\n",
    "df3 = explore.explore_question3(df)"
   ]
  },
  {
   "cell_type": "code",
   "execution_count": 3,
   "id": "2282ab3c",
   "metadata": {},
   "outputs": [
    {
     "name": "stdout",
     "output_type": "stream",
     "text": [
      "<class 'pandas.core.frame.DataFrame'>\n",
      "Int64Index: 647197 entries, 4 to 900217\n",
      "Data columns (total 11 columns):\n",
      " #   Column          Non-Null Count   Dtype         \n",
      "---  ------          --------------   -----         \n",
      " 0   path            647197 non-null  object        \n",
      " 1   user_id         647197 non-null  object        \n",
      " 2   ip              647197 non-null  object        \n",
      " 3   cohort          647197 non-null  object        \n",
      " 4   start_date      647197 non-null  datetime64[ns]\n",
      " 5   end_date        647197 non-null  datetime64[ns]\n",
      " 6   created_at      647197 non-null  datetime64[ns]\n",
      " 7   updated_at      647197 non-null  datetime64[ns]\n",
      " 8   program         647197 non-null  object        \n",
      " 9   date_time       647197 non-null  datetime64[ns]\n",
      " 10  program_access  647197 non-null  bool          \n",
      "dtypes: bool(1), datetime64[ns](5), object(5)\n",
      "memory usage: 54.9+ MB\n"
     ]
    }
   ],
   "source": [
    "df3.info()"
   ]
  },
  {
   "cell_type": "code",
   "execution_count": 4,
   "id": "3af83ed7",
   "metadata": {},
   "outputs": [
    {
     "data": {
      "text/plain": [
       "cohort\n",
       "andromeda     27\n",
       "apex          21\n",
       "bash          22\n",
       "bayes         22\n",
       "betelgeuse    20\n",
       "ceres         29\n",
       "curie         19\n",
       "darden        28\n",
       "deimos        25\n",
       "easley        17\n",
       "europa        28\n",
       "florence      21\n",
       "fortuna       28\n",
       "ganymede      28\n",
       "hyperion      23\n",
       "jupiter       33\n",
       "kalypso       23\n",
       "luna          20\n",
       "marco         31\n",
       "neptune       37\n",
       "oberon        26\n",
       "sequoia       21\n",
       "teddy         31\n",
       "ulysses       28\n",
       "voyageurs     33\n",
       "wrangell      26\n",
       "xanadu        20\n",
       "yosemite      27\n",
       "zion          25\n",
       "Name: user_id, dtype: int64"
      ]
     },
     "execution_count": 4,
     "metadata": {},
     "output_type": "execute_result"
    }
   ],
   "source": [
    "df3.user_id.groupby(df3.cohort).nunique()"
   ]
  },
  {
   "cell_type": "code",
   "execution_count": 6,
   "id": "c51612b6",
   "metadata": {},
   "outputs": [
    {
     "data": {
      "text/plain": [
       "29"
      ]
     },
     "execution_count": 6,
     "metadata": {},
     "output_type": "execute_result"
    }
   ],
   "source": [
    "df3.cohort.nunique()"
   ]
  },
  {
   "cell_type": "code",
   "execution_count": 124,
   "id": "183ea442",
   "metadata": {},
   "outputs": [],
   "source": [
    "df3['cohort_program'] = df3['program'] + '_' + df3['cohort']"
   ]
  },
  {
   "cell_type": "code",
   "execution_count": 125,
   "id": "7ff57531",
   "metadata": {},
   "outputs": [],
   "source": [
    "df3.drop(df3[df3.cohort.isin(['easley', 'florence', 'neptune',  'sequoia', 'oberon', 'luna', 'marco'])].index, inplace=True)"
   ]
  },
  {
   "cell_type": "code",
   "execution_count": 11,
   "id": "89b7f2a9",
   "metadata": {},
   "outputs": [
    {
     "name": "stdout",
     "output_type": "stream",
     "text": [
      "<class 'pandas.core.frame.DataFrame'>\n",
      "Int64Index: 579774 entries, 4 to 900201\n",
      "Data columns (total 12 columns):\n",
      " #   Column          Non-Null Count   Dtype         \n",
      "---  ------          --------------   -----         \n",
      " 0   path            579774 non-null  object        \n",
      " 1   user_id         579774 non-null  object        \n",
      " 2   ip              579774 non-null  object        \n",
      " 3   cohort          579774 non-null  object        \n",
      " 4   start_date      579774 non-null  datetime64[ns]\n",
      " 5   end_date        579774 non-null  datetime64[ns]\n",
      " 6   created_at      579774 non-null  datetime64[ns]\n",
      " 7   updated_at      579774 non-null  datetime64[ns]\n",
      " 8   program         579774 non-null  object        \n",
      " 9   date_time       579774 non-null  datetime64[ns]\n",
      " 10  program_access  579774 non-null  bool          \n",
      " 11  cohort_program  579774 non-null  object        \n",
      "dtypes: bool(1), datetime64[ns](5), object(6)\n",
      "memory usage: 53.6+ MB\n"
     ]
    }
   ],
   "source": [
    "df3.info()"
   ]
  },
  {
   "cell_type": "code",
   "execution_count": 120,
   "id": "4e4e3a29",
   "metadata": {},
   "outputs": [
    {
     "data": {
      "text/plain": [
       "<AxesSubplot:>"
      ]
     },
     "execution_count": 120,
     "metadata": {},
     "output_type": "execute_result"
    },
    {
     "data": {
      "image/png": "[encoded data removed]",
      "text/plain": [
       "<Figure size 1080x576 with 1 Axes>"
      ]
     },
     "metadata": {
      "needs_background": "light"
     },
     "output_type": "display_data"
    }
   ],
   "source": [
    "plt.figure(figsize=(15,8))\n",
    "(df3.cohort_program.value_counts()/df3.user_id.groupby(df3.cohort_program).nunique()).sort_values(ascending=True).plot(kind='barh')"
   ]
  },
  {
   "cell_type": "code",
   "execution_count": 23,
   "id": "33bf4ede",
   "metadata": {},
   "outputs": [
    {
     "data": {
      "text/plain": [
       "1377.75"
      ]
     },
     "execution_count": 23,
     "metadata": {},
     "output_type": "execute_result"
    }
   ],
   "source": [
    "df3.user_id.value_counts().quantile(.75)"
   ]
  },
  {
   "cell_type": "code",
   "execution_count": 126,
   "id": "12421f3d",
   "metadata": {},
   "outputs": [],
   "source": [
    "df3['date_time_copy'] = df3['date_time']"
   ]
  },
  {
   "cell_type": "code",
   "execution_count": 127,
   "id": "bd0175be",
   "metadata": {},
   "outputs": [],
   "source": [
    "df3 = df3.set_index('date_time_copy').sort_index()"
   ]
  },
  {
   "cell_type": "code",
   "execution_count": 128,
   "id": "831b162e",
   "metadata": {},
   "outputs": [],
   "source": [
    "df3['weekday_name'] = df3.index.day_name()\n",
    "df3['hour'] = df3.index.time\n",
    "df3['hour'] = df3['hour'].astype(str)\n",
    "df3['hour'] = df3['hour'].str[:-6]"
   ]
  },
  {
   "cell_type": "code",
   "execution_count": 129,
   "id": "401a84bc",
   "metadata": {},
   "outputs": [],
   "source": [
    "counts = df3.user_id.value_counts()\n",
    "bottom_5 = df3[df3['user_id'].isin(counts[counts < 113].index)]\n",
    "bottom_25 = df3[df3['user_id'].isin(counts[counts < 605].index)]\n",
    "middle = df3[df3['user_id'].isin(counts[counts < 1377].index)]\n",
    "middle = df3[df3['user_id'].isin(counts[counts >= 605].index)]\n",
    "top_95 = df3[df3['user_id'].isin(counts[counts >= 113].index)]\n",
    "top_25 = df3[df3['user_id'].isin(counts[counts >= 1377].index)]"
   ]
  },
  {
   "cell_type": "code",
   "execution_count": 104,
   "id": "066bb00f",
   "metadata": {},
   "outputs": [],
   "source": [
    "# of users, how many last day is over 30 days from program end date, what percentage"
   ]
  },
  {
   "cell_type": "code",
   "execution_count": 130,
   "id": "67c7140f",
   "metadata": {},
   "outputs": [
    {
     "data": {
      "text/plain": [
       "(29, 19, 0.6551724137931034)"
      ]
     },
     "execution_count": 130,
     "metadata": {},
     "output_type": "execute_result"
    }
   ],
   "source": [
    "bottom_5_users = bottom_5.groupby(bottom_5.user_id).max()\n",
    "bottom_5_users['last_day'] = bottom_5_users['end_date'] - bottom_5_users['date_time']\n",
    "bottom_5_users['last_day'] = bottom_5_users['last_day'].astype(str)\n",
    "bottom_5_users['last_day'] = bottom_5_users['last_day'].str[:-14]\n",
    "bottom_5_users['last_day'] = bottom_5_users['last_day'].astype(int)\n",
    "len(bottom_5_users['last_day']), (bottom_5_users['last_day'] > 30).sum(), (bottom_5_users['last_day'] > 30).sum()/len(bottom_5_users['last_day'])"
   ]
  },
  {
   "cell_type": "code",
   "execution_count": 131,
   "id": "4346d9bd",
   "metadata": {},
   "outputs": [
    {
     "data": {
      "text/plain": [
       "(533, 88, 0.1651031894934334)"
      ]
     },
     "execution_count": 131,
     "metadata": {},
     "output_type": "execute_result"
    }
   ],
   "source": [
    "top_95_users = top_95.groupby(top_95.user_id).max()\n",
    "top_95_users['last_day'] = top_95_users['end_date'] - top_95_users['date_time']\n",
    "top_95_users['last_day'] = top_95_users['last_day'].astype(str)\n",
    "top_95_users['last_day'] = top_95_users['last_day'].str[:-14]\n",
    "top_95_users['last_day'] = top_95_users['last_day'].astype(int)\n",
    "len(top_95_users['last_day']), (top_95_users['last_day'] > 30).sum(), (top_95_users['last_day'] > 30).sum()/len(top_95_users['last_day'])"
   ]
  },
  {
   "cell_type": "code",
   "execution_count": 132,
   "id": "d0bdde54",
   "metadata": {},
   "outputs": [
    {
     "data": {
      "text/plain": [
       "(141, 69, 0.48936170212765956)"
      ]
     },
     "execution_count": 132,
     "metadata": {},
     "output_type": "execute_result"
    }
   ],
   "source": [
    "bottom_25_users = bottom_25.groupby(bottom_25.user_id).max()\n",
    "bottom_25_users['last_day'] = bottom_25_users['end_date'] - bottom_25_users['date_time']\n",
    "bottom_25_users['last_day'] = bottom_25_users['last_day'].astype(str)\n",
    "bottom_25_users['last_day'] = bottom_25_users['last_day'].str[:-14]\n",
    "bottom_25_users['last_day'] = bottom_25_users['last_day'].astype(int)\n",
    "len(bottom_25_users['last_day']), (bottom_25_users['last_day'] > 30).sum(), (bottom_25_users['last_day'] > 30).sum()/len(bottom_25_users['last_day'])"
   ]
  },
  {
   "cell_type": "code",
   "execution_count": 255,
   "id": "fdd255e1",
   "metadata": {},
   "outputs": [
    {
     "data": {
      "text/plain": [
       "(141, 9, 0.06382978723404255)"
      ]
     },
     "execution_count": 255,
     "metadata": {},
     "output_type": "execute_result"
    }
   ],
   "source": [
    "top_25_users = top_25.groupby(top_25.user_id).max()\n",
    "top_25_users['last_day'] = top_25_users['end_date'] - top_25_users['date_time']\n",
    "top_25_users['last_day'] = top_25_users['last_day'].astype(str)\n",
    "top_25_users['last_day'] = top_25_users['last_day'].str[:-14]\n",
    "top_25_users['last_day'] = top_25_users['last_day'].astype(int)\n",
    "len(top_25_users['last_day']), (top_25_users['last_day'] > 30).sum(), (top_25_users['last_day'] > 30).sum()/len(top_25_users['last_day'])"
   ]
  },
  {
   "cell_type": "code",
   "execution_count": 256,
   "id": "a686edfa",
   "metadata": {},
   "outputs": [
    {
     "data": {
      "text/plain": [
       "(421, 38, 0.2695035460992908)"
      ]
     },
     "execution_count": 256,
     "metadata": {},
     "output_type": "execute_result"
    }
   ],
   "source": [
    "middle_users = middle.groupby(middle.user_id).max()\n",
    "middle_users['last_day'] = middle_users['end_date'] - middle_users['date_time']\n",
    "middle_users['last_day'] = middle_users['last_day'].astype(str)\n",
    "middle_users['last_day'] = middle_users['last_day'].str[:-14]\n",
    "middle_users['last_day'] = middle_users['last_day'].astype(int)\n",
    "len(middle_users['last_day']), (middle_users['last_day'] > 30).sum(), (middle_users['last_day'] > 30).sum()/len(top_25_users['last_day'])"
   ]
  },
  {
   "cell_type": "code",
   "execution_count": 365,
   "id": "0cc08054",
   "metadata": {},
   "outputs": [
    {
     "data": {
      "text/plain": [
       "(562, 107, 0.1903914590747331)"
      ]
     },
     "execution_count": 365,
     "metadata": {},
     "output_type": "execute_result"
    }
   ],
   "source": [
    "all_users = df3.groupby(df3.user_id).max()\n",
    "all_users['last_day'] = all_users['end_date'] - all_users['date_time']\n",
    "all_users['last_day'] = all_users['last_day'].astype(str)\n",
    "all_users['last_day'] = all_users['last_day'].str[:-14]\n",
    "all_users['last_day'] = all_users['last_day'].astype(int)\n",
    "len(all_users['last_day']), (all_users['last_day'] > 30).sum(), (all_users['last_day'] > 30).sum()/len(all_users['last_day'])"
   ]
  },
  {
   "cell_type": "code",
   "execution_count": 134,
   "id": "64ef9d30",
   "metadata": {},
   "outputs": [
    {
     "data": {
      "text/html": [
       "<div>\n",
       "<style scoped>\n",
       "    .dataframe tbody tr th:only-of-type {\n",
       "        vertical-align: middle;\n",
       "    }\n",
       "\n",
       "    .dataframe tbody tr th {\n",
       "        vertical-align: top;\n",
       "    }\n",
       "\n",
       "    .dataframe thead th {\n",
       "        text-align: right;\n",
       "    }\n",
       "</style>\n",
       "<table border=\"1\" class=\"dataframe\">\n",
       "  <thead>\n",
       "    <tr style=\"text-align: right;\">\n",
       "      <th></th>\n",
       "      <th>path</th>\n",
       "      <th>user_id</th>\n",
       "      <th>ip</th>\n",
       "      <th>cohort</th>\n",
       "      <th>start_date</th>\n",
       "      <th>end_date</th>\n",
       "      <th>created_at</th>\n",
       "      <th>updated_at</th>\n",
       "      <th>program</th>\n",
       "      <th>date_time</th>\n",
       "      <th>program_access</th>\n",
       "      <th>cohort_program</th>\n",
       "      <th>weekday_name</th>\n",
       "      <th>hour</th>\n",
       "    </tr>\n",
       "    <tr>\n",
       "      <th>date_time_copy</th>\n",
       "      <th></th>\n",
       "      <th></th>\n",
       "      <th></th>\n",
       "      <th></th>\n",
       "      <th></th>\n",
       "      <th></th>\n",
       "      <th></th>\n",
       "      <th></th>\n",
       "      <th></th>\n",
       "      <th></th>\n",
       "      <th></th>\n",
       "      <th></th>\n",
       "      <th></th>\n",
       "      <th></th>\n",
       "    </tr>\n",
       "  </thead>\n",
       "  <tbody>\n",
       "    <tr>\n",
       "      <th>2018-01-26 10:02:21</th>\n",
       "      <td>javascript-i/functions</td>\n",
       "      <td>8</td>\n",
       "      <td>97.105.19.61</td>\n",
       "      <td>teddy</td>\n",
       "      <td>2018-01-08</td>\n",
       "      <td>2018-05-17</td>\n",
       "      <td>2018-01-08 13:59:10</td>\n",
       "      <td>2018-01-08 13:59:10</td>\n",
       "      <td>full_stack_java</td>\n",
       "      <td>2018-01-26 10:02:21</td>\n",
       "      <td>True</td>\n",
       "      <td>full_stack_java_teddy</td>\n",
       "      <td>Friday</td>\n",
       "      <td>10</td>\n",
       "    </tr>\n",
       "    <tr>\n",
       "      <th>2018-01-26 10:02:42</th>\n",
       "      <td>javascript-i/functions</td>\n",
       "      <td>9</td>\n",
       "      <td>97.105.19.61</td>\n",
       "      <td>teddy</td>\n",
       "      <td>2018-01-08</td>\n",
       "      <td>2018-05-17</td>\n",
       "      <td>2018-01-08 13:59:10</td>\n",
       "      <td>2018-01-08 13:59:10</td>\n",
       "      <td>full_stack_java</td>\n",
       "      <td>2018-01-26 10:02:42</td>\n",
       "      <td>True</td>\n",
       "      <td>full_stack_java_teddy</td>\n",
       "      <td>Friday</td>\n",
       "      <td>10</td>\n",
       "    </tr>\n",
       "    <tr>\n",
       "      <th>2018-01-26 10:33:25</th>\n",
       "      <td>javascript-i/functions</td>\n",
       "      <td>13</td>\n",
       "      <td>97.105.19.61</td>\n",
       "      <td>teddy</td>\n",
       "      <td>2018-01-08</td>\n",
       "      <td>2018-05-17</td>\n",
       "      <td>2018-01-08 13:59:10</td>\n",
       "      <td>2018-01-08 13:59:10</td>\n",
       "      <td>full_stack_java</td>\n",
       "      <td>2018-01-26 10:33:25</td>\n",
       "      <td>True</td>\n",
       "      <td>full_stack_java_teddy</td>\n",
       "      <td>Friday</td>\n",
       "      <td>10</td>\n",
       "    </tr>\n",
       "    <tr>\n",
       "      <th>2018-01-26 10:35:08</th>\n",
       "      <td>javascript-i/introduction/working-with-data-ty...</td>\n",
       "      <td>14</td>\n",
       "      <td>97.105.19.61</td>\n",
       "      <td>teddy</td>\n",
       "      <td>2018-01-08</td>\n",
       "      <td>2018-05-17</td>\n",
       "      <td>2018-01-08 13:59:10</td>\n",
       "      <td>2018-01-08 13:59:10</td>\n",
       "      <td>full_stack_java</td>\n",
       "      <td>2018-01-26 10:35:08</td>\n",
       "      <td>True</td>\n",
       "      <td>full_stack_java_teddy</td>\n",
       "      <td>Friday</td>\n",
       "      <td>10</td>\n",
       "    </tr>\n",
       "    <tr>\n",
       "      <th>2018-01-26 10:35:12</th>\n",
       "      <td>javascript-i/javascript-with-html</td>\n",
       "      <td>14</td>\n",
       "      <td>97.105.19.61</td>\n",
       "      <td>teddy</td>\n",
       "      <td>2018-01-08</td>\n",
       "      <td>2018-05-17</td>\n",
       "      <td>2018-01-08 13:59:10</td>\n",
       "      <td>2018-01-08 13:59:10</td>\n",
       "      <td>full_stack_java</td>\n",
       "      <td>2018-01-26 10:35:12</td>\n",
       "      <td>True</td>\n",
       "      <td>full_stack_java_teddy</td>\n",
       "      <td>Friday</td>\n",
       "      <td>10</td>\n",
       "    </tr>\n",
       "    <tr>\n",
       "      <th>...</th>\n",
       "      <td>...</td>\n",
       "      <td>...</td>\n",
       "      <td>...</td>\n",
       "      <td>...</td>\n",
       "      <td>...</td>\n",
       "      <td>...</td>\n",
       "      <td>...</td>\n",
       "      <td>...</td>\n",
       "      <td>...</td>\n",
       "      <td>...</td>\n",
       "      <td>...</td>\n",
       "      <td>...</td>\n",
       "      <td>...</td>\n",
       "      <td>...</td>\n",
       "    </tr>\n",
       "    <tr>\n",
       "      <th>2021-04-12 14:33:30</th>\n",
       "      <td>web-design</td>\n",
       "      <td>798</td>\n",
       "      <td>107.138.213.232</td>\n",
       "      <td>kalypso</td>\n",
       "      <td>2020-11-02</td>\n",
       "      <td>2021-05-04</td>\n",
       "      <td>2020-11-02 20:43:58</td>\n",
       "      <td>2020-11-02 20:43:58</td>\n",
       "      <td>full_stack_java</td>\n",
       "      <td>2021-04-12 14:33:30</td>\n",
       "      <td>True</td>\n",
       "      <td>full_stack_java_kalypso</td>\n",
       "      <td>Monday</td>\n",
       "      <td>14</td>\n",
       "    </tr>\n",
       "    <tr>\n",
       "      <th>2021-04-12 14:33:37</th>\n",
       "      <td>web-design/intro</td>\n",
       "      <td>798</td>\n",
       "      <td>107.138.213.232</td>\n",
       "      <td>kalypso</td>\n",
       "      <td>2020-11-02</td>\n",
       "      <td>2021-05-04</td>\n",
       "      <td>2020-11-02 20:43:58</td>\n",
       "      <td>2020-11-02 20:43:58</td>\n",
       "      <td>full_stack_java</td>\n",
       "      <td>2021-04-12 14:33:37</td>\n",
       "      <td>True</td>\n",
       "      <td>full_stack_java_kalypso</td>\n",
       "      <td>Monday</td>\n",
       "      <td>14</td>\n",
       "    </tr>\n",
       "    <tr>\n",
       "      <th>2021-04-12 14:34:40</th>\n",
       "      <td>web-design/ui/typography</td>\n",
       "      <td>798</td>\n",
       "      <td>107.138.213.232</td>\n",
       "      <td>kalypso</td>\n",
       "      <td>2020-11-02</td>\n",
       "      <td>2021-05-04</td>\n",
       "      <td>2020-11-02 20:43:58</td>\n",
       "      <td>2020-11-02 20:43:58</td>\n",
       "      <td>full_stack_java</td>\n",
       "      <td>2021-04-12 14:34:40</td>\n",
       "      <td>True</td>\n",
       "      <td>full_stack_java_kalypso</td>\n",
       "      <td>Monday</td>\n",
       "      <td>14</td>\n",
       "    </tr>\n",
       "    <tr>\n",
       "      <th>2021-04-12 14:35:03</th>\n",
       "      <td>web-design/ui/color</td>\n",
       "      <td>798</td>\n",
       "      <td>107.138.213.232</td>\n",
       "      <td>kalypso</td>\n",
       "      <td>2020-11-02</td>\n",
       "      <td>2021-05-04</td>\n",
       "      <td>2020-11-02 20:43:58</td>\n",
       "      <td>2020-11-02 20:43:58</td>\n",
       "      <td>full_stack_java</td>\n",
       "      <td>2021-04-12 14:35:03</td>\n",
       "      <td>True</td>\n",
       "      <td>full_stack_java_kalypso</td>\n",
       "      <td>Monday</td>\n",
       "      <td>14</td>\n",
       "    </tr>\n",
       "    <tr>\n",
       "      <th>2021-04-19 11:09:07</th>\n",
       "      <td>spring/fundamentals/repositories</td>\n",
       "      <td>798</td>\n",
       "      <td>107.138.213.232</td>\n",
       "      <td>kalypso</td>\n",
       "      <td>2020-11-02</td>\n",
       "      <td>2021-05-04</td>\n",
       "      <td>2020-11-02 20:43:58</td>\n",
       "      <td>2020-11-02 20:43:58</td>\n",
       "      <td>full_stack_java</td>\n",
       "      <td>2021-04-19 11:09:07</td>\n",
       "      <td>True</td>\n",
       "      <td>full_stack_java_kalypso</td>\n",
       "      <td>Monday</td>\n",
       "      <td>11</td>\n",
       "    </tr>\n",
       "  </tbody>\n",
       "</table>\n",
       "<p>46793 rows × 14 columns</p>\n",
       "</div>"
      ],
      "text/plain": [
       "                                                                  path  \\\n",
       "date_time_copy                                                           \n",
       "2018-01-26 10:02:21                             javascript-i/functions   \n",
       "2018-01-26 10:02:42                             javascript-i/functions   \n",
       "2018-01-26 10:33:25                             javascript-i/functions   \n",
       "2018-01-26 10:35:08  javascript-i/introduction/working-with-data-ty...   \n",
       "2018-01-26 10:35:12                  javascript-i/javascript-with-html   \n",
       "...                                                                ...   \n",
       "2021-04-12 14:33:30                                         web-design   \n",
       "2021-04-12 14:33:37                                   web-design/intro   \n",
       "2021-04-12 14:34:40                           web-design/ui/typography   \n",
       "2021-04-12 14:35:03                                web-design/ui/color   \n",
       "2021-04-19 11:09:07                   spring/fundamentals/repositories   \n",
       "\n",
       "                    user_id               ip   cohort start_date   end_date  \\\n",
       "date_time_copy                                                                \n",
       "2018-01-26 10:02:21       8     97.105.19.61    teddy 2018-01-08 2018-05-17   \n",
       "2018-01-26 10:02:42       9     97.105.19.61    teddy 2018-01-08 2018-05-17   \n",
       "2018-01-26 10:33:25      13     97.105.19.61    teddy 2018-01-08 2018-05-17   \n",
       "2018-01-26 10:35:08      14     97.105.19.61    teddy 2018-01-08 2018-05-17   \n",
       "2018-01-26 10:35:12      14     97.105.19.61    teddy 2018-01-08 2018-05-17   \n",
       "...                     ...              ...      ...        ...        ...   \n",
       "2021-04-12 14:33:30     798  107.138.213.232  kalypso 2020-11-02 2021-05-04   \n",
       "2021-04-12 14:33:37     798  107.138.213.232  kalypso 2020-11-02 2021-05-04   \n",
       "2021-04-12 14:34:40     798  107.138.213.232  kalypso 2020-11-02 2021-05-04   \n",
       "2021-04-12 14:35:03     798  107.138.213.232  kalypso 2020-11-02 2021-05-04   \n",
       "2021-04-19 11:09:07     798  107.138.213.232  kalypso 2020-11-02 2021-05-04   \n",
       "\n",
       "                             created_at          updated_at          program  \\\n",
       "date_time_copy                                                                 \n",
       "2018-01-26 10:02:21 2018-01-08 13:59:10 2018-01-08 13:59:10  full_stack_java   \n",
       "2018-01-26 10:02:42 2018-01-08 13:59:10 2018-01-08 13:59:10  full_stack_java   \n",
       "2018-01-26 10:33:25 2018-01-08 13:59:10 2018-01-08 13:59:10  full_stack_java   \n",
       "2018-01-26 10:35:08 2018-01-08 13:59:10 2018-01-08 13:59:10  full_stack_java   \n",
       "2018-01-26 10:35:12 2018-01-08 13:59:10 2018-01-08 13:59:10  full_stack_java   \n",
       "...                                 ...                 ...              ...   \n",
       "2021-04-12 14:33:30 2020-11-02 20:43:58 2020-11-02 20:43:58  full_stack_java   \n",
       "2021-04-12 14:33:37 2020-11-02 20:43:58 2020-11-02 20:43:58  full_stack_java   \n",
       "2021-04-12 14:34:40 2020-11-02 20:43:58 2020-11-02 20:43:58  full_stack_java   \n",
       "2021-04-12 14:35:03 2020-11-02 20:43:58 2020-11-02 20:43:58  full_stack_java   \n",
       "2021-04-19 11:09:07 2020-11-02 20:43:58 2020-11-02 20:43:58  full_stack_java   \n",
       "\n",
       "                              date_time  program_access  \\\n",
       "date_time_copy                                            \n",
       "2018-01-26 10:02:21 2018-01-26 10:02:21            True   \n",
       "2018-01-26 10:02:42 2018-01-26 10:02:42            True   \n",
       "2018-01-26 10:33:25 2018-01-26 10:33:25            True   \n",
       "2018-01-26 10:35:08 2018-01-26 10:35:08            True   \n",
       "2018-01-26 10:35:12 2018-01-26 10:35:12            True   \n",
       "...                                 ...             ...   \n",
       "2021-04-12 14:33:30 2021-04-12 14:33:30            True   \n",
       "2021-04-12 14:33:37 2021-04-12 14:33:37            True   \n",
       "2021-04-12 14:34:40 2021-04-12 14:34:40            True   \n",
       "2021-04-12 14:35:03 2021-04-12 14:35:03            True   \n",
       "2021-04-19 11:09:07 2021-04-19 11:09:07            True   \n",
       "\n",
       "                              cohort_program weekday_name hour  \n",
       "date_time_copy                                                  \n",
       "2018-01-26 10:02:21    full_stack_java_teddy       Friday   10  \n",
       "2018-01-26 10:02:42    full_stack_java_teddy       Friday   10  \n",
       "2018-01-26 10:33:25    full_stack_java_teddy       Friday   10  \n",
       "2018-01-26 10:35:08    full_stack_java_teddy       Friday   10  \n",
       "2018-01-26 10:35:12    full_stack_java_teddy       Friday   10  \n",
       "...                                      ...          ...  ...  \n",
       "2021-04-12 14:33:30  full_stack_java_kalypso       Monday   14  \n",
       "2021-04-12 14:33:37  full_stack_java_kalypso       Monday   14  \n",
       "2021-04-12 14:34:40  full_stack_java_kalypso       Monday   14  \n",
       "2021-04-12 14:35:03  full_stack_java_kalypso       Monday   14  \n",
       "2021-04-19 11:09:07  full_stack_java_kalypso       Monday   11  \n",
       "\n",
       "[46793 rows x 14 columns]"
      ]
     },
     "execution_count": 134,
     "metadata": {},
     "output_type": "execute_result"
    }
   ],
   "source": [
    "bottom_25"
   ]
  },
  {
   "cell_type": "code",
   "execution_count": 151,
   "id": "5659dfee",
   "metadata": {},
   "outputs": [],
   "source": [
    "name = ['Monday', 'Tuesday', 'Wednesday', 'Thursday', 'Friday', 'Saturday', 'Sunday']\n",
    "for x in name:\n",
    "    (top_25.weekday_name == x).sum()/len(top_25)\n",
    "    "
   ]
  },
  {
   "cell_type": "code",
   "execution_count": 182,
   "id": "ac03dd3f",
   "metadata": {},
   "outputs": [
    {
     "data": {
      "text/plain": [
       "366.0425531914894"
      ]
     },
     "execution_count": 182,
     "metadata": {},
     "output_type": "execute_result"
    }
   ],
   "source": [
    "(top_25.weekday_name == 'Monday').sum()/top_25.user_id.nunique()"
   ]
  },
  {
   "cell_type": "code",
   "execution_count": 186,
   "id": "39cd0cfb",
   "metadata": {},
   "outputs": [
    {
     "name": "stdout",
     "output_type": "stream",
     "text": [
      "<class 'pandas.core.frame.DataFrame'>\n",
      "DatetimeIndex: 261688 entries, 2018-01-26 09:56:24 to 2021-04-21 16:32:36\n",
      "Data columns (total 14 columns):\n",
      " #   Column          Non-Null Count   Dtype         \n",
      "---  ------          --------------   -----         \n",
      " 0   path            261688 non-null  object        \n",
      " 1   user_id         261688 non-null  object        \n",
      " 2   ip              261688 non-null  object        \n",
      " 3   cohort          261688 non-null  object        \n",
      " 4   start_date      261688 non-null  datetime64[ns]\n",
      " 5   end_date        261688 non-null  datetime64[ns]\n",
      " 6   created_at      261688 non-null  datetime64[ns]\n",
      " 7   updated_at      261688 non-null  datetime64[ns]\n",
      " 8   program         261688 non-null  object        \n",
      " 9   date_time       261688 non-null  datetime64[ns]\n",
      " 10  program_access  261688 non-null  bool          \n",
      " 11  cohort_program  261688 non-null  object        \n",
      " 12  weekday_name    261688 non-null  object        \n",
      " 13  hour            261688 non-null  object        \n",
      "dtypes: bool(1), datetime64[ns](5), object(8)\n",
      "memory usage: 28.2+ MB\n"
     ]
    }
   ],
   "source": [
    "top_25.info()"
   ]
  },
  {
   "cell_type": "code",
   "execution_count": 193,
   "id": "e0fcad3d",
   "metadata": {},
   "outputs": [
    {
     "data": {
      "text/plain": [
       "141"
      ]
     },
     "execution_count": 193,
     "metadata": {},
     "output_type": "execute_result"
    }
   ],
   "source": [
    "top_25.user_id.nunique()"
   ]
  },
  {
   "cell_type": "code",
   "execution_count": null,
   "id": "01618654",
   "metadata": {},
   "outputs": [],
   "source": [
    "top_25['weekday_name'].value_counts()"
   ]
  },
  {
   "cell_type": "code",
   "execution_count": 199,
   "id": "2ae32cda",
   "metadata": {},
   "outputs": [
    {
     "data": {
      "text/plain": [
       "Monday       366.042553\n",
       "Tuesday      363.687943\n",
       "Thursday     328.836879\n",
       "Wednesday    316.723404\n",
       "Friday       277.964539\n",
       "Sunday       120.163121\n",
       "Saturday      82.524823\n",
       "Name: weekday_name, dtype: float64"
      ]
     },
     "execution_count": 199,
     "metadata": {},
     "output_type": "execute_result"
    }
   ],
   "source": [
    "top_25['weekday_name'].value_counts() /  top_25.user_id.nunique()"
   ]
  },
  {
   "cell_type": "code",
   "execution_count": 202,
   "id": "ace58705",
   "metadata": {},
   "outputs": [
    {
     "data": {
      "text/plain": [
       "141"
      ]
     },
     "execution_count": 202,
     "metadata": {},
     "output_type": "execute_result"
    }
   ],
   "source": [
    "bottom_25.user_id.nunique()"
   ]
  },
  {
   "cell_type": "code",
   "execution_count": 201,
   "id": "b014d316",
   "metadata": {},
   "outputs": [
    {
     "data": {
      "text/plain": [
       "Monday       74.085106\n",
       "Tuesday      68.957447\n",
       "Thursday     60.602837\n",
       "Wednesday    56.702128\n",
       "Friday       52.219858\n",
       "Sunday       10.992908\n",
       "Saturday      8.304965\n",
       "Name: weekday_name, dtype: float64"
      ]
     },
     "execution_count": 201,
     "metadata": {},
     "output_type": "execute_result"
    }
   ],
   "source": [
    "bottom_25['weekday_name'].value_counts() / bottom_25.user_id.nunique()"
   ]
  },
  {
   "cell_type": "code",
   "execution_count": 137,
   "id": "3cc614cf",
   "metadata": {},
   "outputs": [
    {
     "data": {
      "text/plain": [
       "<AxesSubplot:xlabel='weekday_name', ylabel='count'>"
      ]
     },
     "execution_count": 137,
     "metadata": {},
     "output_type": "execute_result"
    },
    {
     "data": {
      "image/png": "[encoded data removed]",
      "text/plain": [
       "<Figure size 432x288 with 1 Axes>"
      ]
     },
     "metadata": {
      "needs_background": "light"
     },
     "output_type": "display_data"
    }
   ],
   "source": [
    "order=(['Monday', 'Tuesday', 'Wednesday', 'Thursday', 'Friday', 'Saturday', 'Sunday'])\n",
    "sns.countplot(data=top_25, x='weekday_name', order=order)"
   ]
  },
  {
   "cell_type": "code",
   "execution_count": 178,
   "id": "8191186e",
   "metadata": {},
   "outputs": [
    {
     "data": {
      "text/html": [
       "<div>\n",
       "<style scoped>\n",
       "    .dataframe tbody tr th:only-of-type {\n",
       "        vertical-align: middle;\n",
       "    }\n",
       "\n",
       "    .dataframe tbody tr th {\n",
       "        vertical-align: top;\n",
       "    }\n",
       "\n",
       "    .dataframe thead th {\n",
       "        text-align: right;\n",
       "    }\n",
       "</style>\n",
       "<table border=\"1\" class=\"dataframe\">\n",
       "  <thead>\n",
       "    <tr style=\"text-align: right;\">\n",
       "      <th></th>\n",
       "      <th>path</th>\n",
       "      <th>user_id</th>\n",
       "      <th>ip</th>\n",
       "      <th>cohort</th>\n",
       "      <th>start_date</th>\n",
       "      <th>end_date</th>\n",
       "      <th>created_at</th>\n",
       "      <th>updated_at</th>\n",
       "      <th>program</th>\n",
       "      <th>date_time</th>\n",
       "      <th>program_access</th>\n",
       "      <th>cohort_program</th>\n",
       "      <th>weekday_name</th>\n",
       "      <th>hour</th>\n",
       "    </tr>\n",
       "    <tr>\n",
       "      <th>date_time_copy</th>\n",
       "      <th></th>\n",
       "      <th></th>\n",
       "      <th></th>\n",
       "      <th></th>\n",
       "      <th></th>\n",
       "      <th></th>\n",
       "      <th></th>\n",
       "      <th></th>\n",
       "      <th></th>\n",
       "      <th></th>\n",
       "      <th></th>\n",
       "      <th></th>\n",
       "      <th></th>\n",
       "      <th></th>\n",
       "    </tr>\n",
       "  </thead>\n",
       "  <tbody>\n",
       "    <tr>\n",
       "      <th>2018-01-26 10:02:21</th>\n",
       "      <td>javascript-i/functions</td>\n",
       "      <td>8</td>\n",
       "      <td>97.105.19.61</td>\n",
       "      <td>teddy</td>\n",
       "      <td>2018-01-08</td>\n",
       "      <td>2018-05-17</td>\n",
       "      <td>2018-01-08 13:59:10</td>\n",
       "      <td>2018-01-08 13:59:10</td>\n",
       "      <td>full_stack_java</td>\n",
       "      <td>2018-01-26 10:02:21</td>\n",
       "      <td>True</td>\n",
       "      <td>full_stack_java_teddy</td>\n",
       "      <td>Friday</td>\n",
       "      <td>10</td>\n",
       "    </tr>\n",
       "    <tr>\n",
       "      <th>2018-01-26 10:02:42</th>\n",
       "      <td>javascript-i/functions</td>\n",
       "      <td>9</td>\n",
       "      <td>97.105.19.61</td>\n",
       "      <td>teddy</td>\n",
       "      <td>2018-01-08</td>\n",
       "      <td>2018-05-17</td>\n",
       "      <td>2018-01-08 13:59:10</td>\n",
       "      <td>2018-01-08 13:59:10</td>\n",
       "      <td>full_stack_java</td>\n",
       "      <td>2018-01-26 10:02:42</td>\n",
       "      <td>True</td>\n",
       "      <td>full_stack_java_teddy</td>\n",
       "      <td>Friday</td>\n",
       "      <td>10</td>\n",
       "    </tr>\n",
       "    <tr>\n",
       "      <th>2018-01-26 10:33:25</th>\n",
       "      <td>javascript-i/functions</td>\n",
       "      <td>13</td>\n",
       "      <td>97.105.19.61</td>\n",
       "      <td>teddy</td>\n",
       "      <td>2018-01-08</td>\n",
       "      <td>2018-05-17</td>\n",
       "      <td>2018-01-08 13:59:10</td>\n",
       "      <td>2018-01-08 13:59:10</td>\n",
       "      <td>full_stack_java</td>\n",
       "      <td>2018-01-26 10:33:25</td>\n",
       "      <td>True</td>\n",
       "      <td>full_stack_java_teddy</td>\n",
       "      <td>Friday</td>\n",
       "      <td>10</td>\n",
       "    </tr>\n",
       "    <tr>\n",
       "      <th>2018-01-26 10:35:08</th>\n",
       "      <td>javascript-i/introduction/working-with-data-ty...</td>\n",
       "      <td>14</td>\n",
       "      <td>97.105.19.61</td>\n",
       "      <td>teddy</td>\n",
       "      <td>2018-01-08</td>\n",
       "      <td>2018-05-17</td>\n",
       "      <td>2018-01-08 13:59:10</td>\n",
       "      <td>2018-01-08 13:59:10</td>\n",
       "      <td>full_stack_java</td>\n",
       "      <td>2018-01-26 10:35:08</td>\n",
       "      <td>True</td>\n",
       "      <td>full_stack_java_teddy</td>\n",
       "      <td>Friday</td>\n",
       "      <td>10</td>\n",
       "    </tr>\n",
       "    <tr>\n",
       "      <th>2018-01-26 10:35:12</th>\n",
       "      <td>javascript-i/javascript-with-html</td>\n",
       "      <td>14</td>\n",
       "      <td>97.105.19.61</td>\n",
       "      <td>teddy</td>\n",
       "      <td>2018-01-08</td>\n",
       "      <td>2018-05-17</td>\n",
       "      <td>2018-01-08 13:59:10</td>\n",
       "      <td>2018-01-08 13:59:10</td>\n",
       "      <td>full_stack_java</td>\n",
       "      <td>2018-01-26 10:35:12</td>\n",
       "      <td>True</td>\n",
       "      <td>full_stack_java_teddy</td>\n",
       "      <td>Friday</td>\n",
       "      <td>10</td>\n",
       "    </tr>\n",
       "    <tr>\n",
       "      <th>...</th>\n",
       "      <td>...</td>\n",
       "      <td>...</td>\n",
       "      <td>...</td>\n",
       "      <td>...</td>\n",
       "      <td>...</td>\n",
       "      <td>...</td>\n",
       "      <td>...</td>\n",
       "      <td>...</td>\n",
       "      <td>...</td>\n",
       "      <td>...</td>\n",
       "      <td>...</td>\n",
       "      <td>...</td>\n",
       "      <td>...</td>\n",
       "      <td>...</td>\n",
       "    </tr>\n",
       "    <tr>\n",
       "      <th>2021-04-12 14:33:30</th>\n",
       "      <td>web-design</td>\n",
       "      <td>798</td>\n",
       "      <td>107.138.213.232</td>\n",
       "      <td>kalypso</td>\n",
       "      <td>2020-11-02</td>\n",
       "      <td>2021-05-04</td>\n",
       "      <td>2020-11-02 20:43:58</td>\n",
       "      <td>2020-11-02 20:43:58</td>\n",
       "      <td>full_stack_java</td>\n",
       "      <td>2021-04-12 14:33:30</td>\n",
       "      <td>True</td>\n",
       "      <td>full_stack_java_kalypso</td>\n",
       "      <td>Monday</td>\n",
       "      <td>14</td>\n",
       "    </tr>\n",
       "    <tr>\n",
       "      <th>2021-04-12 14:33:37</th>\n",
       "      <td>web-design/intro</td>\n",
       "      <td>798</td>\n",
       "      <td>107.138.213.232</td>\n",
       "      <td>kalypso</td>\n",
       "      <td>2020-11-02</td>\n",
       "      <td>2021-05-04</td>\n",
       "      <td>2020-11-02 20:43:58</td>\n",
       "      <td>2020-11-02 20:43:58</td>\n",
       "      <td>full_stack_java</td>\n",
       "      <td>2021-04-12 14:33:37</td>\n",
       "      <td>True</td>\n",
       "      <td>full_stack_java_kalypso</td>\n",
       "      <td>Monday</td>\n",
       "      <td>14</td>\n",
       "    </tr>\n",
       "    <tr>\n",
       "      <th>2021-04-12 14:34:40</th>\n",
       "      <td>web-design/ui/typography</td>\n",
       "      <td>798</td>\n",
       "      <td>107.138.213.232</td>\n",
       "      <td>kalypso</td>\n",
       "      <td>2020-11-02</td>\n",
       "      <td>2021-05-04</td>\n",
       "      <td>2020-11-02 20:43:58</td>\n",
       "      <td>2020-11-02 20:43:58</td>\n",
       "      <td>full_stack_java</td>\n",
       "      <td>2021-04-12 14:34:40</td>\n",
       "      <td>True</td>\n",
       "      <td>full_stack_java_kalypso</td>\n",
       "      <td>Monday</td>\n",
       "      <td>14</td>\n",
       "    </tr>\n",
       "    <tr>\n",
       "      <th>2021-04-12 14:35:03</th>\n",
       "      <td>web-design/ui/color</td>\n",
       "      <td>798</td>\n",
       "      <td>107.138.213.232</td>\n",
       "      <td>kalypso</td>\n",
       "      <td>2020-11-02</td>\n",
       "      <td>2021-05-04</td>\n",
       "      <td>2020-11-02 20:43:58</td>\n",
       "      <td>2020-11-02 20:43:58</td>\n",
       "      <td>full_stack_java</td>\n",
       "      <td>2021-04-12 14:35:03</td>\n",
       "      <td>True</td>\n",
       "      <td>full_stack_java_kalypso</td>\n",
       "      <td>Monday</td>\n",
       "      <td>14</td>\n",
       "    </tr>\n",
       "    <tr>\n",
       "      <th>2021-04-19 11:09:07</th>\n",
       "      <td>spring/fundamentals/repositories</td>\n",
       "      <td>798</td>\n",
       "      <td>107.138.213.232</td>\n",
       "      <td>kalypso</td>\n",
       "      <td>2020-11-02</td>\n",
       "      <td>2021-05-04</td>\n",
       "      <td>2020-11-02 20:43:58</td>\n",
       "      <td>2020-11-02 20:43:58</td>\n",
       "      <td>full_stack_java</td>\n",
       "      <td>2021-04-19 11:09:07</td>\n",
       "      <td>True</td>\n",
       "      <td>full_stack_java_kalypso</td>\n",
       "      <td>Monday</td>\n",
       "      <td>11</td>\n",
       "    </tr>\n",
       "  </tbody>\n",
       "</table>\n",
       "<p>46793 rows × 14 columns</p>\n",
       "</div>"
      ],
      "text/plain": [
       "                                                                  path  \\\n",
       "date_time_copy                                                           \n",
       "2018-01-26 10:02:21                             javascript-i/functions   \n",
       "2018-01-26 10:02:42                             javascript-i/functions   \n",
       "2018-01-26 10:33:25                             javascript-i/functions   \n",
       "2018-01-26 10:35:08  javascript-i/introduction/working-with-data-ty...   \n",
       "2018-01-26 10:35:12                  javascript-i/javascript-with-html   \n",
       "...                                                                ...   \n",
       "2021-04-12 14:33:30                                         web-design   \n",
       "2021-04-12 14:33:37                                   web-design/intro   \n",
       "2021-04-12 14:34:40                           web-design/ui/typography   \n",
       "2021-04-12 14:35:03                                web-design/ui/color   \n",
       "2021-04-19 11:09:07                   spring/fundamentals/repositories   \n",
       "\n",
       "                    user_id               ip   cohort start_date   end_date  \\\n",
       "date_time_copy                                                                \n",
       "2018-01-26 10:02:21       8     97.105.19.61    teddy 2018-01-08 2018-05-17   \n",
       "2018-01-26 10:02:42       9     97.105.19.61    teddy 2018-01-08 2018-05-17   \n",
       "2018-01-26 10:33:25      13     97.105.19.61    teddy 2018-01-08 2018-05-17   \n",
       "2018-01-26 10:35:08      14     97.105.19.61    teddy 2018-01-08 2018-05-17   \n",
       "2018-01-26 10:35:12      14     97.105.19.61    teddy 2018-01-08 2018-05-17   \n",
       "...                     ...              ...      ...        ...        ...   \n",
       "2021-04-12 14:33:30     798  107.138.213.232  kalypso 2020-11-02 2021-05-04   \n",
       "2021-04-12 14:33:37     798  107.138.213.232  kalypso 2020-11-02 2021-05-04   \n",
       "2021-04-12 14:34:40     798  107.138.213.232  kalypso 2020-11-02 2021-05-04   \n",
       "2021-04-12 14:35:03     798  107.138.213.232  kalypso 2020-11-02 2021-05-04   \n",
       "2021-04-19 11:09:07     798  107.138.213.232  kalypso 2020-11-02 2021-05-04   \n",
       "\n",
       "                             created_at          updated_at          program  \\\n",
       "date_time_copy                                                                 \n",
       "2018-01-26 10:02:21 2018-01-08 13:59:10 2018-01-08 13:59:10  full_stack_java   \n",
       "2018-01-26 10:02:42 2018-01-08 13:59:10 2018-01-08 13:59:10  full_stack_java   \n",
       "2018-01-26 10:33:25 2018-01-08 13:59:10 2018-01-08 13:59:10  full_stack_java   \n",
       "2018-01-26 10:35:08 2018-01-08 13:59:10 2018-01-08 13:59:10  full_stack_java   \n",
       "2018-01-26 10:35:12 2018-01-08 13:59:10 2018-01-08 13:59:10  full_stack_java   \n",
       "...                                 ...                 ...              ...   \n",
       "2021-04-12 14:33:30 2020-11-02 20:43:58 2020-11-02 20:43:58  full_stack_java   \n",
       "2021-04-12 14:33:37 2020-11-02 20:43:58 2020-11-02 20:43:58  full_stack_java   \n",
       "2021-04-12 14:34:40 2020-11-02 20:43:58 2020-11-02 20:43:58  full_stack_java   \n",
       "2021-04-12 14:35:03 2020-11-02 20:43:58 2020-11-02 20:43:58  full_stack_java   \n",
       "2021-04-19 11:09:07 2020-11-02 20:43:58 2020-11-02 20:43:58  full_stack_java   \n",
       "\n",
       "                              date_time  program_access  \\\n",
       "date_time_copy                                            \n",
       "2018-01-26 10:02:21 2018-01-26 10:02:21            True   \n",
       "2018-01-26 10:02:42 2018-01-26 10:02:42            True   \n",
       "2018-01-26 10:33:25 2018-01-26 10:33:25            True   \n",
       "2018-01-26 10:35:08 2018-01-26 10:35:08            True   \n",
       "2018-01-26 10:35:12 2018-01-26 10:35:12            True   \n",
       "...                                 ...             ...   \n",
       "2021-04-12 14:33:30 2021-04-12 14:33:30            True   \n",
       "2021-04-12 14:33:37 2021-04-12 14:33:37            True   \n",
       "2021-04-12 14:34:40 2021-04-12 14:34:40            True   \n",
       "2021-04-12 14:35:03 2021-04-12 14:35:03            True   \n",
       "2021-04-19 11:09:07 2021-04-19 11:09:07            True   \n",
       "\n",
       "                              cohort_program weekday_name hour  \n",
       "date_time_copy                                                  \n",
       "2018-01-26 10:02:21    full_stack_java_teddy       Friday   10  \n",
       "2018-01-26 10:02:42    full_stack_java_teddy       Friday   10  \n",
       "2018-01-26 10:33:25    full_stack_java_teddy       Friday   10  \n",
       "2018-01-26 10:35:08    full_stack_java_teddy       Friday   10  \n",
       "2018-01-26 10:35:12    full_stack_java_teddy       Friday   10  \n",
       "...                                      ...          ...  ...  \n",
       "2021-04-12 14:33:30  full_stack_java_kalypso       Monday   14  \n",
       "2021-04-12 14:33:37  full_stack_java_kalypso       Monday   14  \n",
       "2021-04-12 14:34:40  full_stack_java_kalypso       Monday   14  \n",
       "2021-04-12 14:35:03  full_stack_java_kalypso       Monday   14  \n",
       "2021-04-19 11:09:07  full_stack_java_kalypso       Monday   11  \n",
       "\n",
       "[46793 rows x 14 columns]"
      ]
     },
     "execution_count": 178,
     "metadata": {},
     "output_type": "execute_result"
    }
   ],
   "source": [
    "bottom_25"
   ]
  },
  {
   "cell_type": "code",
   "execution_count": 171,
   "id": "785a3699",
   "metadata": {},
   "outputs": [
    {
     "data": {
      "image/png": "[encoded data removed]",
      "text/plain": [
       "<Figure size 432x288 with 1 Axes>"
      ]
     },
     "metadata": {
      "needs_background": "light"
     },
     "output_type": "display_data"
    }
   ],
   "source": [
    "order=(['Monday', 'Tuesday', 'Wednesday', 'Thursday', 'Friday', 'Saturday', 'Sunday'])\n",
    "x = [top_25, bottom_25]\n",
    "ax = (top_25.weekday_name.value_counts(normalize=True, sort=False)*100).reindex(['Monday', 'Tuesday', 'Wednesday', 'Thursday', 'Friday', 'Saturday', 'Sunday']).plot()\n",
    "(bottom_25.weekday_name.value_counts(normalize=True, sort=False)*100).reindex(['Monday', 'Tuesday', 'Wednesday', 'Thursday', 'Friday', 'Saturday', 'Sunday']).plot(ax=ax)\n",
    "(bottom_5.weekday_name.value_counts(normalize=True, sort=False)*100).reindex(['Monday', 'Tuesday', 'Wednesday', 'Thursday', 'Friday', 'Saturday', 'Sunday']).plot(ax=ax)\n",
    "\n",
    "plt.show()\n"
   ]
  },
  {
   "cell_type": "code",
   "execution_count": 214,
   "id": "ea7a150a",
   "metadata": {},
   "outputs": [
    {
     "data": {
      "image/png": "[encoded data removed]",
      "text/plain": [
       "<Figure size 1080x576 with 1 Axes>"
      ]
     },
     "metadata": {
      "needs_background": "light"
     },
     "output_type": "display_data"
    }
   ],
   "source": [
    "plt.figure(figsize=(15,8))\n",
    "ax = (top_25['weekday_name'].value_counts() / top_25.user_id.nunique()).reindex(['Monday', 'Tuesday', 'Wednesday', 'Thursday', 'Friday', 'Saturday', 'Sunday']).plot(label= \"top_25%\")\n",
    "(middle['weekday_name'].value_counts() / middle.user_id.nunique()).reindex(['Monday', 'Tuesday', 'Wednesday', 'Thursday', 'Friday', 'Saturday', 'Sunday']).plot(ax=ax, label=\"middle_25-75%\")\n",
    "(bottom_25['weekday_name'].value_counts() / bottom_25.user_id.nunique()).reindex(['Monday', 'Tuesday', 'Wednesday', 'Thursday', 'Friday', 'Saturday', 'Sunday']).plot(ax=ax, label=\"bottom_ 25%\")\n",
    "(bottom_5['weekday_name'].value_counts() / bottom_5.user_id.nunique()).reindex(['Monday', 'Tuesday', 'Wednesday', 'Thursday', 'Friday', 'Saturday', 'Sunday']).plot(ax=ax, label=\"bottom_5%\")\n",
    "plt.legend()\n",
    "plt.show()"
   ]
  },
  {
   "cell_type": "markdown",
   "id": "9d5d6951",
   "metadata": {},
   "source": [
    "Note, this does not represent access numbers, but rather what percentage of access in said population is on which day. This can tell help us compare the trend of access across populations. We are not looking at counts, but rather the change (slope) from one point to the next."
   ]
  },
  {
   "cell_type": "code",
   "execution_count": 240,
   "id": "f5a92513",
   "metadata": {},
   "outputs": [
    {
     "data": {
      "image/png": "[encoded data removed]",
      "text/plain": [
       "<Figure size 1080x576 with 1 Axes>"
      ]
     },
     "metadata": {
      "needs_background": "light"
     },
     "output_type": "display_data"
    }
   ],
   "source": [
    "plt.figure(figsize=(15,8))\n",
    "order=(['Monday', 'Tuesday', 'Wednesday', 'Thursday', 'Friday', 'Saturday', 'Sunday'])\n",
    "ax = (top_25.weekday_name.value_counts(normalize=True, sort=False)*100).reindex(['Monday', 'Tuesday', 'Wednesday', 'Thursday', 'Friday', 'Saturday', 'Sunday']).plot(label= \"top_25%\")\n",
    "(middle.weekday_name.value_counts(normalize=True, sort=False)*100).reindex(['Monday', 'Tuesday', 'Wednesday', 'Thursday', 'Friday', 'Saturday', 'Sunday']).plot(ax=ax,label= 'middle_25-75%')\n",
    "(bottom_25.weekday_name.value_counts(normalize=True, sort=False)*100).reindex(['Monday', 'Tuesday', 'Wednesday', 'Thursday', 'Friday', 'Saturday', 'Sunday']).plot(ax=ax, label= \"bottom_25%\")\n",
    "(bottom_5.weekday_name.value_counts(normalize=True, sort=False)*100).reindex(['Monday', 'Tuesday', 'Wednesday', 'Thursday', 'Friday', 'Saturday', 'Sunday']).plot(ax=ax,label= 'bottom_5')\n",
    "plt.legend()\n",
    "plt.show()"
   ]
  },
  {
   "cell_type": "markdown",
   "id": "83aa0508",
   "metadata": {},
   "source": [
    "Takeaways - The top and middle accessors have slightly less margin of difference in weekday access compared to the margin of difference for bottom accessers. There is a noteable drop off of bottom 5% accessors on Thursdays"
   ]
  },
  {
   "cell_type": "code",
   "execution_count": 228,
   "id": "47d0389c",
   "metadata": {},
   "outputs": [
    {
     "data": {
      "text/plain": [
       "09    84176\n",
       "11    54742\n",
       "10    53023\n",
       "14    51088\n",
       "15    48062\n",
       "13    45339\n",
       "16    37663\n",
       "08    30396\n",
       "12    28471\n",
       "21    13898\n",
       "20    13431\n",
       "17    12769\n",
       "19    11855\n",
       "22    11588\n",
       "18    11048\n",
       "23     7560\n",
       "07     6785\n",
       "00     3546\n",
       "06     2749\n",
       "01     1715\n",
       "05     1064\n",
       "02      956\n",
       "04      586\n",
       "03      471\n",
       "Name: hour, dtype: int64"
      ]
     },
     "execution_count": 228,
     "metadata": {},
     "output_type": "execute_result"
    }
   ],
   "source": [
    "middle['hour'].value_counts()"
   ]
  },
  {
   "cell_type": "code",
   "execution_count": null,
   "id": "f8aa01a7",
   "metadata": {},
   "outputs": [],
   "source": [
    "(['Monday', 'Tuesday', 'Wednesday', 'Thursday', 'Friday', 'Saturday', 'Sunday'])"
   ]
  },
  {
   "cell_type": "code",
   "execution_count": 241,
   "id": "c7a4ac8b",
   "metadata": {},
   "outputs": [
    {
     "data": {
      "image/png": "[encoded data removed]",
      "text/plain": [
       "<Figure size 1080x576 with 1 Axes>"
      ]
     },
     "metadata": {
      "needs_background": "light"
     },
     "output_type": "display_data"
    }
   ],
   "source": [
    "plt.figure(figsize=(15,8))\n",
    "ax = (top_25['hour'].value_counts(normalize=True, sort=False)*100).reindex(['06', '07', '08', '09', '10', '11', '12', '13', '14', '15', '16', '17', '18', '19', '20', '21', '22', '23', '01', '02', '03', '04', '05']).plot(label= \"top_25%\")\n",
    "(middle['hour'].value_counts(normalize=True, sort=False)*100).reindex(['06', '07', '08', '09', '10', '11', '12', '13', '14', '15', '16', '17', '18', '19', '20', '21', '22', '23', '01', '02', '03', '04', '05']).plot(ax=ax, label=\"middle_25-75%\")\n",
    "(bottom_25['hour'].value_counts(normalize=True, sort=False)*100).reindex(['06', '07', '08', '09', '10', '11', '12', '13', '14', '15', '16', '17', '18', '19', '20', '21', '22', '23', '01', '02', '03', '04', '05']).plot(ax=ax, label=\"bottom_ 25%\")\n",
    "(bottom_5['hour'].value_counts(normalize=True, sort=False)*100).reindex(['06', '07', '08', '09', '10', '11', '12', '13', '14', '15', '16', '17', '18', '19', '20', '21', '22', '23', '01', '02', '03', '04', '05']).plot(ax=ax, label=\"bottom_5%\")\n",
    "plt.legend()\n",
    "plt.show()"
   ]
  },
  {
   "cell_type": "code",
   "execution_count": 249,
   "id": "bc8c2f18",
   "metadata": {},
   "outputs": [
    {
     "data": {
      "text/plain": [
       "(86.04942638534958, 85.42830308422013)"
      ]
     },
     "execution_count": 249,
     "metadata": {},
     "output_type": "execute_result"
    }
   ],
   "source": [
    "middle_users.end_date_diff.mean(), top_25_users.end_date_diff.mean(), "
   ]
  },
  {
   "cell_type": "code",
   "execution_count": 157,
   "id": "4ab64099",
   "metadata": {},
   "outputs": [
    {
     "data": {
      "text/plain": [
       "<AxesSubplot:xlabel='weekday_name', ylabel='count'>"
      ]
     },
     "execution_count": 157,
     "metadata": {},
     "output_type": "execute_result"
    },
    {
     "data": {
      "image/png": "[encoded data removed]",
      "text/plain": [
       "<Figure size 432x288 with 1 Axes>"
      ]
     },
     "metadata": {
      "needs_background": "light"
     },
     "output_type": "display_data"
    }
   ],
   "source": [
    "order=(['Monday', 'Tuesday', 'Wednesday', 'Thursday', 'Friday', 'Saturday', 'Sunday'])\n",
    "sns.countplot(data=bottom_25, x='weekday_name', order=order)"
   ]
  },
  {
   "cell_type": "code",
   "execution_count": 251,
   "id": "c8ee3e03",
   "metadata": {},
   "outputs": [
    {
     "data": {
      "text/html": [
       "<div>\n",
       "<style scoped>\n",
       "    .dataframe tbody tr th:only-of-type {\n",
       "        vertical-align: middle;\n",
       "    }\n",
       "\n",
       "    .dataframe tbody tr th {\n",
       "        vertical-align: top;\n",
       "    }\n",
       "\n",
       "    .dataframe thead th {\n",
       "        text-align: right;\n",
       "    }\n",
       "</style>\n",
       "<table border=\"1\" class=\"dataframe\">\n",
       "  <thead>\n",
       "    <tr style=\"text-align: right;\">\n",
       "      <th></th>\n",
       "      <th>path</th>\n",
       "      <th>ip</th>\n",
       "      <th>cohort</th>\n",
       "      <th>start_date</th>\n",
       "      <th>end_date</th>\n",
       "      <th>created_at</th>\n",
       "      <th>updated_at</th>\n",
       "      <th>program</th>\n",
       "      <th>date_time</th>\n",
       "      <th>program_access</th>\n",
       "      <th>cohort_program</th>\n",
       "      <th>weekday_name</th>\n",
       "      <th>hour</th>\n",
       "      <th>last_day</th>\n",
       "    </tr>\n",
       "    <tr>\n",
       "      <th>user_id</th>\n",
       "      <th></th>\n",
       "      <th></th>\n",
       "      <th></th>\n",
       "      <th></th>\n",
       "      <th></th>\n",
       "      <th></th>\n",
       "      <th></th>\n",
       "      <th></th>\n",
       "      <th></th>\n",
       "      <th></th>\n",
       "      <th></th>\n",
       "      <th></th>\n",
       "      <th></th>\n",
       "      <th></th>\n",
       "    </tr>\n",
       "  </thead>\n",
       "  <tbody>\n",
       "    <tr>\n",
       "      <th>8</th>\n",
       "      <td>slides/syntax_types_and_variables</td>\n",
       "      <td>97.77.127.220</td>\n",
       "      <td>teddy</td>\n",
       "      <td>2018-01-08</td>\n",
       "      <td>2018-05-17</td>\n",
       "      <td>2018-01-08 13:59:10</td>\n",
       "      <td>2018-01-08 13:59:10</td>\n",
       "      <td>full_stack_java</td>\n",
       "      <td>2018-03-14 15:46:06</td>\n",
       "      <td>True</td>\n",
       "      <td>full_stack_java_teddy</td>\n",
       "      <td>Wednesday</td>\n",
       "      <td>22</td>\n",
       "      <td>63</td>\n",
       "    </tr>\n",
       "    <tr>\n",
       "      <th>9</th>\n",
       "      <td>spring/setup</td>\n",
       "      <td>97.105.19.61</td>\n",
       "      <td>teddy</td>\n",
       "      <td>2018-01-08</td>\n",
       "      <td>2018-05-17</td>\n",
       "      <td>2018-01-08 13:59:10</td>\n",
       "      <td>2018-01-08 13:59:10</td>\n",
       "      <td>full_stack_java</td>\n",
       "      <td>2018-05-11 11:28:51</td>\n",
       "      <td>True</td>\n",
       "      <td>full_stack_java_teddy</td>\n",
       "      <td>Wednesday</td>\n",
       "      <td>20</td>\n",
       "      <td>5</td>\n",
       "    </tr>\n",
       "    <tr>\n",
       "      <th>13</th>\n",
       "      <td>javascript-ii</td>\n",
       "      <td>97.105.19.61</td>\n",
       "      <td>teddy</td>\n",
       "      <td>2018-01-08</td>\n",
       "      <td>2018-05-17</td>\n",
       "      <td>2018-01-08 13:59:10</td>\n",
       "      <td>2018-01-08 13:59:10</td>\n",
       "      <td>full_stack_java</td>\n",
       "      <td>2018-05-02 17:15:29</td>\n",
       "      <td>True</td>\n",
       "      <td>full_stack_java_teddy</td>\n",
       "      <td>Wednesday</td>\n",
       "      <td>17</td>\n",
       "      <td>14</td>\n",
       "    </tr>\n",
       "    <tr>\n",
       "      <th>14</th>\n",
       "      <td>spring/setup</td>\n",
       "      <td>97.105.19.61</td>\n",
       "      <td>teddy</td>\n",
       "      <td>2018-01-08</td>\n",
       "      <td>2018-05-17</td>\n",
       "      <td>2018-01-08 13:59:10</td>\n",
       "      <td>2018-01-08 13:59:10</td>\n",
       "      <td>full_stack_java</td>\n",
       "      <td>2018-05-03 13:38:26</td>\n",
       "      <td>True</td>\n",
       "      <td>full_stack_java_teddy</td>\n",
       "      <td>Wednesday</td>\n",
       "      <td>20</td>\n",
       "      <td>13</td>\n",
       "    </tr>\n",
       "    <tr>\n",
       "      <th>20</th>\n",
       "      <td>spring/setup</td>\n",
       "      <td>97.105.19.61</td>\n",
       "      <td>teddy</td>\n",
       "      <td>2018-01-08</td>\n",
       "      <td>2018-05-17</td>\n",
       "      <td>2018-01-08 13:59:10</td>\n",
       "      <td>2018-01-08 13:59:10</td>\n",
       "      <td>full_stack_java</td>\n",
       "      <td>2018-05-15 15:10:05</td>\n",
       "      <td>True</td>\n",
       "      <td>full_stack_java_teddy</td>\n",
       "      <td>Wednesday</td>\n",
       "      <td>23</td>\n",
       "      <td>1</td>\n",
       "    </tr>\n",
       "    <tr>\n",
       "      <th>...</th>\n",
       "      <td>...</td>\n",
       "      <td>...</td>\n",
       "      <td>...</td>\n",
       "      <td>...</td>\n",
       "      <td>...</td>\n",
       "      <td>...</td>\n",
       "      <td>...</td>\n",
       "      <td>...</td>\n",
       "      <td>...</td>\n",
       "      <td>...</td>\n",
       "      <td>...</td>\n",
       "      <td>...</td>\n",
       "      <td>...</td>\n",
       "      <td>...</td>\n",
       "    </tr>\n",
       "    <tr>\n",
       "      <th>811</th>\n",
       "      <td>toc</td>\n",
       "      <td>72.182.64.120</td>\n",
       "      <td>kalypso</td>\n",
       "      <td>2020-11-02</td>\n",
       "      <td>2021-05-04</td>\n",
       "      <td>2020-11-02 20:43:58</td>\n",
       "      <td>2020-11-02 20:43:58</td>\n",
       "      <td>full_stack_java</td>\n",
       "      <td>2020-12-11 20:15:26</td>\n",
       "      <td>True</td>\n",
       "      <td>full_stack_java_kalypso</td>\n",
       "      <td>Wednesday</td>\n",
       "      <td>21</td>\n",
       "      <td>143</td>\n",
       "    </tr>\n",
       "    <tr>\n",
       "      <th>812</th>\n",
       "      <td>html-css/forms</td>\n",
       "      <td>24.243.49.105</td>\n",
       "      <td>hyperion</td>\n",
       "      <td>2020-05-26</td>\n",
       "      <td>2020-11-10</td>\n",
       "      <td>2020-05-26 19:22:44</td>\n",
       "      <td>2020-05-26 19:22:44</td>\n",
       "      <td>full_stack_java</td>\n",
       "      <td>2020-11-08 01:46:07</td>\n",
       "      <td>True</td>\n",
       "      <td>full_stack_java_hyperion</td>\n",
       "      <td>Sunday</td>\n",
       "      <td>01</td>\n",
       "      <td>1</td>\n",
       "    </tr>\n",
       "    <tr>\n",
       "      <th>832</th>\n",
       "      <td>javascript-i</td>\n",
       "      <td>69.154.52.98</td>\n",
       "      <td>jupiter</td>\n",
       "      <td>2020-09-21</td>\n",
       "      <td>2021-03-30</td>\n",
       "      <td>2020-09-21 18:06:27</td>\n",
       "      <td>2020-09-21 18:06:27</td>\n",
       "      <td>full_stack_java</td>\n",
       "      <td>2020-12-07 14:22:39</td>\n",
       "      <td>True</td>\n",
       "      <td>full_stack_java_jupiter</td>\n",
       "      <td>Monday</td>\n",
       "      <td>14</td>\n",
       "      <td>112</td>\n",
       "    </tr>\n",
       "    <tr>\n",
       "      <th>856</th>\n",
       "      <td>web-design/ux/layout</td>\n",
       "      <td>45.20.118.158</td>\n",
       "      <td>jupiter</td>\n",
       "      <td>2020-09-21</td>\n",
       "      <td>2021-03-30</td>\n",
       "      <td>2020-09-21 18:06:27</td>\n",
       "      <td>2020-09-21 18:06:27</td>\n",
       "      <td>full_stack_java</td>\n",
       "      <td>2021-01-25 15:46:44</td>\n",
       "      <td>True</td>\n",
       "      <td>full_stack_java_jupiter</td>\n",
       "      <td>Wednesday</td>\n",
       "      <td>23</td>\n",
       "      <td>63</td>\n",
       "    </tr>\n",
       "    <tr>\n",
       "      <th>858</th>\n",
       "      <td>jquery/personal-site</td>\n",
       "      <td>173.175.19.30</td>\n",
       "      <td>kalypso</td>\n",
       "      <td>2020-11-02</td>\n",
       "      <td>2021-05-04</td>\n",
       "      <td>2020-11-02 20:43:58</td>\n",
       "      <td>2020-11-02 20:43:58</td>\n",
       "      <td>full_stack_java</td>\n",
       "      <td>2021-01-28 10:07:51</td>\n",
       "      <td>True</td>\n",
       "      <td>full_stack_java_kalypso</td>\n",
       "      <td>Wednesday</td>\n",
       "      <td>23</td>\n",
       "      <td>95</td>\n",
       "    </tr>\n",
       "  </tbody>\n",
       "</table>\n",
       "<p>141 rows × 14 columns</p>\n",
       "</div>"
      ],
      "text/plain": [
       "                                      path             ip    cohort  \\\n",
       "user_id                                                               \n",
       "8        slides/syntax_types_and_variables  97.77.127.220     teddy   \n",
       "9                             spring/setup   97.105.19.61     teddy   \n",
       "13                           javascript-ii   97.105.19.61     teddy   \n",
       "14                            spring/setup   97.105.19.61     teddy   \n",
       "20                            spring/setup   97.105.19.61     teddy   \n",
       "...                                    ...            ...       ...   \n",
       "811                                    toc  72.182.64.120   kalypso   \n",
       "812                         html-css/forms  24.243.49.105  hyperion   \n",
       "832                           javascript-i   69.154.52.98   jupiter   \n",
       "856                   web-design/ux/layout  45.20.118.158   jupiter   \n",
       "858                   jquery/personal-site  173.175.19.30   kalypso   \n",
       "\n",
       "        start_date   end_date          created_at          updated_at  \\\n",
       "user_id                                                                 \n",
       "8       2018-01-08 2018-05-17 2018-01-08 13:59:10 2018-01-08 13:59:10   \n",
       "9       2018-01-08 2018-05-17 2018-01-08 13:59:10 2018-01-08 13:59:10   \n",
       "13      2018-01-08 2018-05-17 2018-01-08 13:59:10 2018-01-08 13:59:10   \n",
       "14      2018-01-08 2018-05-17 2018-01-08 13:59:10 2018-01-08 13:59:10   \n",
       "20      2018-01-08 2018-05-17 2018-01-08 13:59:10 2018-01-08 13:59:10   \n",
       "...            ...        ...                 ...                 ...   \n",
       "811     2020-11-02 2021-05-04 2020-11-02 20:43:58 2020-11-02 20:43:58   \n",
       "812     2020-05-26 2020-11-10 2020-05-26 19:22:44 2020-05-26 19:22:44   \n",
       "832     2020-09-21 2021-03-30 2020-09-21 18:06:27 2020-09-21 18:06:27   \n",
       "856     2020-09-21 2021-03-30 2020-09-21 18:06:27 2020-09-21 18:06:27   \n",
       "858     2020-11-02 2021-05-04 2020-11-02 20:43:58 2020-11-02 20:43:58   \n",
       "\n",
       "                 program           date_time  program_access  \\\n",
       "user_id                                                        \n",
       "8        full_stack_java 2018-03-14 15:46:06            True   \n",
       "9        full_stack_java 2018-05-11 11:28:51            True   \n",
       "13       full_stack_java 2018-05-02 17:15:29            True   \n",
       "14       full_stack_java 2018-05-03 13:38:26            True   \n",
       "20       full_stack_java 2018-05-15 15:10:05            True   \n",
       "...                  ...                 ...             ...   \n",
       "811      full_stack_java 2020-12-11 20:15:26            True   \n",
       "812      full_stack_java 2020-11-08 01:46:07            True   \n",
       "832      full_stack_java 2020-12-07 14:22:39            True   \n",
       "856      full_stack_java 2021-01-25 15:46:44            True   \n",
       "858      full_stack_java 2021-01-28 10:07:51            True   \n",
       "\n",
       "                   cohort_program weekday_name hour  last_day  \n",
       "user_id                                                        \n",
       "8           full_stack_java_teddy    Wednesday   22        63  \n",
       "9           full_stack_java_teddy    Wednesday   20         5  \n",
       "13          full_stack_java_teddy    Wednesday   17        14  \n",
       "14          full_stack_java_teddy    Wednesday   20        13  \n",
       "20          full_stack_java_teddy    Wednesday   23         1  \n",
       "...                           ...          ...  ...       ...  \n",
       "811       full_stack_java_kalypso    Wednesday   21       143  \n",
       "812      full_stack_java_hyperion       Sunday   01         1  \n",
       "832       full_stack_java_jupiter       Monday   14       112  \n",
       "856       full_stack_java_jupiter    Wednesday   23        63  \n",
       "858       full_stack_java_kalypso    Wednesday   23        95  \n",
       "\n",
       "[141 rows x 14 columns]"
      ]
     },
     "execution_count": 251,
     "metadata": {},
     "output_type": "execute_result"
    }
   ],
   "source": [
    "bottom_25_users"
   ]
  },
  {
   "cell_type": "code",
   "execution_count": 271,
   "id": "8995e12e",
   "metadata": {},
   "outputs": [
    {
     "data": {
      "text/plain": [
       "29"
      ]
     },
     "execution_count": 271,
     "metadata": {},
     "output_type": "execute_result"
    }
   ],
   "source": [
    "len(bottom_5_users)"
   ]
  },
  {
   "cell_type": "code",
   "execution_count": 294,
   "id": "3ea5bae5",
   "metadata": {},
   "outputs": [
    {
     "data": {
      "text/plain": [
       "<AxesSubplot:xlabel='last_day', ylabel='Count'>"
      ]
     },
     "execution_count": 294,
     "metadata": {},
     "output_type": "execute_result"
    },
    {
     "data": {
      "image/png": "[encoded data removed]",
      "text/plain": [
       "<Figure size 432x288 with 1 Axes>"
      ]
     },
     "metadata": {
      "needs_background": "light"
     },
     "output_type": "display_data"
    }
   ],
   "source": [
    "sns.histplot(data= bottom_5_users, x='last_day', bins=8)"
   ]
  },
  {
   "cell_type": "code",
   "execution_count": null,
   "id": "0d5f004b",
   "metadata": {},
   "outputs": [],
   "source": []
  },
  {
   "cell_type": "code",
   "execution_count": 325,
   "id": "46383445",
   "metadata": {},
   "outputs": [
    {
     "data": {
      "text/plain": [
       "<AxesSubplot:xlabel='last_day', ylabel='Count'>"
      ]
     },
     "execution_count": 325,
     "metadata": {},
     "output_type": "execute_result"
    },
    {
     "data": {
      "image/png": "[encoded data removed]",
      "text/plain": [
       "<Figure size 432x288 with 1 Axes>"
      ]
     },
     "metadata": {
      "needs_background": "light"
     },
     "output_type": "display_data"
    }
   ],
   "source": [
    "sns.histplot(data= bottom_25_users, x='last_day', bins=[0,30,60,90,120,150, 180], color='green', alpha=.4)\n",
    "sns.histplot(data= top_25_users, x='last_day', bins=[0,30,60,90,120,150, 180], color='purple', alpha=.4)\n"
   ]
  },
  {
   "cell_type": "code",
   "execution_count": 332,
   "id": "a41468fd",
   "metadata": {},
   "outputs": [
    {
     "data": {
      "text/plain": [
       "<AxesSubplot:xlabel='last_day'>"
      ]
     },
     "execution_count": 332,
     "metadata": {},
     "output_type": "execute_result"
    },
    {
     "data": {
      "image/png": "[encoded data removed]",
      "text/plain": [
       "<Figure size 432x288 with 1 Axes>"
      ]
     },
     "metadata": {
      "needs_background": "light"
     },
     "output_type": "display_data"
    }
   ],
   "source": [
    "sns.distplot(bottom_25_users.last_day, bins=[30,60,90,120,150, 180], color='green', kde=False)\n",
    "sns.distplot(top_25_users.last_day, bins=[30,60,90,120,150, 180], color='purple', kde=False)\n",
    "sns.distplot(bottom_5_users.last_day, bins=[30,60,90,120,150, 180], color='red', kde=False)"
   ]
  },
  {
   "cell_type": "code",
   "execution_count": null,
   "id": "f48677a1",
   "metadata": {},
   "outputs": [],
   "source": [
    "sns.histplot(data= bottom_25_users, x='last_day', bins=[0,30,60,90,120,150, 180], color='green', alpha=.4)\n",
    "sns.histplot(data= top_25_users, x='last_day', bins=[0,30,60,90,120,150, 180], color='purple', alpha=.4)"
   ]
  },
  {
   "cell_type": "code",
   "execution_count": 444,
   "id": "c43f1137",
   "metadata": {},
   "outputs": [
    {
     "data": {
      "image/png": "[encoded data removed]",
      "text/plain": [
       "<Figure size 864x432 with 1 Axes>"
      ]
     },
     "metadata": {},
     "output_type": "display_data"
    },
    {
     "data": {
      "image/png": "[encoded data removed]",
      "text/plain": [
       "<Figure size 864x648 with 4 Axes>"
      ]
     },
     "metadata": {},
     "output_type": "display_data"
    }
   ],
   "source": [
    "plt.figure(figsize=(12,6))\n",
    "\n",
    "sns.histplot(data= all_users, x='last_day', bins=[0,30,60,90,120,150, 180], color='red')\n",
    "\n",
    "fig, axes = plt.subplots(2, 2, figsize=(12,9))\n",
    "\n",
    "sns.histplot(data= bottom_5_users, x='last_day', bins=[0,30,60,90,120,150, 180], color='blue', ax=axes[0,0]).set(title = 'Bottom 5% of Users', xlabel=\"Last Day of Access Prior to Program End Date\", ylabel=\"Exam score-2\")\n",
    "\n",
    "sns.histplot(data= bottom_25_users, x='last_day', bins=[0,30,60,90,120,150, 180], color='green', ax=axes[0,1]).set_title('Bottom 25% of Users')\n",
    "\n",
    "sns.histplot(data= middle_users, x='last_day', bins=[0,30,60,90,120,150, 180], color='orange', ax=axes[1,0]).set_title('Middle 25-75% of Users', size= 18)\n",
    "\n",
    "sns.histplot(data= top_25_users, x='last_day', bins=[0,30,60,90,120,150, 180], color='purple', ax=axes[1,1]).set_title('Top 25% of Users', size=18)\n",
    "\n",
    "plt.subplots_adjust(left=0.1,\n",
    "                    bottom=0.1, \n",
    "                    right=0.9, \n",
    "                    top=0.9, \n",
    "                    wspace=0.4, \n",
    "                    hspace=0.4)\n",
    "\n",
    "plt.tight_layout()\n",
    "\n",
    "plt.show()\n"
   ]
  },
  {
   "cell_type": "code",
   "execution_count": 358,
   "id": "d5a2058d",
   "metadata": {},
   "outputs": [
    {
     "data": {
      "text/plain": [
       "<AxesSubplot:xlabel='last_day', ylabel='Count'>"
      ]
     },
     "execution_count": 358,
     "metadata": {},
     "output_type": "execute_result"
    },
    {
     "data": {
      "text/plain": [
       "<Figure size 432x288 with 0 Axes>"
      ]
     },
     "metadata": {},
     "output_type": "display_data"
    },
    {
     "data": {
      "image/png": "[encoded data removed]",
      "text/plain": [
       "<Figure size 432x288 with 11 Axes>"
      ]
     },
     "metadata": {
      "needs_background": "light"
     },
     "output_type": "display_data"
    }
   ],
   "source": [
    "fig = plt.figure()\n",
    "\n",
    "fig, axes = plt.subplots(3, 2)\n",
    "\n",
    "sns.histplot(data= bottom_25_users, x='last_day', bins=[0,30,60,90,120,150, 180], color='green', ax=ax)\n",
    "\n",
    "ax = fig.add_subplot(222)\n",
    "sns.histplot(data= top_25_users, x='last_day', bins=[0,30,60,90,120,150, 180], color='purple', ax=ax)\n",
    "\n",
    "ax = fig.add_subplot(223)\n",
    "sns.histplot(data= middle_users, x='last_day', bins=[0,30,60,90,120,150, 180], color='orange', ax=ax)\n",
    "\n",
    "ax = fig.add_subplot(224)\n",
    "sns.histplot(data= bottom_5_users, x='last_day', bins=[0,30,60,90,120,150, 180], color='blue', ax=ax)\n",
    "\n",
    "ax = fig.add_subplot()\n",
    "sns.histplot(data= bottom_5_users, x='last_day', bins=[0,30,60,90,120,150, 180], color='blue', ax=ax)\n",
    "\n"
   ]
  },
  {
   "cell_type": "code",
   "execution_count": 269,
   "id": "ba5a5f6e",
   "metadata": {},
   "outputs": [
    {
     "data": {
      "text/plain": [
       "<AxesSubplot:xlabel='last_day', ylabel='Count'>"
      ]
     },
     "execution_count": 269,
     "metadata": {},
     "output_type": "execute_result"
    },
    {
     "data": {
      "image/png": "[encoded data removed]",
      "text/plain": [
       "<Figure size 432x288 with 1 Axes>"
      ]
     },
     "metadata": {
      "needs_background": "light"
     },
     "output_type": "display_data"
    }
   ],
   "source": [
    "sns.histplot(data= middle_users, x='last_day', bins=8)"
   ]
  },
  {
   "cell_type": "code",
   "execution_count": 270,
   "id": "9720b5a6",
   "metadata": {},
   "outputs": [
    {
     "data": {
      "text/plain": [
       "<AxesSubplot:xlabel='last_day', ylabel='Count'>"
      ]
     },
     "execution_count": 270,
     "metadata": {},
     "output_type": "execute_result"
    },
    {
     "data": {
      "image/png": "[encoded data removed]",
      "text/plain": [
       "<Figure size 432x288 with 1 Axes>"
      ]
     },
     "metadata": {
      "needs_background": "light"
     },
     "output_type": "display_data"
    }
   ],
   "source": [
    "sns.histplot(data= top_25_users, x='last_day', bins=8)"
   ]
  },
  {
   "cell_type": "code",
   "execution_count": 293,
   "id": "1f66c18e",
   "metadata": {},
   "outputs": [
    {
     "data": {
      "text/plain": [
       "(0.6551724137931034, 0.6551724137931034, 0.6206896551724138)"
      ]
     },
     "execution_count": 293,
     "metadata": {},
     "output_type": "execute_result"
    }
   ],
   "source": [
    "(bottom_5_users.last_day > 30).sum() /len(bottom_5_users), (bottom_5_users.last_day > 60).sum() /len(bottom_5_users), (bottom_5_users.last_day > 90).sum() /len(bottom_5_users)"
   ]
  },
  {
   "cell_type": "code",
   "execution_count": 289,
   "id": "5e9dbd3b",
   "metadata": {},
   "outputs": [
    {
     "data": {
      "text/plain": [
       "(0.48936170212765956, 0.46099290780141844, 0.36879432624113473)"
      ]
     },
     "execution_count": 289,
     "metadata": {},
     "output_type": "execute_result"
    }
   ],
   "source": [
    "(bottom_25_users.last_day > 30).sum() /len(bottom_25_users), (bottom_25_users.last_day > 60).sum() /len(bottom_25_users), (bottom_25_users.last_day > 90).sum() /len(bottom_25_users)"
   ]
  },
  {
   "cell_type": "code",
   "execution_count": 291,
   "id": "983d7458",
   "metadata": {},
   "outputs": [
    {
     "data": {
      "text/plain": [
       "(0.09026128266033254, 0.0498812351543943, 0.019002375296912115)"
      ]
     },
     "execution_count": 291,
     "metadata": {},
     "output_type": "execute_result"
    }
   ],
   "source": [
    "(middle_users.last_day > 30).sum() /len(middle_users), (middle_users.last_day > 60).sum() /len(middle_users), (middle_users.last_day > 90).sum() /len(middle_users)"
   ]
  },
  {
   "cell_type": "code",
   "execution_count": 292,
   "id": "11e97ee3",
   "metadata": {},
   "outputs": [
    {
     "data": {
      "text/plain": [
       "(0.06382978723404255, 0.02127659574468085, 0.014184397163120567)"
      ]
     },
     "execution_count": 292,
     "metadata": {},
     "output_type": "execute_result"
    }
   ],
   "source": [
    "(top_25_users.last_day > 30).sum() /len(top_25_users), (top_25_users.last_day > 60).sum() /len(top_25_users), (top_25_users.last_day > 90).sum() /len(top_25_users)"
   ]
  },
  {
   "cell_type": "markdown",
   "id": "c647b069",
   "metadata": {},
   "source": [
    "Biggest takeaway for Q3- \n",
    "\n",
    "- for the very low accessors (bottom 5%), over 60% last day of access was greater than 90 days out from the program end date\n",
    "\n",
    "- bottom 25% has 37% with last access date over 90 days from graduation and an additional 12% (49% of this population) did no access in the last 30 days of the program\n",
    "\n",
    "- this is compared to the top 75% of accessors had 9% last access day being greater than 30 days and only 2% last day of access is greater than 90 days from grad date\n",
    "\n",
    "- month, time of day of access, cohort, and program did not show a consisten trend for low access"
   ]
  },
  {
   "cell_type": "code",
   "execution_count": null,
   "id": "b0788ccc",
   "metadata": {},
   "outputs": [],
   "source": []
  }
 ],
 "metadata": {
  "kernelspec": {
   "display_name": "Python 3 (ipykernel)",
   "language": "python",
   "name": "python3"
  },
  "language_info": {
   "codemirror_mode": {
    "name": "ipython",
    "version": 3
   },
   "file_extension": ".py",
   "mimetype": "text/x-python",
   "name": "python",
   "nbconvert_exporter": "python",
   "pygments_lexer": "ipython3",
   "version": "3.9.7"
  }
 },
 "nbformat": 4,
 "nbformat_minor": 5
}
