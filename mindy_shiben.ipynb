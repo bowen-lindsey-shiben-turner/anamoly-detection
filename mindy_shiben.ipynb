{
 "cells": [
  {
   "cell_type": "code",
   "execution_count": 1,
   "id": "46435481",
   "metadata": {},
   "outputs": [],
   "source": [
    "import pandas as pd\n",
    "import numpy as np\n",
    "import seaborn as sns\n",
    "import matplotlib.pyplot as plt\n",
    "import acquire\n",
    "import prepare\n",
    "from env import get_db_url\n",
    "import time\n",
    "import warnings\n",
    "warnings.filterwarnings(\"ignore\")\n",
    "import explore"
   ]
  },
  {
   "cell_type": "markdown",
   "id": "51669c83",
   "metadata": {},
   "source": [
    "### Questions to keep in mind (5 should be answered very thoroughly. Could touch on all, but 5 min- for MVP)\n",
    "\n",
    "1. Which lesson appears to attract the most traffic consistently across cohorts (per program)?\n",
    "2. Is there a cohort that referred to a lesson significantly more than other cohorts seemed to gloss over?\n",
    "3. Are there students who, when active, hardly access the curriculum? If so, what information do you have about these students?\n",
    "4. Is there any suspicious activity, such as users/machines/etc accessing the curriculum who shouldn’t be? Does it appear that any web-scraping is happening? Are there any suspicious IP addresses?\n",
    "5. At some point in 2019, the ability for students and alumni to access both curriculums (web dev to ds, ds to web dev) should have been shut off. Do you see any evidence of that happening? Did it happen before?\n",
    "6. What topics are grads continuing to reference after graduation and into their jobs (for each program)?\n",
    "7. Which lessons are least accessed?\n",
    "8. Anything else I should be aware of?"
   ]
  },
  {
   "cell_type": "code",
   "execution_count": 2,
   "id": "d5ab333b",
   "metadata": {},
   "outputs": [],
   "source": [
    "df = prepare.prepare_logs()"
   ]
  },
  {
   "cell_type": "code",
   "execution_count": 3,
   "id": "fa58423b",
   "metadata": {},
   "outputs": [
    {
     "data": {
      "text/html": [
       "<div>\n",
       "<style scoped>\n",
       "    .dataframe tbody tr th:only-of-type {\n",
       "        vertical-align: middle;\n",
       "    }\n",
       "\n",
       "    .dataframe tbody tr th {\n",
       "        vertical-align: top;\n",
       "    }\n",
       "\n",
       "    .dataframe thead th {\n",
       "        text-align: right;\n",
       "    }\n",
       "</style>\n",
       "<table border=\"1\" class=\"dataframe\">\n",
       "  <thead>\n",
       "    <tr style=\"text-align: right;\">\n",
       "      <th></th>\n",
       "      <th>path</th>\n",
       "      <th>user_id</th>\n",
       "      <th>cohort_id</th>\n",
       "      <th>ip</th>\n",
       "      <th>name</th>\n",
       "      <th>start_date</th>\n",
       "      <th>end_date</th>\n",
       "      <th>created_at</th>\n",
       "      <th>updated_at</th>\n",
       "      <th>program_id</th>\n",
       "      <th>date_time</th>\n",
       "    </tr>\n",
       "  </thead>\n",
       "  <tbody>\n",
       "    <tr>\n",
       "      <th>0</th>\n",
       "      <td>/</td>\n",
       "      <td>1</td>\n",
       "      <td>8.0</td>\n",
       "      <td>97.105.19.61</td>\n",
       "      <td>hampton</td>\n",
       "      <td>2015-09-22 00:00:00</td>\n",
       "      <td>2016-02-06 00:00:00</td>\n",
       "      <td>2016-06-14 19:52:26</td>\n",
       "      <td>2016-06-14 19:52:26</td>\n",
       "      <td>full_stack_php</td>\n",
       "      <td>2018-01-26 09:55:03</td>\n",
       "    </tr>\n",
       "    <tr>\n",
       "      <th>1</th>\n",
       "      <td>java-ii</td>\n",
       "      <td>1</td>\n",
       "      <td>8.0</td>\n",
       "      <td>97.105.19.61</td>\n",
       "      <td>hampton</td>\n",
       "      <td>2015-09-22 00:00:00</td>\n",
       "      <td>2016-02-06 00:00:00</td>\n",
       "      <td>2016-06-14 19:52:26</td>\n",
       "      <td>2016-06-14 19:52:26</td>\n",
       "      <td>full_stack_php</td>\n",
       "      <td>2018-01-26 09:56:02</td>\n",
       "    </tr>\n",
       "    <tr>\n",
       "      <th>2</th>\n",
       "      <td>java-ii/object-oriented-programming</td>\n",
       "      <td>1</td>\n",
       "      <td>8.0</td>\n",
       "      <td>97.105.19.61</td>\n",
       "      <td>hampton</td>\n",
       "      <td>2015-09-22 00:00:00</td>\n",
       "      <td>2016-02-06 00:00:00</td>\n",
       "      <td>2016-06-14 19:52:26</td>\n",
       "      <td>2016-06-14 19:52:26</td>\n",
       "      <td>full_stack_php</td>\n",
       "      <td>2018-01-26 09:56:05</td>\n",
       "    </tr>\n",
       "    <tr>\n",
       "      <th>3</th>\n",
       "      <td>slides/object_oriented_programming</td>\n",
       "      <td>1</td>\n",
       "      <td>8.0</td>\n",
       "      <td>97.105.19.61</td>\n",
       "      <td>hampton</td>\n",
       "      <td>2015-09-22 00:00:00</td>\n",
       "      <td>2016-02-06 00:00:00</td>\n",
       "      <td>2016-06-14 19:52:26</td>\n",
       "      <td>2016-06-14 19:52:26</td>\n",
       "      <td>full_stack_php</td>\n",
       "      <td>2018-01-26 09:56:06</td>\n",
       "    </tr>\n",
       "    <tr>\n",
       "      <th>4</th>\n",
       "      <td>javascript-i/conditionals</td>\n",
       "      <td>2</td>\n",
       "      <td>22.0</td>\n",
       "      <td>97.105.19.61</td>\n",
       "      <td>teddy</td>\n",
       "      <td>2018-01-08 00:00:00</td>\n",
       "      <td>2018-05-17 00:00:00</td>\n",
       "      <td>2018-01-08 13:59:10</td>\n",
       "      <td>2018-01-08 13:59:10</td>\n",
       "      <td>full_stack_java</td>\n",
       "      <td>2018-01-26 09:56:24</td>\n",
       "    </tr>\n",
       "  </tbody>\n",
       "</table>\n",
       "</div>"
      ],
      "text/plain": [
       "                                  path  user_id  cohort_id            ip  \\\n",
       "0                                    /        1        8.0  97.105.19.61   \n",
       "1                              java-ii        1        8.0  97.105.19.61   \n",
       "2  java-ii/object-oriented-programming        1        8.0  97.105.19.61   \n",
       "3   slides/object_oriented_programming        1        8.0  97.105.19.61   \n",
       "4            javascript-i/conditionals        2       22.0  97.105.19.61   \n",
       "\n",
       "      name           start_date             end_date           created_at  \\\n",
       "0  hampton  2015-09-22 00:00:00  2016-02-06 00:00:00  2016-06-14 19:52:26   \n",
       "1  hampton  2015-09-22 00:00:00  2016-02-06 00:00:00  2016-06-14 19:52:26   \n",
       "2  hampton  2015-09-22 00:00:00  2016-02-06 00:00:00  2016-06-14 19:52:26   \n",
       "3  hampton  2015-09-22 00:00:00  2016-02-06 00:00:00  2016-06-14 19:52:26   \n",
       "4    teddy  2018-01-08 00:00:00  2018-05-17 00:00:00  2018-01-08 13:59:10   \n",
       "\n",
       "            updated_at       program_id            date_time  \n",
       "0  2016-06-14 19:52:26   full_stack_php  2018-01-26 09:55:03  \n",
       "1  2016-06-14 19:52:26   full_stack_php  2018-01-26 09:56:02  \n",
       "2  2016-06-14 19:52:26   full_stack_php  2018-01-26 09:56:05  \n",
       "3  2016-06-14 19:52:26   full_stack_php  2018-01-26 09:56:06  \n",
       "4  2018-01-08 13:59:10  full_stack_java  2018-01-26 09:56:24  "
      ]
     },
     "execution_count": 3,
     "metadata": {},
     "output_type": "execute_result"
    }
   ],
   "source": [
    "df.head()"
   ]
  },
  {
   "cell_type": "markdown",
   "id": "726b970e",
   "metadata": {},
   "source": [
    "#### initial thoughts\n",
    "- I want to look into this a little further to make sure we wouldn't be losing something important, but could consider dropping, especially for MVP\n",
    "- deleted_at column should be dropped\n",
    "- data, time, start_date, end_date, created_at, updated_at - by the names of these columns, thinking can convert to datetime\n",
    "- path probably makes sense to stay object, but can we potentially look at groups/feature eng columns here? possibility to keep in mind\n",
    "- user_id as int - this is fine for now, but want to make sure this is not treated as continuous I'm thinking\n",
    "- cohort id- could potentially change the float out with the actual cohort name\n",
    "- ip - probably good, also potential for feature eng... like if we want to look at different area of users. here is a good site to help https://www.whatismyip.com/ip-address-lookup/\n",
    "- program_id - fine, but also can change to program name if we'd like"
   ]
  },
  {
   "cell_type": "markdown",
   "id": "82b8591f",
   "metadata": {},
   "source": [
    "#### Histogram"
   ]
  },
  {
   "cell_type": "code",
   "execution_count": 4,
   "id": "17e1c8dd",
   "metadata": {},
   "outputs": [
    {
     "name": "stdout",
     "output_type": "stream",
     "text": [
      "<class 'pandas.core.frame.DataFrame'>\n",
      "RangeIndex: 900223 entries, 0 to 900222\n",
      "Data columns (total 11 columns):\n",
      " #   Column      Non-Null Count   Dtype  \n",
      "---  ------      --------------   -----  \n",
      " 0   path        900222 non-null  object \n",
      " 1   user_id     900223 non-null  int64  \n",
      " 2   cohort_id   847330 non-null  float64\n",
      " 3   ip          900223 non-null  object \n",
      " 4   name        847330 non-null  object \n",
      " 5   start_date  847330 non-null  object \n",
      " 6   end_date    847330 non-null  object \n",
      " 7   created_at  847330 non-null  object \n",
      " 8   updated_at  847330 non-null  object \n",
      " 9   program_id  847330 non-null  object \n",
      " 10  date_time   900223 non-null  object \n",
      "dtypes: float64(1), int64(1), object(9)\n",
      "memory usage: 75.5+ MB\n"
     ]
    }
   ],
   "source": [
    "df.info()"
   ]
  },
  {
   "cell_type": "code",
   "execution_count": 5,
   "id": "42b86e2c",
   "metadata": {},
   "outputs": [],
   "source": [
    "df[['date_time', 'start_date', 'end_date', 'created_at', 'updated_at']] = df[['date_time','start_date', 'end_date', 'created_at', 'updated_at']].apply(pd.to_datetime)"
   ]
  },
  {
   "cell_type": "code",
   "execution_count": 6,
   "id": "e356d271",
   "metadata": {},
   "outputs": [
    {
     "data": {
      "text/plain": [
       "array([[<AxesSubplot:title={'center':'user_id'}>,\n",
       "        <AxesSubplot:title={'center':'cohort_id'}>,\n",
       "        <AxesSubplot:title={'center':'start_date'}>],\n",
       "       [<AxesSubplot:title={'center':'end_date'}>,\n",
       "        <AxesSubplot:title={'center':'created_at'}>,\n",
       "        <AxesSubplot:title={'center':'updated_at'}>],\n",
       "       [<AxesSubplot:title={'center':'date_time'}>, <AxesSubplot:>,\n",
       "        <AxesSubplot:>]], dtype=object)"
      ]
     },
     "execution_count": 6,
     "metadata": {},
     "output_type": "execute_result"
    },
    {
     "data": {
      "image/png": "[encoded data removed]",
      "text/plain": [
       "<Figure size 1440x1080 with 9 Axes>"
      ]
     },
     "metadata": {
      "needs_background": "light"
     },
     "output_type": "display_data"
    }
   ],
   "source": [
    "df.hist(bins=30, figsize=(20, 15))"
   ]
  },
  {
   "cell_type": "code",
   "execution_count": 7,
   "id": "5474fc3d",
   "metadata": {},
   "outputs": [
    {
     "data": {
      "text/plain": [
       "2313"
      ]
     },
     "execution_count": 7,
     "metadata": {},
     "output_type": "execute_result"
    }
   ],
   "source": [
    "df['path'].nunique()"
   ]
  },
  {
   "cell_type": "code",
   "execution_count": 8,
   "id": "e8dac593",
   "metadata": {},
   "outputs": [
    {
     "data": {
      "text/plain": [
       "<AxesSubplot:>"
      ]
     },
     "execution_count": 8,
     "metadata": {},
     "output_type": "execute_result"
    },
    {
     "data": {
      "image/png": "[encoded data removed]",
      "text/plain": [
       "<Figure size 432x288 with 1 Axes>"
      ]
     },
     "metadata": {
      "needs_background": "light"
     },
     "output_type": "display_data"
    }
   ],
   "source": [
    "df['path'].value_counts()[:30].plot(kind='bar')"
   ]
  },
  {
   "cell_type": "code",
   "execution_count": 9,
   "id": "213b0ae8",
   "metadata": {},
   "outputs": [
    {
     "data": {
      "text/plain": [
       "5531"
      ]
     },
     "execution_count": 9,
     "metadata": {},
     "output_type": "execute_result"
    }
   ],
   "source": [
    "df.ip.nunique()"
   ]
  },
  {
   "cell_type": "code",
   "execution_count": 10,
   "id": "8b079471",
   "metadata": {},
   "outputs": [
    {
     "data": {
      "text/plain": [
       "<AxesSubplot:>"
      ]
     },
     "execution_count": 10,
     "metadata": {},
     "output_type": "execute_result"
    },
    {
     "data": {
      "image/png": "[encoded data removed]",
      "text/plain": [
       "<Figure size 432x288 with 1 Axes>"
      ]
     },
     "metadata": {
      "needs_background": "light"
     },
     "output_type": "display_data"
    }
   ],
   "source": [
    "df['ip'].value_counts()[:30].plot(kind='bar')"
   ]
  },
  {
   "cell_type": "markdown",
   "id": "18cd9137",
   "metadata": {},
   "source": [
    "note - interesting the one ip address and the second highest too. maybe the instructors share one often working from same comp? or could be a scraping thing. keep in mind"
   ]
  },
  {
   "cell_type": "code",
   "execution_count": 11,
   "id": "4acfb836",
   "metadata": {},
   "outputs": [
    {
     "data": {
      "text/plain": [
       "47"
      ]
     },
     "execution_count": 11,
     "metadata": {},
     "output_type": "execute_result"
    }
   ],
   "source": [
    "df.name.nunique()"
   ]
  },
  {
   "cell_type": "code",
   "execution_count": 12,
   "id": "3f1bde5b",
   "metadata": {},
   "outputs": [
    {
     "data": {
      "image/png": "[encoded data removed]",
      "text/plain": [
       "<Figure size 864x360 with 1 Axes>"
      ]
     },
     "metadata": {
      "needs_background": "light"
     },
     "output_type": "display_data"
    }
   ],
   "source": [
    "df['name'].value_counts()[:47].plot(kind='bar', figsize=(12,5))\n",
    "plt.show()"
   ]
  },
  {
   "cell_type": "code",
   "execution_count": 13,
   "id": "3ae4de86",
   "metadata": {},
   "outputs": [],
   "source": [
    "#df['slack'] = df['slack'].str[1:]"
   ]
  },
  {
   "cell_type": "code",
   "execution_count": 14,
   "id": "573bb163",
   "metadata": {},
   "outputs": [],
   "source": [
    "#df.slack.value_counts()"
   ]
  },
  {
   "cell_type": "code",
   "execution_count": 15,
   "id": "4d67fea3",
   "metadata": {},
   "outputs": [],
   "source": [
    "#df['slack'] = df.slack.replace({'taff': 'staff'})"
   ]
  },
  {
   "cell_type": "code",
   "execution_count": 16,
   "id": "b70b6592",
   "metadata": {},
   "outputs": [],
   "source": [
    "#df['slack'].value_counts()"
   ]
  },
  {
   "cell_type": "code",
   "execution_count": 17,
   "id": "1c55a1ef",
   "metadata": {},
   "outputs": [],
   "source": [
    "#df['slack'].groupby(df.name).max()"
   ]
  },
  {
   "cell_type": "code",
   "execution_count": 18,
   "id": "3bb50513",
   "metadata": {},
   "outputs": [],
   "source": [
    "#df.cohort_id.nunique()"
   ]
  },
  {
   "cell_type": "code",
   "execution_count": 19,
   "id": "021b5fc4",
   "metadata": {},
   "outputs": [],
   "source": [
    "#df['slack'].nunique(), df.name.nunique()"
   ]
  },
  {
   "cell_type": "markdown",
   "id": "fd5bb768",
   "metadata": {},
   "source": [
    "this is what's not right \n",
    "\n",
    "Bayes              staff\n",
    "\n",
    "should be fine just using name as it's basically the same, but has bayes and staff"
   ]
  },
  {
   "cell_type": "markdown",
   "id": "ae03e88d",
   "metadata": {},
   "source": [
    "summary so far-\n",
    "- datatypes for date time\n",
    "- drop slack\n",
    "- drop delete column\n",
    "- drop the null values \n",
    "- should be about 850k records\n",
    "- look at dtypes closely and make changes where desired (maybe name instead of number for a couple)\n",
    "- maybe change name to cohort, lower case\n",
    "- cohort id corresponds to name. do you need both? probably ok to keep both incase\n",
    "- keep the couple very high counts ip addresses in mind\n",
    "- talk with group about what they found and put in function\n"
   ]
  },
  {
   "cell_type": "markdown",
   "id": "636f5c07",
   "metadata": {},
   "source": [
    "### Questions to keep in mind (5 should be answered very thoroughly. Could touch on all, but 5 min- for MVP)\n",
    "\n",
    "1. Which lesson appears to attract the most traffic consistently across cohorts (per program)?\n",
    "2. Is there a cohort that referred to a lesson significantly more than other cohorts seemed to gloss over?\n",
    "3. Are there students who, when active, hardly access the curriculum? If so, what information do you have about these students?\n",
    "4. Is there any suspicious activity, such as users/machines/etc accessing the curriculum who shouldn’t be? Does it appear that any web-scraping is happening? Are there any suspicious IP addresses?\n",
    "5. At some point in 2019, the ability for students and alumni to access both curriculums (web dev to ds, ds to web dev) should have been shut off. Do you see any evidence of that happening? Did it happen before?\n",
    "6. What topics are grads continuing to reference after graduation and into their jobs (for each program)?\n",
    "7. Which lessons are least accessed?\n",
    "8. Anything else I should be aware of?"
   ]
  },
  {
   "cell_type": "code",
   "execution_count": 20,
   "id": "fc317e3e",
   "metadata": {},
   "outputs": [
    {
     "name": "stdout",
     "output_type": "stream",
     "text": [
      "<class 'pandas.core.frame.DataFrame'>\n",
      "RangeIndex: 900223 entries, 0 to 900222\n",
      "Data columns (total 11 columns):\n",
      " #   Column      Non-Null Count   Dtype         \n",
      "---  ------      --------------   -----         \n",
      " 0   path        900222 non-null  object        \n",
      " 1   user_id     900223 non-null  int64         \n",
      " 2   cohort_id   847330 non-null  float64       \n",
      " 3   ip          900223 non-null  object        \n",
      " 4   name        847330 non-null  object        \n",
      " 5   start_date  847330 non-null  datetime64[ns]\n",
      " 6   end_date    847330 non-null  datetime64[ns]\n",
      " 7   created_at  847330 non-null  datetime64[ns]\n",
      " 8   updated_at  847330 non-null  datetime64[ns]\n",
      " 9   program_id  847330 non-null  object        \n",
      " 10  date_time   900223 non-null  datetime64[ns]\n",
      "dtypes: datetime64[ns](5), float64(1), int64(1), object(4)\n",
      "memory usage: 75.5+ MB\n"
     ]
    }
   ],
   "source": [
    "df.info()"
   ]
  },
  {
   "cell_type": "markdown",
   "id": "b84a6bcd",
   "metadata": {},
   "source": [
    "## Explore: Question 3 \n",
    "\n",
    "### Are there students who, when active, hardly access the curriculum? If so, what information do you have about these students?"
   ]
  },
  {
   "cell_type": "markdown",
   "id": "345b0a3d",
   "metadata": {},
   "source": [
    "### Initial thoughts about question:\n",
    "- First, we are looking at only active students for this question. That means I am creating a df that has records where the date (date of access) falls is between (or on) start date and end date\n",
    "- what could we find out about the students? \n",
    "    - difference in access of virtual vs. inperson?\n",
    "    - what is \"low access\"- look at numbers here and %s. make some bins of average, low, very low, etc.\n",
    "    - what cohort they are in? do students in certain cohorts tend to access a lot less? what about program?\n",
    "    - could very low access be due to students dropping out of the program possibly?\n",
    "    - do students access more, less, same early on? near graduation?\n",
    "    - do the low access students have ip addresses local to SA, not local? appear to be remote or not? covid 19 impact on access?\n",
    "    - else?"
   ]
  },
  {
   "cell_type": "code",
   "execution_count": 21,
   "id": "90f24385",
   "metadata": {},
   "outputs": [],
   "source": [
    "df3 = explore.explore_question3(df)"
   ]
  },
  {
   "cell_type": "code",
   "execution_count": 22,
   "id": "1e6c916e",
   "metadata": {},
   "outputs": [
    {
     "name": "stdout",
     "output_type": "stream",
     "text": [
      "<class 'pandas.core.frame.DataFrame'>\n",
      "Int64Index: 647197 entries, 4 to 900217\n",
      "Data columns (total 11 columns):\n",
      " #   Column          Non-Null Count   Dtype         \n",
      "---  ------          --------------   -----         \n",
      " 0   path            647197 non-null  object        \n",
      " 1   user_id         647197 non-null  object        \n",
      " 2   ip              647197 non-null  object        \n",
      " 3   cohort          647197 non-null  object        \n",
      " 4   start_date      647197 non-null  datetime64[ns]\n",
      " 5   end_date        647197 non-null  datetime64[ns]\n",
      " 6   created_at      647197 non-null  datetime64[ns]\n",
      " 7   updated_at      647197 non-null  datetime64[ns]\n",
      " 8   program         647197 non-null  object        \n",
      " 9   date_time       647197 non-null  datetime64[ns]\n",
      " 10  program_access  647197 non-null  bool          \n",
      "dtypes: bool(1), datetime64[ns](5), object(5)\n",
      "memory usage: 54.9+ MB\n"
     ]
    }
   ],
   "source": [
    "df3.info()\n",
    "#look at df3 "
   ]
  },
  {
   "cell_type": "code",
   "execution_count": 23,
   "id": "6f377441",
   "metadata": {},
   "outputs": [
    {
     "data": {
      "text/plain": [
       "<AxesSubplot:>"
      ]
     },
     "execution_count": 23,
     "metadata": {},
     "output_type": "execute_result"
    },
    {
     "data": {
      "image/png": "[encoded data removed]",
      "text/plain": [
       "<Figure size 432x288 with 1 Axes>"
      ]
     },
     "metadata": {
      "needs_background": "light"
     },
     "output_type": "display_data"
    }
   ],
   "source": [
    "df3['ip'].value_counts()[:30].plot(kind='bar')"
   ]
  },
  {
   "cell_type": "markdown",
   "id": "0f0bf1a3",
   "metadata": {},
   "source": [
    "interesting that we still have those couple ip addresses that have a cra amount of access even though dropped staff and non-students. quick look to see what this could be about"
   ]
  },
  {
   "cell_type": "code",
   "execution_count": 24,
   "id": "e39f850a",
   "metadata": {},
   "outputs": [
    {
     "data": {
      "text/plain": [
       "97.105.19.58       229087\n",
       "97.105.19.61        52122\n",
       "192.171.117.210      7984\n",
       "67.11.50.23          4181\n",
       "172.124.67.93        3488\n",
       "Name: ip, dtype: int64"
      ]
     },
     "execution_count": 24,
     "metadata": {},
     "output_type": "execute_result"
    }
   ],
   "source": [
    "df3['ip'].value_counts().head()"
   ]
  },
  {
   "cell_type": "code",
   "execution_count": 25,
   "id": "053549f9",
   "metadata": {},
   "outputs": [
    {
     "data": {
      "text/html": [
       "<div>\n",
       "<style scoped>\n",
       "    .dataframe tbody tr th:only-of-type {\n",
       "        vertical-align: middle;\n",
       "    }\n",
       "\n",
       "    .dataframe tbody tr th {\n",
       "        vertical-align: top;\n",
       "    }\n",
       "\n",
       "    .dataframe thead th {\n",
       "        text-align: right;\n",
       "    }\n",
       "</style>\n",
       "<table border=\"1\" class=\"dataframe\">\n",
       "  <thead>\n",
       "    <tr style=\"text-align: right;\">\n",
       "      <th></th>\n",
       "      <th>program_access</th>\n",
       "    </tr>\n",
       "    <tr>\n",
       "      <th>cohort</th>\n",
       "      <th></th>\n",
       "    </tr>\n",
       "  </thead>\n",
       "  <tbody>\n",
       "    <tr>\n",
       "      <th>andromeda</th>\n",
       "      <td>16932</td>\n",
       "    </tr>\n",
       "    <tr>\n",
       "      <th>bayes</th>\n",
       "      <td>16899</td>\n",
       "    </tr>\n",
       "    <tr>\n",
       "      <th>betelgeuse</th>\n",
       "      <td>20761</td>\n",
       "    </tr>\n",
       "    <tr>\n",
       "      <th>ceres</th>\n",
       "      <td>26797</td>\n",
       "    </tr>\n",
       "    <tr>\n",
       "      <th>curie</th>\n",
       "      <td>5189</td>\n",
       "    </tr>\n",
       "    <tr>\n",
       "      <th>deimos</th>\n",
       "      <td>21483</td>\n",
       "    </tr>\n",
       "    <tr>\n",
       "      <th>europa</th>\n",
       "      <td>17470</td>\n",
       "    </tr>\n",
       "    <tr>\n",
       "      <th>fortuna</th>\n",
       "      <td>11888</td>\n",
       "    </tr>\n",
       "    <tr>\n",
       "      <th>ganymede</th>\n",
       "      <td>13</td>\n",
       "    </tr>\n",
       "    <tr>\n",
       "      <th>ulysses</th>\n",
       "      <td>85</td>\n",
       "    </tr>\n",
       "    <tr>\n",
       "      <th>voyageurs</th>\n",
       "      <td>15991</td>\n",
       "    </tr>\n",
       "    <tr>\n",
       "      <th>wrangell</th>\n",
       "      <td>17382</td>\n",
       "    </tr>\n",
       "    <tr>\n",
       "      <th>xanadu</th>\n",
       "      <td>18223</td>\n",
       "    </tr>\n",
       "    <tr>\n",
       "      <th>yosemite</th>\n",
       "      <td>15858</td>\n",
       "    </tr>\n",
       "    <tr>\n",
       "      <th>zion</th>\n",
       "      <td>24116</td>\n",
       "    </tr>\n",
       "  </tbody>\n",
       "</table>\n",
       "</div>"
      ],
      "text/plain": [
       "            program_access\n",
       "cohort                    \n",
       "andromeda            16932\n",
       "bayes                16899\n",
       "betelgeuse           20761\n",
       "ceres                26797\n",
       "curie                 5189\n",
       "deimos               21483\n",
       "europa               17470\n",
       "fortuna              11888\n",
       "ganymede                13\n",
       "ulysses                 85\n",
       "voyageurs            15991\n",
       "wrangell             17382\n",
       "xanadu               18223\n",
       "yosemite             15858\n",
       "zion                 24116"
      ]
     },
     "execution_count": 25,
     "metadata": {},
     "output_type": "execute_result"
    }
   ],
   "source": [
    "df3[df3['ip'] == '97.105.19.58'].groupby(df3.cohort).sum()"
   ]
  },
  {
   "cell_type": "code",
   "execution_count": 26,
   "id": "019a28f9",
   "metadata": {},
   "outputs": [
    {
     "data": {
      "text/html": [
       "<div>\n",
       "<style scoped>\n",
       "    .dataframe tbody tr th:only-of-type {\n",
       "        vertical-align: middle;\n",
       "    }\n",
       "\n",
       "    .dataframe tbody tr th {\n",
       "        vertical-align: top;\n",
       "    }\n",
       "\n",
       "    .dataframe thead th {\n",
       "        text-align: right;\n",
       "    }\n",
       "</style>\n",
       "<table border=\"1\" class=\"dataframe\">\n",
       "  <thead>\n",
       "    <tr style=\"text-align: right;\">\n",
       "      <th></th>\n",
       "      <th>program_access</th>\n",
       "    </tr>\n",
       "    <tr>\n",
       "      <th>user_id</th>\n",
       "      <th></th>\n",
       "    </tr>\n",
       "  </thead>\n",
       "  <tbody>\n",
       "    <tr>\n",
       "      <th>118</th>\n",
       "      <td>5</td>\n",
       "    </tr>\n",
       "    <tr>\n",
       "      <th>119</th>\n",
       "      <td>3</td>\n",
       "    </tr>\n",
       "    <tr>\n",
       "      <th>120</th>\n",
       "      <td>671</td>\n",
       "    </tr>\n",
       "    <tr>\n",
       "      <th>124</th>\n",
       "      <td>11</td>\n",
       "    </tr>\n",
       "    <tr>\n",
       "      <th>127</th>\n",
       "      <td>25</td>\n",
       "    </tr>\n",
       "    <tr>\n",
       "      <th>...</th>\n",
       "      <td>...</td>\n",
       "    </tr>\n",
       "    <tr>\n",
       "      <th>625</th>\n",
       "      <td>2</td>\n",
       "    </tr>\n",
       "    <tr>\n",
       "      <th>626</th>\n",
       "      <td>1</td>\n",
       "    </tr>\n",
       "    <tr>\n",
       "      <th>627</th>\n",
       "      <td>1</td>\n",
       "    </tr>\n",
       "    <tr>\n",
       "      <th>628</th>\n",
       "      <td>1</td>\n",
       "    </tr>\n",
       "    <tr>\n",
       "      <th>629</th>\n",
       "      <td>1</td>\n",
       "    </tr>\n",
       "  </tbody>\n",
       "</table>\n",
       "<p>345 rows × 1 columns</p>\n",
       "</div>"
      ],
      "text/plain": [
       "         program_access\n",
       "user_id                \n",
       "118                   5\n",
       "119                   3\n",
       "120                 671\n",
       "124                  11\n",
       "127                  25\n",
       "...                 ...\n",
       "625                   2\n",
       "626                   1\n",
       "627                   1\n",
       "628                   1\n",
       "629                   1\n",
       "\n",
       "[345 rows x 1 columns]"
      ]
     },
     "execution_count": 26,
     "metadata": {},
     "output_type": "execute_result"
    }
   ],
   "source": [
    "df3[df3['ip'] == '97.105.19.58'].groupby(df3.user_id).sum()"
   ]
  },
  {
   "cell_type": "markdown",
   "id": "78892424",
   "metadata": {},
   "source": [
    "so we have 345 user ids that have used this ip address, some much more than others"
   ]
  },
  {
   "cell_type": "code",
   "execution_count": 27,
   "id": "cab50e1a",
   "metadata": {},
   "outputs": [
    {
     "data": {
      "text/html": [
       "<div>\n",
       "<style scoped>\n",
       "    .dataframe tbody tr th:only-of-type {\n",
       "        vertical-align: middle;\n",
       "    }\n",
       "\n",
       "    .dataframe tbody tr th {\n",
       "        vertical-align: top;\n",
       "    }\n",
       "\n",
       "    .dataframe thead th {\n",
       "        text-align: right;\n",
       "    }\n",
       "</style>\n",
       "<table border=\"1\" class=\"dataframe\">\n",
       "  <thead>\n",
       "    <tr style=\"text-align: right;\">\n",
       "      <th></th>\n",
       "      <th>program_access</th>\n",
       "    </tr>\n",
       "    <tr>\n",
       "      <th>ip</th>\n",
       "      <th></th>\n",
       "    </tr>\n",
       "  </thead>\n",
       "  <tbody>\n",
       "    <tr>\n",
       "      <th>104.15.38.22</th>\n",
       "      <td>30</td>\n",
       "    </tr>\n",
       "    <tr>\n",
       "      <th>104.190.255.78</th>\n",
       "      <td>69</td>\n",
       "    </tr>\n",
       "    <tr>\n",
       "      <th>104.48.213.175</th>\n",
       "      <td>687</td>\n",
       "    </tr>\n",
       "    <tr>\n",
       "      <th>192.171.117.210</th>\n",
       "      <td>100</td>\n",
       "    </tr>\n",
       "    <tr>\n",
       "      <th>70.123.135.83</th>\n",
       "      <td>18</td>\n",
       "    </tr>\n",
       "    <tr>\n",
       "      <th>70.123.137.196</th>\n",
       "      <td>64</td>\n",
       "    </tr>\n",
       "    <tr>\n",
       "      <th>72.128.136.219</th>\n",
       "      <td>4</td>\n",
       "    </tr>\n",
       "    <tr>\n",
       "      <th>72.177.116.71</th>\n",
       "      <td>3</td>\n",
       "    </tr>\n",
       "    <tr>\n",
       "      <th>72.179.136.146</th>\n",
       "      <td>3</td>\n",
       "    </tr>\n",
       "    <tr>\n",
       "      <th>97.105.19.58</th>\n",
       "      <td>671</td>\n",
       "    </tr>\n",
       "    <tr>\n",
       "      <th>97.105.19.61</th>\n",
       "      <td>654</td>\n",
       "    </tr>\n",
       "    <tr>\n",
       "      <th>97.77.127.220</th>\n",
       "      <td>4</td>\n",
       "    </tr>\n",
       "    <tr>\n",
       "      <th>99.203.155.180</th>\n",
       "      <td>4</td>\n",
       "    </tr>\n",
       "    <tr>\n",
       "      <th>99.203.27.254</th>\n",
       "      <td>1</td>\n",
       "    </tr>\n",
       "  </tbody>\n",
       "</table>\n",
       "</div>"
      ],
      "text/plain": [
       "                 program_access\n",
       "ip                             \n",
       "104.15.38.22                 30\n",
       "104.190.255.78               69\n",
       "104.48.213.175              687\n",
       "192.171.117.210             100\n",
       "70.123.135.83                18\n",
       "70.123.137.196               64\n",
       "72.128.136.219                4\n",
       "72.177.116.71                 3\n",
       "72.179.136.146                3\n",
       "97.105.19.58                671\n",
       "97.105.19.61                654\n",
       "97.77.127.220                 4\n",
       "99.203.155.180                4\n",
       "99.203.27.254                 1"
      ]
     },
     "execution_count": 27,
     "metadata": {},
     "output_type": "execute_result"
    }
   ],
   "source": [
    "df3[df3['user_id'] == 120].groupby(df3.ip).sum()\n",
    "#all of the ip addresses from user 120"
   ]
  },
  {
   "cell_type": "markdown",
   "id": "d307f48d",
   "metadata": {},
   "source": [
    "OK, I'm thinking that this is the public IP address for codeup so we could potentially infer that these are inperson students. One more thought to see if that makes sense...\n",
    "\n",
    "Also, this is what google says-\n",
    "\n",
    "If you access the Internet from a local network (LAN) in your home or business, it is possible that you share an IP address with other users. This is because, while you might use different computers or devices, you all use the same Internet connection"
   ]
  },
  {
   "cell_type": "markdown",
   "id": "ad29fe6b",
   "metadata": {},
   "source": [
    "If my theory is true, there'd be no access from that ip during a lot of covid time"
   ]
  },
  {
   "cell_type": "code",
   "execution_count": 28,
   "id": "f8f58869",
   "metadata": {},
   "outputs": [
    {
     "data": {
      "text/html": [
       "<div>\n",
       "<style scoped>\n",
       "    .dataframe tbody tr th:only-of-type {\n",
       "        vertical-align: middle;\n",
       "    }\n",
       "\n",
       "    .dataframe tbody tr th {\n",
       "        vertical-align: top;\n",
       "    }\n",
       "\n",
       "    .dataframe thead th {\n",
       "        text-align: right;\n",
       "    }\n",
       "</style>\n",
       "<table border=\"1\" class=\"dataframe\">\n",
       "  <thead>\n",
       "    <tr style=\"text-align: right;\">\n",
       "      <th></th>\n",
       "      <th>program_access</th>\n",
       "    </tr>\n",
       "    <tr>\n",
       "      <th>date_time</th>\n",
       "      <th></th>\n",
       "    </tr>\n",
       "  </thead>\n",
       "  <tbody>\n",
       "    <tr>\n",
       "      <th>False</th>\n",
       "      <td>485</td>\n",
       "    </tr>\n",
       "    <tr>\n",
       "      <th>True</th>\n",
       "      <td>228602</td>\n",
       "    </tr>\n",
       "  </tbody>\n",
       "</table>\n",
       "</div>"
      ],
      "text/plain": [
       "           program_access\n",
       "date_time                \n",
       "False                 485\n",
       "True               228602"
      ]
     },
     "execution_count": 28,
     "metadata": {},
     "output_type": "execute_result"
    }
   ],
   "source": [
    "df3[df3['ip'] == '97.105.19.58'].groupby(df3.date_time < '2020-03-15').sum()"
   ]
  },
  {
   "cell_type": "code",
   "execution_count": 29,
   "id": "5de25953",
   "metadata": {},
   "outputs": [
    {
     "data": {
      "text/html": [
       "<div>\n",
       "<style scoped>\n",
       "    .dataframe tbody tr th:only-of-type {\n",
       "        vertical-align: middle;\n",
       "    }\n",
       "\n",
       "    .dataframe tbody tr th {\n",
       "        vertical-align: top;\n",
       "    }\n",
       "\n",
       "    .dataframe thead th {\n",
       "        text-align: right;\n",
       "    }\n",
       "</style>\n",
       "<table border=\"1\" class=\"dataframe\">\n",
       "  <thead>\n",
       "    <tr style=\"text-align: right;\">\n",
       "      <th></th>\n",
       "      <th>program_access</th>\n",
       "    </tr>\n",
       "    <tr>\n",
       "      <th>date_time</th>\n",
       "      <th></th>\n",
       "    </tr>\n",
       "  </thead>\n",
       "  <tbody>\n",
       "    <tr>\n",
       "      <th>True</th>\n",
       "      <td>229087</td>\n",
       "    </tr>\n",
       "  </tbody>\n",
       "</table>\n",
       "</div>"
      ],
      "text/plain": [
       "           program_access\n",
       "date_time                \n",
       "True               229087"
      ]
     },
     "execution_count": 29,
     "metadata": {},
     "output_type": "execute_result"
    }
   ],
   "source": [
    "df3[df3['ip'] == '97.105.19.58'].groupby(df3.date_time < '2020-03-30').sum()"
   ]
  },
  {
   "cell_type": "markdown",
   "id": "19f65c81",
   "metadata": {},
   "source": [
    "ok, this ip address definitely stopped being used right at lock down time. let's look at the other"
   ]
  },
  {
   "cell_type": "code",
   "execution_count": 30,
   "id": "fb3eeea8",
   "metadata": {},
   "outputs": [
    {
     "data": {
      "text/html": [
       "<div>\n",
       "<style scoped>\n",
       "    .dataframe tbody tr th:only-of-type {\n",
       "        vertical-align: middle;\n",
       "    }\n",
       "\n",
       "    .dataframe tbody tr th {\n",
       "        vertical-align: top;\n",
       "    }\n",
       "\n",
       "    .dataframe thead th {\n",
       "        text-align: right;\n",
       "    }\n",
       "</style>\n",
       "<table border=\"1\" class=\"dataframe\">\n",
       "  <thead>\n",
       "    <tr style=\"text-align: right;\">\n",
       "      <th></th>\n",
       "      <th>program_access</th>\n",
       "    </tr>\n",
       "    <tr>\n",
       "      <th>date_time</th>\n",
       "      <th></th>\n",
       "    </tr>\n",
       "  </thead>\n",
       "  <tbody>\n",
       "    <tr>\n",
       "      <th>True</th>\n",
       "      <td>52122</td>\n",
       "    </tr>\n",
       "  </tbody>\n",
       "</table>\n",
       "</div>"
      ],
      "text/plain": [
       "           program_access\n",
       "date_time                \n",
       "True                52122"
      ]
     },
     "execution_count": 30,
     "metadata": {},
     "output_type": "execute_result"
    }
   ],
   "source": [
    "df3[df3['ip'] == '97.105.19.61'].groupby(df3.date_time < '2020-03-30').sum()"
   ]
  },
  {
   "cell_type": "code",
   "execution_count": 31,
   "id": "a0034b2d",
   "metadata": {},
   "outputs": [
    {
     "data": {
      "text/html": [
       "<div>\n",
       "<style scoped>\n",
       "    .dataframe tbody tr th:only-of-type {\n",
       "        vertical-align: middle;\n",
       "    }\n",
       "\n",
       "    .dataframe tbody tr th {\n",
       "        vertical-align: top;\n",
       "    }\n",
       "\n",
       "    .dataframe thead th {\n",
       "        text-align: right;\n",
       "    }\n",
       "</style>\n",
       "<table border=\"1\" class=\"dataframe\">\n",
       "  <thead>\n",
       "    <tr style=\"text-align: right;\">\n",
       "      <th></th>\n",
       "      <th>program_access</th>\n",
       "    </tr>\n",
       "    <tr>\n",
       "      <th>date_time</th>\n",
       "      <th></th>\n",
       "    </tr>\n",
       "  </thead>\n",
       "  <tbody>\n",
       "    <tr>\n",
       "      <th>False</th>\n",
       "      <td>394</td>\n",
       "    </tr>\n",
       "    <tr>\n",
       "      <th>True</th>\n",
       "      <td>7590</td>\n",
       "    </tr>\n",
       "  </tbody>\n",
       "</table>\n",
       "</div>"
      ],
      "text/plain": [
       "           program_access\n",
       "date_time                \n",
       "False                 394\n",
       "True                 7590"
      ]
     },
     "execution_count": 31,
     "metadata": {},
     "output_type": "execute_result"
    }
   ],
   "source": [
    "df3[df3['ip'] == '192.171.117.210'].groupby(df3.date_time < '2020-03-30').sum()"
   ]
  },
  {
   "cell_type": "markdown",
   "id": "69c2dc6e",
   "metadata": {},
   "source": [
    "ok, right now, I don't have enough info to determine in person vs. virtual so potentially will come back to this idea, but those could ip addresses I can deteermine are at Codeup and went dead when the pandemic started. That's all I'll do w ip addresses right now"
   ]
  },
  {
   "cell_type": "markdown",
   "id": "4bac022e",
   "metadata": {},
   "source": [
    "### What is \"low access\""
   ]
  },
  {
   "cell_type": "code",
   "execution_count": 32,
   "id": "73bcc49a",
   "metadata": {},
   "outputs": [
    {
     "data": {
      "text/plain": [
       "jupiter       36447\n",
       "ceres         35766\n",
       "zion          33842\n",
       "fortuna       33397\n",
       "voyageurs     32337\n",
       "ganymede      29438\n",
       "darden        28834\n",
       "apex          28641\n",
       "hyperion      28513\n",
       "betelgeuse    25936\n",
       "europa        25702\n",
       "teddy         25280\n",
       "deimos        24799\n",
       "ulysses       24088\n",
       "wrangell      24059\n",
       "kalypso       23691\n",
       "xanadu        22508\n",
       "bayes         21813\n",
       "andromeda     21114\n",
       "yosemite      19255\n",
       "curie         17943\n",
       "luna          16623\n",
       "marco         16397\n",
       "bash          16371\n",
       "easley        14715\n",
       "florence       8562\n",
       "neptune        7276\n",
       "sequoia        2178\n",
       "oberon         1672\n",
       "Name: cohort, dtype: int64"
      ]
     },
     "execution_count": 32,
     "metadata": {},
     "output_type": "execute_result"
    }
   ],
   "source": [
    "cohort_counts = df3.cohort.value_counts()\n",
    "cohort_counts\n",
    "#check to make sure no staff and lowest access"
   ]
  },
  {
   "cell_type": "markdown",
   "id": "44715232",
   "metadata": {},
   "source": [
    "notes: gives overview, but to be fair, this doesn't mean much without comparing this to the amount of students in that cohort. looking at that..."
   ]
  },
  {
   "cell_type": "code",
   "execution_count": 33,
   "id": "1eec0330",
   "metadata": {},
   "outputs": [
    {
     "data": {
      "text/plain": [
       "cohort\n",
       "andromeda     27\n",
       "apex          21\n",
       "bash          22\n",
       "bayes         22\n",
       "betelgeuse    20\n",
       "ceres         29\n",
       "curie         19\n",
       "darden        28\n",
       "deimos        25\n",
       "easley        17\n",
       "europa        28\n",
       "florence      21\n",
       "fortuna       28\n",
       "ganymede      28\n",
       "hyperion      23\n",
       "jupiter       33\n",
       "kalypso       23\n",
       "luna          20\n",
       "marco         31\n",
       "neptune       37\n",
       "oberon        26\n",
       "sequoia       21\n",
       "teddy         31\n",
       "ulysses       28\n",
       "voyageurs     33\n",
       "wrangell      26\n",
       "xanadu        20\n",
       "yosemite      27\n",
       "zion          25\n",
       "Name: user_id, dtype: int64"
      ]
     },
     "execution_count": 33,
     "metadata": {},
     "output_type": "execute_result"
    }
   ],
   "source": [
    "user_counts = df3.user_id.groupby(df3.cohort).nunique()\n",
    "user_counts"
   ]
  },
  {
   "cell_type": "code",
   "execution_count": 34,
   "id": "8a8f875b",
   "metadata": {},
   "outputs": [
    {
     "data": {
      "text/plain": [
       "oberon          64.0\n",
       "sequoia        104.0\n",
       "neptune        197.0\n",
       "florence       408.0\n",
       "marco          529.0\n",
       "yosemite       713.0\n",
       "bash           744.0\n",
       "andromeda      782.0\n",
       "teddy          815.0\n",
       "luna           831.0\n",
       "ulysses        860.0\n",
       "easley         866.0\n",
       "europa         918.0\n",
       "wrangell       925.0\n",
       "curie          944.0\n",
       "voyageurs      980.0\n",
       "deimos         992.0\n",
       "bayes          992.0\n",
       "kalypso       1030.0\n",
       "darden        1030.0\n",
       "ganymede      1051.0\n",
       "jupiter       1104.0\n",
       "xanadu        1125.0\n",
       "fortuna       1193.0\n",
       "ceres         1233.0\n",
       "hyperion      1240.0\n",
       "betelgeuse    1297.0\n",
       "zion          1354.0\n",
       "apex          1364.0\n",
       "dtype: float64"
      ]
     },
     "execution_count": 34,
     "metadata": {},
     "output_type": "execute_result"
    }
   ],
   "source": [
    "round(cohort_counts/user_counts).sort_values()\n",
    "#this is average active student access per cohort\n",
    "#of course this does not show individual students yet that have low access, just overview by cohort"
   ]
  },
  {
   "cell_type": "code",
   "execution_count": 35,
   "id": "7fd32e49",
   "metadata": {},
   "outputs": [
    {
     "data": {
      "text/plain": [
       "program\n",
       "data_science        5\n",
       "full_stack_java    24\n",
       "Name: cohort, dtype: int64"
      ]
     },
     "execution_count": 35,
     "metadata": {},
     "output_type": "execute_result"
    }
   ],
   "source": [
    "df3.cohort.groupby(df3.program).nunique()"
   ]
  },
  {
   "cell_type": "code",
   "execution_count": 36,
   "id": "c276bdcb",
   "metadata": {},
   "outputs": [
    {
     "data": {
      "text/plain": [
       "program\n",
       "False    [teddy, sequoia, ulysses, voyageurs, wrangell,...\n",
       "True              [bayes, curie, darden, easley, florence]\n",
       "Name: cohort, dtype: object"
      ]
     },
     "execution_count": 36,
     "metadata": {},
     "output_type": "execute_result"
    }
   ],
   "source": [
    "df3.cohort.groupby(df3.program == 'data_science').unique()"
   ]
  },
  {
   "cell_type": "code",
   "execution_count": 37,
   "id": "5dab86d2",
   "metadata": {},
   "outputs": [],
   "source": [
    "def bar_color(df3,color1,color2):\n",
    "    return np.where(df3.program == 'data_science' ,color1,color2)"
   ]
  },
  {
   "cell_type": "code",
   "execution_count": 38,
   "id": "ff499e57",
   "metadata": {},
   "outputs": [
    {
     "data": {
      "text/plain": [
       "<AxesSubplot:>"
      ]
     },
     "execution_count": 38,
     "metadata": {},
     "output_type": "execute_result"
    },
    {
     "data": {
      "image/png": "[encoded data removed]",
      "text/plain": [
       "<Figure size 1080x576 with 1 Axes>"
      ]
     },
     "metadata": {
      "needs_background": "light"
     },
     "output_type": "display_data"
    }
   ],
   "source": [
    "plt.figure(figsize=(15,8))\n",
    "(df3.cohort.value_counts()/df3.user_id.groupby(df3.cohort).nunique()).sort_values(ascending=True).plot(kind='barh')"
   ]
  },
  {
   "cell_type": "code",
   "execution_count": 39,
   "id": "4028145d",
   "metadata": {},
   "outputs": [],
   "source": [
    "df3['cohort_program'] = df3['program'] + '_' + df3['cohort']"
   ]
  },
  {
   "cell_type": "code",
   "execution_count": 40,
   "id": "22d2a080",
   "metadata": {},
   "outputs": [
    {
     "data": {
      "text/plain": [
       "<AxesSubplot:>"
      ]
     },
     "execution_count": 40,
     "metadata": {},
     "output_type": "execute_result"
    },
    {
     "data": {
      "image/png": "[encoded data removed]",
      "text/plain": [
       "<Figure size 720x720 with 1 Axes>"
      ]
     },
     "metadata": {
      "needs_background": "light"
     },
     "output_type": "display_data"
    }
   ],
   "source": [
    "plt.figure(figsize=(10,10))\n",
    "(df3.cohort_program.value_counts()/df3.user_id.groupby(df3.cohort_program).nunique()).sort_values(ascending=True).plot(kind='barh')"
   ]
  },
  {
   "cell_type": "markdown",
   "id": "5767b8ce",
   "metadata": {},
   "source": [
    "there are only 5 ds cohorts in the set compared to 24 java and ds is spread out here with averages so right now there isnt a super obvious trend with averages, but let's bin low access and see if those students tend to fall in certain programs. We can see here a couple cohorts had super low averages. any trend with them?"
   ]
  },
  {
   "cell_type": "markdown",
   "id": "c666d003",
   "metadata": {},
   "source": [
    "### binning-"
   ]
  },
  {
   "cell_type": "code",
   "execution_count": 41,
   "id": "fee7002a",
   "metadata": {},
   "outputs": [],
   "source": [
    "counts = df3.user_id.value_counts()\n",
    "#low = active[active['user_id'].isin(counts[counts < 100].index)]"
   ]
  },
  {
   "cell_type": "code",
   "execution_count": 42,
   "id": "647da334",
   "metadata": {},
   "outputs": [
    {
     "data": {
      "text/plain": [
       "344    4763\n",
       "570    4075\n",
       "685    3223\n",
       "671    3193\n",
       "555    3086\n",
       "       ... \n",
       "832       3\n",
       "879       1\n",
       "940       1\n",
       "918       1\n",
       "619       1\n",
       "Name: user_id, Length: 731, dtype: int64"
      ]
     },
     "execution_count": 42,
     "metadata": {},
     "output_type": "execute_result"
    }
   ],
   "source": [
    "df3.user_id.value_counts()"
   ]
  },
  {
   "cell_type": "code",
   "execution_count": 43,
   "id": "4ec65f8a",
   "metadata": {},
   "outputs": [
    {
     "name": "stdout",
     "output_type": "stream",
     "text": [
      "<class 'pandas.core.frame.DataFrame'>\n",
      "RangeIndex: 900223 entries, 0 to 900222\n",
      "Data columns (total 11 columns):\n",
      " #   Column      Non-Null Count   Dtype         \n",
      "---  ------      --------------   -----         \n",
      " 0   path        900222 non-null  object        \n",
      " 1   user_id     900223 non-null  int64         \n",
      " 2   cohort_id   847330 non-null  float64       \n",
      " 3   ip          900223 non-null  object        \n",
      " 4   name        847330 non-null  object        \n",
      " 5   start_date  847330 non-null  datetime64[ns]\n",
      " 6   end_date    847330 non-null  datetime64[ns]\n",
      " 7   created_at  847330 non-null  datetime64[ns]\n",
      " 8   updated_at  847330 non-null  datetime64[ns]\n",
      " 9   program_id  847330 non-null  object        \n",
      " 10  date_time   900223 non-null  datetime64[ns]\n",
      "dtypes: datetime64[ns](5), float64(1), int64(1), object(4)\n",
      "memory usage: 75.5+ MB\n"
     ]
    }
   ],
   "source": [
    "df.info()"
   ]
  },
  {
   "cell_type": "code",
   "execution_count": 44,
   "id": "4a87441a",
   "metadata": {},
   "outputs": [
    {
     "data": {
      "text/html": [
       "<div>\n",
       "<style scoped>\n",
       "    .dataframe tbody tr th:only-of-type {\n",
       "        vertical-align: middle;\n",
       "    }\n",
       "\n",
       "    .dataframe tbody tr th {\n",
       "        vertical-align: top;\n",
       "    }\n",
       "\n",
       "    .dataframe thead th {\n",
       "        text-align: right;\n",
       "    }\n",
       "</style>\n",
       "<table border=\"1\" class=\"dataframe\">\n",
       "  <thead>\n",
       "    <tr style=\"text-align: right;\">\n",
       "      <th></th>\n",
       "      <th>program_access</th>\n",
       "    </tr>\n",
       "    <tr>\n",
       "      <th>user_id</th>\n",
       "      <th></th>\n",
       "    </tr>\n",
       "  </thead>\n",
       "  <tbody>\n",
       "    <tr>\n",
       "      <th>2</th>\n",
       "      <td>1541</td>\n",
       "    </tr>\n",
       "    <tr>\n",
       "      <th>3</th>\n",
       "      <td>1514</td>\n",
       "    </tr>\n",
       "    <tr>\n",
       "      <th>4</th>\n",
       "      <td>692</td>\n",
       "    </tr>\n",
       "    <tr>\n",
       "      <th>5</th>\n",
       "      <td>1621</td>\n",
       "    </tr>\n",
       "    <tr>\n",
       "      <th>6</th>\n",
       "      <td>1311</td>\n",
       "    </tr>\n",
       "    <tr>\n",
       "      <th>...</th>\n",
       "      <td>...</td>\n",
       "    </tr>\n",
       "    <tr>\n",
       "      <th>976</th>\n",
       "      <td>29</td>\n",
       "    </tr>\n",
       "    <tr>\n",
       "      <th>977</th>\n",
       "      <td>86</td>\n",
       "    </tr>\n",
       "    <tr>\n",
       "      <th>978</th>\n",
       "      <td>55</td>\n",
       "    </tr>\n",
       "    <tr>\n",
       "      <th>979</th>\n",
       "      <td>127</td>\n",
       "    </tr>\n",
       "    <tr>\n",
       "      <th>981</th>\n",
       "      <td>42</td>\n",
       "    </tr>\n",
       "  </tbody>\n",
       "</table>\n",
       "<p>731 rows × 1 columns</p>\n",
       "</div>"
      ],
      "text/plain": [
       "         program_access\n",
       "user_id                \n",
       "2                  1541\n",
       "3                  1514\n",
       "4                   692\n",
       "5                  1621\n",
       "6                  1311\n",
       "...                 ...\n",
       "976                  29\n",
       "977                  86\n",
       "978                  55\n",
       "979                 127\n",
       "981                  42\n",
       "\n",
       "[731 rows x 1 columns]"
      ]
     },
     "execution_count": 44,
     "metadata": {},
     "output_type": "execute_result"
    }
   ],
   "source": [
    "df3.groupby(df.user_id).sum()"
   ]
  },
  {
   "cell_type": "code",
   "execution_count": 45,
   "id": "14cbfd58",
   "metadata": {},
   "outputs": [
    {
     "data": {
      "text/plain": [
       "(885.358413132695, 1, 4763)"
      ]
     },
     "execution_count": 45,
     "metadata": {},
     "output_type": "execute_result"
    }
   ],
   "source": [
    "counts.mean(), counts.min(), counts.max()"
   ]
  },
  {
   "cell_type": "code",
   "execution_count": 46,
   "id": "bb038597",
   "metadata": {},
   "outputs": [
    {
     "data": {
      "text/plain": [
       "6.3"
      ]
     },
     "execution_count": 46,
     "metadata": {},
     "output_type": "execute_result"
    }
   ],
   "source": [
    "counts.quantile(.01)"
   ]
  },
  {
   "cell_type": "code",
   "execution_count": 47,
   "id": "b8a4d4d1",
   "metadata": {},
   "outputs": [
    {
     "data": {
      "text/plain": [
       "50.0"
      ]
     },
     "execution_count": 47,
     "metadata": {},
     "output_type": "execute_result"
    }
   ],
   "source": [
    "counts.quantile(.05)"
   ]
  },
  {
   "cell_type": "code",
   "execution_count": 48,
   "id": "f6bc256a",
   "metadata": {},
   "outputs": [
    {
     "data": {
      "text/plain": [
       "115.0"
      ]
     },
     "execution_count": 48,
     "metadata": {},
     "output_type": "execute_result"
    }
   ],
   "source": [
    "counts.quantile(.10)"
   ]
  },
  {
   "cell_type": "code",
   "execution_count": 63,
   "id": "bc66222e",
   "metadata": {},
   "outputs": [
    {
     "data": {
      "text/plain": [
       "<AxesSubplot:>"
      ]
     },
     "execution_count": 63,
     "metadata": {},
     "output_type": "execute_result"
    },
    {
     "data": {
      "image/png": "[encoded data removed]",
      "text/plain": [
       "<Figure size 432x288 with 1 Axes>"
      ]
     },
     "metadata": {
      "needs_background": "light"
     },
     "output_type": "display_data"
    }
   ],
   "source": [
    "pd.cut(df3['user_id'], [0, 7 , 51 , 115, 500000], include_lowest=True).value_counts().plot(kind='bar')"
   ]
  },
  {
   "cell_type": "code",
   "execution_count": 50,
   "id": "07d924c1",
   "metadata": {},
   "outputs": [],
   "source": [
    "bins = [0, 7, 51, 115, 50000000]\n",
    "labels = ['bottom_1', 'bottom_1-5','bottom_5-10', 'not_bottom']\n",
    "df3['bottom'] = pd.cut(df3['user_id'].value_counts(), bins=bins, labels=labels)"
   ]
  },
  {
   "cell_type": "code",
   "execution_count": 62,
   "id": "de2c6de9",
   "metadata": {},
   "outputs": [
    {
     "data": {
      "text/html": [
       "<div>\n",
       "<style scoped>\n",
       "    .dataframe tbody tr th:only-of-type {\n",
       "        vertical-align: middle;\n",
       "    }\n",
       "\n",
       "    .dataframe tbody tr th {\n",
       "        vertical-align: top;\n",
       "    }\n",
       "\n",
       "    .dataframe thead th {\n",
       "        text-align: right;\n",
       "    }\n",
       "</style>\n",
       "<table border=\"1\" class=\"dataframe\">\n",
       "  <thead>\n",
       "    <tr style=\"text-align: right;\">\n",
       "      <th></th>\n",
       "      <th>path</th>\n",
       "      <th>user_id</th>\n",
       "      <th>ip</th>\n",
       "      <th>cohort</th>\n",
       "      <th>start_date</th>\n",
       "      <th>end_date</th>\n",
       "      <th>created_at</th>\n",
       "      <th>updated_at</th>\n",
       "      <th>program</th>\n",
       "      <th>date_time</th>\n",
       "      <th>program_access</th>\n",
       "      <th>cohort_program</th>\n",
       "      <th>bottom</th>\n",
       "    </tr>\n",
       "  </thead>\n",
       "  <tbody>\n",
       "    <tr>\n",
       "      <th>4</th>\n",
       "      <td>javascript-i/conditionals</td>\n",
       "      <td>2</td>\n",
       "      <td>97.105.19.61</td>\n",
       "      <td>teddy</td>\n",
       "      <td>2018-01-08</td>\n",
       "      <td>2018-05-17</td>\n",
       "      <td>2018-01-08 13:59:10</td>\n",
       "      <td>2018-01-08 13:59:10</td>\n",
       "      <td>full_stack_java</td>\n",
       "      <td>2018-01-26 09:56:24</td>\n",
       "      <td>True</td>\n",
       "      <td>full_stack_java_teddy</td>\n",
       "      <td>not_bottom</td>\n",
       "    </tr>\n",
       "    <tr>\n",
       "      <th>5</th>\n",
       "      <td>javascript-i/loops</td>\n",
       "      <td>2</td>\n",
       "      <td>97.105.19.61</td>\n",
       "      <td>teddy</td>\n",
       "      <td>2018-01-08</td>\n",
       "      <td>2018-05-17</td>\n",
       "      <td>2018-01-08 13:59:10</td>\n",
       "      <td>2018-01-08 13:59:10</td>\n",
       "      <td>full_stack_java</td>\n",
       "      <td>2018-01-26 09:56:41</td>\n",
       "      <td>True</td>\n",
       "      <td>full_stack_java_teddy</td>\n",
       "      <td>not_bottom</td>\n",
       "    </tr>\n",
       "    <tr>\n",
       "      <th>6</th>\n",
       "      <td>javascript-i/conditionals</td>\n",
       "      <td>3</td>\n",
       "      <td>97.105.19.61</td>\n",
       "      <td>teddy</td>\n",
       "      <td>2018-01-08</td>\n",
       "      <td>2018-05-17</td>\n",
       "      <td>2018-01-08 13:59:10</td>\n",
       "      <td>2018-01-08 13:59:10</td>\n",
       "      <td>full_stack_java</td>\n",
       "      <td>2018-01-26 09:56:46</td>\n",
       "      <td>True</td>\n",
       "      <td>full_stack_java_teddy</td>\n",
       "      <td>not_bottom</td>\n",
       "    </tr>\n",
       "    <tr>\n",
       "      <th>7</th>\n",
       "      <td>javascript-i/functions</td>\n",
       "      <td>3</td>\n",
       "      <td>97.105.19.61</td>\n",
       "      <td>teddy</td>\n",
       "      <td>2018-01-08</td>\n",
       "      <td>2018-05-17</td>\n",
       "      <td>2018-01-08 13:59:10</td>\n",
       "      <td>2018-01-08 13:59:10</td>\n",
       "      <td>full_stack_java</td>\n",
       "      <td>2018-01-26 09:56:48</td>\n",
       "      <td>True</td>\n",
       "      <td>full_stack_java_teddy</td>\n",
       "      <td>not_bottom</td>\n",
       "    </tr>\n",
       "    <tr>\n",
       "      <th>8</th>\n",
       "      <td>javascript-i/loops</td>\n",
       "      <td>2</td>\n",
       "      <td>97.105.19.61</td>\n",
       "      <td>teddy</td>\n",
       "      <td>2018-01-08</td>\n",
       "      <td>2018-05-17</td>\n",
       "      <td>2018-01-08 13:59:10</td>\n",
       "      <td>2018-01-08 13:59:10</td>\n",
       "      <td>full_stack_java</td>\n",
       "      <td>2018-01-26 09:56:59</td>\n",
       "      <td>True</td>\n",
       "      <td>full_stack_java_teddy</td>\n",
       "      <td>not_bottom</td>\n",
       "    </tr>\n",
       "    <tr>\n",
       "      <th>...</th>\n",
       "      <td>...</td>\n",
       "      <td>...</td>\n",
       "      <td>...</td>\n",
       "      <td>...</td>\n",
       "      <td>...</td>\n",
       "      <td>...</td>\n",
       "      <td>...</td>\n",
       "      <td>...</td>\n",
       "      <td>...</td>\n",
       "      <td>...</td>\n",
       "      <td>...</td>\n",
       "      <td>...</td>\n",
       "      <td>...</td>\n",
       "    </tr>\n",
       "    <tr>\n",
       "      <th>947</th>\n",
       "      <td>javascript-i/conditionals</td>\n",
       "      <td>6</td>\n",
       "      <td>104.53.201.99</td>\n",
       "      <td>teddy</td>\n",
       "      <td>2018-01-08</td>\n",
       "      <td>2018-05-17</td>\n",
       "      <td>2018-01-08 13:59:10</td>\n",
       "      <td>2018-01-08 13:59:10</td>\n",
       "      <td>full_stack_java</td>\n",
       "      <td>2018-01-28 21:46:51</td>\n",
       "      <td>True</td>\n",
       "      <td>full_stack_java_teddy</td>\n",
       "      <td>not_bottom</td>\n",
       "    </tr>\n",
       "    <tr>\n",
       "      <th>948</th>\n",
       "      <td>javascript-i/functions</td>\n",
       "      <td>6</td>\n",
       "      <td>104.53.201.99</td>\n",
       "      <td>teddy</td>\n",
       "      <td>2018-01-08</td>\n",
       "      <td>2018-05-17</td>\n",
       "      <td>2018-01-08 13:59:10</td>\n",
       "      <td>2018-01-08 13:59:10</td>\n",
       "      <td>full_stack_java</td>\n",
       "      <td>2018-01-28 21:46:57</td>\n",
       "      <td>True</td>\n",
       "      <td>full_stack_java_teddy</td>\n",
       "      <td>not_bottom</td>\n",
       "    </tr>\n",
       "    <tr>\n",
       "      <th>949</th>\n",
       "      <td>appendix/further-reading/javascript/hoisting.html</td>\n",
       "      <td>6</td>\n",
       "      <td>104.53.201.99</td>\n",
       "      <td>teddy</td>\n",
       "      <td>2018-01-08</td>\n",
       "      <td>2018-05-17</td>\n",
       "      <td>2018-01-08 13:59:10</td>\n",
       "      <td>2018-01-08 13:59:10</td>\n",
       "      <td>full_stack_java</td>\n",
       "      <td>2018-01-28 21:47:00</td>\n",
       "      <td>True</td>\n",
       "      <td>full_stack_java_teddy</td>\n",
       "      <td>not_bottom</td>\n",
       "    </tr>\n",
       "    <tr>\n",
       "      <th>950</th>\n",
       "      <td>appendix/further-reading/javascript/hoisting</td>\n",
       "      <td>6</td>\n",
       "      <td>104.53.201.99</td>\n",
       "      <td>teddy</td>\n",
       "      <td>2018-01-08</td>\n",
       "      <td>2018-05-17</td>\n",
       "      <td>2018-01-08 13:59:10</td>\n",
       "      <td>2018-01-08 13:59:10</td>\n",
       "      <td>full_stack_java</td>\n",
       "      <td>2018-01-28 21:47:06</td>\n",
       "      <td>True</td>\n",
       "      <td>full_stack_java_teddy</td>\n",
       "      <td>not_bottom</td>\n",
       "    </tr>\n",
       "    <tr>\n",
       "      <th>966</th>\n",
       "      <td>javascript-i/functions</td>\n",
       "      <td>6</td>\n",
       "      <td>104.53.201.99</td>\n",
       "      <td>teddy</td>\n",
       "      <td>2018-01-08</td>\n",
       "      <td>2018-05-17</td>\n",
       "      <td>2018-01-08 13:59:10</td>\n",
       "      <td>2018-01-08 13:59:10</td>\n",
       "      <td>full_stack_java</td>\n",
       "      <td>2018-01-28 22:11:06</td>\n",
       "      <td>True</td>\n",
       "      <td>full_stack_java_teddy</td>\n",
       "      <td>not_bottom</td>\n",
       "    </tr>\n",
       "  </tbody>\n",
       "</table>\n",
       "<p>550 rows × 13 columns</p>\n",
       "</div>"
      ],
      "text/plain": [
       "                                                  path user_id             ip  \\\n",
       "4                            javascript-i/conditionals       2   97.105.19.61   \n",
       "5                                   javascript-i/loops       2   97.105.19.61   \n",
       "6                            javascript-i/conditionals       3   97.105.19.61   \n",
       "7                               javascript-i/functions       3   97.105.19.61   \n",
       "8                                   javascript-i/loops       2   97.105.19.61   \n",
       "..                                                 ...     ...            ...   \n",
       "947                          javascript-i/conditionals       6  104.53.201.99   \n",
       "948                             javascript-i/functions       6  104.53.201.99   \n",
       "949  appendix/further-reading/javascript/hoisting.html       6  104.53.201.99   \n",
       "950       appendix/further-reading/javascript/hoisting       6  104.53.201.99   \n",
       "966                             javascript-i/functions       6  104.53.201.99   \n",
       "\n",
       "    cohort start_date   end_date          created_at          updated_at  \\\n",
       "4    teddy 2018-01-08 2018-05-17 2018-01-08 13:59:10 2018-01-08 13:59:10   \n",
       "5    teddy 2018-01-08 2018-05-17 2018-01-08 13:59:10 2018-01-08 13:59:10   \n",
       "6    teddy 2018-01-08 2018-05-17 2018-01-08 13:59:10 2018-01-08 13:59:10   \n",
       "7    teddy 2018-01-08 2018-05-17 2018-01-08 13:59:10 2018-01-08 13:59:10   \n",
       "8    teddy 2018-01-08 2018-05-17 2018-01-08 13:59:10 2018-01-08 13:59:10   \n",
       "..     ...        ...        ...                 ...                 ...   \n",
       "947  teddy 2018-01-08 2018-05-17 2018-01-08 13:59:10 2018-01-08 13:59:10   \n",
       "948  teddy 2018-01-08 2018-05-17 2018-01-08 13:59:10 2018-01-08 13:59:10   \n",
       "949  teddy 2018-01-08 2018-05-17 2018-01-08 13:59:10 2018-01-08 13:59:10   \n",
       "950  teddy 2018-01-08 2018-05-17 2018-01-08 13:59:10 2018-01-08 13:59:10   \n",
       "966  teddy 2018-01-08 2018-05-17 2018-01-08 13:59:10 2018-01-08 13:59:10   \n",
       "\n",
       "             program           date_time  program_access  \\\n",
       "4    full_stack_java 2018-01-26 09:56:24            True   \n",
       "5    full_stack_java 2018-01-26 09:56:41            True   \n",
       "6    full_stack_java 2018-01-26 09:56:46            True   \n",
       "7    full_stack_java 2018-01-26 09:56:48            True   \n",
       "8    full_stack_java 2018-01-26 09:56:59            True   \n",
       "..               ...                 ...             ...   \n",
       "947  full_stack_java 2018-01-28 21:46:51            True   \n",
       "948  full_stack_java 2018-01-28 21:46:57            True   \n",
       "949  full_stack_java 2018-01-28 21:47:00            True   \n",
       "950  full_stack_java 2018-01-28 21:47:06            True   \n",
       "966  full_stack_java 2018-01-28 22:11:06            True   \n",
       "\n",
       "            cohort_program      bottom  \n",
       "4    full_stack_java_teddy  not_bottom  \n",
       "5    full_stack_java_teddy  not_bottom  \n",
       "6    full_stack_java_teddy  not_bottom  \n",
       "7    full_stack_java_teddy  not_bottom  \n",
       "8    full_stack_java_teddy  not_bottom  \n",
       "..                     ...         ...  \n",
       "947  full_stack_java_teddy  not_bottom  \n",
       "948  full_stack_java_teddy  not_bottom  \n",
       "949  full_stack_java_teddy  not_bottom  \n",
       "950  full_stack_java_teddy  not_bottom  \n",
       "966  full_stack_java_teddy  not_bottom  \n",
       "\n",
       "[550 rows x 13 columns]"
      ]
     },
     "execution_count": 62,
     "metadata": {},
     "output_type": "execute_result"
    }
   ],
   "source": [
    "df3[df3.bottom == 'not_bottom']"
   ]
  },
  {
   "cell_type": "code",
   "execution_count": 52,
   "id": "6ffeac3f",
   "metadata": {},
   "outputs": [],
   "source": [
    "df_bottom = df_bottom.dropna()"
   ]
  },
  {
   "cell_type": "code",
   "execution_count": 53,
   "id": "11230e03",
   "metadata": {},
   "outputs": [
    {
     "name": "stdout",
     "output_type": "stream",
     "text": [
      "<class 'pandas.core.frame.DataFrame'>\n",
      "Int64Index: 608 entries, 4 to 969\n",
      "Data columns (total 13 columns):\n",
      " #   Column          Non-Null Count  Dtype         \n",
      "---  ------          --------------  -----         \n",
      " 0   path            608 non-null    object        \n",
      " 1   user_id         608 non-null    object        \n",
      " 2   ip              608 non-null    object        \n",
      " 3   cohort          608 non-null    object        \n",
      " 4   start_date      608 non-null    datetime64[ns]\n",
      " 5   end_date        608 non-null    datetime64[ns]\n",
      " 6   created_at      608 non-null    datetime64[ns]\n",
      " 7   updated_at      608 non-null    datetime64[ns]\n",
      " 8   program         608 non-null    object        \n",
      " 9   date_time       608 non-null    datetime64[ns]\n",
      " 10  program_access  608 non-null    bool          \n",
      " 11  cohort_program  608 non-null    object        \n",
      " 12  bottom          608 non-null    category      \n",
      "dtypes: bool(1), category(1), datetime64[ns](5), object(6)\n",
      "memory usage: 58.4+ KB\n"
     ]
    }
   ],
   "source": [
    "df_bottom.info()"
   ]
  },
  {
   "cell_type": "code",
   "execution_count": 77,
   "id": "7fa6cf49",
   "metadata": {},
   "outputs": [],
   "source": [
    "counts = df3.user_id.value_counts()\n",
    "bottom_1 = df3[df3['user_id'].isin(counts[counts < 7].index)]\n",
    "bottom_5 = df3[df3['user_id'].isin(counts[counts < 51].index)]\n",
    "bottom_10 = df3[df3['user_id'].isin(counts[counts < 116].index)]"
   ]
  },
  {
   "cell_type": "code",
   "execution_count": 69,
   "id": "c2d14965",
   "metadata": {},
   "outputs": [
    {
     "data": {
      "text/html": [
       "<div>\n",
       "<style scoped>\n",
       "    .dataframe tbody tr th:only-of-type {\n",
       "        vertical-align: middle;\n",
       "    }\n",
       "\n",
       "    .dataframe tbody tr th {\n",
       "        vertical-align: top;\n",
       "    }\n",
       "\n",
       "    .dataframe thead th {\n",
       "        text-align: right;\n",
       "    }\n",
       "</style>\n",
       "<table border=\"1\" class=\"dataframe\">\n",
       "  <thead>\n",
       "    <tr style=\"text-align: right;\">\n",
       "      <th></th>\n",
       "      <th>path</th>\n",
       "      <th>user_id</th>\n",
       "      <th>ip</th>\n",
       "      <th>cohort</th>\n",
       "      <th>start_date</th>\n",
       "      <th>end_date</th>\n",
       "      <th>created_at</th>\n",
       "      <th>updated_at</th>\n",
       "      <th>program</th>\n",
       "      <th>date_time</th>\n",
       "      <th>program_access</th>\n",
       "      <th>cohort_program</th>\n",
       "      <th>bottom</th>\n",
       "    </tr>\n",
       "  </thead>\n",
       "  <tbody>\n",
       "    <tr>\n",
       "      <th>count</th>\n",
       "      <td>22</td>\n",
       "      <td>22.0</td>\n",
       "      <td>22</td>\n",
       "      <td>22</td>\n",
       "      <td>22</td>\n",
       "      <td>22</td>\n",
       "      <td>22</td>\n",
       "      <td>22</td>\n",
       "      <td>22</td>\n",
       "      <td>22</td>\n",
       "      <td>22</td>\n",
       "      <td>22</td>\n",
       "      <td>0</td>\n",
       "    </tr>\n",
       "    <tr>\n",
       "      <th>unique</th>\n",
       "      <td>10</td>\n",
       "      <td>8.0</td>\n",
       "      <td>7</td>\n",
       "      <td>7</td>\n",
       "      <td>7</td>\n",
       "      <td>7</td>\n",
       "      <td>7</td>\n",
       "      <td>7</td>\n",
       "      <td>1</td>\n",
       "      <td>22</td>\n",
       "      <td>1</td>\n",
       "      <td>7</td>\n",
       "      <td>0</td>\n",
       "    </tr>\n",
       "    <tr>\n",
       "      <th>top</th>\n",
       "      <td>/</td>\n",
       "      <td>956.0</td>\n",
       "      <td>97.105.19.58</td>\n",
       "      <td>oberon</td>\n",
       "      <td>2021-04-12 00:00:00</td>\n",
       "      <td>2021-10-01 00:00:00</td>\n",
       "      <td>2021-04-12 18:07:21</td>\n",
       "      <td>2021-04-12 18:07:21</td>\n",
       "      <td>full_stack_java</td>\n",
       "      <td>2018-09-27 13:57:44</td>\n",
       "      <td>True</td>\n",
       "      <td>full_stack_java_oberon</td>\n",
       "      <td>NaN</td>\n",
       "    </tr>\n",
       "    <tr>\n",
       "      <th>freq</th>\n",
       "      <td>9</td>\n",
       "      <td>6.0</td>\n",
       "      <td>7</td>\n",
       "      <td>6</td>\n",
       "      <td>6</td>\n",
       "      <td>6</td>\n",
       "      <td>6</td>\n",
       "      <td>6</td>\n",
       "      <td>22</td>\n",
       "      <td>1</td>\n",
       "      <td>22</td>\n",
       "      <td>6</td>\n",
       "      <td>NaN</td>\n",
       "    </tr>\n",
       "    <tr>\n",
       "      <th>first</th>\n",
       "      <td>NaN</td>\n",
       "      <td>NaN</td>\n",
       "      <td>NaN</td>\n",
       "      <td>NaN</td>\n",
       "      <td>2018-05-29 00:00:00</td>\n",
       "      <td>2018-10-11 00:00:00</td>\n",
       "      <td>2018-05-25 22:25:57</td>\n",
       "      <td>2018-05-25 22:25:57</td>\n",
       "      <td>NaN</td>\n",
       "      <td>2018-09-27 13:57:44</td>\n",
       "      <td>NaN</td>\n",
       "      <td>NaN</td>\n",
       "      <td>NaN</td>\n",
       "    </tr>\n",
       "    <tr>\n",
       "      <th>last</th>\n",
       "      <td>NaN</td>\n",
       "      <td>NaN</td>\n",
       "      <td>NaN</td>\n",
       "      <td>NaN</td>\n",
       "      <td>2021-04-12 00:00:00</td>\n",
       "      <td>2021-10-01 00:00:00</td>\n",
       "      <td>2021-04-12 18:07:21</td>\n",
       "      <td>2021-04-12 18:07:21</td>\n",
       "      <td>NaN</td>\n",
       "      <td>2021-04-15 15:32:22</td>\n",
       "      <td>NaN</td>\n",
       "      <td>NaN</td>\n",
       "      <td>NaN</td>\n",
       "    </tr>\n",
       "  </tbody>\n",
       "</table>\n",
       "</div>"
      ],
      "text/plain": [
       "       path  user_id            ip  cohort           start_date  \\\n",
       "count    22     22.0            22      22                   22   \n",
       "unique   10      8.0             7       7                    7   \n",
       "top       /    956.0  97.105.19.58  oberon  2021-04-12 00:00:00   \n",
       "freq      9      6.0             7       6                    6   \n",
       "first   NaN      NaN           NaN     NaN  2018-05-29 00:00:00   \n",
       "last    NaN      NaN           NaN     NaN  2021-04-12 00:00:00   \n",
       "\n",
       "                   end_date           created_at           updated_at  \\\n",
       "count                    22                   22                   22   \n",
       "unique                    7                    7                    7   \n",
       "top     2021-10-01 00:00:00  2021-04-12 18:07:21  2021-04-12 18:07:21   \n",
       "freq                      6                    6                    6   \n",
       "first   2018-10-11 00:00:00  2018-05-25 22:25:57  2018-05-25 22:25:57   \n",
       "last    2021-10-01 00:00:00  2021-04-12 18:07:21  2021-04-12 18:07:21   \n",
       "\n",
       "                program            date_time program_access  \\\n",
       "count                22                   22             22   \n",
       "unique                1                   22              1   \n",
       "top     full_stack_java  2018-09-27 13:57:44           True   \n",
       "freq                 22                    1             22   \n",
       "first               NaN  2018-09-27 13:57:44            NaN   \n",
       "last                NaN  2021-04-15 15:32:22            NaN   \n",
       "\n",
       "                cohort_program bottom  \n",
       "count                       22      0  \n",
       "unique                       7      0  \n",
       "top     full_stack_java_oberon    NaN  \n",
       "freq                         6    NaN  \n",
       "first                      NaN    NaN  \n",
       "last                       NaN    NaN  "
      ]
     },
     "execution_count": 69,
     "metadata": {},
     "output_type": "execute_result"
    }
   ],
   "source": [
    "bottom_1.describe()"
   ]
  },
  {
   "cell_type": "code",
   "execution_count": 84,
   "id": "18ac4e9f",
   "metadata": {},
   "outputs": [
    {
     "data": {
      "text/plain": [
       "<AxesSubplot:xlabel='cohort_program', ylabel='count'>"
      ]
     },
     "execution_count": 84,
     "metadata": {},
     "output_type": "execute_result"
    },
    {
     "data": {
      "image/png": "[encoded data removed]",
      "text/plain": [
       "<Figure size 1080x576 with 1 Axes>"
      ]
     },
     "metadata": {
      "needs_background": "light"
     },
     "output_type": "display_data"
    }
   ],
   "source": [
    "plt.figure(figsize=(15,8))\n",
    "sns.countplot(bottom_1.cohort_program)"
   ]
  },
  {
   "cell_type": "code",
   "execution_count": 89,
   "id": "88db180d",
   "metadata": {},
   "outputs": [
    {
     "data": {
      "text/plain": [
       "<AxesSubplot:xlabel='cohort_program', ylabel='count'>"
      ]
     },
     "execution_count": 89,
     "metadata": {},
     "output_type": "execute_result"
    },
    {
     "data": {
      "image/png": "[encoded data removed]",
      "text/plain": [
       "<Figure size 1080x504 with 1 Axes>"
      ]
     },
     "metadata": {
      "needs_background": "light"
     },
     "output_type": "display_data"
    }
   ],
   "source": [
    "plt.figure(figsize=(15,7))\n",
    "sns.countplot(bottom_5.cohort_program)"
   ]
  },
  {
   "cell_type": "code",
   "execution_count": 92,
   "id": "a7a4270d",
   "metadata": {},
   "outputs": [
    {
     "data": {
      "text/plain": [
       "full_stack_java_oberon       1258\n",
       "full_stack_java_sequoia       759\n",
       "full_stack_java_voyageurs     388\n",
       "full_stack_java_neptune       280\n",
       "full_stack_java_andromeda     217\n",
       "full_stack_java_bash          185\n",
       "full_stack_java_teddy         133\n",
       "full_stack_java_zion          128\n",
       "full_stack_java_jupiter       117\n",
       "full_stack_java_ulysses       112\n",
       "data_science_easley            92\n",
       "full_stack_java_europa         66\n",
       "full_stack_java_kalypso        63\n",
       "full_stack_java_ceres          53\n",
       "full_stack_java_ganymede       48\n",
       "full_stack_java_yosemite       42\n",
       "data_science_darden            24\n",
       "data_science_bayes             17\n",
       "full_stack_java_marco          17\n",
       "full_stack_java_fortuna        12\n",
       "full_stack_java_hyperion        7\n",
       "Name: cohort_program, dtype: int64"
      ]
     },
     "execution_count": 92,
     "metadata": {},
     "output_type": "execute_result"
    }
   ],
   "source": [
    "bottom_10.cohort_program.value_counts()"
   ]
  },
  {
   "cell_type": "code",
   "execution_count": 90,
   "id": "2b1920dd",
   "metadata": {},
   "outputs": [
    {
     "data": {
      "text/plain": [
       "<AxesSubplot:xlabel='cohort_program', ylabel='count'>"
      ]
     },
     "execution_count": 90,
     "metadata": {},
     "output_type": "execute_result"
    },
    {
     "data": {
      "image/png": "[encoded data removed]",
      "text/plain": [
       "<Figure size 1080x576 with 1 Axes>"
      ]
     },
     "metadata": {
      "needs_background": "light"
     },
     "output_type": "display_data"
    }
   ],
   "source": [
    "plt.figure(figsize=(15,8))\n",
    "sns.countplot(bottom_10.cohort_program)"
   ]
  },
  {
   "cell_type": "code",
   "execution_count": 95,
   "id": "e50bc9fa",
   "metadata": {},
   "outputs": [
    {
     "name": "stdout",
     "output_type": "stream",
     "text": [
      "<class 'pandas.core.frame.DataFrame'>\n",
      "Int64Index: 647197 entries, 4 to 900217\n",
      "Data columns (total 13 columns):\n",
      " #   Column          Non-Null Count   Dtype         \n",
      "---  ------          --------------   -----         \n",
      " 0   path            647197 non-null  object        \n",
      " 1   user_id         647197 non-null  object        \n",
      " 2   ip              647197 non-null  object        \n",
      " 3   cohort          647197 non-null  object        \n",
      " 4   start_date      647197 non-null  datetime64[ns]\n",
      " 5   end_date        647197 non-null  datetime64[ns]\n",
      " 6   created_at      647197 non-null  datetime64[ns]\n",
      " 7   updated_at      647197 non-null  datetime64[ns]\n",
      " 8   program         647197 non-null  object        \n",
      " 9   date_time       647197 non-null  datetime64[ns]\n",
      " 10  program_access  647197 non-null  bool          \n",
      " 11  cohort_program  647197 non-null  object        \n",
      " 12  bottom          608 non-null     category      \n",
      "dtypes: bool(1), category(1), datetime64[ns](5), object(6)\n",
      "memory usage: 76.6+ MB\n"
     ]
    }
   ],
   "source": [
    "df3.info()"
   ]
  },
  {
   "cell_type": "code",
   "execution_count": 100,
   "id": "acd1ec93",
   "metadata": {},
   "outputs": [
    {
     "data": {
      "text/html": [
       "<div>\n",
       "<style scoped>\n",
       "    .dataframe tbody tr th:only-of-type {\n",
       "        vertical-align: middle;\n",
       "    }\n",
       "\n",
       "    .dataframe tbody tr th {\n",
       "        vertical-align: top;\n",
       "    }\n",
       "\n",
       "    .dataframe thead th {\n",
       "        text-align: right;\n",
       "    }\n",
       "</style>\n",
       "<table border=\"1\" class=\"dataframe\">\n",
       "  <thead>\n",
       "    <tr style=\"text-align: right;\">\n",
       "      <th></th>\n",
       "      <th>start_date</th>\n",
       "      <th>end_date</th>\n",
       "      <th>date_time</th>\n",
       "    </tr>\n",
       "  </thead>\n",
       "  <tbody>\n",
       "    <tr>\n",
       "      <th>131699</th>\n",
       "      <td>2018-05-29</td>\n",
       "      <td>2018-10-11</td>\n",
       "      <td>2018-09-27 13:57:44</td>\n",
       "    </tr>\n",
       "    <tr>\n",
       "      <th>131788</th>\n",
       "      <td>2018-05-29</td>\n",
       "      <td>2018-10-11</td>\n",
       "      <td>2018-09-27 14:47:37</td>\n",
       "    </tr>\n",
       "    <tr>\n",
       "      <th>131802</th>\n",
       "      <td>2018-05-29</td>\n",
       "      <td>2018-10-11</td>\n",
       "      <td>2018-09-27 14:58:48</td>\n",
       "    </tr>\n",
       "    <tr>\n",
       "      <th>131804</th>\n",
       "      <td>2018-05-29</td>\n",
       "      <td>2018-10-11</td>\n",
       "      <td>2018-09-27 14:59:07</td>\n",
       "    </tr>\n",
       "    <tr>\n",
       "      <th>388308</th>\n",
       "      <td>2019-11-04</td>\n",
       "      <td>2020-04-17</td>\n",
       "      <td>2019-11-04 16:19:26</td>\n",
       "    </tr>\n",
       "    <tr>\n",
       "      <th>388309</th>\n",
       "      <td>2019-11-04</td>\n",
       "      <td>2020-04-17</td>\n",
       "      <td>2019-11-04 16:19:34</td>\n",
       "    </tr>\n",
       "    <tr>\n",
       "      <th>388399</th>\n",
       "      <td>2019-11-04</td>\n",
       "      <td>2020-04-17</td>\n",
       "      <td>2019-11-04 16:54:02</td>\n",
       "    </tr>\n",
       "    <tr>\n",
       "      <th>388405</th>\n",
       "      <td>2019-11-04</td>\n",
       "      <td>2020-04-17</td>\n",
       "      <td>2019-11-04 16:54:38</td>\n",
       "    </tr>\n",
       "    <tr>\n",
       "      <th>388407</th>\n",
       "      <td>2019-11-04</td>\n",
       "      <td>2020-04-17</td>\n",
       "      <td>2019-11-04 16:54:45</td>\n",
       "    </tr>\n",
       "    <tr>\n",
       "      <th>491139</th>\n",
       "      <td>2020-03-23</td>\n",
       "      <td>2020-08-20</td>\n",
       "      <td>2020-03-23 14:10:17</td>\n",
       "    </tr>\n",
       "    <tr>\n",
       "      <th>754195</th>\n",
       "      <td>2020-09-21</td>\n",
       "      <td>2021-03-30</td>\n",
       "      <td>2020-12-07 14:22:00</td>\n",
       "    </tr>\n",
       "    <tr>\n",
       "      <th>754204</th>\n",
       "      <td>2020-09-21</td>\n",
       "      <td>2021-03-30</td>\n",
       "      <td>2020-12-07 14:22:38</td>\n",
       "    </tr>\n",
       "    <tr>\n",
       "      <th>754206</th>\n",
       "      <td>2020-09-21</td>\n",
       "      <td>2021-03-30</td>\n",
       "      <td>2020-12-07 14:22:39</td>\n",
       "    </tr>\n",
       "    <tr>\n",
       "      <th>799236</th>\n",
       "      <td>2021-01-25</td>\n",
       "      <td>2021-07-19</td>\n",
       "      <td>2021-01-26 12:21:18</td>\n",
       "    </tr>\n",
       "    <tr>\n",
       "      <th>847372</th>\n",
       "      <td>2021-03-15</td>\n",
       "      <td>2021-09-03</td>\n",
       "      <td>2021-03-15 16:59:56</td>\n",
       "    </tr>\n",
       "    <tr>\n",
       "      <th>847404</th>\n",
       "      <td>2021-03-15</td>\n",
       "      <td>2021-09-03</td>\n",
       "      <td>2021-03-15 17:00:37</td>\n",
       "    </tr>\n",
       "    <tr>\n",
       "      <th>886731</th>\n",
       "      <td>2021-04-12</td>\n",
       "      <td>2021-10-01</td>\n",
       "      <td>2021-04-12 16:44:18</td>\n",
       "    </tr>\n",
       "    <tr>\n",
       "      <th>891690</th>\n",
       "      <td>2021-04-12</td>\n",
       "      <td>2021-10-01</td>\n",
       "      <td>2021-04-15 14:54:05</td>\n",
       "    </tr>\n",
       "    <tr>\n",
       "      <th>891694</th>\n",
       "      <td>2021-04-12</td>\n",
       "      <td>2021-10-01</td>\n",
       "      <td>2021-04-15 14:54:10</td>\n",
       "    </tr>\n",
       "    <tr>\n",
       "      <th>891710</th>\n",
       "      <td>2021-04-12</td>\n",
       "      <td>2021-10-01</td>\n",
       "      <td>2021-04-15 14:55:05</td>\n",
       "    </tr>\n",
       "    <tr>\n",
       "      <th>891724</th>\n",
       "      <td>2021-04-12</td>\n",
       "      <td>2021-10-01</td>\n",
       "      <td>2021-04-15 14:56:04</td>\n",
       "    </tr>\n",
       "    <tr>\n",
       "      <th>891897</th>\n",
       "      <td>2021-04-12</td>\n",
       "      <td>2021-10-01</td>\n",
       "      <td>2021-04-15 15:32:22</td>\n",
       "    </tr>\n",
       "  </tbody>\n",
       "</table>\n",
       "</div>"
      ],
      "text/plain": [
       "       start_date   end_date           date_time\n",
       "131699 2018-05-29 2018-10-11 2018-09-27 13:57:44\n",
       "131788 2018-05-29 2018-10-11 2018-09-27 14:47:37\n",
       "131802 2018-05-29 2018-10-11 2018-09-27 14:58:48\n",
       "131804 2018-05-29 2018-10-11 2018-09-27 14:59:07\n",
       "388308 2019-11-04 2020-04-17 2019-11-04 16:19:26\n",
       "388309 2019-11-04 2020-04-17 2019-11-04 16:19:34\n",
       "388399 2019-11-04 2020-04-17 2019-11-04 16:54:02\n",
       "388405 2019-11-04 2020-04-17 2019-11-04 16:54:38\n",
       "388407 2019-11-04 2020-04-17 2019-11-04 16:54:45\n",
       "491139 2020-03-23 2020-08-20 2020-03-23 14:10:17\n",
       "754195 2020-09-21 2021-03-30 2020-12-07 14:22:00\n",
       "754204 2020-09-21 2021-03-30 2020-12-07 14:22:38\n",
       "754206 2020-09-21 2021-03-30 2020-12-07 14:22:39\n",
       "799236 2021-01-25 2021-07-19 2021-01-26 12:21:18\n",
       "847372 2021-03-15 2021-09-03 2021-03-15 16:59:56\n",
       "847404 2021-03-15 2021-09-03 2021-03-15 17:00:37\n",
       "886731 2021-04-12 2021-10-01 2021-04-12 16:44:18\n",
       "891690 2021-04-12 2021-10-01 2021-04-15 14:54:05\n",
       "891694 2021-04-12 2021-10-01 2021-04-15 14:54:10\n",
       "891710 2021-04-12 2021-10-01 2021-04-15 14:55:05\n",
       "891724 2021-04-12 2021-10-01 2021-04-15 14:56:04\n",
       "891897 2021-04-12 2021-10-01 2021-04-15 15:32:22"
      ]
     },
     "execution_count": 100,
     "metadata": {},
     "output_type": "execute_result"
    }
   ],
   "source": [
    "bottom_1[['start_date', 'end_date', 'date_time']]"
   ]
  },
  {
   "cell_type": "code",
   "execution_count": 103,
   "id": "d495cc75",
   "metadata": {},
   "outputs": [],
   "source": [
    "bottom_1['month_start'] = bottom_1.start_date.dt.month\n",
    "bottom_1['month_access'] = bottom_1.date_time.dt.month"
   ]
  },
  {
   "cell_type": "code",
   "execution_count": 117,
   "id": "24bab1af",
   "metadata": {},
   "outputs": [
    {
     "data": {
      "text/plain": [
       "<AxesSubplot:xlabel='month_start', ylabel='month_access'>"
      ]
     },
     "execution_count": 117,
     "metadata": {},
     "output_type": "execute_result"
    },
    {
     "data": {
      "image/png": "[encoded data removed]",
      "text/plain": [
       "<Figure size 432x288 with 1 Axes>"
      ]
     },
     "metadata": {
      "needs_background": "light"
     },
     "output_type": "display_data"
    }
   ],
   "source": [
    "sns.barplot(x='month_start', y='month_access', data=bottom_1, hue='cohort_program')"
   ]
  },
  {
   "cell_type": "markdown",
   "id": "76a10ea1",
   "metadata": {},
   "source": [
    "notes: for bottom 1%, most access seems to be in first month of program for those that started in jan feb march april, nov"
   ]
  },
  {
   "cell_type": "code",
   "execution_count": 118,
   "id": "51c1be79",
   "metadata": {},
   "outputs": [
    {
     "data": {
      "text/plain": [
       "<AxesSubplot:xlabel='month_start', ylabel='month_access'>"
      ]
     },
     "execution_count": 118,
     "metadata": {},
     "output_type": "execute_result"
    },
    {
     "data": {
      "image/png": "[encoded data removed]",
      "text/plain": [
       "<Figure size 1080x576 with 1 Axes>"
      ]
     },
     "metadata": {
      "needs_background": "light"
     },
     "output_type": "display_data"
    }
   ],
   "source": [
    "plt.figure(figsize=(15,8))\n",
    "bottom_5['month_start'] = bottom_5.start_date.dt.month\n",
    "bottom_5['month_access'] = bottom_5.date_time.dt.month\n",
    "sns.barplot(x='month_start', y='month_access', data=bottom_5, hue='cohort_program')"
   ]
  },
  {
   "cell_type": "code",
   "execution_count": 119,
   "id": "eaf413f5",
   "metadata": {},
   "outputs": [
    {
     "data": {
      "text/plain": [
       "<AxesSubplot:xlabel='month_start', ylabel='month_access'>"
      ]
     },
     "execution_count": 119,
     "metadata": {},
     "output_type": "execute_result"
    },
    {
     "data": {
      "image/png": "[encoded data removed]",
      "text/plain": [
       "<Figure size 1080x576 with 1 Axes>"
      ]
     },
     "metadata": {
      "needs_background": "light"
     },
     "output_type": "display_data"
    }
   ],
   "source": [
    "plt.figure(figsize=(15,8))\n",
    "bottom_10['month_start'] = bottom_10.start_date.dt.month\n",
    "bottom_10['month_access'] = bottom_10.date_time.dt.month\n",
    "sns.barplot(x='month_start', y='month_access', data=bottom_10, hue='cohort_program')"
   ]
  },
  {
   "cell_type": "markdown",
   "id": "20805061",
   "metadata": {},
   "source": [
    "summary- \n",
    "have identified cohorts with an average lower access\n",
    "very low access tends to be most present in accessing near the beginning of the course. could be to drop out?"
   ]
  },
  {
   "cell_type": "code",
   "execution_count": 125,
   "id": "7bad5187",
   "metadata": {},
   "outputs": [
    {
     "data": {
      "text/plain": [
       "cohort     start_date\n",
       "oberon     2021-04-12    6\n",
       "europa     2019-11-04    5\n",
       "voyageurs  2018-05-29    4\n",
       "jupiter    2020-09-21    3\n",
       "neptune    2021-03-15    2\n",
       "ganymede   2020-03-23    1\n",
       "marco      2021-01-25    1\n",
       "dtype: int64"
      ]
     },
     "execution_count": 125,
     "metadata": {},
     "output_type": "execute_result"
    }
   ],
   "source": [
    "bottom_1[['cohort', 'start_date']].value_counts()"
   ]
  },
  {
   "cell_type": "code",
   "execution_count": 126,
   "id": "6933d8f3",
   "metadata": {},
   "outputs": [
    {
     "data": {
      "text/plain": [
       "cohort     start_date\n",
       "oberon     2021-04-12    378\n",
       "sequoia    2017-09-27     79\n",
       "europa     2019-11-04     66\n",
       "neptune    2021-03-15     56\n",
       "ganymede   2020-03-23     48\n",
       "yosemite   2018-11-05     42\n",
       "jupiter    2020-09-21     29\n",
       "darden     2020-07-13     24\n",
       "zion       2019-01-22     18\n",
       "bayes      2019-08-19     17\n",
       "marco      2021-01-25     17\n",
       "fortuna    2020-01-13     12\n",
       "andromeda  2019-03-18      8\n",
       "hyperion   2020-05-26      7\n",
       "voyageurs  2018-05-29      4\n",
       "dtype: int64"
      ]
     },
     "execution_count": 126,
     "metadata": {},
     "output_type": "execute_result"
    }
   ],
   "source": [
    "bottom_5[['cohort', 'start_date']].value_counts()"
   ]
  },
  {
   "cell_type": "markdown",
   "id": "bda53cf6",
   "metadata": {},
   "source": [
    "oberon clearly had lowest access. anything going on then that could affect access? covid? anything else? does not look like there is anything clear with when then program happened that would impact "
   ]
  },
  {
   "cell_type": "code",
   "execution_count": 128,
   "id": "78494408",
   "metadata": {},
   "outputs": [
    {
     "data": {
      "text/plain": [
       "cohort_program             start_date\n",
       "full_stack_java_oberon     2021-04-12    1258\n",
       "full_stack_java_sequoia    2017-09-27     759\n",
       "full_stack_java_voyageurs  2018-05-29     388\n",
       "full_stack_java_neptune    2021-03-15     280\n",
       "full_stack_java_andromeda  2019-03-18     217\n",
       "full_stack_java_bash       2020-07-20     185\n",
       "full_stack_java_teddy      2018-01-08     133\n",
       "full_stack_java_zion       2019-01-22     128\n",
       "full_stack_java_jupiter    2020-09-21     117\n",
       "full_stack_java_ulysses    2018-03-05     112\n",
       "data_science_easley        2020-12-07      92\n",
       "full_stack_java_europa     2019-11-04      66\n",
       "full_stack_java_kalypso    2020-11-02      63\n",
       "full_stack_java_ceres      2019-07-15      53\n",
       "full_stack_java_ganymede   2020-03-23      48\n",
       "full_stack_java_yosemite   2018-11-05      42\n",
       "data_science_darden        2020-07-13      24\n",
       "full_stack_java_marco      2021-01-25      17\n",
       "data_science_bayes         2019-08-19      17\n",
       "full_stack_java_fortuna    2020-01-13      12\n",
       "full_stack_java_hyperion   2020-05-26       7\n",
       "dtype: int64"
      ]
     },
     "execution_count": 128,
     "metadata": {},
     "output_type": "execute_result"
    }
   ],
   "source": [
    "bottom_10[['cohort_program', 'start_date']].value_counts()"
   ]
  },
  {
   "cell_type": "markdown",
   "id": "c477d3d8",
   "metadata": {},
   "source": [
    "- possibly theory! I heard that the VA ran out of funding in june of 2021. when I started the program I was conditional that my funding would be approved by VETTEC. Is there a possible that VETTEC turned away students after starting? anything else to explore that possibility?\n",
    "\n",
    "- what else can we learn about students- have covered cohorts, programs, month of access for low access... next maybe look into ip address and see if there are any trends there. need to keep in mind that ip address looks questionable based on change with covid, but possibly something there. also, for students with low access, look at their last access date"
   ]
  },
  {
   "cell_type": "code",
   "execution_count": 139,
   "id": "2c03849b",
   "metadata": {},
   "outputs": [
    {
     "data": {
      "text/plain": [
       "<AxesSubplot:xlabel='user_id'>"
      ]
     },
     "execution_count": 139,
     "metadata": {},
     "output_type": "execute_result"
    },
    {
     "data": {
      "image/png": "[encoded data removed]",
      "text/plain": [
       "<Figure size 432x288 with 1 Axes>"
      ]
     },
     "metadata": {
      "needs_background": "light"
     },
     "output_type": "display_data"
    }
   ],
   "source": [
    "bottom_1[['month_start', 'month_access']].groupby(bottom_1.user_id).max().plot()"
   ]
  },
  {
   "cell_type": "code",
   "execution_count": 140,
   "id": "98a7d550",
   "metadata": {},
   "outputs": [
    {
     "data": {
      "text/plain": [
       "<AxesSubplot:xlabel='user_id'>"
      ]
     },
     "execution_count": 140,
     "metadata": {},
     "output_type": "execute_result"
    },
    {
     "data": {
      "image/png": "[encoded data removed]",
      "text/plain": [
       "<Figure size 432x288 with 1 Axes>"
      ]
     },
     "metadata": {
      "needs_background": "light"
     },
     "output_type": "display_data"
    }
   ],
   "source": [
    "bottom_5[['month_start', 'month_access']].groupby(bottom_5.user_id).max().plot()"
   ]
  },
  {
   "cell_type": "code",
   "execution_count": 144,
   "id": "9b31d90f",
   "metadata": {},
   "outputs": [
    {
     "data": {
      "text/plain": [
       "<AxesSubplot:xlabel='user_id'>"
      ]
     },
     "execution_count": 144,
     "metadata": {},
     "output_type": "execute_result"
    },
    {
     "data": {
      "image/png": "[encoded data removed]",
      "text/plain": [
       "<Figure size 432x288 with 1 Axes>"
      ]
     },
     "metadata": {
      "needs_background": "light"
     },
     "output_type": "display_data"
    }
   ],
   "source": [
    "bottom_10[['month_start', 'month_access']].groupby(bottom_10.user_id).max().plot()\n",
    "#look at it the difference"
   ]
  },
  {
   "cell_type": "code",
   "execution_count": null,
   "id": "f567e330",
   "metadata": {},
   "outputs": [],
   "source": []
  }
 ],
 "metadata": {
  "kernelspec": {
   "display_name": "Python 3 (ipykernel)",
   "language": "python",
   "name": "python3"
  },
  "language_info": {
   "codemirror_mode": {
    "name": "ipython",
    "version": 3
   },
   "file_extension": ".py",
   "mimetype": "text/x-python",
   "name": "python",
   "nbconvert_exporter": "python",
   "pygments_lexer": "ipython3",
   "version": "3.9.7"
  }
 },
 "nbformat": 4,
 "nbformat_minor": 5
}
