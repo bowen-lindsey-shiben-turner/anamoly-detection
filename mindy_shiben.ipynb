{
 "cells": [
  {
   "cell_type": "code",
   "execution_count": 1,
   "id": "7c2b384f",
   "metadata": {},
   "outputs": [],
   "source": [
    "import pandas as pd\n",
    "import numpy as np\n",
    "import seaborn as sns\n",
    "import matplotlib.pyplot as plt\n",
    "import acquire\n",
    "import prepare\n",
    "from env import get_db_url\n",
    "import time\n",
    "import warnings\n",
    "warnings.filterwarnings(\"ignore\")\n",
    "import explore"
   ]
  },
  {
   "cell_type": "markdown",
   "id": "c5fd266a",
   "metadata": {},
   "source": [
    "### Questions to keep in mind (5 should be answered very thoroughly. Could touch on all, but 5 min- for MVP)\n",
    "\n",
    "1. Which lesson appears to attract the most traffic consistently across cohorts (per program)?\n",
    "2. Is there a cohort that referred to a lesson significantly more than other cohorts seemed to gloss over?\n",
    "3. Are there students who, when active, hardly access the curriculum? If so, what information do you have about these students?\n",
    "4. Is there any suspicious activity, such as users/machines/etc accessing the curriculum who shouldn’t be? Does it appear that any web-scraping is happening? Are there any suspicious IP addresses?\n",
    "5. At some point in 2019, the ability for students and alumni to access both curriculums (web dev to ds, ds to web dev) should have been shut off. Do you see any evidence of that happening? Did it happen before?\n",
    "6. What topics are grads continuing to reference after graduation and into their jobs (for each program)?\n",
    "7. Which lessons are least accessed?\n",
    "8. Anything else I should be aware of?"
   ]
  },
  {
   "cell_type": "code",
   "execution_count": null,
   "id": "884d4134",
   "metadata": {},
   "outputs": [],
   "source": [
    "df = acquire.get_log_data()"
   ]
  },
  {
   "cell_type": "code",
   "execution_count": null,
   "id": "b5ed1208",
   "metadata": {},
   "outputs": [],
   "source": [
    "df.head()"
   ]
  },
  {
   "cell_type": "markdown",
   "id": "7d188eda",
   "metadata": {},
   "source": [
    "#### initial thoughts\n",
    "- I want to look into this a little further to make sure we wouldn't be losing something important, but could consider dropping, especially for MVP\n",
    "- deleted_at column should be dropped\n",
    "- data, time, start_date, end_date, created_at, updated_at - by the names of these columns, thinking can convert to datetime\n",
    "- path probably makes sense to stay object, but can we potentially look at groups/feature eng columns here? possibility to keep in mind\n",
    "- user_id as int - this is fine for now, but want to make sure this is not treated as continuous I'm thinking\n",
    "- cohort id- could potentially change the float out with the actual cohort name\n",
    "- ip - probably good, also potential for feature eng... like if we want to look at different area of users. here is a good site to help https://www.whatismyip.com/ip-address-lookup/\n",
    "- program_id - fine, but also can change to program name if we'd like"
   ]
  },
  {
   "cell_type": "markdown",
   "id": "4f1bbaf7",
   "metadata": {},
   "source": [
    "#### Histogram"
   ]
  },
  {
   "cell_type": "code",
   "execution_count": null,
   "id": "28aa82d2",
   "metadata": {},
   "outputs": [],
   "source": [
    "df.date.head()"
   ]
  },
  {
   "cell_type": "code",
   "execution_count": null,
   "id": "a04ea725",
   "metadata": {},
   "outputs": [],
   "source": [
    "df.time.head()"
   ]
  },
  {
   "cell_type": "code",
   "execution_count": null,
   "id": "d8076a57",
   "metadata": {},
   "outputs": [],
   "source": [
    "df.start_date.head()"
   ]
  },
  {
   "cell_type": "code",
   "execution_count": null,
   "id": "3f646db7",
   "metadata": {},
   "outputs": [],
   "source": [
    "df.end_date.head()"
   ]
  },
  {
   "cell_type": "code",
   "execution_count": null,
   "id": "96b1eb39",
   "metadata": {},
   "outputs": [],
   "source": [
    "df.created_at.head()"
   ]
  },
  {
   "cell_type": "code",
   "execution_count": null,
   "id": "c55d676e",
   "metadata": {},
   "outputs": [],
   "source": [
    "df.updated_at.head()"
   ]
  },
  {
   "cell_type": "code",
   "execution_count": null,
   "id": "46975948",
   "metadata": {},
   "outputs": [],
   "source": [
    "df[['date', 'start_date', 'end_date', 'created_at', 'updated_at']] = df[['date','start_date', 'end_date', 'created_at', 'updated_at']].apply(pd.to_datetime, format='%Y-%m-%d %H:%M:%S.%f')"
   ]
  },
  {
   "cell_type": "code",
   "execution_count": null,
   "id": "f46d14d5",
   "metadata": {},
   "outputs": [],
   "source": [
    "df['time'] = pd.to_datetime(df['time'], format='%H:%M:%S' ).apply(pd.Timestamp)"
   ]
  },
  {
   "cell_type": "code",
   "execution_count": null,
   "id": "11cb7972",
   "metadata": {},
   "outputs": [],
   "source": [
    "df.info()"
   ]
  },
  {
   "cell_type": "code",
   "execution_count": null,
   "id": "ff5164d7",
   "metadata": {},
   "outputs": [],
   "source": [
    "df.info()"
   ]
  },
  {
   "cell_type": "code",
   "execution_count": null,
   "id": "0d43d373",
   "metadata": {},
   "outputs": [],
   "source": [
    "df.hist(bins=30, figsize=(20, 15))"
   ]
  },
  {
   "cell_type": "code",
   "execution_count": null,
   "id": "d35aed3b",
   "metadata": {},
   "outputs": [],
   "source": [
    "df.date.min() , df.date.max()"
   ]
  },
  {
   "cell_type": "code",
   "execution_count": null,
   "id": "2ac719bf",
   "metadata": {},
   "outputs": [],
   "source": [
    "df.start_date.min() , df.start_date.max()"
   ]
  },
  {
   "cell_type": "code",
   "execution_count": null,
   "id": "341e8acc",
   "metadata": {},
   "outputs": [],
   "source": [
    "df.end_date.min() , df.end_date.max()"
   ]
  },
  {
   "cell_type": "code",
   "execution_count": null,
   "id": "6d5315e8",
   "metadata": {},
   "outputs": [],
   "source": [
    "df.time.head()"
   ]
  },
  {
   "cell_type": "code",
   "execution_count": null,
   "id": "37d060cc",
   "metadata": {},
   "outputs": [],
   "source": [
    "df.info()"
   ]
  },
  {
   "cell_type": "code",
   "execution_count": null,
   "id": "80eee6c7",
   "metadata": {},
   "outputs": [],
   "source": [
    "df['path'].nunique()"
   ]
  },
  {
   "cell_type": "code",
   "execution_count": null,
   "id": "14214031",
   "metadata": {},
   "outputs": [],
   "source": [
    "df['path'].value_counts()[:30].plot(kind='bar')"
   ]
  },
  {
   "cell_type": "code",
   "execution_count": null,
   "id": "a844914a",
   "metadata": {},
   "outputs": [],
   "source": [
    "df.ip.nunique()"
   ]
  },
  {
   "cell_type": "code",
   "execution_count": null,
   "id": "4ab282a3",
   "metadata": {},
   "outputs": [],
   "source": [
    "df['ip'].value_counts()[:30].plot(kind='bar')"
   ]
  },
  {
   "cell_type": "markdown",
   "id": "d250f99d",
   "metadata": {},
   "source": [
    "note - interesting the one ip address and the second highest too. maybe the instructors share one often working from same comp? or could be a scraping thing. keep in mind"
   ]
  },
  {
   "cell_type": "code",
   "execution_count": null,
   "id": "79f3925f",
   "metadata": {},
   "outputs": [],
   "source": [
    "df.name.nunique()"
   ]
  },
  {
   "cell_type": "code",
   "execution_count": null,
   "id": "1bcdc23e",
   "metadata": {},
   "outputs": [],
   "source": [
    "df['name'].value_counts()[:47].plot(kind='bar', figsize=(12,5))\n",
    "plt.show()"
   ]
  },
  {
   "cell_type": "code",
   "execution_count": null,
   "id": "e40f4194",
   "metadata": {},
   "outputs": [],
   "source": [
    "df['slack'].value_counts().plot(kind='bar', figsize=(12,5))"
   ]
  },
  {
   "cell_type": "code",
   "execution_count": null,
   "id": "da964e4a",
   "metadata": {},
   "outputs": [],
   "source": [
    "df['slack'] = df['slack'].str[1:]"
   ]
  },
  {
   "cell_type": "code",
   "execution_count": null,
   "id": "46a97bcd",
   "metadata": {},
   "outputs": [],
   "source": [
    "df.slack.value_counts()"
   ]
  },
  {
   "cell_type": "code",
   "execution_count": null,
   "id": "a1f540ba",
   "metadata": {},
   "outputs": [],
   "source": [
    "df['slack'] = df.slack.replace({'taff': 'staff'})"
   ]
  },
  {
   "cell_type": "code",
   "execution_count": null,
   "id": "8f2160ed",
   "metadata": {},
   "outputs": [],
   "source": [
    "df['slack'].value_counts()"
   ]
  },
  {
   "cell_type": "code",
   "execution_count": null,
   "id": "2a12a6d4",
   "metadata": {},
   "outputs": [],
   "source": [
    "df['slack'].groupby(df.name).max()"
   ]
  },
  {
   "cell_type": "code",
   "execution_count": null,
   "id": "ed2185de",
   "metadata": {},
   "outputs": [],
   "source": [
    "df.cohort_id.nunique()"
   ]
  },
  {
   "cell_type": "code",
   "execution_count": null,
   "id": "52d31487",
   "metadata": {},
   "outputs": [],
   "source": [
    "df['slack'].nunique(), df.name.nunique()"
   ]
  },
  {
   "cell_type": "markdown",
   "id": "0d00a5a2",
   "metadata": {},
   "source": [
    "this is what's not right \n",
    "\n",
    "Bayes              staff\n",
    "\n",
    "should be fine just using name as it's basically the same, but has bayes and staff"
   ]
  },
  {
   "cell_type": "markdown",
   "id": "5dd13240",
   "metadata": {},
   "source": [
    "summary so far-\n",
    "- datatypes for date time\n",
    "- drop slack\n",
    "- drop delete column\n",
    "- drop the null values \n",
    "- should be about 850k records\n",
    "- look at dtypes closely and make changes where desired (maybe name instead of number for a couple)\n",
    "- maybe change name to cohort, lower case\n",
    "- cohort id corresponds to name. do you need both? probably ok to keep both incase\n",
    "- keep the couple very high counts ip addresses in mind\n",
    "- talk with group about what they found and put in function\n"
   ]
  },
  {
   "cell_type": "markdown",
   "id": "932cf8e2",
   "metadata": {},
   "source": [
    "### Questions to keep in mind (5 should be answered very thoroughly. Could touch on all, but 5 min- for MVP)\n",
    "\n",
    "1. Which lesson appears to attract the most traffic consistently across cohorts (per program)?\n",
    "2. Is there a cohort that referred to a lesson significantly more than other cohorts seemed to gloss over?\n",
    "3. Are there students who, when active, hardly access the curriculum? If so, what information do you have about these students?\n",
    "4. Is there any suspicious activity, such as users/machines/etc accessing the curriculum who shouldn’t be? Does it appear that any web-scraping is happening? Are there any suspicious IP addresses?\n",
    "5. At some point in 2019, the ability for students and alumni to access both curriculums (web dev to ds, ds to web dev) should have been shut off. Do you see any evidence of that happening? Did it happen before?\n",
    "6. What topics are grads continuing to reference after graduation and into their jobs (for each program)?\n",
    "7. Which lessons are least accessed?\n",
    "8. Anything else I should be aware of?"
   ]
  },
  {
   "cell_type": "code",
   "execution_count": null,
   "id": "e8850dd7",
   "metadata": {},
   "outputs": [],
   "source": [
    "df.info()"
   ]
  },
  {
   "cell_type": "markdown",
   "id": "2df28171",
   "metadata": {},
   "source": [
    "## Explore: Question 3 \n",
    "\n",
    "### Are there students who, when active, hardly access the curriculum? If so, what information do you have about these students?"
   ]
  },
  {
   "cell_type": "markdown",
   "id": "498112a4",
   "metadata": {},
   "source": [
    "### Initial thoughts about question:\n",
    "- First, we are looking at only active students for this question. That means I am creating a df that has records where the date (date of access) falls is between (or on) start date and end date\n",
    "- what could we find out about the students? \n",
    "    - what is \"low access\"- look at numbers here and %s. make some bins of average, low, very low, etc.\n",
    "    - what cohort they are in? do students in certain cohorts tend to access a lot less? what about program?\n",
    "    - could very low access be due to students dropping out of the program possibly?\n",
    "    - do students access more, less, same early on? near graduation?\n",
    "    - do the low access students have ip addresses local to SA, not local? appear to be remote or not? covid 19 impact on access?\n",
    "    - else?"
   ]
  },
  {
   "cell_type": "code",
   "execution_count": 3,
   "id": "26f06928",
   "metadata": {},
   "outputs": [],
   "source": [
    "df = prepare.prepare_logs()"
   ]
  },
  {
   "cell_type": "code",
   "execution_count": 4,
   "id": "62c69f32",
   "metadata": {},
   "outputs": [],
   "source": [
    "df3 = explore.explore_question3(df)"
   ]
  },
  {
   "cell_type": "code",
   "execution_count": null,
   "id": "380561a4",
   "metadata": {},
   "outputs": [],
   "source": [
    "df3.program_id.value_counts()"
   ]
  },
  {
   "cell_type": "code",
   "execution_count": null,
   "id": "15026294",
   "metadata": {},
   "outputs": [],
   "source": [
    "afgavav"
   ]
  },
  {
   "cell_type": "code",
   "execution_count": null,
   "id": "e286f464",
   "metadata": {},
   "outputs": [],
   "source": []
  },
  {
   "cell_type": "code",
   "execution_count": null,
   "id": "c39c27ed",
   "metadata": {},
   "outputs": [],
   "source": []
  },
  {
   "cell_type": "code",
   "execution_count": null,
   "id": "fa66817a",
   "metadata": {},
   "outputs": [],
   "source": [
    "df3 = df3.rename(columns={'program_id': 'program', 'name': 'cohort'})\n",
    "#rename columns just for preference\n",
    "df3 = df3.dropna()\n",
    "#drops nulls, records without sufficient data about student access\n",
    "df3['program_access'] = (df3.date_time >= df3.start_date) & (df3.date <= df.end_date)\n",
    "# creates boolean column to weed out everything, but active students\n",
    "df3 = df3[(df3['program_access'] == True) & (df3.staff == False)] \n",
    "#creates df of active students that are not staff"
   ]
  },
  {
   "cell_type": "code",
   "execution_count": null,
   "id": "357ebdbe",
   "metadata": {},
   "outputs": [],
   "source": []
  },
  {
   "cell_type": "code",
   "execution_count": null,
   "id": "a743cf40",
   "metadata": {},
   "outputs": [],
   "source": []
  },
  {
   "cell_type": "code",
   "execution_count": null,
   "id": "16ccd7df",
   "metadata": {},
   "outputs": [],
   "source": []
  },
  {
   "cell_type": "code",
   "execution_count": null,
   "id": "fdaf14fe",
   "metadata": {},
   "outputs": [],
   "source": []
  },
  {
   "cell_type": "code",
   "execution_count": null,
   "id": "08e19418",
   "metadata": {},
   "outputs": [],
   "source": [
    "df3.info()"
   ]
  },
  {
   "cell_type": "code",
   "execution_count": null,
   "id": "48ded4a3",
   "metadata": {},
   "outputs": [],
   "source": [
    "df3['program_id'] = df3['program_id'].astype('object')"
   ]
  },
  {
   "cell_type": "code",
   "execution_count": null,
   "id": "ba01144f",
   "metadata": {},
   "outputs": [],
   "source": [
    "df3['cohort_program'] = df3['name'] + df3['program_id']"
   ]
  },
  {
   "cell_type": "code",
   "execution_count": null,
   "id": "c4131cc9",
   "metadata": {},
   "outputs": [],
   "source": [
    "cohort_counts = df3.name.value_counts()\n",
    "cohort_counts\n",
    "#check to make sure no staff and lowest access"
   ]
  },
  {
   "cell_type": "markdown",
   "id": "8e9079fb",
   "metadata": {},
   "source": [
    "notes: gives overview, but to be fair, this doesn't mean much without comparing this to the amount of students in that cohort. looking at that..."
   ]
  },
  {
   "cell_type": "code",
   "execution_count": null,
   "id": "9ace3d14",
   "metadata": {},
   "outputs": [],
   "source": [
    "user_counts = df3.user_id.groupby(df3.name).nunique()\n",
    "user_counts"
   ]
  },
  {
   "cell_type": "code",
   "execution_count": null,
   "id": "41dea008",
   "metadata": {},
   "outputs": [],
   "source": [
    "round(cohort_counts/user_counts).sort_values()\n",
    "#this is average active student access per cohort\n",
    "#of course this does not show individual students yet that have low access, just overview by cohort"
   ]
  },
  {
   "cell_type": "code",
   "execution_count": null,
   "id": "9972c998",
   "metadata": {},
   "outputs": [],
   "source": [
    "round(cohort_counts/user_counts).sort_values().plot(kind='bar', hue='program_id', data=df3)"
   ]
  },
  {
   "cell_type": "code",
   "execution_count": null,
   "id": "c09bd458",
   "metadata": {},
   "outputs": [],
   "source": []
  },
  {
   "cell_type": "code",
   "execution_count": null,
   "id": "a1e44ba2",
   "metadata": {},
   "outputs": [],
   "source": []
  },
  {
   "cell_type": "code",
   "execution_count": null,
   "id": "7bf92100",
   "metadata": {},
   "outputs": [],
   "source": []
  },
  {
   "cell_type": "code",
   "execution_count": null,
   "id": "e3a5a0f3",
   "metadata": {},
   "outputs": [],
   "source": []
  },
  {
   "cell_type": "code",
   "execution_count": null,
   "id": "e4813057",
   "metadata": {},
   "outputs": [],
   "source": []
  },
  {
   "cell_type": "code",
   "execution_count": null,
   "id": "518c1416",
   "metadata": {},
   "outputs": [],
   "source": []
  },
  {
   "cell_type": "code",
   "execution_count": null,
   "id": "fae0cbf2",
   "metadata": {},
   "outputs": [],
   "source": []
  },
  {
   "cell_type": "code",
   "execution_count": null,
   "id": "e5651a81",
   "metadata": {},
   "outputs": [],
   "source": []
  },
  {
   "cell_type": "code",
   "execution_count": null,
   "id": "c6b6397e",
   "metadata": {},
   "outputs": [],
   "source": []
  },
  {
   "cell_type": "code",
   "execution_count": null,
   "id": "26101730",
   "metadata": {},
   "outputs": [],
   "source": []
  },
  {
   "cell_type": "code",
   "execution_count": null,
   "id": "ab22d0bb",
   "metadata": {},
   "outputs": [],
   "source": []
  },
  {
   "cell_type": "code",
   "execution_count": null,
   "id": "f6d1b388",
   "metadata": {},
   "outputs": [],
   "source": []
  },
  {
   "cell_type": "code",
   "execution_count": null,
   "id": "a9064ee7",
   "metadata": {},
   "outputs": [],
   "source": [
    "df = df.drop(columns='deleted_at')"
   ]
  },
  {
   "cell_type": "code",
   "execution_count": null,
   "id": "7cf34334",
   "metadata": {},
   "outputs": [],
   "source": [
    "df= df.dropna()"
   ]
  },
  {
   "cell_type": "code",
   "execution_count": null,
   "id": "75924588",
   "metadata": {},
   "outputs": [],
   "source": [
    "[(df.date >= df.start_date) & (df.date <= df.end_date)]"
   ]
  },
  {
   "cell_type": "code",
   "execution_count": null,
   "id": "e497f037",
   "metadata": {},
   "outputs": [],
   "source": []
  },
  {
   "cell_type": "code",
   "execution_count": null,
   "id": "6d4ae7e1",
   "metadata": {},
   "outputs": [],
   "source": [
    "df['program_access'].value_counts()"
   ]
  },
  {
   "cell_type": "code",
   "execution_count": null,
   "id": "f9fe0b07",
   "metadata": {},
   "outputs": [],
   "source": [
    "df['staff'] = (df.name == 'Staff')"
   ]
  },
  {
   "cell_type": "code",
   "execution_count": null,
   "id": "6d8b8cf1",
   "metadata": {},
   "outputs": [],
   "source": [
    "df.staff.value_counts()"
   ]
  },
  {
   "cell_type": "code",
   "execution_count": null,
   "id": "0342015d",
   "metadata": {},
   "outputs": [],
   "source": []
  },
  {
   "cell_type": "code",
   "execution_count": null,
   "id": "d2c9e92c",
   "metadata": {},
   "outputs": [],
   "source": [
    "active.info()"
   ]
  },
  {
   "cell_type": "code",
   "execution_count": null,
   "id": "fa456bca",
   "metadata": {},
   "outputs": [],
   "source": [
    "active.user_id.value_counts().tail(20)"
   ]
  },
  {
   "cell_type": "code",
   "execution_count": null,
   "id": "8f3772f7",
   "metadata": {},
   "outputs": [],
   "source": [
    "counts = active.user_id.value_counts()\n",
    "low = active[active['user_id'].isin(counts[counts < 100].index)]"
   ]
  },
  {
   "cell_type": "code",
   "execution_count": null,
   "id": "0cd16432",
   "metadata": {},
   "outputs": [],
   "source": [
    "low.info()"
   ]
  },
  {
   "cell_type": "code",
   "execution_count": null,
   "id": "02f10d14",
   "metadata": {},
   "outputs": [],
   "source": [
    "df[df.created_at != df.updated_at].groupby(df.name).min()"
   ]
  },
  {
   "cell_type": "code",
   "execution_count": null,
   "id": "e0d1c8a4",
   "metadata": {},
   "outputs": [],
   "source": [
    "len(df)"
   ]
  },
  {
   "cell_type": "code",
   "execution_count": null,
   "id": "6337f5ab",
   "metadata": {},
   "outputs": [],
   "source": [
    "plt.figure(figsize=(15,8))\n",
    "sns.countplot(low.name, hue='program_id', data=low)\n",
    "plt.show()"
   ]
  },
  {
   "cell_type": "code",
   "execution_count": null,
   "id": "1113d563",
   "metadata": {},
   "outputs": [],
   "source": []
  }
 ],
 "metadata": {
  "kernelspec": {
   "display_name": "Python 3 (ipykernel)",
   "language": "python",
   "name": "python3"
  },
  "language_info": {
   "codemirror_mode": {
    "name": "ipython",
    "version": 3
   },
   "file_extension": ".py",
   "mimetype": "text/x-python",
   "name": "python",
   "nbconvert_exporter": "python",
   "pygments_lexer": "ipython3",
   "version": "3.9.7"
  }
 },
 "nbformat": 4,
 "nbformat_minor": 5
}
