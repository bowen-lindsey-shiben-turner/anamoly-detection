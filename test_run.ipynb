{
 "cells": [
  {
   "cell_type": "code",
   "execution_count": 1,
   "metadata": {},
   "outputs": [],
   "source": [
    "import acquire\n",
    "import prepare\n",
    "import warnings\n",
    "warnings.filterwarnings('ignore')"
   ]
  },
  {
   "cell_type": "code",
   "execution_count": 2,
   "metadata": {},
   "outputs": [],
   "source": [
    "df = prepare.get_q6_eda_df()"
   ]
  },
  {
   "cell_type": "code",
   "execution_count": 3,
   "metadata": {},
   "outputs": [
    {
     "data": {
      "text/html": [
       "<div><div id=c2ff80f4-afd9-422f-a928-85c99cd9ed41 style=\"display:none; background-color:#9D6CFF; color:white; width:200px; height:30px; padding-left:5px; border-radius:4px; flex-direction:row; justify-content:space-around; align-items:center;\" onmouseover=\"this.style.backgroundColor='#BA9BF8'\" onmouseout=\"this.style.backgroundColor='#9D6CFF'\" onclick=\"window.commands?.execute('create-mitosheet-from-dataframe-output');\">See Full Dataframe in Mito</div> <script> if (window.commands?.hasCommand('create-mitosheet-from-dataframe-output')) document.getElementById('c2ff80f4-afd9-422f-a928-85c99cd9ed41').style.display = 'flex' </script> <table border=\"1\" class=\"dataframe\">\n",
       "  <thead>\n",
       "    <tr style=\"text-align: right;\">\n",
       "      <th></th>\n",
       "      <th>path</th>\n",
       "      <th>user_id</th>\n",
       "      <th>cohort_id</th>\n",
       "      <th>ip</th>\n",
       "      <th>name</th>\n",
       "      <th>start_date</th>\n",
       "      <th>end_date</th>\n",
       "      <th>created_at</th>\n",
       "      <th>updated_at</th>\n",
       "      <th>program_id</th>\n",
       "      <th>date_time</th>\n",
       "    </tr>\n",
       "  </thead>\n",
       "  <tbody>\n",
       "    <tr>\n",
       "      <th>0</th>\n",
       "      <td>/</td>\n",
       "      <td>1</td>\n",
       "      <td>8.0</td>\n",
       "      <td>97.105.19.61</td>\n",
       "      <td>hampton</td>\n",
       "      <td>2015-09-22</td>\n",
       "      <td>2016-02-06</td>\n",
       "      <td>2016-06-14 19:52:26</td>\n",
       "      <td>2016-06-14 19:52:26</td>\n",
       "      <td>full_stack_php</td>\n",
       "      <td>2018-01-26 09:55:03</td>\n",
       "    </tr>\n",
       "    <tr>\n",
       "      <th>1</th>\n",
       "      <td>java-ii</td>\n",
       "      <td>1</td>\n",
       "      <td>8.0</td>\n",
       "      <td>97.105.19.61</td>\n",
       "      <td>hampton</td>\n",
       "      <td>2015-09-22</td>\n",
       "      <td>2016-02-06</td>\n",
       "      <td>2016-06-14 19:52:26</td>\n",
       "      <td>2016-06-14 19:52:26</td>\n",
       "      <td>full_stack_php</td>\n",
       "      <td>2018-01-26 09:56:02</td>\n",
       "    </tr>\n",
       "    <tr>\n",
       "      <th>2</th>\n",
       "      <td>java-ii/object-oriented-programming</td>\n",
       "      <td>1</td>\n",
       "      <td>8.0</td>\n",
       "      <td>97.105.19.61</td>\n",
       "      <td>hampton</td>\n",
       "      <td>2015-09-22</td>\n",
       "      <td>2016-02-06</td>\n",
       "      <td>2016-06-14 19:52:26</td>\n",
       "      <td>2016-06-14 19:52:26</td>\n",
       "      <td>full_stack_php</td>\n",
       "      <td>2018-01-26 09:56:05</td>\n",
       "    </tr>\n",
       "    <tr>\n",
       "      <th>3</th>\n",
       "      <td>slides/object_oriented_programming</td>\n",
       "      <td>1</td>\n",
       "      <td>8.0</td>\n",
       "      <td>97.105.19.61</td>\n",
       "      <td>hampton</td>\n",
       "      <td>2015-09-22</td>\n",
       "      <td>2016-02-06</td>\n",
       "      <td>2016-06-14 19:52:26</td>\n",
       "      <td>2016-06-14 19:52:26</td>\n",
       "      <td>full_stack_php</td>\n",
       "      <td>2018-01-26 09:56:06</td>\n",
       "    </tr>\n",
       "    <tr>\n",
       "      <th>4</th>\n",
       "      <td>javascript-i/conditionals</td>\n",
       "      <td>2</td>\n",
       "      <td>22.0</td>\n",
       "      <td>97.105.19.61</td>\n",
       "      <td>teddy</td>\n",
       "      <td>2018-01-08</td>\n",
       "      <td>2018-05-17</td>\n",
       "      <td>2018-01-08 13:59:10</td>\n",
       "      <td>2018-01-08 13:59:10</td>\n",
       "      <td>full_stack_java</td>\n",
       "      <td>2018-01-26 09:56:24</td>\n",
       "    </tr>\n",
       "  </tbody>\n",
       "</table></div>"
      ],
      "text/plain": [
       "                                  path  user_id  cohort_id            ip  \\\n",
       "0                                    /        1        8.0  97.105.19.61   \n",
       "1                              java-ii        1        8.0  97.105.19.61   \n",
       "2  java-ii/object-oriented-programming        1        8.0  97.105.19.61   \n",
       "3   slides/object_oriented_programming        1        8.0  97.105.19.61   \n",
       "4            javascript-i/conditionals        2       22.0  97.105.19.61   \n",
       "\n",
       "      name start_date   end_date          created_at          updated_at  \\\n",
       "0  hampton 2015-09-22 2016-02-06 2016-06-14 19:52:26 2016-06-14 19:52:26   \n",
       "1  hampton 2015-09-22 2016-02-06 2016-06-14 19:52:26 2016-06-14 19:52:26   \n",
       "2  hampton 2015-09-22 2016-02-06 2016-06-14 19:52:26 2016-06-14 19:52:26   \n",
       "3  hampton 2015-09-22 2016-02-06 2016-06-14 19:52:26 2016-06-14 19:52:26   \n",
       "4    teddy 2018-01-08 2018-05-17 2018-01-08 13:59:10 2018-01-08 13:59:10   \n",
       "\n",
       "        program_id           date_time  \n",
       "0   full_stack_php 2018-01-26 09:55:03  \n",
       "1   full_stack_php 2018-01-26 09:56:02  \n",
       "2   full_stack_php 2018-01-26 09:56:05  \n",
       "3   full_stack_php 2018-01-26 09:56:06  \n",
       "4  full_stack_java 2018-01-26 09:56:24  "
      ]
     },
     "execution_count": 3,
     "metadata": {},
     "output_type": "execute_result"
    }
   ],
   "source": [
    "df.head()"
   ]
  },
  {
   "cell_type": "code",
   "execution_count": 4,
   "metadata": {},
   "outputs": [
    {
     "name": "stdout",
     "output_type": "stream",
     "text": [
      "<class 'pandas.core.frame.DataFrame'>\n",
      "RangeIndex: 900223 entries, 0 to 900222\n",
      "Data columns (total 11 columns):\n",
      " #   Column      Non-Null Count   Dtype         \n",
      "---  ------      --------------   -----         \n",
      " 0   path        900222 non-null  object        \n",
      " 1   user_id     900223 non-null  int64         \n",
      " 2   cohort_id   847330 non-null  float64       \n",
      " 3   ip          900223 non-null  object        \n",
      " 4   name        847330 non-null  object        \n",
      " 5   start_date  847330 non-null  datetime64[ns]\n",
      " 6   end_date    847330 non-null  datetime64[ns]\n",
      " 7   created_at  847330 non-null  datetime64[ns]\n",
      " 8   updated_at  847330 non-null  datetime64[ns]\n",
      " 9   program_id  847330 non-null  object        \n",
      " 10  date_time   900223 non-null  datetime64[ns]\n",
      "dtypes: datetime64[ns](5), float64(1), int64(1), object(4)\n",
      "memory usage: 75.5+ MB\n"
     ]
    }
   ],
   "source": [
    "df.info()"
   ]
  },
  {
   "cell_type": "code",
   "execution_count": 5,
   "metadata": {},
   "outputs": [],
   "source": [
    "def get_coursework_topic_and_specific_resource(df):\n",
    "    paths = df.path.values\n",
    "    # returns array of paths\n",
    "    coursework_topic = []\n",
    "    specific_resource = []\n",
    "    further_info = []\n",
    "    for path in paths:\n",
    "        if path == '/':\n",
    "            coursework_topic.append('Homepage')\n",
    "            specific_resource.append('None')\n",
    "            further_info.append('None')\n",
    "        elif len(path.split('/')) > 2:\n",
    "            coursework_topic.append(path.split('/')[0])\n",
    "            specific_resource.append(path.split('/')[1])\n",
    "            further_info.append(path.split('/')[2])\n",
    "        elif len(path.split('/')) > 1:\n",
    "            coursework_topic.append(path.split('/')[0])\n",
    "            specific_resource.append(path.split('/')[1])\n",
    "            further_info.append('None')\n",
    "        else:\n",
    "             coursework_topic.append(path.split('/')[0])\n",
    "             specific_resource.append('None')\n",
    "             further_info.append('None')\n",
    "    df.coursework_topic = coursework_topic\n",
    "    df.specific_resource = specific_resource\n",
    "    df.further_info = further_info\n",
    "    return df"
   ]
  },
  {
   "cell_type": "code",
   "execution_count": 6,
   "metadata": {},
   "outputs": [],
   "source": [
    "# Explore function\n",
    "\n",
    "def explore_q6_df():\n",
    "    \"\"\"This function segments the dataframe to only represent page views from graduated students, i.e. outside of cohort start and end dates.\n",
    "    The function then adds three columns to the dataframe, ['coursework_topic', 'specific_resource', and 'further_info'] derived from the 'path' column.\n",
    "    Page views are then categorized by graduate program type, and by major area of interest, under the 'coursework topic' heading.\n",
    "    Arguments: none.\n",
    "    Returns: DataFrame.\n",
    "    \"\"\"\n",
    "    # obtain the parent dataframe from the prepare file\n",
    "    df = prepare.get_q6_eda_df()\n",
    "    # only use the page views from gradudated students (i.e. requst dates outside of the cohort end date)\n",
    "    df = df[df.date_time > df.end_date]\n",
    "    # create df columns\n",
    "    df['coursework_topic'] = ''\n",
    "    df['specific_resource'] = ''\n",
    "    df['further_info'] = ''\n",
    "    df = get_coursework_topic_and_specific_resource(df)\n",
    "    return df\n"
   ]
  },
  {
   "cell_type": "code",
   "execution_count": 9,
   "metadata": {},
   "outputs": [],
   "source": [
    "df = explore_q6_df()"
   ]
  },
  {
   "cell_type": "code",
   "execution_count": 11,
   "metadata": {},
   "outputs": [],
   "source": [
    "import matplotlib.pyplot as plt"
   ]
  },
  {
   "cell_type": "code",
   "execution_count": 10,
   "metadata": {},
   "outputs": [
    {
     "data": {
      "text/html": [
       "<div><div id=2b80c852-e01a-4770-9f98-9342f1c13afc style=\"display:none; background-color:#9D6CFF; color:white; width:200px; height:30px; padding-left:5px; border-radius:4px; flex-direction:row; justify-content:space-around; align-items:center;\" onmouseover=\"this.style.backgroundColor='#BA9BF8'\" onmouseout=\"this.style.backgroundColor='#9D6CFF'\" onclick=\"window.commands?.execute('create-mitosheet-from-dataframe-output');\">See Full Dataframe in Mito</div> <script> if (window.commands?.hasCommand('create-mitosheet-from-dataframe-output')) document.getElementById('2b80c852-e01a-4770-9f98-9342f1c13afc').style.display = 'flex' </script> <table border=\"1\" class=\"dataframe\">\n",
       "  <thead>\n",
       "    <tr style=\"text-align: right;\">\n",
       "      <th></th>\n",
       "      <th>path</th>\n",
       "      <th>user_id</th>\n",
       "      <th>cohort_id</th>\n",
       "      <th>ip</th>\n",
       "      <th>name</th>\n",
       "      <th>start_date</th>\n",
       "      <th>end_date</th>\n",
       "      <th>created_at</th>\n",
       "      <th>updated_at</th>\n",
       "      <th>program_id</th>\n",
       "      <th>date_time</th>\n",
       "      <th>coursework_topic</th>\n",
       "      <th>specific_resource</th>\n",
       "      <th>further_info</th>\n",
       "    </tr>\n",
       "  </thead>\n",
       "  <tbody>\n",
       "    <tr>\n",
       "      <th>0</th>\n",
       "      <td>/</td>\n",
       "      <td>1</td>\n",
       "      <td>8.0</td>\n",
       "      <td>97.105.19.61</td>\n",
       "      <td>hampton</td>\n",
       "      <td>2015-09-22</td>\n",
       "      <td>2016-02-06</td>\n",
       "      <td>2016-06-14 19:52:26</td>\n",
       "      <td>2016-06-14 19:52:26</td>\n",
       "      <td>full_stack_php</td>\n",
       "      <td>2018-01-26 09:55:03</td>\n",
       "      <td>Homepage</td>\n",
       "      <td>None</td>\n",
       "      <td>None</td>\n",
       "    </tr>\n",
       "    <tr>\n",
       "      <th>1</th>\n",
       "      <td>java-ii</td>\n",
       "      <td>1</td>\n",
       "      <td>8.0</td>\n",
       "      <td>97.105.19.61</td>\n",
       "      <td>hampton</td>\n",
       "      <td>2015-09-22</td>\n",
       "      <td>2016-02-06</td>\n",
       "      <td>2016-06-14 19:52:26</td>\n",
       "      <td>2016-06-14 19:52:26</td>\n",
       "      <td>full_stack_php</td>\n",
       "      <td>2018-01-26 09:56:02</td>\n",
       "      <td>java-ii</td>\n",
       "      <td>None</td>\n",
       "      <td>None</td>\n",
       "    </tr>\n",
       "    <tr>\n",
       "      <th>2</th>\n",
       "      <td>java-ii/object-oriented-programming</td>\n",
       "      <td>1</td>\n",
       "      <td>8.0</td>\n",
       "      <td>97.105.19.61</td>\n",
       "      <td>hampton</td>\n",
       "      <td>2015-09-22</td>\n",
       "      <td>2016-02-06</td>\n",
       "      <td>2016-06-14 19:52:26</td>\n",
       "      <td>2016-06-14 19:52:26</td>\n",
       "      <td>full_stack_php</td>\n",
       "      <td>2018-01-26 09:56:05</td>\n",
       "      <td>java-ii</td>\n",
       "      <td>object-oriented-programming</td>\n",
       "      <td>None</td>\n",
       "    </tr>\n",
       "    <tr>\n",
       "      <th>3</th>\n",
       "      <td>slides/object_oriented_programming</td>\n",
       "      <td>1</td>\n",
       "      <td>8.0</td>\n",
       "      <td>97.105.19.61</td>\n",
       "      <td>hampton</td>\n",
       "      <td>2015-09-22</td>\n",
       "      <td>2016-02-06</td>\n",
       "      <td>2016-06-14 19:52:26</td>\n",
       "      <td>2016-06-14 19:52:26</td>\n",
       "      <td>full_stack_php</td>\n",
       "      <td>2018-01-26 09:56:06</td>\n",
       "      <td>slides</td>\n",
       "      <td>object_oriented_programming</td>\n",
       "      <td>None</td>\n",
       "    </tr>\n",
       "    <tr>\n",
       "      <th>30</th>\n",
       "      <td>/</td>\n",
       "      <td>11</td>\n",
       "      <td>1.0</td>\n",
       "      <td>97.105.19.61</td>\n",
       "      <td>arches</td>\n",
       "      <td>2014-02-04</td>\n",
       "      <td>2014-04-22</td>\n",
       "      <td>2016-06-14 19:52:26</td>\n",
       "      <td>2016-06-14 19:52:26</td>\n",
       "      <td>full_stack_php</td>\n",
       "      <td>2018-01-26 10:14:47</td>\n",
       "      <td>Homepage</td>\n",
       "      <td>None</td>\n",
       "      <td>None</td>\n",
       "    </tr>\n",
       "  </tbody>\n",
       "</table></div>"
      ],
      "text/plain": [
       "                                   path  user_id  cohort_id            ip  \\\n",
       "0                                     /        1        8.0  97.105.19.61   \n",
       "1                               java-ii        1        8.0  97.105.19.61   \n",
       "2   java-ii/object-oriented-programming        1        8.0  97.105.19.61   \n",
       "3    slides/object_oriented_programming        1        8.0  97.105.19.61   \n",
       "30                                    /       11        1.0  97.105.19.61   \n",
       "\n",
       "       name start_date   end_date          created_at          updated_at  \\\n",
       "0   hampton 2015-09-22 2016-02-06 2016-06-14 19:52:26 2016-06-14 19:52:26   \n",
       "1   hampton 2015-09-22 2016-02-06 2016-06-14 19:52:26 2016-06-14 19:52:26   \n",
       "2   hampton 2015-09-22 2016-02-06 2016-06-14 19:52:26 2016-06-14 19:52:26   \n",
       "3   hampton 2015-09-22 2016-02-06 2016-06-14 19:52:26 2016-06-14 19:52:26   \n",
       "30   arches 2014-02-04 2014-04-22 2016-06-14 19:52:26 2016-06-14 19:52:26   \n",
       "\n",
       "        program_id           date_time coursework_topic  \\\n",
       "0   full_stack_php 2018-01-26 09:55:03         Homepage   \n",
       "1   full_stack_php 2018-01-26 09:56:02          java-ii   \n",
       "2   full_stack_php 2018-01-26 09:56:05          java-ii   \n",
       "3   full_stack_php 2018-01-26 09:56:06           slides   \n",
       "30  full_stack_php 2018-01-26 10:14:47         Homepage   \n",
       "\n",
       "              specific_resource further_info  \n",
       "0                          None         None  \n",
       "1                          None         None  \n",
       "2   object-oriented-programming         None  \n",
       "3   object_oriented_programming         None  \n",
       "30                         None         None  "
      ]
     },
     "execution_count": 10,
     "metadata": {},
     "output_type": "execute_result"
    }
   ],
   "source": [
    "df.head()"
   ]
  },
  {
   "cell_type": "code",
   "execution_count": 17,
   "metadata": {},
   "outputs": [],
   "source": [
    "# Explore function\n",
    "\n",
    "def visualize_q6():\n",
    "    \"\"\"This function visualizes the 15 most popular webpage coursework topics, by program of study (i.e. Full-stack PHP, Java, Data Science) \n",
    "    Arguments: none.\n",
    "    Returns: DataFrame.\n",
    "    \"\"\"\n",
    "    df = explore_q6_df()\n",
    "    for program in df.program_id:\n",
    "        df[df.program_id==[program]].coursework_topic.value_counts().head(15).plot.barh()\n",
    "        plt.title(program)\n",
    "        plt.show()\n",
    "    return df"
   ]
  },
  {
   "cell_type": "code",
   "execution_count": 21,
   "metadata": {},
   "outputs": [
    {
     "data": {
      "text/plain": [
       "array(['full_stack_php', 'full_stack_java', 'front_end_programming',\n",
       "       'data_science'], dtype=object)"
      ]
     },
     "execution_count": 21,
     "metadata": {},
     "output_type": "execute_result"
    }
   ],
   "source": [
    "df.program_id.unique()"
   ]
  },
  {
   "cell_type": "code",
   "execution_count": 24,
   "metadata": {},
   "outputs": [
    {
     "data": {
      "image/png": "[encoded data removed]",
      "text/plain": [
       "<Figure size 432x288 with 1 Axes>"
      ]
     },
     "metadata": {
      "needs_background": "light"
     },
     "output_type": "display_data"
    },
    {
     "data": {
      "image/png": "[encoded data removed]",
      "text/plain": [
       "<Figure size 432x288 with 1 Axes>"
      ]
     },
     "metadata": {
      "needs_background": "light"
     },
     "output_type": "display_data"
    },
    {
     "data": {
      "image/png": "[encoded data removed]",
      "text/plain": [
       "<Figure size 432x288 with 1 Axes>"
      ]
     },
     "metadata": {
      "needs_background": "light"
     },
     "output_type": "display_data"
    },
    {
     "data": {
      "image/png": "[encoded data removed]",
      "text/plain": [
       "<Figure size 432x288 with 1 Axes>"
      ]
     },
     "metadata": {
      "needs_background": "light"
     },
     "output_type": "display_data"
    }
   ],
   "source": [
    "df = explore_q6_df()\n",
    "\n",
    "for program in df.program_id.unique():\n",
    "    df[df.program_id==(program)].coursework_topic.value_counts().head(15).plot.barh()\n",
    "    plt.title(program)\n",
    "    plt.show()"
   ]
  },
  {
   "cell_type": "code",
   "execution_count": null,
   "metadata": {},
   "outputs": [],
   "source": []
  }
 ],
 "metadata": {
  "kernelspec": {
   "display_name": "Python 3 (ipykernel)",
   "language": "python",
   "name": "python3"
  },
  "language_info": {
   "codemirror_mode": {
    "name": "ipython",
    "version": 3
   },
   "file_extension": ".py",
   "mimetype": "text/x-python",
   "name": "python",
   "nbconvert_exporter": "python",
   "pygments_lexer": "ipython3",
   "version": "3.9.7"
  },
  "vscode": {
   "interpreter": {
    "hash": "38cca0c38332a56087b24af0bc80247f4fced29cb4f7f437d91dc159adec9c4e"
   }
  }
 },
 "nbformat": 4,
 "nbformat_minor": 2
}
